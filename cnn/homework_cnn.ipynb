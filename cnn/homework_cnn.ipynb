{
 "cells": [
  {
   "cell_type": "markdown",
   "id": "4ca384d0-da9b-41bc-a902-ee069922c0c2",
   "metadata": {
    "id": "4ca384d0-da9b-41bc-a902-ee069922c0c2"
   },
   "source": [
    "## Домашка (10 баллов)\n",
    "\n",
    "\n",
    "Обучите модель с минимум 15 слоями, где у каждого слоя разные параметры (Dropout, Conv1d и Pooling, Dense считаются слоями, остальное нет). Как мимнимум 4 слоя должны быть наложены друг на друга и как минимум 2 параллельных слоя (последовательности слоев). Должен быть хотя бы один слой каждого типа.\n",
    "\n",
    "При обучении используйте колбек для отслеживания лучшей модели. Ориентируйтесь на ф1 меру. Качество модели не должно быть околонулевым. Если метрики не растут, то попробуйте пообучать подольше или перестроить саму сеть.\n",
    "\n",
    "Советы: Начните с небольших сетей и постепенно добавляйте, не пытайтесь сразу собрать все слои. Иногда кернел может крашиться просто так или из-за слишком больших матриц.\n"
   ]
  },
  {
   "cell_type": "code",
   "execution_count": null,
   "id": "2dcb010f-90e2-4a23-bbdd-4b6df8a94c31",
   "metadata": {
    "id": "2dcb010f-90e2-4a23-bbdd-4b6df8a94c31"
   },
   "outputs": [],
   "source": [
    "import os\n",
    "os.environ[\"KERAS_BACKEND\"] = \"torch\"\n",
    "\n",
    "import keras\n",
    "\n",
    "import pandas as pd\n",
    "import numpy as np\n",
    "from string import punctuation\n",
    "from sklearn.model_selection import train_test_split\n",
    "from collections import Counter\n",
    "import matplotlib.pyplot as plt\n",
    "%matplotlib inline"
   ]
  },
  {
   "cell_type": "code",
   "execution_count": null,
   "id": "9PvfoCZQ4GL-",
   "metadata": {
    "colab": {
     "base_uri": "https://localhost:8080/"
    },
    "id": "9PvfoCZQ4GL-",
    "outputId": "6a192c4c-bebe-49ad-aa6b-57232cd66199"
   },
   "outputs": [],
   "source": [
    "print(keras.__version__)"
   ]
  },
  {
   "cell_type": "code",
   "execution_count": null,
   "id": "ZaBZYswwsIDG",
   "metadata": {
    "colab": {
     "base_uri": "https://localhost:8080/"
    },
    "id": "ZaBZYswwsIDG",
    "outputId": "2046fadc-881c-4d0d-f18f-1eb9ad5e6ad5"
   },
   "outputs": [],
   "source": [
    "#from google.colab import drive\n",
    "#drive.mount('/content/drive')"
   ]
  },
  {
   "cell_type": "code",
   "execution_count": null,
   "id": "kiAmgBHVncVF",
   "metadata": {
    "id": "kiAmgBHVncVF"
   },
   "outputs": [],
   "source": [
    "data = pd.read_csv('lenta_40k.csv.zip')"
   ]
  },
  {
   "cell_type": "code",
   "execution_count": null,
   "id": "Wfix4G6MtCPN",
   "metadata": {
    "colab": {
     "base_uri": "https://localhost:8080/"
    },
    "id": "Wfix4G6MtCPN",
    "outputId": "8782d609-b85d-4641-e108-9d6168bd01fd"
   },
   "outputs": [],
   "source": [
    "data"
   ]
  },
  {
   "cell_type": "code",
   "execution_count": null,
   "id": "eMWRV9IetXU1",
   "metadata": {
    "id": "eMWRV9IetXU1"
   },
   "outputs": [],
   "source": [
    "def preprocess(text):\n",
    "    tokens = text.lower().split()\n",
    "    tokens = [token.strip(punctuation) for token in tokens]\n",
    "    tokens = [token for token in tokens if token]\n",
    "    return tokens"
   ]
  },
  {
   "cell_type": "code",
   "execution_count": null,
   "id": "91QKv_YNtnG1",
   "metadata": {
    "colab": {
     "background_save": true
    },
    "id": "91QKv_YNtnG1"
   },
   "outputs": [],
   "source": [
    "vocab = Counter()\n",
    "\n",
    "for text in data.text:\n",
    "    vocab.update(preprocess(text))\n",
    "\n",
    "filtered_vocab = set()\n",
    "\n",
    "for word in vocab:\n",
    "    if vocab[word] > 30:\n",
    "        filtered_vocab.add(word)"
   ]
  },
  {
   "cell_type": "code",
   "execution_count": null,
   "id": "ZS07uZsa1EzV",
   "metadata": {
    "colab": {
     "background_save": true
    },
    "id": "ZS07uZsa1EzV",
    "outputId": "480cc4b5-71f7-49c6-86f0-e73c338b7f88"
   },
   "outputs": [],
   "source": [
    "len(filtered_vocab)"
   ]
  },
  {
   "cell_type": "code",
   "execution_count": null,
   "id": "eA8JWIYR1vtl",
   "metadata": {
    "colab": {
     "background_save": true
    },
    "id": "eA8JWIYR1vtl"
   },
   "outputs": [],
   "source": [
    "word2id = {'PAD':0}\n",
    "\n",
    "for word in filtered_vocab:\n",
    "    word2id[word] = len(word2id)\n",
    "\n",
    "id2word = {i:word for word, i in word2id.items()}"
   ]
  },
  {
   "cell_type": "code",
   "execution_count": null,
   "id": "7ehrCGMM2HjW",
   "metadata": {
    "colab": {
     "background_save": true
    },
    "id": "7ehrCGMM2HjW"
   },
   "outputs": [],
   "source": [
    "X = []\n",
    "\n",
    "for text in data.text:\n",
    "    tokens = preprocess(text)\n",
    "    ids = [word2id.get(token, 1) for token in tokens]\n",
    "    X.append(ids)"
   ]
  },
  {
   "cell_type": "code",
   "execution_count": null,
   "id": "wZeJo7Rh2QZ2",
   "metadata": {
    "colab": {
     "background_save": true
    },
    "id": "wZeJo7Rh2QZ2"
   },
   "outputs": [],
   "source": [
    "MAX_LEN = max(len(x) for x in X)\n",
    "MEAN_LEN = np.median([len(x) for x in X])"
   ]
  },
  {
   "cell_type": "code",
   "execution_count": null,
   "id": "oegGNkdB2mnm",
   "metadata": {
    "colab": {
     "background_save": true
    },
    "id": "oegGNkdB2mnm",
    "outputId": "9b938706-38f8-4399-817e-262757710e2d"
   },
   "outputs": [],
   "source": [
    "MAX_LEN, MEAN_LEN"
   ]
  },
  {
   "cell_type": "code",
   "execution_count": null,
   "id": "xv5Su4o833Y_",
   "metadata": {
    "colab": {
     "background_save": true
    },
    "id": "xv5Su4o833Y_"
   },
   "outputs": [],
   "source": [
    "MAX_LEN = int(MEAN_LEN + 31)"
   ]
  },
  {
   "cell_type": "code",
   "execution_count": null,
   "id": "58NR9o9L5Pfp",
   "metadata": {
    "colab": {
     "background_save": true
    },
    "id": "58NR9o9L5Pfp"
   },
   "outputs": [],
   "source": [
    "X = keras.preprocessing.sequence.pad_sequences(X, maxlen=MAX_LEN)"
   ]
  },
  {
   "cell_type": "code",
   "execution_count": null,
   "id": "o_igo4q_5VyP",
   "metadata": {
    "colab": {
     "background_save": true
    },
    "id": "o_igo4q_5VyP",
    "outputId": "423ee7d7-35f1-48d4-cd4c-cb703b067879"
   },
   "outputs": [],
   "source": [
    "X.shape"
   ]
  },
  {
   "cell_type": "code",
   "execution_count": null,
   "id": "JLfuAU0p7Upi",
   "metadata": {
    "colab": {
     "background_save": true
    },
    "id": "JLfuAU0p7Upi"
   },
   "outputs": [],
   "source": [
    "id2label = {i:label for i, label in enumerate(set(data.topic.values))}\n",
    "label2id = {l:i for i, l in id2label.items()}"
   ]
  },
  {
   "cell_type": "code",
   "execution_count": null,
   "id": "X22RRfsr7gS3",
   "metadata": {
    "colab": {
     "background_save": true
    },
    "id": "X22RRfsr7gS3"
   },
   "outputs": [],
   "source": [
    "y = keras.utils.to_categorical([label2id[label] for label in data.topic.values])"
   ]
  },
  {
   "cell_type": "code",
   "execution_count": null,
   "id": "nFyqsuR-73b8",
   "metadata": {
    "colab": {
     "background_save": true
    },
    "id": "nFyqsuR-73b8"
   },
   "outputs": [],
   "source": [
    "X_train, X_valid, y_train, y_valid = train_test_split(X, y, test_size=0.05)"
   ]
  },
  {
   "cell_type": "code",
   "execution_count": null,
   "id": "YFff9zPEaj4c",
   "metadata": {
    "colab": {
     "background_save": true
    },
    "id": "YFff9zPEaj4c"
   },
   "outputs": [],
   "source": [
    "checkpoint = keras.callbacks.ModelCheckpoint('model.weights.h5', monitor='f1_score', verbose=1, save_weights_only=True, save_best_only=True, mode='max',save_freq='epoch')\n",
    "early_stop = keras.callbacks.EarlyStopping(monitor='f1_score', min_delta=0.04, patience=3, verbose=1, mode='max',)"
   ]
  },
  {
   "cell_type": "markdown",
   "id": "gIr70YxKlArB",
   "metadata": {
    "id": "gIr70YxKlArB"
   },
   "source": [
    "### Модель №1 - 3 слоя"
   ]
  },
  {
   "cell_type": "code",
   "execution_count": null,
   "id": "RQGVk48R9C_x",
   "metadata": {
    "colab": {
     "background_save": true
    },
    "id": "RQGVk48R9C_x"
   },
   "outputs": [],
   "source": [
    "inputs = keras.layers.Input(shape=(MAX_LEN,))\n",
    "embeddings = keras.layers.Embedding(input_dim=len(word2id), output_dim=30)(inputs)\n",
    "\n",
    "conv1 = keras.layers.Conv1D(kernel_size=10, filters=32, strides=1)(embeddings)\n",
    "\n",
    "mean = keras.layers.Flatten()(conv1)\n",
    "\n",
    "dense = keras.layers.Dense(30, activation='relu')(mean)\n",
    "\n",
    "\n",
    "outputs = keras.layers.Dense(len(label2id), activation='softmax')(dense)\n",
    "\n",
    "\n",
    "model = keras.Model(inputs=inputs, outputs=outputs)\n",
    "optimizer = keras.optimizers.Adam(learning_rate=0.0005)\n",
    "model.compile(optimizer=optimizer, loss='categorical_crossentropy', metrics=[keras.metrics.RecallAtPrecision(0.8, name='rec@prec'), keras.metrics.F1Score(average=\"weighted\")])"
   ]
  },
  {
   "cell_type": "code",
   "execution_count": null,
   "id": "GI0wTgXn9RG6",
   "metadata": {
    "colab": {
     "background_save": true
    },
    "id": "GI0wTgXn9RG6",
    "outputId": "87a34ad4-2b9d-47c8-a5b1-1ad62c8b63ae"
   },
   "outputs": [],
   "source": [
    "model.fit(X_train, y_train, validation_data=(X_valid, y_valid), batch_size=2000, epochs=10, callbacks=[checkpoint, early_stop])"
   ]
  },
  {
   "cell_type": "code",
   "execution_count": null,
   "id": "ht6ejOUc9hBF",
   "metadata": {
    "colab": {
     "background_save": true
    },
    "id": "ht6ejOUc9hBF",
    "outputId": "b384a9e9-dcaa-4682-ae86-4424e7d3f78c"
   },
   "outputs": [],
   "source": [
    "print(model.history.history.keys())\n",
    "plt.plot(model.history.history['rec@prec'])\n",
    "plt.plot(model.history.history['val_rec@prec'])\n",
    "plt.plot(model.history.history['f1_score'])\n",
    "plt.plot(model.history.history['val_f1_score'])\n",
    "plt.title('model metrics')\n",
    "plt.ylabel('metric')\n",
    "plt.xlabel('epoch')\n",
    "plt.legend(['train', 'val',\n",
    "            'f1', 'val_f1'], loc='upper left')\n",
    "plt.show()"
   ]
  },
  {
   "cell_type": "code",
   "execution_count": null,
   "id": "G5xI2fA4-_nI",
   "metadata": {
    "colab": {
     "background_save": true
    },
    "id": "G5xI2fA4-_nI",
    "outputId": "29e8ec27-2a62-4f05-f496-b8401a770afa"
   },
   "outputs": [],
   "source": [
    "model.summary()"
   ]
  },
  {
   "cell_type": "markdown",
   "id": "svqRKW7cv8cc",
   "metadata": {
    "id": "svqRKW7cv8cc"
   },
   "source": [
    "### Модель №2 - 6 слоёв"
   ]
  },
  {
   "cell_type": "code",
   "execution_count": null,
   "id": "gDg7ANP4lRWS",
   "metadata": {
    "colab": {
     "background_save": true
    },
    "id": "gDg7ANP4lRWS"
   },
   "outputs": [],
   "source": [
    "inputs = keras.layers.Input(shape=(MAX_LEN,))\n",
    "embeddings = keras.layers.Embedding(input_dim=len(word2id), output_dim=30)(inputs)\n",
    "\n",
    "conv1 = keras.layers.Conv1D(kernel_size=5, filters=32, strides=1)(embeddings)\n",
    "conv2 = keras.layers.Conv1D(kernel_size=5, filters=32, strides=3)(conv1)\n",
    "pool = keras.layers.AveragePooling1D(pool_size=10)(conv2)\n",
    "\n",
    "mean = keras.layers.Flatten()(pool)\n",
    "\n",
    "dense = keras.layers.Dense(60, activation='relu')(mean)\n",
    "dropout = keras.layers.Dropout(0.4)(dense)\n",
    "\n",
    "\n",
    "outputs = keras.layers.Dense(len(label2id), activation='softmax')(dropout)\n",
    "\n",
    "\n",
    "model2 = keras.Model(inputs=inputs, outputs=outputs)\n",
    "optimizer = keras.optimizers.Adam(learning_rate=0.002)\n",
    "model2.compile(optimizer=optimizer, loss='categorical_crossentropy', metrics=[keras.metrics.RecallAtPrecision(0.8, name='rec@prec'), keras.metrics.F1Score(average=\"weighted\")])"
   ]
  },
  {
   "cell_type": "code",
   "execution_count": null,
   "id": "vZc-odevlv_x",
   "metadata": {
    "colab": {
     "background_save": true,
     "base_uri": "https://localhost:8080/"
    },
    "id": "vZc-odevlv_x",
    "outputId": "3d1cf88d-3e7a-4934-f81e-742dbde7a445"
   },
   "outputs": [],
   "source": [
    "model2.fit(X_train, y_train, validation_data=(X_valid, y_valid), batch_size=3000, epochs=10, callbacks=[checkpoint, early_stop])"
   ]
  },
  {
   "cell_type": "code",
   "execution_count": null,
   "id": "23c-CGQBnKrM",
   "metadata": {
    "colab": {
     "background_save": true,
     "base_uri": "https://localhost:8080/",
     "height": 489
    },
    "id": "23c-CGQBnKrM",
    "outputId": "08e1740b-0d4b-4344-a339-75317ba18710"
   },
   "outputs": [],
   "source": [
    "print(model2.history.history.keys())\n",
    "plt.plot(model2.history.history['rec@prec'])\n",
    "plt.plot(model2.history.history['val_rec@prec'])\n",
    "plt.plot(model2.history.history['f1_score'])\n",
    "plt.plot(model2.history.history['val_f1_score'])\n",
    "plt.title('model metrics')\n",
    "plt.ylabel('metric')\n",
    "plt.xlabel('epoch')\n",
    "plt.legend(['train', 'val',\n",
    "            'f1', 'val_f1'], loc='upper left')\n",
    "plt.show()"
   ]
  },
  {
   "cell_type": "code",
   "execution_count": null,
   "id": "ozl_9q-4wEeE",
   "metadata": {
    "colab": {
     "background_save": true,
     "base_uri": "https://localhost:8080/"
    },
    "id": "ozl_9q-4wEeE",
    "outputId": "e12d8ada-b666-43a6-d79a-4d53d4220bf1"
   },
   "outputs": [],
   "source": [
    "model2.summary()"
   ]
  },
  {
   "cell_type": "markdown",
   "id": "tPfqH5IlpSbf",
   "metadata": {
    "id": "tPfqH5IlpSbf"
   },
   "source": [
    "### Модель №3 - 15 слоёв"
   ]
  },
  {
   "cell_type": "code",
   "execution_count": null,
   "id": "ebUenmm2pc5x",
   "metadata": {
    "colab": {
     "background_save": true
    },
    "id": "ebUenmm2pc5x"
   },
   "outputs": [],
   "source": [
    "inputs = keras.layers.Input(shape=(MAX_LEN,))\n",
    "embeddings = keras.layers.Embedding(input_dim=len(word2id), output_dim=300)(inputs, )\n",
    "\n",
    "convs = []\n",
    "\n",
    "for ks in [3,4,5,7,10]:\n",
    "  dropout1 = keras.layers.Dropout(0.2)(embeddings) #1\n",
    "  conv1 = keras.layers.Conv1D(kernel_size=2, filters=32, padding='same', strides=1)(dropout1) #2\n",
    "  pool1 = keras.layers.AveragePooling1D(pool_size=3, padding=\"same\")(conv1) #3\n",
    "  conv2 = keras.layers.Conv1D(kernel_size=3, filters=32, padding='same', strides=1)(pool1) #4\n",
    "  pool2 = keras.layers.AveragePooling1D(pool_size=5, padding=\"same\")(conv2) #5\n",
    "  conv3 = keras.layers.Conv1D(kernel_size=4, filters=32, padding='same', strides=1, kernel_regularizer='l2', activation='relu')(pool2) #6\n",
    "  pool3 = keras.layers.AveragePooling1D(pool_size=7, padding=\"same\")(conv3) #7\n",
    "  dropout2 = keras.layers.Dropout(0.6)(pool3) #8\n",
    "  dense1 = keras.layers.Dense(40,  activation='relu', kernel_regularizer='l2')(dropout2) #9\n",
    "\n",
    "  convs.append(dense1)\n",
    "\n",
    "concat = keras.layers.concatenate(convs, axis=2)\n",
    "conv4 = keras.layers.Conv1D(kernel_size=3, filters=32, strides=1, padding=\"same\")(concat) #10\n",
    "pool4 = keras.layers.AveragePooling1D(pool_size=4, padding=\"same\")(conv4) #11\n",
    "\n",
    "dropout3 = keras.layers.Dropout(0.1)(pool4) #12\n",
    "mean = keras.layers.Flatten()(dropout3) #13\n",
    "\n",
    "dense2 = keras.layers.Dense(60, activation='relu', kernel_regularizer='l2')(mean) #14\n",
    "dropout4 = keras.layers.Dropout(0.3)(dense2) #15\n",
    "\n",
    "\n",
    "outputs = keras.layers.Dense(len(label2id), activation='softmax')(dropout4)\n",
    "\n",
    "\n",
    "model3 = keras.Model(inputs=inputs, outputs=outputs)\n",
    "optimizer = keras.optimizers.Adam(learning_rate=0.005)\n",
    "model3.compile(optimizer=optimizer, loss='categorical_crossentropy', metrics=[keras.metrics.RecallAtPrecision(0.8, name='rec@prec'), keras.metrics.F1Score(average=\"weighted\")])"
   ]
  },
  {
   "cell_type": "code",
   "execution_count": null,
   "id": "9u4CEGIWv1lT",
   "metadata": {
    "colab": {
     "background_save": true,
     "base_uri": "https://localhost:8080/"
    },
    "id": "9u4CEGIWv1lT",
    "outputId": "b018e6e3-0891-433d-c4bd-b48f97b198cb"
   },
   "outputs": [],
   "source": [
    "model3.fit(X_train, y_train, validation_data=(X_valid, y_valid), batch_size=2000, epochs=15, callbacks=[checkpoint, early_stop])"
   ]
  },
  {
   "cell_type": "code",
   "execution_count": null,
   "id": "GUTXck5xwLpK",
   "metadata": {
    "colab": {
     "background_save": true
    },
    "id": "GUTXck5xwLpK"
   },
   "outputs": [],
   "source": [
    "print(model3.history.history.keys())\n",
    "plt.plot(model3.history.history['rec@prec'])\n",
    "plt.plot(model3.history.history['val_rec@prec'])\n",
    "plt.plot(model3.history.history['f1_score'])\n",
    "plt.plot(model3.history.history['val_f1_score'])\n",
    "plt.title('model metrics')\n",
    "plt.ylabel('metric')\n",
    "plt.xlabel('epoch')\n",
    "plt.legend(['train', 'val',\n",
    "            'f1', 'val_f1'], loc='upper left')\n",
    "plt.show()"
   ]
  },
  {
   "cell_type": "code",
   "execution_count": null,
   "id": "khgFaORoxM4M",
   "metadata": {
    "colab": {
     "background_save": true
    },
    "id": "khgFaORoxM4M"
   },
   "outputs": [],
   "source": [
    "model3.summary()"
   ]
  },
  {
   "cell_type": "code",
   "execution_count": null,
   "id": "4887a4de",
   "metadata": {},
   "outputs": [],
   "source": []
  }
 ],
 "metadata": {
  "accelerator": "TPU",
  "colab": {
   "provenance": []
  },
  "kernelspec": {
   "display_name": "Python 3 (ipykernel)",
   "language": "python",
   "name": "python3"
  },
  "language_info": {
   "codemirror_mode": {
    "name": "ipython",
    "version": 3
   },
   "file_extension": ".py",
   "mimetype": "text/x-python",
   "name": "python",
   "nbconvert_exporter": "python",
   "pygments_lexer": "ipython3",
   "version": "3.11.4"
  }
 },
 "nbformat": 4,
 "nbformat_minor": 5
}
