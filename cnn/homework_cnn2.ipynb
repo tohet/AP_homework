{
 "cells": [
  {
   "cell_type": "markdown",
   "id": "4ca384d0-da9b-41bc-a902-ee069922c0c2",
   "metadata": {
    "id": "4ca384d0-da9b-41bc-a902-ee069922c0c2"
   },
   "source": [
    "## Домашка (10 баллов)\n",
    "\n",
    "\n",
    "Обучите модель с минимум 15 слоями, где у каждого слоя разные параметры (Dropout, Conv1d и Pooling, Dense считаются слоями, остальное нет). Как мимнимум 4 слоя должны быть наложены друг на друга и как минимум 2 параллельных слоя (последовательности слоев). Должен быть хотя бы один слой каждого типа.\n",
    "\n",
    "При обучении используйте колбек для отслеживания лучшей модели. Ориентируйтесь на ф1 меру. Качество модели не должно быть околонулевым. Если метрики не растут, то попробуйте пообучать подольше или перестроить саму сеть.\n",
    "\n",
    "Советы: Начните с небольших сетей и постепенно добавляйте, не пытайтесь сразу собрать все слои. Иногда кернел может крашиться просто так или из-за слишком больших матриц.\n"
   ]
  },
  {
   "cell_type": "markdown",
   "id": "7b3c7fde",
   "metadata": {},
   "source": [
    "### Сначала я тестирую модели с 3 и 6 слоями, в конце запускаю модель с 15 слоями"
   ]
  },
  {
   "cell_type": "code",
   "execution_count": 1,
   "id": "2dcb010f-90e2-4a23-bbdd-4b6df8a94c31",
   "metadata": {
    "id": "2dcb010f-90e2-4a23-bbdd-4b6df8a94c31"
   },
   "outputs": [],
   "source": [
    "import os\n",
    "os.environ[\"KERAS_BACKEND\"] = \"torch\"\n",
    "\n",
    "import keras\n",
    "\n",
    "import pandas as pd\n",
    "import numpy as np\n",
    "from string import punctuation\n",
    "from sklearn.model_selection import train_test_split\n",
    "from collections import Counter\n",
    "import matplotlib.pyplot as plt\n",
    "%matplotlib inline"
   ]
  },
  {
   "cell_type": "code",
   "execution_count": 2,
   "id": "9PvfoCZQ4GL-",
   "metadata": {
    "colab": {
     "base_uri": "https://localhost:8080/"
    },
    "id": "9PvfoCZQ4GL-",
    "outputId": "ad86cc16-4570-45a8-fb88-cafd9318a81a"
   },
   "outputs": [
    {
     "name": "stdout",
     "output_type": "stream",
     "text": [
      "2.15.0\n"
     ]
    }
   ],
   "source": [
    "print(keras.__version__)"
   ]
  },
  {
   "cell_type": "code",
   "execution_count": 3,
   "id": "ZaBZYswwsIDG",
   "metadata": {
    "colab": {
     "base_uri": "https://localhost:8080/"
    },
    "id": "ZaBZYswwsIDG",
    "outputId": "af2844fe-6541-4ab3-fef4-0f75d702da59"
   },
   "outputs": [
    {
     "name": "stdout",
     "output_type": "stream",
     "text": [
      "Mounted at /content/drive\n"
     ]
    }
   ],
   "source": [
    "from google.colab import drive\n",
    "drive.mount('/content/drive')"
   ]
  },
  {
   "cell_type": "code",
   "execution_count": 4,
   "id": "kiAmgBHVncVF",
   "metadata": {
    "id": "kiAmgBHVncVF"
   },
   "outputs": [],
   "source": [
    "data = pd.read_csv('/content/drive/MyDrive/lenta_40k.csv.zip')"
   ]
  },
  {
   "cell_type": "code",
   "execution_count": 5,
   "id": "Wfix4G6MtCPN",
   "metadata": {
    "colab": {
     "base_uri": "https://localhost:8080/",
     "height": 423
    },
    "id": "Wfix4G6MtCPN",
    "outputId": "e29e1114-ca6c-4c0b-9554-2c718ea71e33"
   },
   "outputs": [
    {
     "data": {
      "text/html": [
       "\n",
       "  <div id=\"df-5c73b77c-8a03-45f8-aaa8-0f9e82de3d5f\" class=\"colab-df-container\">\n",
       "    <div>\n",
       "<style scoped>\n",
       "    .dataframe tbody tr th:only-of-type {\n",
       "        vertical-align: middle;\n",
       "    }\n",
       "\n",
       "    .dataframe tbody tr th {\n",
       "        vertical-align: top;\n",
       "    }\n",
       "\n",
       "    .dataframe thead th {\n",
       "        text-align: right;\n",
       "    }\n",
       "</style>\n",
       "<table border=\"1\" class=\"dataframe\">\n",
       "  <thead>\n",
       "    <tr style=\"text-align: right;\">\n",
       "      <th></th>\n",
       "      <th>text</th>\n",
       "      <th>topic</th>\n",
       "    </tr>\n",
       "  </thead>\n",
       "  <tbody>\n",
       "    <tr>\n",
       "      <th>0</th>\n",
       "      <td>Россия должна сотрудничать с Всемирным антидоп...</td>\n",
       "      <td>Спорт</td>\n",
       "    </tr>\n",
       "    <tr>\n",
       "      <th>1</th>\n",
       "      <td>Уголовный суд Кувейта 28 июня освободил под за...</td>\n",
       "      <td>Мир</td>\n",
       "    </tr>\n",
       "    <tr>\n",
       "      <th>2</th>\n",
       "      <td>Французский журнал Charlie Hebdo опубликовал н...</td>\n",
       "      <td>Интернет и СМИ</td>\n",
       "    </tr>\n",
       "    <tr>\n",
       "      <th>3</th>\n",
       "      <td>В Петербурге в доме № 53 по улице Лени Голиков...</td>\n",
       "      <td>Россия</td>\n",
       "    </tr>\n",
       "    <tr>\n",
       "      <th>4</th>\n",
       "      <td>В московском аэропорту \"Домодедово\" задержан г...</td>\n",
       "      <td>Россия</td>\n",
       "    </tr>\n",
       "    <tr>\n",
       "      <th>...</th>\n",
       "      <td>...</td>\n",
       "      <td>...</td>\n",
       "    </tr>\n",
       "    <tr>\n",
       "      <th>44351</th>\n",
       "      <td>Российский Минфин может пересмотреть минимальн...</td>\n",
       "      <td>Экономика</td>\n",
       "    </tr>\n",
       "    <tr>\n",
       "      <th>44352</th>\n",
       "      <td>Сотрудники Службы безопасности Украины (СБУ) с...</td>\n",
       "      <td>Бывший СССР</td>\n",
       "    </tr>\n",
       "    <tr>\n",
       "      <th>44353</th>\n",
       "      <td>Америке следует задуматься над поставками на У...</td>\n",
       "      <td>Силовые структуры</td>\n",
       "    </tr>\n",
       "    <tr>\n",
       "      <th>44354</th>\n",
       "      <td>Опознаны тела 71 человека, погибшего в результ...</td>\n",
       "      <td>Мир</td>\n",
       "    </tr>\n",
       "    <tr>\n",
       "      <th>44355</th>\n",
       "      <td>Украинский националист, лидер запрещенной в Ро...</td>\n",
       "      <td>Бывший СССР</td>\n",
       "    </tr>\n",
       "  </tbody>\n",
       "</table>\n",
       "<p>44356 rows × 2 columns</p>\n",
       "</div>\n",
       "    <div class=\"colab-df-buttons\">\n",
       "\n",
       "  <div class=\"colab-df-container\">\n",
       "    <button class=\"colab-df-convert\" onclick=\"convertToInteractive('df-5c73b77c-8a03-45f8-aaa8-0f9e82de3d5f')\"\n",
       "            title=\"Convert this dataframe to an interactive table.\"\n",
       "            style=\"display:none;\">\n",
       "\n",
       "  <svg xmlns=\"http://www.w3.org/2000/svg\" height=\"24px\" viewBox=\"0 -960 960 960\">\n",
       "    <path d=\"M120-120v-720h720v720H120Zm60-500h600v-160H180v160Zm220 220h160v-160H400v160Zm0 220h160v-160H400v160ZM180-400h160v-160H180v160Zm440 0h160v-160H620v160ZM180-180h160v-160H180v160Zm440 0h160v-160H620v160Z\"/>\n",
       "  </svg>\n",
       "    </button>\n",
       "\n",
       "  <style>\n",
       "    .colab-df-container {\n",
       "      display:flex;\n",
       "      gap: 12px;\n",
       "    }\n",
       "\n",
       "    .colab-df-convert {\n",
       "      background-color: #E8F0FE;\n",
       "      border: none;\n",
       "      border-radius: 50%;\n",
       "      cursor: pointer;\n",
       "      display: none;\n",
       "      fill: #1967D2;\n",
       "      height: 32px;\n",
       "      padding: 0 0 0 0;\n",
       "      width: 32px;\n",
       "    }\n",
       "\n",
       "    .colab-df-convert:hover {\n",
       "      background-color: #E2EBFA;\n",
       "      box-shadow: 0px 1px 2px rgba(60, 64, 67, 0.3), 0px 1px 3px 1px rgba(60, 64, 67, 0.15);\n",
       "      fill: #174EA6;\n",
       "    }\n",
       "\n",
       "    .colab-df-buttons div {\n",
       "      margin-bottom: 4px;\n",
       "    }\n",
       "\n",
       "    [theme=dark] .colab-df-convert {\n",
       "      background-color: #3B4455;\n",
       "      fill: #D2E3FC;\n",
       "    }\n",
       "\n",
       "    [theme=dark] .colab-df-convert:hover {\n",
       "      background-color: #434B5C;\n",
       "      box-shadow: 0px 1px 3px 1px rgba(0, 0, 0, 0.15);\n",
       "      filter: drop-shadow(0px 1px 2px rgba(0, 0, 0, 0.3));\n",
       "      fill: #FFFFFF;\n",
       "    }\n",
       "  </style>\n",
       "\n",
       "    <script>\n",
       "      const buttonEl =\n",
       "        document.querySelector('#df-5c73b77c-8a03-45f8-aaa8-0f9e82de3d5f button.colab-df-convert');\n",
       "      buttonEl.style.display =\n",
       "        google.colab.kernel.accessAllowed ? 'block' : 'none';\n",
       "\n",
       "      async function convertToInteractive(key) {\n",
       "        const element = document.querySelector('#df-5c73b77c-8a03-45f8-aaa8-0f9e82de3d5f');\n",
       "        const dataTable =\n",
       "          await google.colab.kernel.invokeFunction('convertToInteractive',\n",
       "                                                    [key], {});\n",
       "        if (!dataTable) return;\n",
       "\n",
       "        const docLinkHtml = 'Like what you see? Visit the ' +\n",
       "          '<a target=\"_blank\" href=https://colab.research.google.com/notebooks/data_table.ipynb>data table notebook</a>'\n",
       "          + ' to learn more about interactive tables.';\n",
       "        element.innerHTML = '';\n",
       "        dataTable['output_type'] = 'display_data';\n",
       "        await google.colab.output.renderOutput(dataTable, element);\n",
       "        const docLink = document.createElement('div');\n",
       "        docLink.innerHTML = docLinkHtml;\n",
       "        element.appendChild(docLink);\n",
       "      }\n",
       "    </script>\n",
       "  </div>\n",
       "\n",
       "\n",
       "<div id=\"df-89338d86-245a-418d-ac7f-c591ce4115dc\">\n",
       "  <button class=\"colab-df-quickchart\" onclick=\"quickchart('df-89338d86-245a-418d-ac7f-c591ce4115dc')\"\n",
       "            title=\"Suggest charts\"\n",
       "            style=\"display:none;\">\n",
       "\n",
       "<svg xmlns=\"http://www.w3.org/2000/svg\" height=\"24px\"viewBox=\"0 0 24 24\"\n",
       "     width=\"24px\">\n",
       "    <g>\n",
       "        <path d=\"M19 3H5c-1.1 0-2 .9-2 2v14c0 1.1.9 2 2 2h14c1.1 0 2-.9 2-2V5c0-1.1-.9-2-2-2zM9 17H7v-7h2v7zm4 0h-2V7h2v10zm4 0h-2v-4h2v4z\"/>\n",
       "    </g>\n",
       "</svg>\n",
       "  </button>\n",
       "\n",
       "<style>\n",
       "  .colab-df-quickchart {\n",
       "      --bg-color: #E8F0FE;\n",
       "      --fill-color: #1967D2;\n",
       "      --hover-bg-color: #E2EBFA;\n",
       "      --hover-fill-color: #174EA6;\n",
       "      --disabled-fill-color: #AAA;\n",
       "      --disabled-bg-color: #DDD;\n",
       "  }\n",
       "\n",
       "  [theme=dark] .colab-df-quickchart {\n",
       "      --bg-color: #3B4455;\n",
       "      --fill-color: #D2E3FC;\n",
       "      --hover-bg-color: #434B5C;\n",
       "      --hover-fill-color: #FFFFFF;\n",
       "      --disabled-bg-color: #3B4455;\n",
       "      --disabled-fill-color: #666;\n",
       "  }\n",
       "\n",
       "  .colab-df-quickchart {\n",
       "    background-color: var(--bg-color);\n",
       "    border: none;\n",
       "    border-radius: 50%;\n",
       "    cursor: pointer;\n",
       "    display: none;\n",
       "    fill: var(--fill-color);\n",
       "    height: 32px;\n",
       "    padding: 0;\n",
       "    width: 32px;\n",
       "  }\n",
       "\n",
       "  .colab-df-quickchart:hover {\n",
       "    background-color: var(--hover-bg-color);\n",
       "    box-shadow: 0 1px 2px rgba(60, 64, 67, 0.3), 0 1px 3px 1px rgba(60, 64, 67, 0.15);\n",
       "    fill: var(--button-hover-fill-color);\n",
       "  }\n",
       "\n",
       "  .colab-df-quickchart-complete:disabled,\n",
       "  .colab-df-quickchart-complete:disabled:hover {\n",
       "    background-color: var(--disabled-bg-color);\n",
       "    fill: var(--disabled-fill-color);\n",
       "    box-shadow: none;\n",
       "  }\n",
       "\n",
       "  .colab-df-spinner {\n",
       "    border: 2px solid var(--fill-color);\n",
       "    border-color: transparent;\n",
       "    border-bottom-color: var(--fill-color);\n",
       "    animation:\n",
       "      spin 1s steps(1) infinite;\n",
       "  }\n",
       "\n",
       "  @keyframes spin {\n",
       "    0% {\n",
       "      border-color: transparent;\n",
       "      border-bottom-color: var(--fill-color);\n",
       "      border-left-color: var(--fill-color);\n",
       "    }\n",
       "    20% {\n",
       "      border-color: transparent;\n",
       "      border-left-color: var(--fill-color);\n",
       "      border-top-color: var(--fill-color);\n",
       "    }\n",
       "    30% {\n",
       "      border-color: transparent;\n",
       "      border-left-color: var(--fill-color);\n",
       "      border-top-color: var(--fill-color);\n",
       "      border-right-color: var(--fill-color);\n",
       "    }\n",
       "    40% {\n",
       "      border-color: transparent;\n",
       "      border-right-color: var(--fill-color);\n",
       "      border-top-color: var(--fill-color);\n",
       "    }\n",
       "    60% {\n",
       "      border-color: transparent;\n",
       "      border-right-color: var(--fill-color);\n",
       "    }\n",
       "    80% {\n",
       "      border-color: transparent;\n",
       "      border-right-color: var(--fill-color);\n",
       "      border-bottom-color: var(--fill-color);\n",
       "    }\n",
       "    90% {\n",
       "      border-color: transparent;\n",
       "      border-bottom-color: var(--fill-color);\n",
       "    }\n",
       "  }\n",
       "</style>\n",
       "\n",
       "  <script>\n",
       "    async function quickchart(key) {\n",
       "      const quickchartButtonEl =\n",
       "        document.querySelector('#' + key + ' button');\n",
       "      quickchartButtonEl.disabled = true;  // To prevent multiple clicks.\n",
       "      quickchartButtonEl.classList.add('colab-df-spinner');\n",
       "      try {\n",
       "        const charts = await google.colab.kernel.invokeFunction(\n",
       "            'suggestCharts', [key], {});\n",
       "      } catch (error) {\n",
       "        console.error('Error during call to suggestCharts:', error);\n",
       "      }\n",
       "      quickchartButtonEl.classList.remove('colab-df-spinner');\n",
       "      quickchartButtonEl.classList.add('colab-df-quickchart-complete');\n",
       "    }\n",
       "    (() => {\n",
       "      let quickchartButtonEl =\n",
       "        document.querySelector('#df-89338d86-245a-418d-ac7f-c591ce4115dc button');\n",
       "      quickchartButtonEl.style.display =\n",
       "        google.colab.kernel.accessAllowed ? 'block' : 'none';\n",
       "    })();\n",
       "  </script>\n",
       "</div>\n",
       "    </div>\n",
       "  </div>\n"
      ],
      "text/plain": [
       "                                                    text              topic\n",
       "0      Россия должна сотрудничать с Всемирным антидоп...              Спорт\n",
       "1      Уголовный суд Кувейта 28 июня освободил под за...                Мир\n",
       "2      Французский журнал Charlie Hebdo опубликовал н...     Интернет и СМИ\n",
       "3      В Петербурге в доме № 53 по улице Лени Голиков...             Россия\n",
       "4      В московском аэропорту \"Домодедово\" задержан г...             Россия\n",
       "...                                                  ...                ...\n",
       "44351  Российский Минфин может пересмотреть минимальн...          Экономика\n",
       "44352  Сотрудники Службы безопасности Украины (СБУ) с...        Бывший СССР\n",
       "44353  Америке следует задуматься над поставками на У...  Силовые структуры\n",
       "44354  Опознаны тела 71 человека, погибшего в результ...                Мир\n",
       "44355  Украинский националист, лидер запрещенной в Ро...        Бывший СССР\n",
       "\n",
       "[44356 rows x 2 columns]"
      ]
     },
     "execution_count": 5,
     "metadata": {},
     "output_type": "execute_result"
    }
   ],
   "source": [
    "data"
   ]
  },
  {
   "cell_type": "code",
   "execution_count": 6,
   "id": "eMWRV9IetXU1",
   "metadata": {
    "id": "eMWRV9IetXU1"
   },
   "outputs": [],
   "source": [
    "def preprocess(text):\n",
    "    tokens = text.lower().split()\n",
    "    tokens = [token.strip(punctuation) for token in tokens]\n",
    "    tokens = [token for token in tokens if token]\n",
    "    return tokens"
   ]
  },
  {
   "cell_type": "code",
   "execution_count": 7,
   "id": "91QKv_YNtnG1",
   "metadata": {
    "id": "91QKv_YNtnG1"
   },
   "outputs": [],
   "source": [
    "vocab = Counter()\n",
    "\n",
    "for text in data.text:\n",
    "    vocab.update(preprocess(text))\n",
    "\n",
    "filtered_vocab = set()\n",
    "\n",
    "for word in vocab:\n",
    "    if vocab[word] > 30:\n",
    "        filtered_vocab.add(word)"
   ]
  },
  {
   "cell_type": "code",
   "execution_count": 8,
   "id": "ZS07uZsa1EzV",
   "metadata": {
    "colab": {
     "base_uri": "https://localhost:8080/"
    },
    "id": "ZS07uZsa1EzV",
    "outputId": "40344bf7-cdd8-4efb-acf6-5c6be7841897"
   },
   "outputs": [
    {
     "data": {
      "text/plain": [
       "24090"
      ]
     },
     "execution_count": 8,
     "metadata": {},
     "output_type": "execute_result"
    }
   ],
   "source": [
    "len(filtered_vocab)"
   ]
  },
  {
   "cell_type": "code",
   "execution_count": 9,
   "id": "eA8JWIYR1vtl",
   "metadata": {
    "id": "eA8JWIYR1vtl"
   },
   "outputs": [],
   "source": [
    "word2id = {'PAD':0}\n",
    "\n",
    "for word in filtered_vocab:\n",
    "    word2id[word] = len(word2id)\n",
    "\n",
    "id2word = {i:word for word, i in word2id.items()}"
   ]
  },
  {
   "cell_type": "code",
   "execution_count": 10,
   "id": "7ehrCGMM2HjW",
   "metadata": {
    "id": "7ehrCGMM2HjW"
   },
   "outputs": [],
   "source": [
    "X = []\n",
    "\n",
    "for text in data.text:\n",
    "    tokens = preprocess(text)\n",
    "    ids = [word2id.get(token, 1) for token in tokens]\n",
    "    X.append(ids)"
   ]
  },
  {
   "cell_type": "code",
   "execution_count": 11,
   "id": "wZeJo7Rh2QZ2",
   "metadata": {
    "id": "wZeJo7Rh2QZ2"
   },
   "outputs": [],
   "source": [
    "MAX_LEN = max(len(x) for x in X)\n",
    "MEAN_LEN = np.median([len(x) for x in X])"
   ]
  },
  {
   "cell_type": "code",
   "execution_count": 12,
   "id": "oegGNkdB2mnm",
   "metadata": {
    "colab": {
     "base_uri": "https://localhost:8080/"
    },
    "id": "oegGNkdB2mnm",
    "outputId": "8dc1b563-cc5e-43a1-a785-40240a4a389f"
   },
   "outputs": [
    {
     "data": {
      "text/plain": [
       "(1732, 169.0)"
      ]
     },
     "execution_count": 12,
     "metadata": {},
     "output_type": "execute_result"
    }
   ],
   "source": [
    "MAX_LEN, MEAN_LEN"
   ]
  },
  {
   "cell_type": "code",
   "execution_count": 13,
   "id": "xv5Su4o833Y_",
   "metadata": {
    "id": "xv5Su4o833Y_"
   },
   "outputs": [],
   "source": [
    "MAX_LEN = int(MEAN_LEN + 31)"
   ]
  },
  {
   "cell_type": "code",
   "execution_count": 14,
   "id": "58NR9o9L5Pfp",
   "metadata": {
    "id": "58NR9o9L5Pfp"
   },
   "outputs": [],
   "source": [
    "X = keras.preprocessing.sequence.pad_sequences(X, maxlen=MAX_LEN)"
   ]
  },
  {
   "cell_type": "code",
   "execution_count": 15,
   "id": "o_igo4q_5VyP",
   "metadata": {
    "colab": {
     "base_uri": "https://localhost:8080/"
    },
    "id": "o_igo4q_5VyP",
    "outputId": "b4a40cfb-c66f-4450-ce3b-f7c88e17ba8f"
   },
   "outputs": [
    {
     "data": {
      "text/plain": [
       "(44356, 200)"
      ]
     },
     "execution_count": 15,
     "metadata": {},
     "output_type": "execute_result"
    }
   ],
   "source": [
    "X.shape"
   ]
  },
  {
   "cell_type": "code",
   "execution_count": 16,
   "id": "JLfuAU0p7Upi",
   "metadata": {
    "id": "JLfuAU0p7Upi"
   },
   "outputs": [],
   "source": [
    "id2label = {i:label for i, label in enumerate(set(data.topic.values))}\n",
    "label2id = {l:i for i, l in id2label.items()}"
   ]
  },
  {
   "cell_type": "code",
   "execution_count": 17,
   "id": "X22RRfsr7gS3",
   "metadata": {
    "id": "X22RRfsr7gS3"
   },
   "outputs": [],
   "source": [
    "y = keras.utils.to_categorical([label2id[label] for label in data.topic.values])"
   ]
  },
  {
   "cell_type": "code",
   "execution_count": 18,
   "id": "nFyqsuR-73b8",
   "metadata": {
    "id": "nFyqsuR-73b8"
   },
   "outputs": [],
   "source": [
    "X_train, X_valid, y_train, y_valid = train_test_split(X, y, test_size=0.05)"
   ]
  },
  {
   "cell_type": "code",
   "execution_count": 19,
   "id": "YFff9zPEaj4c",
   "metadata": {
    "id": "YFff9zPEaj4c"
   },
   "outputs": [],
   "source": [
    "checkpoint = keras.callbacks.ModelCheckpoint('model.weights.h5', monitor='f1_score', verbose=1, save_weights_only=True, save_best_only=True, mode='max',save_freq='epoch')\n",
    "early_stop = keras.callbacks.EarlyStopping(monitor='f1_score', min_delta=0.04, patience=3, verbose=1, mode='max',)"
   ]
  },
  {
   "cell_type": "markdown",
   "id": "gIr70YxKlArB",
   "metadata": {
    "id": "gIr70YxKlArB"
   },
   "source": [
    "### Модель №1 - 3 слоя"
   ]
  },
  {
   "cell_type": "code",
   "execution_count": 20,
   "id": "RQGVk48R9C_x",
   "metadata": {
    "id": "RQGVk48R9C_x"
   },
   "outputs": [],
   "source": [
    "inputs = keras.layers.Input(shape=(MAX_LEN,))\n",
    "embeddings = keras.layers.Embedding(input_dim=len(word2id), output_dim=30)(inputs)\n",
    "\n",
    "conv1 = keras.layers.Conv1D(kernel_size=10, filters=32, strides=1)(embeddings)\n",
    "\n",
    "mean = keras.layers.Flatten()(conv1)\n",
    "\n",
    "dense = keras.layers.Dense(30, activation='relu')(mean)\n",
    "\n",
    "\n",
    "outputs = keras.layers.Dense(len(label2id), activation='softmax')(dense)\n",
    "\n",
    "\n",
    "model = keras.Model(inputs=inputs, outputs=outputs)\n",
    "optimizer = keras.optimizers.Adam(learning_rate=0.0005)\n",
    "model.compile(optimizer=optimizer, loss='categorical_crossentropy', metrics=[keras.metrics.RecallAtPrecision(0.8, name='rec@prec'), keras.metrics.F1Score(average=\"weighted\")])"
   ]
  },
  {
   "cell_type": "code",
   "execution_count": 21,
   "id": "GI0wTgXn9RG6",
   "metadata": {
    "colab": {
     "base_uri": "https://localhost:8080/"
    },
    "id": "GI0wTgXn9RG6",
    "outputId": "15816c9b-a276-4e92-8a71-5b4237e75c66"
   },
   "outputs": [
    {
     "name": "stdout",
     "output_type": "stream",
     "text": [
      "Epoch 1/10\n",
      "22/22 [==============================] - ETA: 0s - loss: 2.7093 - rec@prec: 0.0000e+00 - f1_score: 0.1002\n",
      "Epoch 1: f1_score improved from -inf to 0.10015, saving model to model.weights.h5\n",
      "22/22 [==============================] - 22s 930ms/step - loss: 2.7093 - rec@prec: 0.0000e+00 - f1_score: 0.1002 - val_loss: 2.4703 - val_rec@prec: 0.0000e+00 - val_f1_score: 0.0995\n",
      "Epoch 2/10\n",
      "22/22 [==============================] - ETA: 0s - loss: 2.3374 - rec@prec: 2.3732e-05 - f1_score: 0.1206\n",
      "Epoch 2: f1_score improved from 0.10015 to 0.12058, saving model to model.weights.h5\n",
      "22/22 [==============================] - 23s 1s/step - loss: 2.3374 - rec@prec: 2.3732e-05 - f1_score: 0.1206 - val_loss: 2.2660 - val_rec@prec: 0.0000e+00 - val_f1_score: 0.1175\n",
      "Epoch 3/10\n",
      "22/22 [==============================] - ETA: 0s - loss: 2.0916 - rec@prec: 0.0054 - f1_score: 0.2292\n",
      "Epoch 3: f1_score improved from 0.12058 to 0.22921, saving model to model.weights.h5\n",
      "22/22 [==============================] - 20s 919ms/step - loss: 2.0916 - rec@prec: 0.0054 - f1_score: 0.2292 - val_loss: 1.9635 - val_rec@prec: 0.0433 - val_f1_score: 0.2767\n",
      "Epoch 4/10\n",
      "22/22 [==============================] - ETA: 0s - loss: 1.7788 - rec@prec: 0.0835 - f1_score: 0.3536\n",
      "Epoch 4: f1_score improved from 0.22921 to 0.35356, saving model to model.weights.h5\n",
      "22/22 [==============================] - 22s 1s/step - loss: 1.7788 - rec@prec: 0.0835 - f1_score: 0.3536 - val_loss: 1.6977 - val_rec@prec: 0.1307 - val_f1_score: 0.3780\n",
      "Epoch 5/10\n",
      "22/22 [==============================] - ETA: 0s - loss: 1.5325 - rec@prec: 0.2449 - f1_score: 0.4484\n",
      "Epoch 5: f1_score improved from 0.35356 to 0.44836, saving model to model.weights.h5\n",
      "22/22 [==============================] - 20s 913ms/step - loss: 1.5325 - rec@prec: 0.2449 - f1_score: 0.4484 - val_loss: 1.5034 - val_rec@prec: 0.2917 - val_f1_score: 0.4547\n",
      "Epoch 6/10\n",
      "22/22 [==============================] - ETA: 0s - loss: 1.3127 - rec@prec: 0.4681 - f1_score: 0.5376\n",
      "Epoch 6: f1_score improved from 0.44836 to 0.53761, saving model to model.weights.h5\n",
      "22/22 [==============================] - 22s 1s/step - loss: 1.3127 - rec@prec: 0.4681 - f1_score: 0.5376 - val_loss: 1.3323 - val_rec@prec: 0.4531 - val_f1_score: 0.5378\n",
      "Epoch 7/10\n",
      "22/22 [==============================] - ETA: 0s - loss: 1.1218 - rec@prec: 0.5815 - f1_score: 0.6116\n",
      "Epoch 7: f1_score improved from 0.53761 to 0.61160, saving model to model.weights.h5\n",
      "22/22 [==============================] - 20s 913ms/step - loss: 1.1218 - rec@prec: 0.5815 - f1_score: 0.6116 - val_loss: 1.2244 - val_rec@prec: 0.4905 - val_f1_score: 0.5833\n",
      "Epoch 8/10\n",
      "22/22 [==============================] - ETA: 0s - loss: 0.9708 - rec@prec: 0.6598 - f1_score: 0.6654\n",
      "Epoch 8: f1_score improved from 0.61160 to 0.66543, saving model to model.weights.h5\n",
      "22/22 [==============================] - 21s 956ms/step - loss: 0.9708 - rec@prec: 0.6598 - f1_score: 0.6654 - val_loss: 1.1515 - val_rec@prec: 0.5374 - val_f1_score: 0.6105\n",
      "Epoch 9/10\n",
      "22/22 [==============================] - ETA: 0s - loss: 0.8284 - rec@prec: 0.7356 - f1_score: 0.7225\n",
      "Epoch 9: f1_score improved from 0.66543 to 0.72251, saving model to model.weights.h5\n",
      "22/22 [==============================] - 21s 931ms/step - loss: 0.8284 - rec@prec: 0.7356 - f1_score: 0.7225 - val_loss: 1.0974 - val_rec@prec: 0.5636 - val_f1_score: 0.6468\n",
      "Epoch 10/10\n",
      "22/22 [==============================] - ETA: 0s - loss: 0.6955 - rec@prec: 0.8025 - f1_score: 0.7766\n",
      "Epoch 10: f1_score improved from 0.72251 to 0.77662, saving model to model.weights.h5\n",
      "22/22 [==============================] - 20s 920ms/step - loss: 0.6955 - rec@prec: 0.8025 - f1_score: 0.7766 - val_loss: 1.0493 - val_rec@prec: 0.6087 - val_f1_score: 0.6705\n"
     ]
    },
    {
     "data": {
      "text/plain": [
       "<keras.src.callbacks.History at 0x7a622ea0ff40>"
      ]
     },
     "execution_count": 21,
     "metadata": {},
     "output_type": "execute_result"
    }
   ],
   "source": [
    "model.fit(X_train, y_train, validation_data=(X_valid, y_valid), batch_size=2000, epochs=10, callbacks=[checkpoint, early_stop])"
   ]
  },
  {
   "cell_type": "code",
   "execution_count": 22,
   "id": "ht6ejOUc9hBF",
   "metadata": {
    "colab": {
     "base_uri": "https://localhost:8080/",
     "height": 489
    },
    "id": "ht6ejOUc9hBF",
    "outputId": "7d4c33f0-7efb-43a9-fdda-5737fb8e8ed2"
   },
   "outputs": [
    {
     "name": "stdout",
     "output_type": "stream",
     "text": [
      "dict_keys(['loss', 'rec@prec', 'f1_score', 'val_loss', 'val_rec@prec', 'val_f1_score'])\n"
     ]
    },
    {
     "data": {
      "image/png": "[encoded data removed]",
      "text/plain": [
       "<Figure size 640x480 with 1 Axes>"
      ]
     },
     "metadata": {},
     "output_type": "display_data"
    }
   ],
   "source": [
    "print(model.history.history.keys())\n",
    "plt.plot(model.history.history['rec@prec'])\n",
    "plt.plot(model.history.history['val_rec@prec'])\n",
    "plt.plot(model.history.history['f1_score'])\n",
    "plt.plot(model.history.history['val_f1_score'])\n",
    "plt.title('model metrics')\n",
    "plt.ylabel('metric')\n",
    "plt.xlabel('epoch')\n",
    "plt.legend(['train', 'val',\n",
    "            'f1', 'val_f1'], loc='upper left')\n",
    "plt.show()"
   ]
  },
  {
   "cell_type": "code",
   "execution_count": 23,
   "id": "G5xI2fA4-_nI",
   "metadata": {
    "colab": {
     "base_uri": "https://localhost:8080/"
    },
    "id": "G5xI2fA4-_nI",
    "outputId": "d63d5399-33ed-4162-b309-b3bd686d9763"
   },
   "outputs": [
    {
     "name": "stdout",
     "output_type": "stream",
     "text": [
      "Model: \"model\"\n",
      "_________________________________________________________________\n",
      " Layer (type)                Output Shape              Param #   \n",
      "=================================================================\n",
      " input_1 (InputLayer)        [(None, 200)]             0         \n",
      "                                                                 \n",
      " embedding (Embedding)       (None, 200, 30)           722730    \n",
      "                                                                 \n",
      " conv1d (Conv1D)             (None, 191, 32)           9632      \n",
      "                                                                 \n",
      " flatten (Flatten)           (None, 6112)              0         \n",
      "                                                                 \n",
      " dense (Dense)               (None, 30)                183390    \n",
      "                                                                 \n",
      " dense_1 (Dense)             (None, 19)                589       \n",
      "                                                                 \n",
      "=================================================================\n",
      "Total params: 916341 (3.50 MB)\n",
      "Trainable params: 916341 (3.50 MB)\n",
      "Non-trainable params: 0 (0.00 Byte)\n",
      "_________________________________________________________________\n"
     ]
    }
   ],
   "source": [
    "model.summary()"
   ]
  },
  {
   "cell_type": "markdown",
   "id": "svqRKW7cv8cc",
   "metadata": {
    "id": "svqRKW7cv8cc"
   },
   "source": [
    "### Модель №2 - 6 слоёв"
   ]
  },
  {
   "cell_type": "code",
   "execution_count": 24,
   "id": "gDg7ANP4lRWS",
   "metadata": {
    "id": "gDg7ANP4lRWS"
   },
   "outputs": [],
   "source": [
    "inputs = keras.layers.Input(shape=(MAX_LEN,))\n",
    "embeddings = keras.layers.Embedding(input_dim=len(word2id), output_dim=30)(inputs)\n",
    "\n",
    "conv1 = keras.layers.Conv1D(kernel_size=5, filters=32, strides=1)(embeddings)\n",
    "conv2 = keras.layers.Conv1D(kernel_size=5, filters=32, strides=3)(conv1)\n",
    "pool = keras.layers.AveragePooling1D(pool_size=10)(conv2)\n",
    "\n",
    "mean = keras.layers.Flatten()(pool)\n",
    "\n",
    "dense = keras.layers.Dense(60, activation='relu')(mean)\n",
    "dropout = keras.layers.Dropout(0.4)(dense)\n",
    "\n",
    "\n",
    "outputs = keras.layers.Dense(len(label2id), activation='softmax')(dropout)\n",
    "\n",
    "\n",
    "model2 = keras.Model(inputs=inputs, outputs=outputs)\n",
    "optimizer = keras.optimizers.Adam(learning_rate=0.002)\n",
    "model2.compile(optimizer=optimizer, loss='categorical_crossentropy', metrics=[keras.metrics.RecallAtPrecision(0.8, name='rec@prec'), keras.metrics.F1Score(average=\"weighted\")])"
   ]
  },
  {
   "cell_type": "code",
   "execution_count": 25,
   "id": "vZc-odevlv_x",
   "metadata": {
    "colab": {
     "base_uri": "https://localhost:8080/"
    },
    "id": "vZc-odevlv_x",
    "outputId": "b115a866-44e6-4234-ef73-83b628fae527"
   },
   "outputs": [
    {
     "name": "stdout",
     "output_type": "stream",
     "text": [
      "Epoch 1/10\n",
      "15/15 [==============================] - ETA: 0s - loss: 2.6933 - rec@prec: 0.0000e+00 - f1_score: 0.1220\n",
      "Epoch 1: f1_score did not improve from 0.77662\n",
      "15/15 [==============================] - 18s 1s/step - loss: 2.6933 - rec@prec: 0.0000e+00 - f1_score: 0.1220 - val_loss: 2.3917 - val_rec@prec: 0.0000e+00 - val_f1_score: 0.1154\n",
      "Epoch 2/10\n",
      "15/15 [==============================] - ETA: 0s - loss: 2.3781 - rec@prec: 0.0000e+00 - f1_score: 0.1285\n",
      "Epoch 2: f1_score did not improve from 0.77662\n",
      "15/15 [==============================] - 15s 1s/step - loss: 2.3781 - rec@prec: 0.0000e+00 - f1_score: 0.1285 - val_loss: 2.2273 - val_rec@prec: 0.0000e+00 - val_f1_score: 0.1200\n",
      "Epoch 3/10\n",
      "15/15 [==============================] - ETA: 0s - loss: 2.1317 - rec@prec: 0.0000e+00 - f1_score: 0.2074\n",
      "Epoch 3: f1_score did not improve from 0.77662\n",
      "15/15 [==============================] - 15s 1s/step - loss: 2.1317 - rec@prec: 0.0000e+00 - f1_score: 0.2074 - val_loss: 1.8788 - val_rec@prec: 0.0433 - val_f1_score: 0.3525\n",
      "Epoch 4/10\n",
      "15/15 [==============================] - ETA: 0s - loss: 1.7262 - rec@prec: 0.1120 - f1_score: 0.3695\n",
      "Epoch 4: f1_score did not improve from 0.77662\n",
      "15/15 [==============================] - 22s 2s/step - loss: 1.7262 - rec@prec: 0.1120 - f1_score: 0.3695 - val_loss: 1.5055 - val_rec@prec: 0.2489 - val_f1_score: 0.4390\n",
      "Epoch 5/10\n",
      "15/15 [==============================] - ETA: 0s - loss: 1.4057 - rec@prec: 0.3203 - f1_score: 0.4909\n",
      "Epoch 5: f1_score did not improve from 0.77662\n",
      "15/15 [==============================] - 19s 1s/step - loss: 1.4057 - rec@prec: 0.3203 - f1_score: 0.4909 - val_loss: 1.3151 - val_rec@prec: 0.3886 - val_f1_score: 0.5122\n",
      "Epoch 6/10\n",
      "15/15 [==============================] - ETA: 0s - loss: 1.1514 - rec@prec: 0.5106 - f1_score: 0.5825\n",
      "Epoch 6: f1_score did not improve from 0.77662\n",
      "15/15 [==============================] - 16s 1s/step - loss: 1.1514 - rec@prec: 0.5106 - f1_score: 0.5825 - val_loss: 1.1830 - val_rec@prec: 0.4806 - val_f1_score: 0.5765\n",
      "Epoch 7/10\n",
      "15/15 [==============================] - ETA: 0s - loss: 0.9642 - rec@prec: 0.6206 - f1_score: 0.6614\n",
      "Epoch 7: f1_score did not improve from 0.77662\n",
      "15/15 [==============================] - 15s 1s/step - loss: 0.9642 - rec@prec: 0.6206 - f1_score: 0.6614 - val_loss: 1.1324 - val_rec@prec: 0.5271 - val_f1_score: 0.6234\n",
      "Epoch 8/10\n",
      "15/15 [==============================] - ETA: 0s - loss: 0.8074 - rec@prec: 0.7198 - f1_score: 0.7260\n",
      "Epoch 8: f1_score did not improve from 0.77662\n",
      "15/15 [==============================] - 15s 1s/step - loss: 0.8074 - rec@prec: 0.7198 - f1_score: 0.7260 - val_loss: 1.1081 - val_rec@prec: 0.5803 - val_f1_score: 0.6542\n",
      "Epoch 9/10\n",
      "15/15 [==============================] - ETA: 0s - loss: 0.6920 - rec@prec: 0.7914 - f1_score: 0.7755\n",
      "Epoch 9: f1_score did not improve from 0.77662\n",
      "15/15 [==============================] - 15s 1s/step - loss: 0.6920 - rec@prec: 0.7914 - f1_score: 0.7755 - val_loss: 1.1552 - val_rec@prec: 0.5681 - val_f1_score: 0.6563\n",
      "Epoch 10/10\n",
      "14/15 [===========================>..] - ETA: 1s - loss: 0.5988 - rec@prec: 0.8378 - f1_score: 0.8033\n",
      "Epoch 10: f1_score improved from 0.77662 to 0.80319, saving model to model.weights.h5\n",
      "15/15 [==============================] - 15s 1s/step - loss: 0.5988 - rec@prec: 0.8377 - f1_score: 0.8032 - val_loss: 1.2009 - val_rec@prec: 0.5839 - val_f1_score: 0.6654\n"
     ]
    },
    {
     "data": {
      "text/plain": [
       "<keras.src.callbacks.History at 0x7a6225c45090>"
      ]
     },
     "execution_count": 25,
     "metadata": {},
     "output_type": "execute_result"
    }
   ],
   "source": [
    "model2.fit(X_train, y_train, validation_data=(X_valid, y_valid), batch_size=3000, epochs=10, callbacks=[checkpoint, early_stop])"
   ]
  },
  {
   "cell_type": "code",
   "execution_count": 26,
   "id": "23c-CGQBnKrM",
   "metadata": {
    "colab": {
     "base_uri": "https://localhost:8080/",
     "height": 489
    },
    "id": "23c-CGQBnKrM",
    "outputId": "8887a436-3ddd-4860-e4ab-e36ce46656b6"
   },
   "outputs": [
    {
     "name": "stdout",
     "output_type": "stream",
     "text": [
      "dict_keys(['loss', 'rec@prec', 'f1_score', 'val_loss', 'val_rec@prec', 'val_f1_score'])\n"
     ]
    },
    {
     "data": {
      "image/png": "[encoded data removed]",
      "text/plain": [
       "<Figure size 640x480 with 1 Axes>"
      ]
     },
     "metadata": {},
     "output_type": "display_data"
    }
   ],
   "source": [
    "print(model2.history.history.keys())\n",
    "plt.plot(model2.history.history['rec@prec'])\n",
    "plt.plot(model2.history.history['val_rec@prec'])\n",
    "plt.plot(model2.history.history['f1_score'])\n",
    "plt.plot(model2.history.history['val_f1_score'])\n",
    "plt.title('model metrics')\n",
    "plt.ylabel('metric')\n",
    "plt.xlabel('epoch')\n",
    "plt.legend(['train', 'val',\n",
    "            'f1', 'val_f1'], loc='upper left')\n",
    "plt.show()"
   ]
  },
  {
   "cell_type": "code",
   "execution_count": 27,
   "id": "ozl_9q-4wEeE",
   "metadata": {
    "colab": {
     "base_uri": "https://localhost:8080/"
    },
    "id": "ozl_9q-4wEeE",
    "outputId": "f1bdb816-9abf-42f2-f12d-2cba2d53d088"
   },
   "outputs": [
    {
     "name": "stdout",
     "output_type": "stream",
     "text": [
      "Model: \"model_1\"\n",
      "_________________________________________________________________\n",
      " Layer (type)                Output Shape              Param #   \n",
      "=================================================================\n",
      " input_2 (InputLayer)        [(None, 200)]             0         \n",
      "                                                                 \n",
      " embedding_1 (Embedding)     (None, 200, 30)           722730    \n",
      "                                                                 \n",
      " conv1d_1 (Conv1D)           (None, 196, 32)           4832      \n",
      "                                                                 \n",
      " conv1d_2 (Conv1D)           (None, 64, 32)            5152      \n",
      "                                                                 \n",
      " average_pooling1d (Average  (None, 6, 32)             0         \n",
      " Pooling1D)                                                      \n",
      "                                                                 \n",
      " flatten_1 (Flatten)         (None, 192)               0         \n",
      "                                                                 \n",
      " dense_2 (Dense)             (None, 60)                11580     \n",
      "                                                                 \n",
      " dropout (Dropout)           (None, 60)                0         \n",
      "                                                                 \n",
      " dense_3 (Dense)             (None, 19)                1159      \n",
      "                                                                 \n",
      "=================================================================\n",
      "Total params: 745453 (2.84 MB)\n",
      "Trainable params: 745453 (2.84 MB)\n",
      "Non-trainable params: 0 (0.00 Byte)\n",
      "_________________________________________________________________\n"
     ]
    }
   ],
   "source": [
    "model2.summary()"
   ]
  },
  {
   "cell_type": "markdown",
   "id": "tPfqH5IlpSbf",
   "metadata": {
    "id": "tPfqH5IlpSbf"
   },
   "source": [
    "### Модель №3 - 15 слоёв"
   ]
  },
  {
   "cell_type": "code",
   "execution_count": 28,
   "id": "ebUenmm2pc5x",
   "metadata": {
    "id": "ebUenmm2pc5x"
   },
   "outputs": [],
   "source": [
    "inputs = keras.layers.Input(shape=(MAX_LEN,))\n",
    "embeddings = keras.layers.Embedding(input_dim=len(word2id), output_dim=300)(inputs, )\n",
    "\n",
    "convs = []\n",
    "\n",
    "for ks in [3,4,5,7,10]:\n",
    "  dropout1 = keras.layers.Dropout(0.2)(embeddings) #1\n",
    "  conv1 = keras.layers.Conv1D(kernel_size=2, filters=32, padding='same', strides=1)(dropout1) #2\n",
    "  pool1 = keras.layers.AveragePooling1D(pool_size=3, padding=\"same\")(conv1) #3\n",
    "  conv2 = keras.layers.Conv1D(kernel_size=3, filters=32, padding='same', strides=1)(pool1) #4\n",
    "  pool2 = keras.layers.AveragePooling1D(pool_size=5, padding=\"same\")(conv2) #5\n",
    "  conv3 = keras.layers.Conv1D(kernel_size=4, filters=32, padding='same', strides=1, kernel_regularizer='l2', activation='relu')(pool2) #6\n",
    "  pool3 = keras.layers.AveragePooling1D(pool_size=7, padding=\"same\")(conv3) #7\n",
    "  dropout2 = keras.layers.Dropout(0.6)(pool3) #8\n",
    "  dense1 = keras.layers.Dense(40,  activation='relu', kernel_regularizer='l2')(dropout2) #9\n",
    "\n",
    "  convs.append(dense1)\n",
    "\n",
    "concat = keras.layers.concatenate(convs, axis=2)\n",
    "conv4 = keras.layers.Conv1D(kernel_size=3, filters=32, strides=1, padding=\"same\")(concat) #10\n",
    "pool4 = keras.layers.AveragePooling1D(pool_size=4, padding=\"same\")(conv4) #11\n",
    "\n",
    "dropout3 = keras.layers.Dropout(0.1)(pool4) #12\n",
    "mean = keras.layers.Flatten()(dropout3) #13\n",
    "\n",
    "dense2 = keras.layers.Dense(60, activation='relu', kernel_regularizer='l2')(mean) #14\n",
    "dropout4 = keras.layers.Dropout(0.3)(dense2) #15\n",
    "\n",
    "\n",
    "outputs = keras.layers.Dense(len(label2id), activation='softmax')(dropout4)\n",
    "\n",
    "\n",
    "model3 = keras.Model(inputs=inputs, outputs=outputs)\n",
    "optimizer = keras.optimizers.Adam(learning_rate=0.005)\n",
    "model3.compile(optimizer=optimizer, loss='categorical_crossentropy', metrics=[keras.metrics.RecallAtPrecision(0.8, name='rec@prec'), keras.metrics.F1Score(average=\"weighted\")])"
   ]
  },
  {
   "cell_type": "code",
   "execution_count": 29,
   "id": "9u4CEGIWv1lT",
   "metadata": {
    "colab": {
     "base_uri": "https://localhost:8080/"
    },
    "id": "9u4CEGIWv1lT",
    "outputId": "573f176a-f704-4d7d-dae0-e7af47b55fd1"
   },
   "outputs": [
    {
     "name": "stdout",
     "output_type": "stream",
     "text": [
      "Epoch 1/15\n",
      "22/22 [==============================] - ETA: 0s - loss: 4.4560 - rec@prec: 0.0000e+00 - f1_score: 0.1298 \n",
      "Epoch 1: f1_score did not improve from 0.80319\n",
      "22/22 [==============================] - 394s 18s/step - loss: 4.4560 - rec@prec: 0.0000e+00 - f1_score: 0.1298 - val_loss: 2.8974 - val_rec@prec: 0.0000e+00 - val_f1_score: 0.0955\n",
      "Epoch 2/15\n",
      "22/22 [==============================] - ETA: 0s - loss: 2.3820 - rec@prec: 0.0169 - f1_score: 0.2252 \n",
      "Epoch 2: f1_score did not improve from 0.80319\n",
      "22/22 [==============================] - 390s 18s/step - loss: 2.3820 - rec@prec: 0.0169 - f1_score: 0.2252 - val_loss: 1.8784 - val_rec@prec: 0.0987 - val_f1_score: 0.3093\n",
      "Epoch 3/15\n",
      "22/22 [==============================] - ETA: 0s - loss: 1.6398 - rec@prec: 0.2218 - f1_score: 0.4119 \n",
      "Epoch 3: f1_score did not improve from 0.80319\n",
      "22/22 [==============================] - 384s 17s/step - loss: 1.6398 - rec@prec: 0.2218 - f1_score: 0.4119 - val_loss: 1.4928 - val_rec@prec: 0.3724 - val_f1_score: 0.4781\n",
      "Epoch 4/15\n",
      "22/22 [==============================] - ETA: 0s - loss: 1.2645 - rec@prec: 0.4950 - f1_score: 0.5647 \n",
      "Epoch 4: f1_score did not improve from 0.80319\n",
      "22/22 [==============================] - 389s 18s/step - loss: 1.2645 - rec@prec: 0.4950 - f1_score: 0.5647 - val_loss: 1.3766 - val_rec@prec: 0.4563 - val_f1_score: 0.5348\n",
      "Epoch 5/15\n",
      "22/22 [==============================] - ETA: 0s - loss: 1.0881 - rec@prec: 0.5958 - f1_score: 0.6308 \n",
      "Epoch 5: f1_score did not improve from 0.80319\n",
      "22/22 [==============================] - 395s 18s/step - loss: 1.0881 - rec@prec: 0.5958 - f1_score: 0.6308 - val_loss: 1.4211 - val_rec@prec: 0.4657 - val_f1_score: 0.5596\n",
      "Epoch 6/15\n",
      "22/22 [==============================] - ETA: 0s - loss: 0.9202 - rec@prec: 0.7010 - f1_score: 0.6994 \n",
      "Epoch 6: f1_score did not improve from 0.80319\n",
      "22/22 [==============================] - 389s 18s/step - loss: 0.9202 - rec@prec: 0.7010 - f1_score: 0.6994 - val_loss: 1.2783 - val_rec@prec: 0.5464 - val_f1_score: 0.6321\n",
      "Epoch 7/15\n",
      "22/22 [==============================] - ETA: 0s - loss: 0.7721 - rec@prec: 0.7772 - f1_score: 0.7513 \n",
      "Epoch 7: f1_score did not improve from 0.80319\n",
      "22/22 [==============================] - 387s 18s/step - loss: 0.7721 - rec@prec: 0.7772 - f1_score: 0.7513 - val_loss: 1.3356 - val_rec@prec: 0.5437 - val_f1_score: 0.6208\n",
      "Epoch 8/15\n",
      "22/22 [==============================] - ETA: 0s - loss: 0.6950 - rec@prec: 0.8106 - f1_score: 0.7740 \n",
      "Epoch 8: f1_score did not improve from 0.80319\n",
      "22/22 [==============================] - 388s 18s/step - loss: 0.6950 - rec@prec: 0.8106 - f1_score: 0.7740 - val_loss: 1.4408 - val_rec@prec: 0.5604 - val_f1_score: 0.6389\n",
      "Epoch 9/15\n",
      "22/22 [==============================] - ETA: 0s - loss: 0.5961 - rec@prec: 0.8504 - f1_score: 0.8031 \n",
      "Epoch 9: f1_score did not improve from 0.80319\n",
      "22/22 [==============================] - 388s 18s/step - loss: 0.5961 - rec@prec: 0.8504 - f1_score: 0.8031 - val_loss: 1.4198 - val_rec@prec: 0.5798 - val_f1_score: 0.6426\n",
      "Epoch 10/15\n",
      "22/22 [==============================] - ETA: 0s - loss: 0.5398 - rec@prec: 0.8794 - f1_score: 0.8281 \n",
      "Epoch 10: f1_score improved from 0.80319 to 0.82808, saving model to model.weights.h5\n",
      "22/22 [==============================] - 384s 17s/step - loss: 0.5398 - rec@prec: 0.8794 - f1_score: 0.8281 - val_loss: 1.5097 - val_rec@prec: 0.5663 - val_f1_score: 0.6415\n",
      "Epoch 11/15\n",
      "22/22 [==============================] - ETA: 0s - loss: 0.4906 - rec@prec: 0.9015 - f1_score: 0.8452 \n",
      "Epoch 11: f1_score improved from 0.82808 to 0.84518, saving model to model.weights.h5\n",
      "22/22 [==============================] - 401s 18s/step - loss: 0.4906 - rec@prec: 0.9015 - f1_score: 0.8452 - val_loss: 1.6371 - val_rec@prec: 0.5735 - val_f1_score: 0.6448\n",
      "Epoch 12/15\n",
      "22/22 [==============================] - ETA: 0s - loss: 0.4285 - rec@prec: 0.9253 - f1_score: 0.8677 \n",
      "Epoch 12: f1_score improved from 0.84518 to 0.86774, saving model to model.weights.h5\n",
      "22/22 [==============================] - 400s 18s/step - loss: 0.4285 - rec@prec: 0.9253 - f1_score: 0.8677 - val_loss: 1.8887 - val_rec@prec: 0.5550 - val_f1_score: 0.6476\n",
      "Epoch 13/15\n",
      "22/22 [==============================] - ETA: 0s - loss: 0.3865 - rec@prec: 0.9389 - f1_score: 0.8840 \n",
      "Epoch 13: f1_score improved from 0.86774 to 0.88399, saving model to model.weights.h5\n",
      "22/22 [==============================] - 391s 18s/step - loss: 0.3865 - rec@prec: 0.9389 - f1_score: 0.8840 - val_loss: 1.8617 - val_rec@prec: 0.5609 - val_f1_score: 0.6612\n",
      "Epoch 14/15\n",
      "22/22 [==============================] - ETA: 0s - loss: 0.3656 - rec@prec: 0.9480 - f1_score: 0.8925 \n",
      "Epoch 14: f1_score improved from 0.88399 to 0.89253, saving model to model.weights.h5\n",
      "22/22 [==============================] - 395s 18s/step - loss: 0.3656 - rec@prec: 0.9480 - f1_score: 0.8925 - val_loss: 2.0273 - val_rec@prec: 0.5397 - val_f1_score: 0.6553\n",
      "Epoch 15/15\n",
      "22/22 [==============================] - ETA: 0s - loss: 0.3458 - rec@prec: 0.9553 - f1_score: 0.9004 \n",
      "Epoch 15: f1_score improved from 0.89253 to 0.90039, saving model to model.weights.h5\n",
      "22/22 [==============================] - 394s 18s/step - loss: 0.3458 - rec@prec: 0.9553 - f1_score: 0.9004 - val_loss: 1.9904 - val_rec@prec: 0.5613 - val_f1_score: 0.6512\n"
     ]
    },
    {
     "data": {
      "text/plain": [
       "<keras.src.callbacks.History at 0x7a622513a410>"
      ]
     },
     "execution_count": 29,
     "metadata": {},
     "output_type": "execute_result"
    }
   ],
   "source": [
    "model3.fit(X_train, y_train, validation_data=(X_valid, y_valid), batch_size=2000, epochs=15, callbacks=[checkpoint, early_stop])"
   ]
  },
  {
   "cell_type": "code",
   "execution_count": 30,
   "id": "GUTXck5xwLpK",
   "metadata": {
    "colab": {
     "base_uri": "https://localhost:8080/",
     "height": 489
    },
    "id": "GUTXck5xwLpK",
    "outputId": "495dc3fd-8d87-429e-d39e-8fc8312d716d"
   },
   "outputs": [
    {
     "name": "stdout",
     "output_type": "stream",
     "text": [
      "dict_keys(['loss', 'rec@prec', 'f1_score', 'val_loss', 'val_rec@prec', 'val_f1_score'])\n"
     ]
    },
    {
     "data": {
      "image/png": "[encoded data removed]",
      "text/plain": [
       "<Figure size 640x480 with 1 Axes>"
      ]
     },
     "metadata": {},
     "output_type": "display_data"
    }
   ],
   "source": [
    "print(model3.history.history.keys())\n",
    "plt.plot(model3.history.history['rec@prec'])\n",
    "plt.plot(model3.history.history['val_rec@prec'])\n",
    "plt.plot(model3.history.history['f1_score'])\n",
    "plt.plot(model3.history.history['val_f1_score'])\n",
    "plt.title('model metrics')\n",
    "plt.ylabel('metric')\n",
    "plt.xlabel('epoch')\n",
    "plt.legend(['train', 'val',\n",
    "            'f1', 'val_f1'], loc='upper left')\n",
    "plt.show()"
   ]
  },
  {
   "cell_type": "code",
   "execution_count": 31,
   "id": "khgFaORoxM4M",
   "metadata": {
    "colab": {
     "base_uri": "https://localhost:8080/"
    },
    "id": "khgFaORoxM4M",
    "outputId": "6802ba2e-3074-4b37-d332-3b65b1a19482"
   },
   "outputs": [
    {
     "name": "stdout",
     "output_type": "stream",
     "text": [
      "Model: \"model_2\"\n",
      "__________________________________________________________________________________________________\n",
      " Layer (type)                Output Shape                 Param #   Connected to                  \n",
      "==================================================================================================\n",
      " input_3 (InputLayer)        [(None, 200)]                0         []                            \n",
      "                                                                                                  \n",
      " embedding_2 (Embedding)     (None, 200, 300)             7227300   ['input_3[0][0]']             \n",
      "                                                                                                  \n",
      " dropout_1 (Dropout)         (None, 200, 300)             0         ['embedding_2[0][0]']         \n",
      "                                                                                                  \n",
      " dropout_3 (Dropout)         (None, 200, 300)             0         ['embedding_2[0][0]']         \n",
      "                                                                                                  \n",
      " dropout_5 (Dropout)         (None, 200, 300)             0         ['embedding_2[0][0]']         \n",
      "                                                                                                  \n",
      " dropout_7 (Dropout)         (None, 200, 300)             0         ['embedding_2[0][0]']         \n",
      "                                                                                                  \n",
      " dropout_9 (Dropout)         (None, 200, 300)             0         ['embedding_2[0][0]']         \n",
      "                                                                                                  \n",
      " conv1d_3 (Conv1D)           (None, 200, 32)              19232     ['dropout_1[0][0]']           \n",
      "                                                                                                  \n",
      " conv1d_6 (Conv1D)           (None, 200, 32)              19232     ['dropout_3[0][0]']           \n",
      "                                                                                                  \n",
      " conv1d_9 (Conv1D)           (None, 200, 32)              19232     ['dropout_5[0][0]']           \n",
      "                                                                                                  \n",
      " conv1d_12 (Conv1D)          (None, 200, 32)              19232     ['dropout_7[0][0]']           \n",
      "                                                                                                  \n",
      " conv1d_15 (Conv1D)          (None, 200, 32)              19232     ['dropout_9[0][0]']           \n",
      "                                                                                                  \n",
      " average_pooling1d_1 (Avera  (None, 67, 32)               0         ['conv1d_3[0][0]']            \n",
      " gePooling1D)                                                                                     \n",
      "                                                                                                  \n",
      " average_pooling1d_4 (Avera  (None, 67, 32)               0         ['conv1d_6[0][0]']            \n",
      " gePooling1D)                                                                                     \n",
      "                                                                                                  \n",
      " average_pooling1d_7 (Avera  (None, 67, 32)               0         ['conv1d_9[0][0]']            \n",
      " gePooling1D)                                                                                     \n",
      "                                                                                                  \n",
      " average_pooling1d_10 (Aver  (None, 67, 32)               0         ['conv1d_12[0][0]']           \n",
      " agePooling1D)                                                                                    \n",
      "                                                                                                  \n",
      " average_pooling1d_13 (Aver  (None, 67, 32)               0         ['conv1d_15[0][0]']           \n",
      " agePooling1D)                                                                                    \n",
      "                                                                                                  \n",
      " conv1d_4 (Conv1D)           (None, 67, 32)               3104      ['average_pooling1d_1[0][0]'] \n",
      "                                                                                                  \n",
      " conv1d_7 (Conv1D)           (None, 67, 32)               3104      ['average_pooling1d_4[0][0]'] \n",
      "                                                                                                  \n",
      " conv1d_10 (Conv1D)          (None, 67, 32)               3104      ['average_pooling1d_7[0][0]'] \n",
      "                                                                                                  \n",
      " conv1d_13 (Conv1D)          (None, 67, 32)               3104      ['average_pooling1d_10[0][0]']\n",
      "                                                                                                  \n",
      " conv1d_16 (Conv1D)          (None, 67, 32)               3104      ['average_pooling1d_13[0][0]']\n",
      "                                                                                                  \n",
      " average_pooling1d_2 (Avera  (None, 14, 32)               0         ['conv1d_4[0][0]']            \n",
      " gePooling1D)                                                                                     \n",
      "                                                                                                  \n",
      " average_pooling1d_5 (Avera  (None, 14, 32)               0         ['conv1d_7[0][0]']            \n",
      " gePooling1D)                                                                                     \n",
      "                                                                                                  \n",
      " average_pooling1d_8 (Avera  (None, 14, 32)               0         ['conv1d_10[0][0]']           \n",
      " gePooling1D)                                                                                     \n",
      "                                                                                                  \n",
      " average_pooling1d_11 (Aver  (None, 14, 32)               0         ['conv1d_13[0][0]']           \n",
      " agePooling1D)                                                                                    \n",
      "                                                                                                  \n",
      " average_pooling1d_14 (Aver  (None, 14, 32)               0         ['conv1d_16[0][0]']           \n",
      " agePooling1D)                                                                                    \n",
      "                                                                                                  \n",
      " conv1d_5 (Conv1D)           (None, 14, 32)               4128      ['average_pooling1d_2[0][0]'] \n",
      "                                                                                                  \n",
      " conv1d_8 (Conv1D)           (None, 14, 32)               4128      ['average_pooling1d_5[0][0]'] \n",
      "                                                                                                  \n",
      " conv1d_11 (Conv1D)          (None, 14, 32)               4128      ['average_pooling1d_8[0][0]'] \n",
      "                                                                                                  \n",
      " conv1d_14 (Conv1D)          (None, 14, 32)               4128      ['average_pooling1d_11[0][0]']\n",
      "                                                                                                  \n",
      " conv1d_17 (Conv1D)          (None, 14, 32)               4128      ['average_pooling1d_14[0][0]']\n",
      "                                                                                                  \n",
      " average_pooling1d_3 (Avera  (None, 2, 32)                0         ['conv1d_5[0][0]']            \n",
      " gePooling1D)                                                                                     \n",
      "                                                                                                  \n",
      " average_pooling1d_6 (Avera  (None, 2, 32)                0         ['conv1d_8[0][0]']            \n",
      " gePooling1D)                                                                                     \n",
      "                                                                                                  \n",
      " average_pooling1d_9 (Avera  (None, 2, 32)                0         ['conv1d_11[0][0]']           \n",
      " gePooling1D)                                                                                     \n",
      "                                                                                                  \n",
      " average_pooling1d_12 (Aver  (None, 2, 32)                0         ['conv1d_14[0][0]']           \n",
      " agePooling1D)                                                                                    \n",
      "                                                                                                  \n",
      " average_pooling1d_15 (Aver  (None, 2, 32)                0         ['conv1d_17[0][0]']           \n",
      " agePooling1D)                                                                                    \n",
      "                                                                                                  \n",
      " dropout_2 (Dropout)         (None, 2, 32)                0         ['average_pooling1d_3[0][0]'] \n",
      "                                                                                                  \n",
      " dropout_4 (Dropout)         (None, 2, 32)                0         ['average_pooling1d_6[0][0]'] \n",
      "                                                                                                  \n",
      " dropout_6 (Dropout)         (None, 2, 32)                0         ['average_pooling1d_9[0][0]'] \n",
      "                                                                                                  \n",
      " dropout_8 (Dropout)         (None, 2, 32)                0         ['average_pooling1d_12[0][0]']\n",
      "                                                                                                  \n",
      " dropout_10 (Dropout)        (None, 2, 32)                0         ['average_pooling1d_15[0][0]']\n",
      "                                                                                                  \n",
      " dense_4 (Dense)             (None, 2, 40)                1320      ['dropout_2[0][0]']           \n",
      "                                                                                                  \n",
      " dense_5 (Dense)             (None, 2, 40)                1320      ['dropout_4[0][0]']           \n",
      "                                                                                                  \n",
      " dense_6 (Dense)             (None, 2, 40)                1320      ['dropout_6[0][0]']           \n",
      "                                                                                                  \n",
      " dense_7 (Dense)             (None, 2, 40)                1320      ['dropout_8[0][0]']           \n",
      "                                                                                                  \n",
      " dense_8 (Dense)             (None, 2, 40)                1320      ['dropout_10[0][0]']          \n",
      "                                                                                                  \n",
      " concatenate (Concatenate)   (None, 2, 200)               0         ['dense_4[0][0]',             \n",
      "                                                                     'dense_5[0][0]',             \n",
      "                                                                     'dense_6[0][0]',             \n",
      "                                                                     'dense_7[0][0]',             \n",
      "                                                                     'dense_8[0][0]']             \n",
      "                                                                                                  \n",
      " conv1d_18 (Conv1D)          (None, 2, 32)                19232     ['concatenate[0][0]']         \n",
      "                                                                                                  \n",
      " average_pooling1d_16 (Aver  (None, 1, 32)                0         ['conv1d_18[0][0]']           \n",
      " agePooling1D)                                                                                    \n",
      "                                                                                                  \n",
      " dropout_11 (Dropout)        (None, 1, 32)                0         ['average_pooling1d_16[0][0]']\n",
      "                                                                                                  \n",
      " flatten_2 (Flatten)         (None, 32)                   0         ['dropout_11[0][0]']          \n",
      "                                                                                                  \n",
      " dense_9 (Dense)             (None, 60)                   1980      ['flatten_2[0][0]']           \n",
      "                                                                                                  \n",
      " dropout_12 (Dropout)        (None, 60)                   0         ['dense_9[0][0]']             \n",
      "                                                                                                  \n",
      " dense_10 (Dense)            (None, 19)                   1159      ['dropout_12[0][0]']          \n",
      "                                                                                                  \n",
      "==================================================================================================\n",
      "Total params: 7388591 (28.19 MB)\n",
      "Trainable params: 7388591 (28.19 MB)\n",
      "Non-trainable params: 0 (0.00 Byte)\n",
      "__________________________________________________________________________________________________\n"
     ]
    }
   ],
   "source": [
    "model3.summary()"
   ]
  }
 ],
 "metadata": {
  "colab": {
   "provenance": []
  },
  "kernelspec": {
   "display_name": "Python 3 (ipykernel)",
   "language": "python",
   "name": "python3"
  },
  "language_info": {
   "codemirror_mode": {
    "name": "ipython",
    "version": 3
   },
   "file_extension": ".py",
   "mimetype": "text/x-python",
   "name": "python",
   "nbconvert_exporter": "python",
   "pygments_lexer": "ipython3",
   "version": "3.11.4"
  }
 },
 "nbformat": 4,
 "nbformat_minor": 5
}
