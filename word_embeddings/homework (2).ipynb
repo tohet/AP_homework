{
 "cells": [
  {
   "cell_type": "markdown",
   "id": "a98604cb",
   "metadata": {},
   "source": [
    "Домашку будет легче делать в колабе (убедитесь, что у вас runtype с gpu)."
   ]
  },
  {
   "cell_type": "markdown",
   "id": "9c422aa0",
   "metadata": {},
   "source": [
    "# Задание 1 (3 балла)"
   ]
  },
  {
   "cell_type": "code",
   "execution_count": 185,
   "id": "4070af01",
   "metadata": {},
   "outputs": [],
   "source": [
    "import tensorflow as tf\n",
    "import numpy as np\n",
    "import pandas as pd\n",
    "from string import punctuation\n",
    "from sklearn.model_selection import train_test_split\n",
    "from collections import Counter\n",
    "import matplotlib.pyplot as plt\n",
    "from sklearn.decomposition import TruncatedSVD\n",
    "from sklearn.feature_extraction.text import CountVectorizer\n",
    "from sklearn.metrics.pairwise import cosine_distances\n",
    "\n",
    "from IPython.display import Image\n",
    "from IPython.core.display import HTML \n",
    "%matplotlib inline\n",
    "\n",
    "from razdel import tokenize as rzd_tokenize\n",
    "from nltk.stem import WordNetLemmatizer\n",
    "import nltk\n",
    "import gensim\n",
    "from pymystem3 import Mystem"
   ]
  },
  {
   "cell_type": "markdown",
   "id": "e4a72790",
   "metadata": {},
   "source": [
    "Обучите word2vec модели с негативным семплированием (cbow и skip-gram) с помощью tensorflow аналогично тому, как это было сделано в семинаре. Вам нужно изменить следующие пункты: \n",
    "1) добавьте лемматизацию в предобработку (любым способом)  \n",
    "2) измените размер окна в большую или меньшую сторону\n",
    "3) измените размерность итоговых векторов\n",
    "\n",
    "Выберете несколько не похожих по смыслу слов (не таких как в семинаре), и протестируйте полученные эмбединги (найдите ближайшие слова и оцените качество, как в семинаре). \n",
    "Постарайтесь обучать модели как можно дольше и на как можно большем количестве данных. (Но если у вас мало времени или ресурсов, то допустимо взять поменьше данных и поставить меньше эпох)"
   ]
  },
  {
   "cell_type": "code",
   "execution_count": 2,
   "id": "cde5fd96",
   "metadata": {},
   "outputs": [],
   "source": [
    "with open('wiki_data.txt', 'r', encoding='utf-8') as fil:\n",
    "    wiki = fil.read().split('\\n')"
   ]
  },
  {
   "cell_type": "code",
   "execution_count": 3,
   "id": "4f71d7cb",
   "metadata": {},
   "outputs": [],
   "source": [
    "cv = CountVectorizer(max_features=10000)\n",
    "svd = TruncatedSVD(200)\n",
    "\n",
    "X = cv.fit_transform(wiki)\n",
    "X_svd = svd.fit_transform(X)\n",
    "embeddings = svd.components_.T"
   ]
  },
  {
   "cell_type": "code",
   "execution_count": 4,
   "id": "ebe24f60",
   "metadata": {},
   "outputs": [],
   "source": [
    "id2word = cv.get_feature_names_out()\n",
    "word2id = {word:i for i,word in enumerate(id2word)}"
   ]
  },
  {
   "cell_type": "markdown",
   "id": "32285008",
   "metadata": {},
   "source": [
    "#### Добавил лемматизацию в preprocess() при помощи WordNetLemmatizer()"
   ]
  },
  {
   "cell_type": "code",
   "execution_count": 5,
   "id": "14abe18b",
   "metadata": {},
   "outputs": [],
   "source": [
    "import re\n",
    "lemmatizer = WordNetLemmatizer()\n",
    "def preprocess(text):\n",
    "    tokens = re.sub('#+', ' ', text.lower()).split()\n",
    "    tokens = [token.strip(punctuation) for token in tokens]\n",
    "    \n",
    "    tokens = [lemmatizer.lemmatize(token) for token in tokens]\n",
    "    \n",
    "    tokens = [token for token in tokens if token]\n",
    "    return tokens"
   ]
  },
  {
   "cell_type": "code",
   "execution_count": 6,
   "id": "b508d167",
   "metadata": {},
   "outputs": [],
   "source": [
    "vocab = Counter()\n",
    "\n",
    "for text in wiki:\n",
    "    vocab.update(preprocess(text))"
   ]
  },
  {
   "cell_type": "code",
   "execution_count": 7,
   "id": "01dd7730",
   "metadata": {},
   "outputs": [
    {
     "data": {
      "text/plain": [
       "443187"
      ]
     },
     "execution_count": 7,
     "metadata": {},
     "output_type": "execute_result"
    }
   ],
   "source": [
    "len(vocab)"
   ]
  },
  {
   "cell_type": "code",
   "execution_count": 8,
   "id": "bfc88afb",
   "metadata": {},
   "outputs": [],
   "source": [
    "filtered_vocab = set()\n",
    "\n",
    "for word in vocab:\n",
    "    if vocab[word] > 30:\n",
    "        filtered_vocab.add(word)"
   ]
  },
  {
   "cell_type": "code",
   "execution_count": 9,
   "id": "f784d38e",
   "metadata": {},
   "outputs": [
    {
     "data": {
      "text/plain": [
       "17032"
      ]
     },
     "execution_count": 9,
     "metadata": {},
     "output_type": "execute_result"
    }
   ],
   "source": [
    "len(filtered_vocab)"
   ]
  },
  {
   "cell_type": "code",
   "execution_count": 10,
   "id": "0581baa9",
   "metadata": {},
   "outputs": [],
   "source": [
    "word2id = {'PAD':0}\n",
    "\n",
    "for word in filtered_vocab:\n",
    "    word2id[word] = len(word2id)\n",
    "\n",
    "id2word = {i:word for word, i in word2id.items()}"
   ]
  },
  {
   "cell_type": "code",
   "execution_count": 11,
   "id": "26b07193",
   "metadata": {},
   "outputs": [],
   "source": [
    "sentences = []\n",
    "\n",
    "for text in wiki:\n",
    "    tokens = preprocess(text)\n",
    "    if not tokens:\n",
    "        continue\n",
    "    ids = [word2id[token] for token in tokens if token in word2id]\n",
    "    sentences.append(ids)"
   ]
  },
  {
   "cell_type": "code",
   "execution_count": 12,
   "id": "b859fe6b",
   "metadata": {},
   "outputs": [],
   "source": [
    "vocab_size = len(id2word)"
   ]
  },
  {
   "cell_type": "markdown",
   "id": "ff8d1dbc",
   "metadata": {},
   "source": [
    "#### В этом задании я тренировал 4 модели: 2 с негативным семплированием и 2 без него. Было интересно посмотреть на различия"
   ]
  },
  {
   "cell_type": "markdown",
   "id": "a973179d",
   "metadata": {},
   "source": [
    "## Без негативного семплирования - ради интереса"
   ]
  },
  {
   "cell_type": "code",
   "execution_count": 13,
   "id": "005b7ec9",
   "metadata": {},
   "outputs": [],
   "source": [
    "# skip gram\n",
    "X = []\n",
    "y = []\n",
    "\n",
    "window = 10\n",
    "for sent in sentences[:700]:\n",
    "    for i in range(len(sent)-1):\n",
    "        word = sent[i] # target\n",
    "        context = sent[max(0, i-window):i] + sent[i+1:i+window]  # context (слова до и после целевого)\n",
    "        # в начале и в конце окно будет неполным, но это не страшно\n",
    "\n",
    "        for context_word in context:\n",
    "            X.append(word)\n",
    "            y.append(context_word)"
   ]
  },
  {
   "cell_type": "code",
   "execution_count": 14,
   "id": "d83786e4",
   "metadata": {},
   "outputs": [
    {
     "data": {
      "text/plain": [
       "(6562, 3491)"
      ]
     },
     "execution_count": 14,
     "metadata": {},
     "output_type": "execute_result"
    }
   ],
   "source": [
    "X[1],y[1]"
   ]
  },
  {
   "cell_type": "code",
   "execution_count": 15,
   "id": "598bb021",
   "metadata": {},
   "outputs": [
    {
     "data": {
      "text/plain": [
       "(2277856, 2277856)"
      ]
     },
     "execution_count": 15,
     "metadata": {},
     "output_type": "execute_result"
    }
   ],
   "source": [
    "len(X),len(y)"
   ]
  },
  {
   "cell_type": "code",
   "execution_count": 16,
   "id": "6f2b3b71",
   "metadata": {},
   "outputs": [],
   "source": [
    "X_train, X_valid, y_train, y_valid = train_test_split(X, y, test_size=0.05)"
   ]
  },
  {
   "cell_type": "code",
   "execution_count": 17,
   "id": "a4c96aae",
   "metadata": {},
   "outputs": [],
   "source": [
    "model_sg = tf.keras.Sequential()\n",
    "model_sg.add(tf.keras.layers.Embedding(input_dim=len(word2id), input_length=1, output_dim=70))\n",
    "model_sg.add(tf.keras.layers.Flatten())\n",
    "model_sg.add(tf.keras.layers.Dense(len(word2id), activation='softmax'))\n",
    "model_sg.compile(optimizer=tf.keras.optimizers.Adam(),loss='sparse_categorical_crossentropy')"
   ]
  },
  {
   "cell_type": "code",
   "execution_count": 18,
   "id": "9b1bdbc4",
   "metadata": {},
   "outputs": [
    {
     "name": "stdout",
     "output_type": "stream",
     "text": [
      "Model: \"sequential\"\n",
      "_________________________________________________________________\n",
      " Layer (type)                Output Shape              Param #   \n",
      "=================================================================\n",
      " embedding (Embedding)       (None, 1, 70)             1192310   \n",
      "                                                                 \n",
      " flatten (Flatten)           (None, 70)                0         \n",
      "                                                                 \n",
      " dense (Dense)               (None, 17033)             1209343   \n",
      "                                                                 \n",
      "=================================================================\n",
      "Total params: 2401653 (9.16 MB)\n",
      "Trainable params: 2401653 (9.16 MB)\n",
      "Non-trainable params: 0 (0.00 Byte)\n",
      "_________________________________________________________________\n",
      "None\n"
     ]
    }
   ],
   "source": [
    "print(model_sg.summary())"
   ]
  },
  {
   "cell_type": "code",
   "execution_count": 19,
   "id": "d056eb9d",
   "metadata": {},
   "outputs": [
    {
     "name": "stdout",
     "output_type": "stream",
     "text": [
      "Epoch 1/4\n",
      "3092/3092 [==============================] - 628s 200ms/step - loss: 7.7260 - val_loss: 7.4667\n",
      "Epoch 2/4\n",
      "3092/3092 [==============================] - 592s 191ms/step - loss: 7.3714 - val_loss: 7.3112\n",
      "Epoch 3/4\n",
      "3092/3092 [==============================] - 768s 248ms/step - loss: 7.2128 - val_loss: 7.1860\n",
      "Epoch 4/4\n",
      "3092/3092 [==============================] - 863s 279ms/step - loss: 7.0676 - val_loss: 7.0852\n"
     ]
    },
    {
     "data": {
      "text/plain": [
       "<keras.src.callbacks.History at 0x1dc41522550>"
      ]
     },
     "execution_count": 19,
     "metadata": {},
     "output_type": "execute_result"
    }
   ],
   "source": [
    "model_sg.fit(X_train, y_train, validation_data=(X_valid, y_valid),batch_size=700, epochs=4)"
   ]
  },
  {
   "cell_type": "code",
   "execution_count": 20,
   "id": "7db68535",
   "metadata": {
    "scrolled": false
   },
   "outputs": [
    {
     "name": "stdout",
     "output_type": "stream",
     "text": [
      "dict_keys(['loss', 'val_loss'])\n"
     ]
    },
    {
     "data": {
      "image/png": "[encoded data removed]",
      "text/plain": [
       "<Figure size 640x480 with 1 Axes>"
      ]
     },
     "metadata": {},
     "output_type": "display_data"
    }
   ],
   "source": [
    "print(model_sg.history.history.keys())\n",
    "# summarize history for accuracy\n",
    "plt.plot(model_sg.history.history['loss'])\n",
    "plt.plot(model_sg.history.history['val_loss'])\n",
    "plt.title('model loss')\n",
    "plt.ylabel('loss')\n",
    "plt.xlabel('epoch')\n",
    "plt.legend(['train', 'val'], loc='upper left')\n",
    "plt.show()"
   ]
  },
  {
   "cell_type": "code",
   "execution_count": 21,
   "id": "946e8a02",
   "metadata": {},
   "outputs": [],
   "source": [
    "embeddings_1_sg = model_sg.layers[0].get_weights()[0]\n",
    "embeddings_2_sg = model_sg.layers[2].get_weights()[0].T"
   ]
  },
  {
   "cell_type": "code",
   "execution_count": 22,
   "id": "40bcad01",
   "metadata": {},
   "outputs": [],
   "source": [
    "embeddings_sg = np.mean([embeddings_1_sg, embeddings_2_sg], axis=0)"
   ]
  },
  {
   "cell_type": "code",
   "execution_count": 23,
   "id": "6390b789",
   "metadata": {},
   "outputs": [],
   "source": [
    "def most_similar(word, embeddings):\n",
    "    similar = [id2word[i] for i in \n",
    "               cosine_distances(embeddings[word2id[word]].reshape(1, -1), embeddings).argsort()[0][:10]]\n",
    "    return similar"
   ]
  },
  {
   "cell_type": "code",
   "execution_count": 24,
   "id": "9e45836a",
   "metadata": {},
   "outputs": [
    {
     "data": {
      "text/plain": [
       "16566"
      ]
     },
     "execution_count": 24,
     "metadata": {},
     "output_type": "execute_result"
    }
   ],
   "source": [
    "word2id['космос']"
   ]
  },
  {
   "cell_type": "code",
   "execution_count": 25,
   "id": "087d630f",
   "metadata": {},
   "outputs": [
    {
     "data": {
      "text/plain": [
       "['дорога',\n",
       " 'автомобильная',\n",
       " 'железная',\n",
       " 'проходит',\n",
       " 'пересыхающий',\n",
       " 'ручей',\n",
       " 'дальше',\n",
       " 'пгт',\n",
       " 'соединяет',\n",
       " 'лесами']"
      ]
     },
     "execution_count": 25,
     "metadata": {},
     "output_type": "execute_result"
    }
   ],
   "source": [
    "most_similar('дорога', embeddings_sg)"
   ]
  },
  {
   "cell_type": "code",
   "execution_count": 26,
   "id": "b35d9172",
   "metadata": {},
   "outputs": [
    {
     "data": {
      "text/plain": [
       "['космос',\n",
       " 'бомбардиром',\n",
       " 'аренды',\n",
       " '2005/06',\n",
       " 'чемпионский',\n",
       " 'мяч',\n",
       " 'трофей',\n",
       " 'проведённых',\n",
       " 'текущего',\n",
       " '78']"
      ]
     },
     "execution_count": 26,
     "metadata": {},
     "output_type": "execute_result"
    }
   ],
   "source": [
    "most_similar('космос', embeddings_sg)"
   ]
  },
  {
   "cell_type": "code",
   "execution_count": 27,
   "id": "dc1d57ba",
   "metadata": {
    "scrolled": true
   },
   "outputs": [
    {
     "data": {
      "text/plain": [
       "['писатель',\n",
       " 'поэт',\n",
       " 'родился',\n",
       " 'русский',\n",
       " 'народный',\n",
       " 'актёр',\n",
       " 'почётный',\n",
       " 'продюсер',\n",
       " 'сценарист',\n",
       " 'осло']"
      ]
     },
     "execution_count": 27,
     "metadata": {},
     "output_type": "execute_result"
    }
   ],
   "source": [
    "most_similar('писатель', embeddings_sg)"
   ]
  },
  {
   "cell_type": "code",
   "execution_count": 28,
   "id": "b174a6ff",
   "metadata": {},
   "outputs": [],
   "source": [
    "#cbow\n",
    "X = []\n",
    "y = []\n",
    "\n",
    "window = 7\n",
    "for sent in sentences[:5000]:\n",
    "    for i in range(len(sent)-1):\n",
    "        word = sent[i]\n",
    "        context = sent[max(0, i-window):i] + sent[i+1:i+window]\n",
    "        \n",
    "        X.append(context)\n",
    "        y.append(word)"
   ]
  },
  {
   "cell_type": "code",
   "execution_count": 29,
   "id": "cf1f7f0f",
   "metadata": {},
   "outputs": [],
   "source": [
    "X = tf.keras.preprocessing.sequence.pad_sequences(X, maxlen=10, padding='post')\n",
    "y = np.array(y)"
   ]
  },
  {
   "cell_type": "code",
   "execution_count": 30,
   "id": "2a232a8d",
   "metadata": {},
   "outputs": [],
   "source": [
    "X_train, X_valid, y_train, y_valid = train_test_split(X, y, test_size=0.05)"
   ]
  },
  {
   "cell_type": "code",
   "execution_count": 31,
   "id": "14b9c608",
   "metadata": {},
   "outputs": [
    {
     "name": "stderr",
     "output_type": "stream",
     "text": [
      "WARNING:absl:`lr` is deprecated in Keras optimizer, please use `learning_rate` or use the legacy optimizer, e.g.,tf.keras.optimizers.legacy.Adam.\n"
     ]
    }
   ],
   "source": [
    "model_cbow = tf.keras.Sequential()\n",
    "\n",
    "# 1 отличие - то что на вход подается не 1 слово а целое окно контекста\n",
    "# но на уровне embedding слоя нужно изменить только input_length\n",
    "# она будет равна числу до которого мы делали паддинг\n",
    "model_cbow.add(tf.keras.layers.Embedding(input_dim=len(word2id), input_length=10, output_dim=50))\n",
    "\n",
    "# 2 отличие - нужно усреднить контекст в 1 вектор\n",
    "model_cbow.add(tf.keras.layers.Lambda(lambda x: tf.keras.backend.sum(x, axis=1)))\n",
    "\n",
    "model_cbow.add(tf.keras.layers.Dense(len(word2id), activation='softmax'))\n",
    "model_cbow.compile(optimizer=tf.keras.optimizers.Adam(lr=0.001), loss='sparse_categorical_crossentropy')"
   ]
  },
  {
   "cell_type": "code",
   "execution_count": 32,
   "id": "4420eb1c",
   "metadata": {
    "scrolled": true
   },
   "outputs": [
    {
     "name": "stdout",
     "output_type": "stream",
     "text": [
      "Model: \"sequential_1\"\n",
      "_________________________________________________________________\n",
      " Layer (type)                Output Shape              Param #   \n",
      "=================================================================\n",
      " embedding_1 (Embedding)     (None, 10, 50)            851650    \n",
      "                                                                 \n",
      " lambda (Lambda)             (None, 50)                0         \n",
      "                                                                 \n",
      " dense_1 (Dense)             (None, 17033)             868683    \n",
      "                                                                 \n",
      "=================================================================\n",
      "Total params: 1720333 (6.56 MB)\n",
      "Trainable params: 1720333 (6.56 MB)\n",
      "Non-trainable params: 0 (0.00 Byte)\n",
      "_________________________________________________________________\n",
      "None\n"
     ]
    }
   ],
   "source": [
    "print(model_cbow.summary())"
   ]
  },
  {
   "cell_type": "code",
   "execution_count": 33,
   "id": "b155d0df",
   "metadata": {
    "scrolled": true
   },
   "outputs": [
    {
     "name": "stdout",
     "output_type": "stream",
     "text": [
      "Epoch 1/4\n",
      "916/916 [==============================] - 237s 257ms/step - loss: 7.7051 - val_loss: 7.2858\n",
      "Epoch 2/4\n",
      "916/916 [==============================] - 217s 237ms/step - loss: 6.9986 - val_loss: 6.8377\n",
      "Epoch 3/4\n",
      "916/916 [==============================] - 220s 240ms/step - loss: 6.5689 - val_loss: 6.5602\n",
      "Epoch 4/4\n",
      "916/916 [==============================] - 221s 241ms/step - loss: 6.2583 - val_loss: 6.3919\n"
     ]
    },
    {
     "data": {
      "text/plain": [
       "<keras.src.callbacks.History at 0x1dc312bd150>"
      ]
     },
     "execution_count": 33,
     "metadata": {},
     "output_type": "execute_result"
    }
   ],
   "source": [
    "model_cbow.fit(X_train, y_train, validation_data=(X_valid, y_valid), batch_size=1000,epochs=4)"
   ]
  },
  {
   "cell_type": "code",
   "execution_count": 34,
   "id": "b76a3ca3",
   "metadata": {
    "scrolled": false
   },
   "outputs": [
    {
     "name": "stdout",
     "output_type": "stream",
     "text": [
      "dict_keys(['loss', 'val_loss'])\n"
     ]
    },
    {
     "data": {
      "image/png": "[encoded data removed]",
      "text/plain": [
       "<Figure size 640x480 with 1 Axes>"
      ]
     },
     "metadata": {},
     "output_type": "display_data"
    }
   ],
   "source": [
    "print(model_cbow.history.history.keys())\n",
    "# summarize history for accuracy\n",
    "plt.plot(model_cbow.history.history['loss'])\n",
    "plt.plot(model_cbow.history.history['val_loss'])\n",
    "plt.title('model loss')\n",
    "plt.ylabel('loss')\n",
    "plt.xlabel('epoch')\n",
    "plt.legend(['train', 'val'], loc='upper left')\n",
    "plt.show()"
   ]
  },
  {
   "cell_type": "code",
   "execution_count": 35,
   "id": "a6169160",
   "metadata": {},
   "outputs": [],
   "source": [
    "embeddings_1_cbow = model_cbow.layers[0].get_weights()[0]\n",
    "embeddings_2_cbow = model_cbow.layers[2].get_weights()[0].T\n",
    "embeddings_cbow = np.mean([embeddings_1_cbow, embeddings_2_cbow], axis=0)"
   ]
  },
  {
   "cell_type": "code",
   "execution_count": 36,
   "id": "60b211ba",
   "metadata": {
    "scrolled": true
   },
   "outputs": [
    {
     "data": {
      "text/plain": [
       "['дорога',\n",
       " 'железная',\n",
       " 'автомобильная',\n",
       " 'проходит',\n",
       " 'автодорога',\n",
       " 'рядом',\n",
       " 'проходят',\n",
       " 'трасса',\n",
       " 'региональная',\n",
       " 'станция']"
      ]
     },
     "execution_count": 36,
     "metadata": {},
     "output_type": "execute_result"
    }
   ],
   "source": [
    "most_similar('дорога', embeddings_cbow)"
   ]
  },
  {
   "cell_type": "code",
   "execution_count": 37,
   "id": "273b4187",
   "metadata": {},
   "outputs": [
    {
     "data": {
      "text/plain": [
       "['космос',\n",
       " 'эфир',\n",
       " 'парный',\n",
       " 'заменил',\n",
       " 'ролях',\n",
       " 'вышел',\n",
       " 'стэнли',\n",
       " 'британии',\n",
       " 'третий',\n",
       " 'премьер-лиге']"
      ]
     },
     "execution_count": 37,
     "metadata": {},
     "output_type": "execute_result"
    }
   ],
   "source": [
    "most_similar('космос', embeddings_cbow)"
   ]
  },
  {
   "cell_type": "code",
   "execution_count": 38,
   "id": "8ad6a899",
   "metadata": {
    "scrolled": true
   },
   "outputs": [
    {
     "data": {
      "text/plain": [
       "['писатель',\n",
       " 'педагог',\n",
       " 'публицист',\n",
       " 'драматург',\n",
       " 'поэт',\n",
       " 'учёный',\n",
       " 'переводчик',\n",
       " 'философ',\n",
       " 'критик',\n",
       " 'историк']"
      ]
     },
     "execution_count": 38,
     "metadata": {},
     "output_type": "execute_result"
    }
   ],
   "source": [
    "most_similar('писатель', embeddings_cbow)"
   ]
  },
  {
   "cell_type": "markdown",
   "id": "3c859697",
   "metadata": {},
   "source": [
    "## С негативным семплированием"
   ]
  },
  {
   "cell_type": "code",
   "execution_count": 39,
   "id": "265a81e2",
   "metadata": {},
   "outputs": [],
   "source": [
    "# skip gram\n",
    "def gen_batches_sg(sentences, window = 7, batch_size=1000):\n",
    "    \n",
    "    left_context_length = (window/2).__ceil__()\n",
    "    right_context_length = window // 2 \n",
    "    \n",
    "    while True:\n",
    "        X_target = []\n",
    "        X_context = []\n",
    "        y = []\n",
    "\n",
    "        for sent in sentences:\n",
    "            for i in range(len(sent)-1):\n",
    "                word = sent[i]\n",
    "                context = sent[max(0, i-left_context_length):i] + sent[i+1:i+right_context_length]\n",
    "                for context_word in context:\n",
    "                    X_target.append(word)\n",
    "                    X_context.append(context_word)\n",
    "                    y.append(1)\n",
    "                    \n",
    "                    X_target.append(word)\n",
    "                    X_context.append(np.random.randint(vocab_size))\n",
    "                    y.append(0)\n",
    "                    \n",
    "                    if len(X_target) >= batch_size:\n",
    "                        X_target = np.array(X_target)\n",
    "                        X_context = np.array(X_context)\n",
    "                        y = np.array(y)\n",
    "                        yield ((X_target, X_context), y)\n",
    "                        X_target = []\n",
    "                        X_context = []\n",
    "                        y = []"
   ]
  },
  {
   "cell_type": "code",
   "execution_count": 40,
   "id": "d59d29a1",
   "metadata": {},
   "outputs": [],
   "source": [
    "inputs_target = tf.keras.layers.Input(shape=(1,))\n",
    "inputs_context = tf.keras.layers.Input(shape=(1,))\n",
    "\n",
    "\n",
    "embeddings_target = tf.keras.layers.Embedding(input_dim=len(word2id), output_dim=100)(inputs_target, )\n",
    "embeddings_context = tf.keras.layers.Embedding(input_dim=len(word2id), output_dim=100)(inputs_context, )\n",
    "\n",
    "target = tf.keras.layers.Flatten()(embeddings_target)\n",
    "context = tf.keras.layers.Flatten()(embeddings_context)\n",
    "\n",
    "dot = tf.keras.layers.Dot(1)([target, context])\n",
    "outputs = tf.keras.layers.Activation(activation='sigmoid')(dot)\n",
    "\n",
    "model_sg_neg = tf.keras.Model(inputs=[inputs_target, inputs_context], \n",
    "                       outputs=outputs)\n",
    "optimizer = tf.keras.optimizers.Adam(learning_rate=0.001)\n",
    "model_sg_neg.compile(optimizer=optimizer,\n",
    "              loss='binary_crossentropy',\n",
    "              metrics=['accuracy'])"
   ]
  },
  {
   "cell_type": "code",
   "execution_count": 41,
   "id": "9903fb96",
   "metadata": {},
   "outputs": [
    {
     "name": "stdout",
     "output_type": "stream",
     "text": [
      "Epoch 1/4\n",
      "5000/5000 [==============================] - 317s 63ms/step - loss: 0.4935 - accuracy: 0.7677 - val_loss: 0.5098 - val_accuracy: 0.7666\n",
      "Epoch 2/4\n",
      "5000/5000 [==============================] - 300s 60ms/step - loss: 0.4583 - accuracy: 0.7907 - val_loss: 0.4652 - val_accuracy: 0.7894\n",
      "Epoch 3/4\n",
      "5000/5000 [==============================] - 296s 59ms/step - loss: 0.4472 - accuracy: 0.7971 - val_loss: 0.4283 - val_accuracy: 0.8164\n",
      "Epoch 4/4\n",
      "5000/5000 [==============================] - 294s 59ms/step - loss: 0.4195 - accuracy: 0.8127 - val_loss: 0.4708 - val_accuracy: 0.7845\n"
     ]
    },
    {
     "data": {
      "text/plain": [
       "<keras.src.callbacks.History at 0x1dc51751710>"
      ]
     },
     "execution_count": 41,
     "metadata": {},
     "output_type": "execute_result"
    }
   ],
   "source": [
    "model_sg_neg.fit(gen_batches_sg(sentences[:15000], window=7), validation_data=gen_batches_sg(sentences[15000:],  window=7),\n",
    "          batch_size=1000,\n",
    "          steps_per_epoch=5000,\n",
    "          validation_steps=30,\n",
    "         epochs=4)"
   ]
  },
  {
   "cell_type": "code",
   "execution_count": 42,
   "id": "db55f1bd",
   "metadata": {},
   "outputs": [
    {
     "name": "stdout",
     "output_type": "stream",
     "text": [
      "dict_keys(['loss', 'accuracy', 'val_loss', 'val_accuracy'])\n"
     ]
    },
    {
     "data": {
      "image/png": "[encoded data removed]",
      "text/plain": [
       "<Figure size 640x480 with 1 Axes>"
      ]
     },
     "metadata": {},
     "output_type": "display_data"
    }
   ],
   "source": [
    "print(model_sg_neg.history.history.keys())\n",
    "# summarize history for accuracy\n",
    "plt.plot(model_sg_neg.history.history['loss'])\n",
    "plt.plot(model_sg_neg.history.history['val_loss'])\n",
    "plt.title('model loss')\n",
    "plt.ylabel('loss')\n",
    "plt.xlabel('epoch')\n",
    "plt.legend(['train', 'val'], loc='upper left')\n",
    "plt.show()"
   ]
  },
  {
   "cell_type": "code",
   "execution_count": 43,
   "id": "3acecca3",
   "metadata": {},
   "outputs": [],
   "source": [
    "embeddings_sg_neg = model_sg_neg.layers[2].get_weights()[0]"
   ]
  },
  {
   "cell_type": "code",
   "execution_count": 44,
   "id": "59e30bdb",
   "metadata": {},
   "outputs": [
    {
     "data": {
      "text/plain": [
       "['дорога',\n",
       " 'железная',\n",
       " 'проходит',\n",
       " 'рядом',\n",
       " 'автомобильная',\n",
       " 'станция',\n",
       " 'платформа',\n",
       " 'автодорога',\n",
       " 'граница',\n",
       " 'ближайшая']"
      ]
     },
     "execution_count": 44,
     "metadata": {},
     "output_type": "execute_result"
    }
   ],
   "source": [
    "most_similar('дорога', embeddings_sg_neg)"
   ]
  },
  {
   "cell_type": "code",
   "execution_count": 45,
   "id": "18d99a8e",
   "metadata": {},
   "outputs": [
    {
     "data": {
      "text/plain": [
       "['космос',\n",
       " 'гонка',\n",
       " 'углом',\n",
       " 'картинах',\n",
       " 'звездой',\n",
       " 'выводы',\n",
       " 'раствора',\n",
       " 'кровь',\n",
       " '1762',\n",
       " 'манге']"
      ]
     },
     "execution_count": 45,
     "metadata": {},
     "output_type": "execute_result"
    }
   ],
   "source": [
    "most_similar('космос', embeddings_sg_neg)"
   ]
  },
  {
   "cell_type": "code",
   "execution_count": 46,
   "id": "53a172ec",
   "metadata": {},
   "outputs": [
    {
     "data": {
      "text/plain": [
       "['писатель',\n",
       " 'композитор',\n",
       " 'николай',\n",
       " 'учёный',\n",
       " 'андрей',\n",
       " 'александр',\n",
       " 'сергей',\n",
       " 'педагог',\n",
       " 'советский',\n",
       " 'анатолий']"
      ]
     },
     "execution_count": 46,
     "metadata": {},
     "output_type": "execute_result"
    }
   ],
   "source": [
    "most_similar('писатель', embeddings_sg_neg)"
   ]
  },
  {
   "cell_type": "code",
   "execution_count": 47,
   "id": "63005e4e",
   "metadata": {},
   "outputs": [],
   "source": [
    "def gen_batches_cbow(sentences, window = 7, batch_size=1000):\n",
    "\n",
    "    left_context_length = (window/2).__ceil__() \n",
    "    right_context_length = window // 2 \n",
    "    \n",
    "    while True:\n",
    "        X_target = []\n",
    "        X_context = []\n",
    "        y = []\n",
    "\n",
    "        for sent in sentences:\n",
    "            for i in range(len(sent)-1):\n",
    "                word = sent[i]\n",
    "                context = sent[max(0, i-left_context_length):i] + sent[i+1:i+right_context_length]\n",
    "\n",
    "                X_target.append(word)\n",
    "                X_context.append(context)\n",
    "                y.append(1)\n",
    "                \n",
    "                X_target.append(np.random.randint(vocab_size))\n",
    "                X_context.append(context)\n",
    "                y.append(0)\n",
    "\n",
    "                if len(X_target) == batch_size:\n",
    "                    X_target = np.array(X_target)\n",
    "                    X_context = tf.keras.preprocessing.sequence.pad_sequences(X_context, maxlen=window)\n",
    "                    y = np.array(y)\n",
    "                    yield ((X_target, X_context), y)\n",
    "                    X_target = []\n",
    "                    X_context = []\n",
    "                    y = []"
   ]
  },
  {
   "cell_type": "code",
   "execution_count": 48,
   "id": "905fab8b",
   "metadata": {},
   "outputs": [],
   "source": [
    "inputs_target = tf.keras.layers.Input(shape=(1,))\n",
    "inputs_context = tf.keras.layers.Input(shape=(10,))\n",
    "\n",
    "\n",
    "embeddings_target = tf.keras.layers.Embedding(input_dim=len(word2id), output_dim=100)(inputs_target, )\n",
    "embeddings_context = tf.keras.layers.Embedding(input_dim=len(word2id), output_dim=100)(inputs_context, )\n",
    "\n",
    "target = tf.keras.layers.Flatten()(embeddings_target)\n",
    "context = tf.keras.layers.Lambda(lambda x: tf.keras.backend.sum(x, axis=1))(embeddings_context)\n",
    "dot = tf.keras.layers.Dot(1)([target, context])\n",
    "\n",
    "# полученную близость нужно преобразовать в вероятность\n",
    "# когда она одна используется не софтмакс и сигмоида\n",
    "outputs = tf.keras.layers.Activation(activation='sigmoid')(dot)\n",
    "\n",
    "model_cbow_neg = tf.keras.Model(inputs=[inputs_target, inputs_context], \n",
    "                       outputs=outputs)\n",
    "\n",
    "\n",
    "optimizer = tf.keras.optimizers.Adam(learning_rate=0.001)\n",
    "model_cbow_neg.compile(optimizer=optimizer,\n",
    "              loss='binary_crossentropy',\n",
    "              metrics=['accuracy'])"
   ]
  },
  {
   "cell_type": "code",
   "execution_count": 49,
   "id": "1aed192c",
   "metadata": {},
   "outputs": [
    {
     "name": "stdout",
     "output_type": "stream",
     "text": [
      "Epoch 1/4\n",
      "5000/5000 [==============================] - 317s 63ms/step - loss: 0.4116 - accuracy: 0.8132 - val_loss: 0.3571 - val_accuracy: 0.8461\n",
      "Epoch 2/4\n",
      "5000/5000 [==============================] - 305s 61ms/step - loss: 0.2991 - accuracy: 0.8720 - val_loss: 0.3244 - val_accuracy: 0.8598\n",
      "Epoch 3/4\n",
      "5000/5000 [==============================] - 307s 61ms/step - loss: 0.2456 - accuracy: 0.8974 - val_loss: 0.2955 - val_accuracy: 0.8815\n",
      "Epoch 4/4\n",
      "5000/5000 [==============================] - 305s 61ms/step - loss: 0.2154 - accuracy: 0.9115 - val_loss: 0.2618 - val_accuracy: 0.8941\n"
     ]
    },
    {
     "data": {
      "text/plain": [
       "<keras.src.callbacks.History at 0x1dc43588590>"
      ]
     },
     "execution_count": 49,
     "metadata": {},
     "output_type": "execute_result"
    }
   ],
   "source": [
    "model_cbow_neg.fit(gen_batches_cbow(sentences[:15000], window=7),validation_data=gen_batches_cbow(sentences[15000:],  window=7),\n",
    "          batch_size=1000,\n",
    "          steps_per_epoch=5000,\n",
    "          validation_steps=30,\n",
    "         epochs=4)"
   ]
  },
  {
   "cell_type": "code",
   "execution_count": 50,
   "id": "91da07ce",
   "metadata": {},
   "outputs": [],
   "source": [
    "embeddings_cbow_neg = model_cbow_neg.layers[2].get_weights()[0]"
   ]
  },
  {
   "cell_type": "code",
   "execution_count": 51,
   "id": "cb6b9809",
   "metadata": {},
   "outputs": [
    {
     "data": {
      "text/plain": [
       "['дорога',\n",
       " 'железная',\n",
       " 'ветка',\n",
       " 'автодорога',\n",
       " 'автомобильная',\n",
       " 'трасса',\n",
       " 'платформа',\n",
       " 'региональная',\n",
       " 'переправа',\n",
       " 'пересекает']"
      ]
     },
     "execution_count": 51,
     "metadata": {},
     "output_type": "execute_result"
    }
   ],
   "source": [
    "most_similar('дорога', embeddings_cbow_neg)"
   ]
  },
  {
   "cell_type": "code",
   "execution_count": 52,
   "id": "5a73e4fe",
   "metadata": {},
   "outputs": [
    {
     "data": {
      "text/plain": [
       "['космос',\n",
       " 'затвор',\n",
       " 'диапазоне',\n",
       " 'погоду',\n",
       " 'сигнал',\n",
       " 'слог',\n",
       " 'пещере',\n",
       " 'перерыв',\n",
       " 'камере',\n",
       " 'пятницу']"
      ]
     },
     "execution_count": 52,
     "metadata": {},
     "output_type": "execute_result"
    }
   ],
   "source": [
    "most_similar('космос', embeddings_cbow_neg)"
   ]
  },
  {
   "cell_type": "code",
   "execution_count": 53,
   "id": "1d5f6292",
   "metadata": {},
   "outputs": [
    {
     "data": {
      "text/plain": [
       "['писатель',\n",
       " 'режиссёр',\n",
       " 'педагог',\n",
       " 'учёный',\n",
       " 'скульптор',\n",
       " 'артист',\n",
       " 'поэт',\n",
       " 'переводчик',\n",
       " 'сценарист',\n",
       " 'драматург']"
      ]
     },
     "execution_count": 53,
     "metadata": {},
     "output_type": "execute_result"
    }
   ],
   "source": [
    "most_similar('писатель', embeddings_cbow_neg)"
   ]
  },
  {
   "cell_type": "markdown",
   "id": "c3b61b7c",
   "metadata": {},
   "source": [
    "# Задание 2 (3 балла)"
   ]
  },
  {
   "cell_type": "markdown",
   "id": "66eff080",
   "metadata": {},
   "source": [
    "Обучите 1 word2vec и 1 fastext модель в gensim. В каждой из модели нужно задать все параметры, которые мы разбирали на семинаре. Заданные значения должны отличаться от дефолтных и от тех, что мы использовали на семинаре."
   ]
  },
  {
   "cell_type": "code",
   "execution_count": 54,
   "id": "986c2018",
   "metadata": {},
   "outputs": [],
   "source": [
    "with open('wiki_data.txt', 'r', encoding='utf-8') as fil:\n",
    "    wiki = fil.read().split('\\n')"
   ]
  },
  {
   "cell_type": "code",
   "execution_count": 55,
   "id": "e5035bdc",
   "metadata": {},
   "outputs": [],
   "source": [
    "texts = [preprocess(text) for text in wiki]"
   ]
  },
  {
   "cell_type": "code",
   "execution_count": 56,
   "id": "efa42af7",
   "metadata": {},
   "outputs": [
    {
     "name": "stdout",
     "output_type": "stream",
     "text": [
      "CPU times: total: 5min 12s\n",
      "Wall time: 1min 47s\n"
     ]
    }
   ],
   "source": [
    "%%time\n",
    "w2v = gensim.models.Word2Vec(texts, vector_size=400, min_count=5, max_vocab_size=20000, window=7, epochs=8, sg=1)"
   ]
  },
  {
   "cell_type": "code",
   "execution_count": 57,
   "id": "685708e4",
   "metadata": {},
   "outputs": [
    {
     "data": {
      "text/plain": [
       "[('железная', 0.8209481239318848),\n",
       " ('автомобильная', 0.6812784075737),\n",
       " ('железнодорожная', 0.5616933703422546),\n",
       " ('проходит', 0.5366497039794922),\n",
       " ('примыкает', 0.47799646854400635),\n",
       " ('ордовка', 0.47519057989120483),\n",
       " ('трасса', 0.4716018736362457),\n",
       " ('дороги', 0.45636552572250366),\n",
       " ('протекает', 0.4505753219127655),\n",
       " ('линия', 0.44088214635849)]"
      ]
     },
     "execution_count": 57,
     "metadata": {},
     "output_type": "execute_result"
    }
   ],
   "source": [
    "w2v.wv.most_similar('дорога')"
   ]
  },
  {
   "cell_type": "code",
   "execution_count": 58,
   "id": "88e21b5c",
   "metadata": {},
   "outputs": [
    {
     "data": {
      "text/plain": [
       "[('паразински', 0.5191118121147156),\n",
       " ('полёта', 0.4684179425239563),\n",
       " ('шаттла', 0.4426128566265106),\n",
       " ('палатку', 0.4371676743030548),\n",
       " ('полёт', 0.43098288774490356),\n",
       " ('борту', 0.43055108189582825),\n",
       " ('скотт', 0.42409124970436096),\n",
       " ('часа', 0.42072179913520813),\n",
       " ('бирдмора', 0.40872809290885925),\n",
       " ('отс', 0.40676039457321167)]"
      ]
     },
     "execution_count": 58,
     "metadata": {},
     "output_type": "execute_result"
    }
   ],
   "source": [
    "w2v.wv.most_similar('космос')"
   ]
  },
  {
   "cell_type": "code",
   "execution_count": 59,
   "id": "11b2f030",
   "metadata": {},
   "outputs": [
    {
     "data": {
      "text/plain": [
       "[('поэт', 0.6139598488807678),\n",
       " ('сценарист', 0.5886619687080383),\n",
       " ('деятель', 0.5065102577209473),\n",
       " ('учёный', 0.49606919288635254),\n",
       " ('художник', 0.49394160509109497),\n",
       " ('николаевич', 0.48805946111679077),\n",
       " ('актёр', 0.4823390543460846),\n",
       " ('родился', 0.4647272825241089),\n",
       " ('русский', 0.4615662097930908),\n",
       " ('константин', 0.45700615644454956)]"
      ]
     },
     "execution_count": 59,
     "metadata": {},
     "output_type": "execute_result"
    }
   ],
   "source": [
    "w2v.wv.most_similar('писатель')"
   ]
  },
  {
   "cell_type": "code",
   "execution_count": 60,
   "id": "543d23e9",
   "metadata": {},
   "outputs": [
    {
     "name": "stdout",
     "output_type": "stream",
     "text": [
      "CPU times: total: 6min 58s\n",
      "Wall time: 2min 38s\n"
     ]
    }
   ],
   "source": [
    "%%time\n",
    "ft = gensim.models.FastText(texts, min_n=4, max_n=7, vector_size=20, window=6, min_count=5, epochs=10)\n",
    "#model2 = FastText(vector_size=20, window=6, min_count=5, epochs=10)"
   ]
  },
  {
   "cell_type": "code",
   "execution_count": 61,
   "id": "27ff513b",
   "metadata": {
    "scrolled": true
   },
   "outputs": [
    {
     "data": {
      "text/plain": [
       "[('дорогая', 0.9903964996337891),\n",
       " ('дорога»', 0.9855794310569763),\n",
       " ('«дорога', 0.9760696887969971),\n",
       " ('дорогах', 0.9648817181587219),\n",
       " ('дорогобуж', 0.9609798192977905),\n",
       " ('дорогинь', 0.9563660621643066),\n",
       " ('дороги»', 0.9491344094276428),\n",
       " ('дороги', 0.942389190196991),\n",
       " ('«дороги', 0.9415652751922607),\n",
       " ('дорогу', 0.9359824061393738)]"
      ]
     },
     "execution_count": 61,
     "metadata": {},
     "output_type": "execute_result"
    }
   ],
   "source": [
    "ft.wv.most_similar('дорога')"
   ]
  },
  {
   "cell_type": "code",
   "execution_count": 62,
   "id": "417575d4",
   "metadata": {},
   "outputs": [
    {
     "data": {
      "text/plain": [
       "[('космосе', 0.9690732955932617),\n",
       " ('космоса»', 0.9579207897186279),\n",
       " ('космоса', 0.9020993113517761),\n",
       " ('«космос»', 0.8930692672729492),\n",
       " ('плакал', 0.8335369825363159),\n",
       " ('киноплёнки', 0.8206967115402222),\n",
       " ('мотоцикле', 0.8175097703933716),\n",
       " ('плакат', 0.8174269199371338),\n",
       " ('спешке', 0.813426673412323),\n",
       " ('косу', 0.8076895475387573)]"
      ]
     },
     "execution_count": 62,
     "metadata": {},
     "output_type": "execute_result"
    }
   ],
   "source": [
    "ft.wv.most_similar('космос')"
   ]
  },
  {
   "cell_type": "code",
   "execution_count": 63,
   "id": "3d0f96a0",
   "metadata": {},
   "outputs": [
    {
     "data": {
      "text/plain": [
       "[('публицист', 0.9563127160072327),\n",
       " ('фольклорист', 0.9382687211036682),\n",
       " ('поэт', 0.9320330023765564),\n",
       " ('писатель-фантаст', 0.9313973188400269),\n",
       " ('литератор', 0.9189517498016357),\n",
       " ('зоолог', 0.9161456823348999),\n",
       " ('орнитолог', 0.9108163714408875),\n",
       " ('юрист', 0.9108079075813293),\n",
       " ('кельтолог', 0.9107115864753723),\n",
       " ('энтомолог', 0.9100003838539124)]"
      ]
     },
     "execution_count": 63,
     "metadata": {},
     "output_type": "execute_result"
    }
   ],
   "source": [
    "ft.wv.most_similar('писатель')"
   ]
  },
  {
   "cell_type": "markdown",
   "id": "e4bb928c",
   "metadata": {},
   "source": [
    "# Задание 3 (4 балла)"
   ]
  },
  {
   "cell_type": "markdown",
   "id": "3019b0d1",
   "metadata": {},
   "source": [
    "Используя датасет для классификации (labeled.csv) и простую нейронную сеть (последняя модель в семинаре), оцените качество полученных эмбедингов в задании 1 и 2 (4 набора эмбедингов), также проверьте 1 любую из предобученных моделей с rus-vectores (но только не tayga_upos_skipgram_300_2_2019). \n",
    "Какая модель показывает наилучший результат?\n",
    "\n",
    "Убедитесь, что для каждой модели вы корректно воспроизводите пайплайн предобработки (в 1 задании у вас лемматизация, не забудьте ее применить к датасету для классификации; у выбранной предобученной модели может быть своя специфичная предобработка - ее нужно воспроизвести)"
   ]
  },
  {
   "cell_type": "markdown",
   "id": "4c18918a",
   "metadata": {},
   "source": [
    "#### Я дополнительно тестирую cbow и skip-gram без негативного семплирования.\n",
    "#### Выоды о результатах работы моделей приведениы в конце."
   ]
  },
  {
   "cell_type": "code",
   "execution_count": 141,
   "id": "ed908832",
   "metadata": {},
   "outputs": [],
   "source": [
    "data2ch = pd.read_csv('labeled.csv')\n",
    "data2ch['norm_text'] = data2ch.comment.apply(preprocess)"
   ]
  },
  {
   "cell_type": "markdown",
   "id": "953db0bb",
   "metadata": {},
   "source": [
    "Лемматизация применяется в рамках функции preprocess()"
   ]
  },
  {
   "cell_type": "code",
   "execution_count": 142,
   "id": "60c18c5a",
   "metadata": {},
   "outputs": [
    {
     "data": {
      "text/plain": [
       "7232"
      ]
     },
     "execution_count": 142,
     "metadata": {},
     "output_type": "execute_result"
    }
   ],
   "source": [
    "vocab = Counter()\n",
    "\n",
    "for text in data2ch['norm_text']:\n",
    "    vocab.update(text)\n",
    "    \n",
    "filtered_vocab = set()\n",
    "\n",
    "for word in vocab:\n",
    "    if vocab[word] > 5:\n",
    "        filtered_vocab.add(word)\n",
    "\n",
    "len(filtered_vocab)"
   ]
  },
  {
   "cell_type": "code",
   "execution_count": 143,
   "id": "7993b613",
   "metadata": {},
   "outputs": [],
   "source": [
    "word2id = { 'PAD':0}\n",
    "\n",
    "for word in filtered_vocab:\n",
    "    word2id[word] = len(word2id)\n",
    "id2word = {i:word for word, i in word2id.items()}"
   ]
  },
  {
   "cell_type": "code",
   "execution_count": 144,
   "id": "d8deb674",
   "metadata": {},
   "outputs": [],
   "source": [
    "X = []\n",
    "\n",
    "for tokens in data2ch['norm_text']:\n",
    "    ids = [word2id[token] for token in tokens if token in word2id]\n",
    "    X.append(ids)"
   ]
  },
  {
   "cell_type": "markdown",
   "id": "d1b74219",
   "metadata": {},
   "source": [
    "###  Word2Vec и FasText в gensim  "
   ]
  },
  {
   "cell_type": "code",
   "execution_count": 145,
   "id": "e06ad6c5",
   "metadata": {},
   "outputs": [],
   "source": [
    "X = tf.keras.preprocessing.sequence.pad_sequences(X, maxlen=20)\n",
    "y = data2ch.toxic.values"
   ]
  },
  {
   "cell_type": "code",
   "execution_count": 146,
   "id": "2546b707",
   "metadata": {},
   "outputs": [],
   "source": [
    "X_train, X_valid, y_train, y_valid = train_test_split(X, y, test_size=0.05)"
   ]
  },
  {
   "cell_type": "code",
   "execution_count": 147,
   "id": "2d1202c2",
   "metadata": {},
   "outputs": [
    {
     "name": "stderr",
     "output_type": "stream",
     "text": [
      "WARNING:gensim.models.fasttext:could not extract any ngrams from 'ы', returning origin vector\n"
     ]
    }
   ],
   "source": [
    "weights = np.zeros((len(word2id), 20))\n",
    "\n",
    "for word, i in word2id.items():\n",
    "    # вектор паддинга оставим нулевым\n",
    "    if word == 'PAD':\n",
    "        continue\n",
    "\n",
    "    try:\n",
    "        weights[i] = ft.wv[word]\n",
    "    \n",
    "    \n",
    "    except KeyError:\n",
    "        # для слов, которых нет в модели тоже возьмем какой-то  рандомный вектор\n",
    "        continue\n",
    "        weights[i] = ft.wv['опрагпллирао']"
   ]
  },
  {
   "cell_type": "code",
   "execution_count": 148,
   "id": "736c122f",
   "metadata": {},
   "outputs": [],
   "source": [
    "inputs = tf.keras.layers.Input(shape=(20,))\n",
    "\n",
    "embeddings = tf.keras.layers.Embedding(input_dim=len(word2id), output_dim=20, trainable=False, weights=[weights])(inputs, )\n",
    "\n",
    "mean = tf.keras.layers.Lambda(lambda x: tf.keras.backend.mean(x,  axis=1))(embeddings)\n",
    "\n",
    "outputs = tf.keras.layers.Dense(1, activation='sigmoid')(mean)\n",
    "\n",
    "model = tf.keras.Model(inputs=inputs, outputs=outputs)\n",
    "optimizer = tf.keras.optimizers.Adam()\n",
    "model.compile(optimizer=optimizer,loss='binary_crossentropy',metrics=['accuracy'])"
   ]
  },
  {
   "cell_type": "code",
   "execution_count": 149,
   "id": "a2a49d6e",
   "metadata": {
    "scrolled": true
   },
   "outputs": [
    {
     "name": "stdout",
     "output_type": "stream",
     "text": [
      "Epoch 1/30\n",
      "428/428 [==============================] - 4s 3ms/step - loss: 0.7761 - accuracy: 0.6066 - val_loss: 0.6777 - val_accuracy: 0.5978\n",
      "Epoch 2/30\n",
      "428/428 [==============================] - 1s 2ms/step - loss: 0.6439 - accuracy: 0.6401 - val_loss: 0.6211 - val_accuracy: 0.6477\n",
      "Epoch 3/30\n",
      "428/428 [==============================] - 1s 2ms/step - loss: 0.6021 - accuracy: 0.6742 - val_loss: 0.5960 - val_accuracy: 0.6796\n",
      "Epoch 4/30\n",
      "428/428 [==============================] - 1s 2ms/step - loss: 0.5838 - accuracy: 0.6918 - val_loss: 0.5835 - val_accuracy: 0.6921\n",
      "Epoch 5/30\n",
      "428/428 [==============================] - 1s 2ms/step - loss: 0.5741 - accuracy: 0.7022 - val_loss: 0.5763 - val_accuracy: 0.7046\n",
      "Epoch 6/30\n",
      "428/428 [==============================] - 1s 2ms/step - loss: 0.5685 - accuracy: 0.7045 - val_loss: 0.5728 - val_accuracy: 0.7046\n",
      "Epoch 7/30\n",
      "428/428 [==============================] - 1s 2ms/step - loss: 0.5651 - accuracy: 0.7073 - val_loss: 0.5702 - val_accuracy: 0.7101\n",
      "Epoch 8/30\n",
      "428/428 [==============================] - 1s 2ms/step - loss: 0.5630 - accuracy: 0.7093 - val_loss: 0.5677 - val_accuracy: 0.7018\n",
      "Epoch 9/30\n",
      "428/428 [==============================] - 1s 2ms/step - loss: 0.5617 - accuracy: 0.7124 - val_loss: 0.5656 - val_accuracy: 0.7032\n",
      "Epoch 10/30\n",
      "428/428 [==============================] - 1s 2ms/step - loss: 0.5605 - accuracy: 0.7127 - val_loss: 0.5646 - val_accuracy: 0.7004\n",
      "Epoch 11/30\n",
      "428/428 [==============================] - 1s 2ms/step - loss: 0.5600 - accuracy: 0.7145 - val_loss: 0.5650 - val_accuracy: 0.7087\n",
      "Epoch 12/30\n",
      "428/428 [==============================] - 1s 2ms/step - loss: 0.5594 - accuracy: 0.7157 - val_loss: 0.5648 - val_accuracy: 0.6949\n",
      "Epoch 13/30\n",
      "428/428 [==============================] - 1s 2ms/step - loss: 0.5587 - accuracy: 0.7162 - val_loss: 0.5655 - val_accuracy: 0.7074\n",
      "Epoch 14/30\n",
      "428/428 [==============================] - 1s 1ms/step - loss: 0.5584 - accuracy: 0.7167 - val_loss: 0.5631 - val_accuracy: 0.7032\n",
      "Epoch 15/30\n",
      "428/428 [==============================] - 1s 2ms/step - loss: 0.5584 - accuracy: 0.7164 - val_loss: 0.5621 - val_accuracy: 0.7101\n",
      "Epoch 16/30\n",
      "428/428 [==============================] - 1s 1ms/step - loss: 0.5585 - accuracy: 0.7174 - val_loss: 0.5632 - val_accuracy: 0.7060\n",
      "Epoch 17/30\n",
      "428/428 [==============================] - 1s 1ms/step - loss: 0.5582 - accuracy: 0.7161 - val_loss: 0.5620 - val_accuracy: 0.7032\n",
      "Epoch 18/30\n",
      "428/428 [==============================] - 1s 2ms/step - loss: 0.5578 - accuracy: 0.7169 - val_loss: 0.5624 - val_accuracy: 0.7087\n",
      "Epoch 19/30\n",
      "428/428 [==============================] - 1s 1ms/step - loss: 0.5577 - accuracy: 0.7170 - val_loss: 0.5632 - val_accuracy: 0.7129\n",
      "Epoch 20/30\n",
      "428/428 [==============================] - 1s 1ms/step - loss: 0.5575 - accuracy: 0.7176 - val_loss: 0.5638 - val_accuracy: 0.7074\n",
      "Epoch 21/30\n",
      "428/428 [==============================] - 1s 1ms/step - loss: 0.5578 - accuracy: 0.7181 - val_loss: 0.5612 - val_accuracy: 0.7074\n",
      "Epoch 22/30\n",
      "428/428 [==============================] - 1s 2ms/step - loss: 0.5575 - accuracy: 0.7176 - val_loss: 0.5619 - val_accuracy: 0.6990\n",
      "Epoch 23/30\n",
      "428/428 [==============================] - 1s 2ms/step - loss: 0.5577 - accuracy: 0.7184 - val_loss: 0.5613 - val_accuracy: 0.7129\n",
      "Epoch 24/30\n",
      "428/428 [==============================] - 1s 2ms/step - loss: 0.5575 - accuracy: 0.7176 - val_loss: 0.5609 - val_accuracy: 0.7060\n",
      "Epoch 25/30\n",
      "428/428 [==============================] - 1s 2ms/step - loss: 0.5576 - accuracy: 0.7180 - val_loss: 0.5609 - val_accuracy: 0.7115\n",
      "Epoch 26/30\n",
      "428/428 [==============================] - 1s 2ms/step - loss: 0.5574 - accuracy: 0.7185 - val_loss: 0.5604 - val_accuracy: 0.7074\n",
      "Epoch 27/30\n",
      "428/428 [==============================] - 1s 2ms/step - loss: 0.5576 - accuracy: 0.7195 - val_loss: 0.5605 - val_accuracy: 0.7143\n",
      "Epoch 28/30\n",
      "428/428 [==============================] - 1s 2ms/step - loss: 0.5576 - accuracy: 0.7169 - val_loss: 0.5609 - val_accuracy: 0.7018\n",
      "Epoch 29/30\n",
      "428/428 [==============================] - 1s 2ms/step - loss: 0.5574 - accuracy: 0.7194 - val_loss: 0.5601 - val_accuracy: 0.7129\n",
      "Epoch 30/30\n",
      "428/428 [==============================] - 1s 2ms/step - loss: 0.5575 - accuracy: 0.7179 - val_loss: 0.5607 - val_accuracy: 0.7004\n"
     ]
    },
    {
     "data": {
      "text/plain": [
       "<keras.src.callbacks.History at 0x1dc3d7292d0>"
      ]
     },
     "execution_count": 149,
     "metadata": {},
     "output_type": "execute_result"
    }
   ],
   "source": [
    "model.fit(X_train, y_train, validation_data=(X_valid, y_valid),batch_size=32,epochs=30)"
   ]
  },
  {
   "cell_type": "code",
   "execution_count": 150,
   "id": "af26206f",
   "metadata": {},
   "outputs": [
    {
     "name": "stdout",
     "output_type": "stream",
     "text": [
      "dict_keys(['loss', 'accuracy', 'val_loss', 'val_accuracy'])\n"
     ]
    },
    {
     "data": {
      "image/png": "[encoded data removed]",
      "text/plain": [
       "<Figure size 640x480 with 1 Axes>"
      ]
     },
     "metadata": {},
     "output_type": "display_data"
    }
   ],
   "source": [
    "print(model.history.history.keys())\n",
    "# summarize history for accuracy\n",
    "plt.plot(model.history.history['accuracy'])\n",
    "plt.plot(model.history.history['val_accuracy'])\n",
    "plt.title('model accuracy')\n",
    "plt.ylabel('accuracy')\n",
    "plt.xlabel('epoch')\n",
    "plt.legend(['train', 'val'], loc='upper left')\n",
    "plt.show()"
   ]
  },
  {
   "cell_type": "code",
   "execution_count": 151,
   "id": "87281615",
   "metadata": {},
   "outputs": [],
   "source": [
    "X = tf.keras.preprocessing.sequence.pad_sequences(X, maxlen=400)\n",
    "y = data2ch.toxic.values"
   ]
  },
  {
   "cell_type": "code",
   "execution_count": 152,
   "id": "bd98cdcf",
   "metadata": {},
   "outputs": [],
   "source": [
    "X_train, X_valid, y_train, y_valid = train_test_split(X, y, test_size=0.05)"
   ]
  },
  {
   "cell_type": "code",
   "execution_count": 153,
   "id": "ef3e399c",
   "metadata": {},
   "outputs": [],
   "source": [
    "weights = np.zeros((len(word2id), 400))\n",
    "\n",
    "for word, i in word2id.items():\n",
    "    # вектор паддинга оставим нулевым\n",
    "    if word == 'PAD':\n",
    "        continue\n",
    "\n",
    "    try:\n",
    "        weights[i] = w2v.wv[word]\n",
    "    \n",
    "    \n",
    "    except KeyError:\n",
    "        # для слов, которых нет в модели тоже возьмем какой-то  рандомный вектор\n",
    "        continue\n",
    "        weights[i] = w2v.wv['опрагпллирао']"
   ]
  },
  {
   "cell_type": "code",
   "execution_count": 154,
   "id": "81b5a31f",
   "metadata": {},
   "outputs": [],
   "source": [
    "inputs = tf.keras.layers.Input(shape=(400,))\n",
    "\n",
    "embeddings = tf.keras.layers.Embedding(input_dim=len(word2id), output_dim=400, trainable=False, weights=[weights])(inputs, )\n",
    "\n",
    "mean = tf.keras.layers.Lambda(lambda x: tf.keras.backend.mean(x,  axis=1))(embeddings)\n",
    "\n",
    "outputs = tf.keras.layers.Dense(1, activation='sigmoid')(mean)\n",
    "\n",
    "model = tf.keras.Model(inputs=inputs, outputs=outputs)\n",
    "optimizer = tf.keras.optimizers.Adam()\n",
    "model.compile(optimizer=optimizer,loss='binary_crossentropy',metrics=['accuracy'])"
   ]
  },
  {
   "cell_type": "code",
   "execution_count": 155,
   "id": "cfabc2b2",
   "metadata": {
    "scrolled": true
   },
   "outputs": [
    {
     "name": "stdout",
     "output_type": "stream",
     "text": [
      "Epoch 1/30\n",
      "428/428 [==============================] - 7s 14ms/step - loss: 0.6594 - accuracy: 0.6632 - val_loss: 0.6361 - val_accuracy: 0.6685\n",
      "Epoch 2/30\n",
      "428/428 [==============================] - 8s 18ms/step - loss: 0.6294 - accuracy: 0.6650 - val_loss: 0.6220 - val_accuracy: 0.6685\n",
      "Epoch 3/30\n",
      "428/428 [==============================] - 50s 117ms/step - loss: 0.6217 - accuracy: 0.6650 - val_loss: 0.6171 - val_accuracy: 0.6685\n",
      "Epoch 4/30\n",
      "428/428 [==============================] - 9s 20ms/step - loss: 0.6179 - accuracy: 0.6650 - val_loss: 0.6137 - val_accuracy: 0.6685\n",
      "Epoch 5/30\n",
      "428/428 [==============================] - 9s 20ms/step - loss: 0.6147 - accuracy: 0.6650 - val_loss: 0.6106 - val_accuracy: 0.6685\n",
      "Epoch 6/30\n",
      "428/428 [==============================] - 9s 20ms/step - loss: 0.6116 - accuracy: 0.6650 - val_loss: 0.6076 - val_accuracy: 0.6685\n",
      "Epoch 7/30\n",
      "428/428 [==============================] - 10s 23ms/step - loss: 0.6087 - accuracy: 0.6650 - val_loss: 0.6048 - val_accuracy: 0.6685\n",
      "Epoch 8/30\n",
      "428/428 [==============================] - 9s 20ms/step - loss: 0.6060 - accuracy: 0.6650 - val_loss: 0.6022 - val_accuracy: 0.6685\n",
      "Epoch 9/30\n",
      "428/428 [==============================] - 10s 22ms/step - loss: 0.6036 - accuracy: 0.6650 - val_loss: 0.5998 - val_accuracy: 0.6685\n",
      "Epoch 10/30\n",
      "428/428 [==============================] - 9s 21ms/step - loss: 0.6013 - accuracy: 0.6650 - val_loss: 0.5976 - val_accuracy: 0.6685\n",
      "Epoch 11/30\n",
      "428/428 [==============================] - 7s 17ms/step - loss: 0.5992 - accuracy: 0.6650 - val_loss: 0.5955 - val_accuracy: 0.6685\n",
      "Epoch 12/30\n",
      "428/428 [==============================] - 6s 14ms/step - loss: 0.5972 - accuracy: 0.6650 - val_loss: 0.5936 - val_accuracy: 0.6685\n",
      "Epoch 13/30\n",
      "428/428 [==============================] - 6s 14ms/step - loss: 0.5954 - accuracy: 0.6650 - val_loss: 0.5919 - val_accuracy: 0.6685\n",
      "Epoch 14/30\n",
      "428/428 [==============================] - 6s 14ms/step - loss: 0.5937 - accuracy: 0.6650 - val_loss: 0.5902 - val_accuracy: 0.6685\n",
      "Epoch 15/30\n",
      "428/428 [==============================] - 6s 14ms/step - loss: 0.5921 - accuracy: 0.6650 - val_loss: 0.5887 - val_accuracy: 0.6685\n",
      "Epoch 16/30\n",
      "428/428 [==============================] - 6s 14ms/step - loss: 0.5906 - accuracy: 0.6650 - val_loss: 0.5873 - val_accuracy: 0.6685\n",
      "Epoch 17/30\n",
      "428/428 [==============================] - 6s 14ms/step - loss: 0.5893 - accuracy: 0.6755 - val_loss: 0.5859 - val_accuracy: 0.6699\n",
      "Epoch 18/30\n",
      "428/428 [==============================] - 6s 13ms/step - loss: 0.5880 - accuracy: 0.6772 - val_loss: 0.5846 - val_accuracy: 0.6699\n",
      "Epoch 19/30\n",
      "428/428 [==============================] - 6s 14ms/step - loss: 0.5867 - accuracy: 0.6779 - val_loss: 0.5834 - val_accuracy: 0.6685\n",
      "Epoch 20/30\n",
      "428/428 [==============================] - 5s 13ms/step - loss: 0.5856 - accuracy: 0.6804 - val_loss: 0.5823 - val_accuracy: 0.6782\n",
      "Epoch 21/30\n",
      "428/428 [==============================] - 6s 13ms/step - loss: 0.5844 - accuracy: 0.6858 - val_loss: 0.5812 - val_accuracy: 0.6796\n",
      "Epoch 22/30\n",
      "428/428 [==============================] - 6s 13ms/step - loss: 0.5834 - accuracy: 0.6886 - val_loss: 0.5801 - val_accuracy: 0.6796\n",
      "Epoch 23/30\n",
      "428/428 [==============================] - 6s 13ms/step - loss: 0.5824 - accuracy: 0.6930 - val_loss: 0.5791 - val_accuracy: 0.6824\n",
      "Epoch 24/30\n",
      "428/428 [==============================] - 5s 13ms/step - loss: 0.5814 - accuracy: 0.6954 - val_loss: 0.5782 - val_accuracy: 0.6865\n",
      "Epoch 25/30\n",
      "428/428 [==============================] - 5s 13ms/step - loss: 0.5805 - accuracy: 0.6953 - val_loss: 0.5773 - val_accuracy: 0.6838\n",
      "Epoch 26/30\n",
      "428/428 [==============================] - 5s 13ms/step - loss: 0.5796 - accuracy: 0.6973 - val_loss: 0.5764 - val_accuracy: 0.6879\n",
      "Epoch 27/30\n",
      "428/428 [==============================] - 6s 14ms/step - loss: 0.5787 - accuracy: 0.6983 - val_loss: 0.5756 - val_accuracy: 0.6893\n",
      "Epoch 28/30\n",
      "428/428 [==============================] - 6s 14ms/step - loss: 0.5779 - accuracy: 0.7002 - val_loss: 0.5747 - val_accuracy: 0.6893\n",
      "Epoch 29/30\n",
      "428/428 [==============================] - 6s 14ms/step - loss: 0.5771 - accuracy: 0.7008 - val_loss: 0.5739 - val_accuracy: 0.6935\n",
      "Epoch 30/30\n",
      "428/428 [==============================] - 6s 14ms/step - loss: 0.5763 - accuracy: 0.7026 - val_loss: 0.5732 - val_accuracy: 0.6935\n"
     ]
    },
    {
     "data": {
      "text/plain": [
       "<keras.src.callbacks.History at 0x1dc0f2dfe50>"
      ]
     },
     "execution_count": 155,
     "metadata": {},
     "output_type": "execute_result"
    }
   ],
   "source": [
    "model.fit(X_train, y_train, validation_data=(X_valid, y_valid),batch_size=32,epochs=30)"
   ]
  },
  {
   "cell_type": "code",
   "execution_count": 156,
   "id": "011f675a",
   "metadata": {
    "scrolled": false
   },
   "outputs": [
    {
     "name": "stdout",
     "output_type": "stream",
     "text": [
      "dict_keys(['loss', 'accuracy', 'val_loss', 'val_accuracy'])\n"
     ]
    },
    {
     "data": {
      "image/png": "[encoded data removed]",
      "text/plain": [
       "<Figure size 640x480 with 1 Axes>"
      ]
     },
     "metadata": {},
     "output_type": "display_data"
    }
   ],
   "source": [
    "print(model.history.history.keys())\n",
    "# summarize history for accuracy\n",
    "plt.plot(model.history.history['accuracy'])\n",
    "plt.plot(model.history.history['val_accuracy'])\n",
    "plt.title('model accuracy')\n",
    "plt.ylabel('accuracy')\n",
    "plt.xlabel('epoch')\n",
    "plt.legend(['train', 'val'], loc='upper left')\n",
    "plt.show()"
   ]
  },
  {
   "cell_type": "markdown",
   "id": "9bad2263",
   "metadata": {},
   "source": [
    "### cbow и skip-gram без негативного семплирования"
   ]
  },
  {
   "cell_type": "code",
   "execution_count": 157,
   "id": "11c21456",
   "metadata": {},
   "outputs": [],
   "source": [
    "X = tf.keras.preprocessing.sequence.pad_sequences(X, maxlen=70)\n",
    "y = data2ch.toxic.values"
   ]
  },
  {
   "cell_type": "code",
   "execution_count": 158,
   "id": "89cdba34",
   "metadata": {},
   "outputs": [],
   "source": [
    "X_train, X_valid, y_train, y_valid = train_test_split(X, y, test_size=0.05)"
   ]
  },
  {
   "cell_type": "code",
   "execution_count": 159,
   "id": "1db423d1",
   "metadata": {},
   "outputs": [],
   "source": [
    "weights = np.zeros((len(word2id), 70))\n",
    "\n",
    "for word, i in word2id.items():\n",
    "    # вектор паддинга оставим нулевым\n",
    "    if word == 'PAD':\n",
    "        continue\n",
    "\n",
    "    try:\n",
    "        weights[i] = embeddings_sg[word2id[word]].reshape(1, -1)\n",
    "    \n",
    "    \n",
    "    except KeyError:\n",
    "        # для слов, которых нет в модели тоже возьмем какой-то  рандомный вектор\n",
    "        continue\n",
    "        weights[i] = embeddings_sg[word2id['опрагпллирао']].reshape(1, -1)"
   ]
  },
  {
   "cell_type": "code",
   "execution_count": 160,
   "id": "5af384c1",
   "metadata": {},
   "outputs": [],
   "source": [
    "inputs = tf.keras.layers.Input(shape=(70,))\n",
    "\n",
    "embeddings = tf.keras.layers.Embedding(input_dim=len(word2id), output_dim=70, trainable=False, weights=[weights])(inputs, )\n",
    "\n",
    "mean = tf.keras.layers.Lambda(lambda x: tf.keras.backend.mean(x,  axis=1))(embeddings)\n",
    "\n",
    "outputs = tf.keras.layers.Dense(1, activation='sigmoid')(mean)\n",
    "\n",
    "model = tf.keras.Model(inputs=inputs, outputs=outputs)\n",
    "optimizer = tf.keras.optimizers.Adam()\n",
    "model.compile(optimizer=optimizer,loss='binary_crossentropy',metrics=['accuracy'])"
   ]
  },
  {
   "cell_type": "code",
   "execution_count": 161,
   "id": "ae7d6c24",
   "metadata": {
    "scrolled": true
   },
   "outputs": [
    {
     "name": "stdout",
     "output_type": "stream",
     "text": [
      "Epoch 1/30\n",
      "428/428 [==============================] - 3s 3ms/step - loss: 0.6422 - accuracy: 0.6601 - val_loss: 0.6222 - val_accuracy: 0.6602\n",
      "Epoch 2/30\n",
      "428/428 [==============================] - 1s 2ms/step - loss: 0.6198 - accuracy: 0.6654 - val_loss: 0.6197 - val_accuracy: 0.6602\n",
      "Epoch 3/30\n",
      "428/428 [==============================] - 1s 2ms/step - loss: 0.6188 - accuracy: 0.6654 - val_loss: 0.6189 - val_accuracy: 0.6602\n",
      "Epoch 4/30\n",
      "428/428 [==============================] - 1s 3ms/step - loss: 0.6182 - accuracy: 0.6654 - val_loss: 0.6182 - val_accuracy: 0.6602\n",
      "Epoch 5/30\n",
      "428/428 [==============================] - 1s 2ms/step - loss: 0.6177 - accuracy: 0.6654 - val_loss: 0.6176 - val_accuracy: 0.6602\n",
      "Epoch 6/30\n",
      "428/428 [==============================] - 1s 2ms/step - loss: 0.6173 - accuracy: 0.6654 - val_loss: 0.6171 - val_accuracy: 0.6602\n",
      "Epoch 7/30\n",
      "428/428 [==============================] - 1s 2ms/step - loss: 0.6169 - accuracy: 0.6654 - val_loss: 0.6166 - val_accuracy: 0.6602\n",
      "Epoch 8/30\n",
      "428/428 [==============================] - 1s 2ms/step - loss: 0.6165 - accuracy: 0.6654 - val_loss: 0.6162 - val_accuracy: 0.6602\n",
      "Epoch 9/30\n",
      "428/428 [==============================] - 1s 2ms/step - loss: 0.6162 - accuracy: 0.6655 - val_loss: 0.6159 - val_accuracy: 0.6602\n",
      "Epoch 10/30\n",
      "428/428 [==============================] - 1s 2ms/step - loss: 0.6159 - accuracy: 0.6657 - val_loss: 0.6153 - val_accuracy: 0.6602\n",
      "Epoch 11/30\n",
      "428/428 [==============================] - 1s 2ms/step - loss: 0.6155 - accuracy: 0.6661 - val_loss: 0.6150 - val_accuracy: 0.6602\n",
      "Epoch 12/30\n",
      "428/428 [==============================] - 1s 2ms/step - loss: 0.6152 - accuracy: 0.6661 - val_loss: 0.6146 - val_accuracy: 0.6602\n",
      "Epoch 13/30\n",
      "428/428 [==============================] - 1s 2ms/step - loss: 0.6149 - accuracy: 0.6662 - val_loss: 0.6143 - val_accuracy: 0.6602\n",
      "Epoch 14/30\n",
      "428/428 [==============================] - 1s 2ms/step - loss: 0.6146 - accuracy: 0.6662 - val_loss: 0.6138 - val_accuracy: 0.6602\n",
      "Epoch 15/30\n",
      "428/428 [==============================] - 1s 2ms/step - loss: 0.6144 - accuracy: 0.6669 - val_loss: 0.6135 - val_accuracy: 0.6602\n",
      "Epoch 16/30\n",
      "428/428 [==============================] - 1s 2ms/step - loss: 0.6141 - accuracy: 0.6669 - val_loss: 0.6132 - val_accuracy: 0.6602\n",
      "Epoch 17/30\n",
      "428/428 [==============================] - 1s 2ms/step - loss: 0.6138 - accuracy: 0.6669 - val_loss: 0.6128 - val_accuracy: 0.6616\n",
      "Epoch 18/30\n",
      "428/428 [==============================] - 1s 2ms/step - loss: 0.6135 - accuracy: 0.6674 - val_loss: 0.6125 - val_accuracy: 0.6616\n",
      "Epoch 19/30\n",
      "428/428 [==============================] - 1s 3ms/step - loss: 0.6132 - accuracy: 0.6671 - val_loss: 0.6123 - val_accuracy: 0.6616\n",
      "Epoch 20/30\n",
      "428/428 [==============================] - 1s 3ms/step - loss: 0.6130 - accuracy: 0.6676 - val_loss: 0.6119 - val_accuracy: 0.6616\n",
      "Epoch 21/30\n",
      "428/428 [==============================] - 1s 2ms/step - loss: 0.6127 - accuracy: 0.6676 - val_loss: 0.6116 - val_accuracy: 0.6630\n",
      "Epoch 22/30\n",
      "428/428 [==============================] - 1s 2ms/step - loss: 0.6126 - accuracy: 0.6678 - val_loss: 0.6113 - val_accuracy: 0.6630\n",
      "Epoch 23/30\n",
      "428/428 [==============================] - 1s 2ms/step - loss: 0.6123 - accuracy: 0.6680 - val_loss: 0.6110 - val_accuracy: 0.6616\n",
      "Epoch 24/30\n",
      "428/428 [==============================] - 1s 2ms/step - loss: 0.6120 - accuracy: 0.6686 - val_loss: 0.6108 - val_accuracy: 0.6616\n",
      "Epoch 25/30\n",
      "428/428 [==============================] - 1s 2ms/step - loss: 0.6118 - accuracy: 0.6686 - val_loss: 0.6105 - val_accuracy: 0.6616\n",
      "Epoch 26/30\n",
      "428/428 [==============================] - 1s 2ms/step - loss: 0.6116 - accuracy: 0.6689 - val_loss: 0.6102 - val_accuracy: 0.6616\n",
      "Epoch 27/30\n",
      "428/428 [==============================] - 1s 2ms/step - loss: 0.6113 - accuracy: 0.6686 - val_loss: 0.6100 - val_accuracy: 0.6616\n",
      "Epoch 28/30\n",
      "428/428 [==============================] - 1s 2ms/step - loss: 0.6110 - accuracy: 0.6690 - val_loss: 0.6097 - val_accuracy: 0.6616\n",
      "Epoch 29/30\n",
      "428/428 [==============================] - 1s 2ms/step - loss: 0.6109 - accuracy: 0.6689 - val_loss: 0.6094 - val_accuracy: 0.6630\n",
      "Epoch 30/30\n",
      "428/428 [==============================] - 1s 2ms/step - loss: 0.6107 - accuracy: 0.6696 - val_loss: 0.6092 - val_accuracy: 0.6630\n"
     ]
    },
    {
     "data": {
      "text/plain": [
       "<keras.src.callbacks.History at 0x1dc0bd85790>"
      ]
     },
     "execution_count": 161,
     "metadata": {},
     "output_type": "execute_result"
    }
   ],
   "source": [
    "model.fit(X_train, y_train, validation_data=(X_valid, y_valid),batch_size=32,epochs=30)"
   ]
  },
  {
   "cell_type": "code",
   "execution_count": 162,
   "id": "317f8921",
   "metadata": {},
   "outputs": [
    {
     "name": "stdout",
     "output_type": "stream",
     "text": [
      "dict_keys(['loss', 'accuracy', 'val_loss', 'val_accuracy'])\n"
     ]
    },
    {
     "data": {
      "image/png": "[encoded data removed]",
      "text/plain": [
       "<Figure size 640x480 with 1 Axes>"
      ]
     },
     "metadata": {},
     "output_type": "display_data"
    }
   ],
   "source": [
    "print(model.history.history.keys())\n",
    "# summarize history for accuracy\n",
    "plt.plot(model.history.history['accuracy'])\n",
    "plt.plot(model.history.history['val_accuracy'])\n",
    "plt.title('model accuracy')\n",
    "plt.ylabel('accuracy')\n",
    "plt.xlabel('epoch')\n",
    "plt.legend(['train', 'val'], loc='upper left')\n",
    "plt.show()"
   ]
  },
  {
   "cell_type": "code",
   "execution_count": 163,
   "id": "edb4e7b7",
   "metadata": {},
   "outputs": [],
   "source": [
    "X = tf.keras.preprocessing.sequence.pad_sequences(X, maxlen=50)\n",
    "y = data2ch.toxic.values"
   ]
  },
  {
   "cell_type": "code",
   "execution_count": 164,
   "id": "d7da486b",
   "metadata": {},
   "outputs": [],
   "source": [
    "X_train, X_valid, y_train, y_valid = train_test_split(X, y, test_size=0.05)"
   ]
  },
  {
   "cell_type": "code",
   "execution_count": 165,
   "id": "37bc04ba",
   "metadata": {},
   "outputs": [],
   "source": [
    "weights = np.zeros((len(word2id), 50))\n",
    "\n",
    "for word, i in word2id.items():\n",
    "    # вектор паддинга оставим нулевым\n",
    "    if word == 'PAD':\n",
    "        continue\n",
    "\n",
    "    try:\n",
    "        weights[i] = embeddings_cbow[word2id[word]].reshape(1, -1)\n",
    "        \n",
    "    \n",
    "    \n",
    "    except KeyError:\n",
    "        # для слов, которых нет в модели тоже возьмем какой-то  рандомный вектор\n",
    "        continue\n",
    "        weights[i] = embeddings_cbow[word2id['опрагпллирао']].reshape(1, -1)"
   ]
  },
  {
   "cell_type": "code",
   "execution_count": 166,
   "id": "044438f0",
   "metadata": {},
   "outputs": [],
   "source": [
    "inputs = tf.keras.layers.Input(shape=(50,))\n",
    "\n",
    "embeddings = tf.keras.layers.Embedding(input_dim=len(word2id), output_dim=50, trainable=False, weights=[weights])(inputs, )\n",
    "\n",
    "mean = tf.keras.layers.Lambda(lambda x: tf.keras.backend.mean(x,  axis=1))(embeddings)\n",
    "\n",
    "outputs = tf.keras.layers.Dense(1, activation='sigmoid')(mean)\n",
    "\n",
    "model = tf.keras.Model(inputs=inputs, outputs=outputs)\n",
    "optimizer = tf.keras.optimizers.Adam()\n",
    "model.compile(optimizer=optimizer,loss='binary_crossentropy',metrics=['accuracy'])"
   ]
  },
  {
   "cell_type": "code",
   "execution_count": 167,
   "id": "d4a9ecf5",
   "metadata": {
    "scrolled": true
   },
   "outputs": [
    {
     "name": "stdout",
     "output_type": "stream",
     "text": [
      "Epoch 1/30\n",
      "428/428 [==============================] - 2s 3ms/step - loss: 0.6639 - accuracy: 0.6598 - val_loss: 0.6487 - val_accuracy: 0.6546\n",
      "Epoch 2/30\n",
      "428/428 [==============================] - 1s 2ms/step - loss: 0.6364 - accuracy: 0.6657 - val_loss: 0.6389 - val_accuracy: 0.6546\n",
      "Epoch 3/30\n",
      "428/428 [==============================] - 1s 2ms/step - loss: 0.6301 - accuracy: 0.6657 - val_loss: 0.6371 - val_accuracy: 0.6546\n",
      "Epoch 4/30\n",
      "428/428 [==============================] - 1s 2ms/step - loss: 0.6281 - accuracy: 0.6657 - val_loss: 0.6360 - val_accuracy: 0.6546\n",
      "Epoch 5/30\n",
      "428/428 [==============================] - 1s 2ms/step - loss: 0.6268 - accuracy: 0.6657 - val_loss: 0.6349 - val_accuracy: 0.6546\n",
      "Epoch 6/30\n",
      "428/428 [==============================] - 1s 2ms/step - loss: 0.6255 - accuracy: 0.6657 - val_loss: 0.6338 - val_accuracy: 0.6546\n",
      "Epoch 7/30\n",
      "428/428 [==============================] - 1s 2ms/step - loss: 0.6244 - accuracy: 0.6657 - val_loss: 0.6328 - val_accuracy: 0.6546\n",
      "Epoch 8/30\n",
      "428/428 [==============================] - 1s 2ms/step - loss: 0.6233 - accuracy: 0.6657 - val_loss: 0.6317 - val_accuracy: 0.6546\n",
      "Epoch 9/30\n",
      "428/428 [==============================] - 1s 2ms/step - loss: 0.6223 - accuracy: 0.6657 - val_loss: 0.6308 - val_accuracy: 0.6546\n",
      "Epoch 10/30\n",
      "428/428 [==============================] - 1s 2ms/step - loss: 0.6213 - accuracy: 0.6657 - val_loss: 0.6301 - val_accuracy: 0.6546\n",
      "Epoch 11/30\n",
      "428/428 [==============================] - 1s 2ms/step - loss: 0.6205 - accuracy: 0.6657 - val_loss: 0.6292 - val_accuracy: 0.6546\n",
      "Epoch 12/30\n",
      "428/428 [==============================] - 1s 2ms/step - loss: 0.6197 - accuracy: 0.6657 - val_loss: 0.6284 - val_accuracy: 0.6546\n",
      "Epoch 13/30\n",
      "428/428 [==============================] - 1s 2ms/step - loss: 0.6190 - accuracy: 0.6657 - val_loss: 0.6278 - val_accuracy: 0.6546\n",
      "Epoch 14/30\n",
      "428/428 [==============================] - 1s 2ms/step - loss: 0.6183 - accuracy: 0.6657 - val_loss: 0.6273 - val_accuracy: 0.6546\n",
      "Epoch 15/30\n",
      "428/428 [==============================] - 1s 2ms/step - loss: 0.6177 - accuracy: 0.6657 - val_loss: 0.6267 - val_accuracy: 0.6546\n",
      "Epoch 16/30\n",
      "428/428 [==============================] - 1s 2ms/step - loss: 0.6171 - accuracy: 0.6657 - val_loss: 0.6260 - val_accuracy: 0.6546\n",
      "Epoch 17/30\n",
      "428/428 [==============================] - 1s 2ms/step - loss: 0.6166 - accuracy: 0.6657 - val_loss: 0.6257 - val_accuracy: 0.6546\n",
      "Epoch 18/30\n",
      "428/428 [==============================] - 1s 2ms/step - loss: 0.6161 - accuracy: 0.6657 - val_loss: 0.6251 - val_accuracy: 0.6546\n",
      "Epoch 19/30\n",
      "428/428 [==============================] - 1s 2ms/step - loss: 0.6156 - accuracy: 0.6658 - val_loss: 0.6247 - val_accuracy: 0.6546\n",
      "Epoch 20/30\n",
      "428/428 [==============================] - 1s 2ms/step - loss: 0.6152 - accuracy: 0.6658 - val_loss: 0.6242 - val_accuracy: 0.6546\n",
      "Epoch 21/30\n",
      "428/428 [==============================] - 1s 2ms/step - loss: 0.6148 - accuracy: 0.6658 - val_loss: 0.6238 - val_accuracy: 0.6546\n",
      "Epoch 22/30\n",
      "428/428 [==============================] - 1s 2ms/step - loss: 0.6145 - accuracy: 0.6658 - val_loss: 0.6234 - val_accuracy: 0.6546\n",
      "Epoch 23/30\n",
      "428/428 [==============================] - 1s 2ms/step - loss: 0.6141 - accuracy: 0.6656 - val_loss: 0.6232 - val_accuracy: 0.6546\n",
      "Epoch 24/30\n",
      "428/428 [==============================] - 1s 2ms/step - loss: 0.6138 - accuracy: 0.6656 - val_loss: 0.6228 - val_accuracy: 0.6546\n",
      "Epoch 25/30\n",
      "428/428 [==============================] - 1s 2ms/step - loss: 0.6135 - accuracy: 0.6658 - val_loss: 0.6225 - val_accuracy: 0.6546\n",
      "Epoch 26/30\n",
      "428/428 [==============================] - 1s 2ms/step - loss: 0.6132 - accuracy: 0.6657 - val_loss: 0.6222 - val_accuracy: 0.6533\n",
      "Epoch 27/30\n",
      "428/428 [==============================] - 1s 2ms/step - loss: 0.6129 - accuracy: 0.6659 - val_loss: 0.6219 - val_accuracy: 0.6546\n",
      "Epoch 28/30\n",
      "428/428 [==============================] - 1s 2ms/step - loss: 0.6126 - accuracy: 0.6660 - val_loss: 0.6215 - val_accuracy: 0.6546\n",
      "Epoch 29/30\n",
      "428/428 [==============================] - 1s 2ms/step - loss: 0.6124 - accuracy: 0.6659 - val_loss: 0.6213 - val_accuracy: 0.6546\n",
      "Epoch 30/30\n",
      "428/428 [==============================] - 1s 2ms/step - loss: 0.6121 - accuracy: 0.6660 - val_loss: 0.6209 - val_accuracy: 0.6533\n"
     ]
    },
    {
     "data": {
      "text/plain": [
       "<keras.src.callbacks.History at 0x1dc0f6ed510>"
      ]
     },
     "execution_count": 167,
     "metadata": {},
     "output_type": "execute_result"
    }
   ],
   "source": [
    "model.fit(X_train, y_train, validation_data=(X_valid, y_valid),batch_size=32,epochs=30)"
   ]
  },
  {
   "cell_type": "code",
   "execution_count": 168,
   "id": "fea811e2",
   "metadata": {
    "scrolled": false
   },
   "outputs": [
    {
     "name": "stdout",
     "output_type": "stream",
     "text": [
      "dict_keys(['loss', 'accuracy', 'val_loss', 'val_accuracy'])\n"
     ]
    },
    {
     "data": {
      "image/png": "[encoded data removed]",
      "text/plain": [
       "<Figure size 640x480 with 1 Axes>"
      ]
     },
     "metadata": {},
     "output_type": "display_data"
    }
   ],
   "source": [
    "print(model.history.history.keys())\n",
    "# summarize history for accuracy\n",
    "plt.plot(model.history.history['accuracy'])\n",
    "plt.plot(model.history.history['val_accuracy'])\n",
    "plt.title('model accuracy')\n",
    "plt.ylabel('accuracy')\n",
    "plt.xlabel('epoch')\n",
    "plt.legend(['train', 'val'], loc='upper left')\n",
    "plt.show()"
   ]
  },
  {
   "cell_type": "markdown",
   "id": "1e00ae79",
   "metadata": {},
   "source": [
    "### cbow и skip-gram с негативным семплированием"
   ]
  },
  {
   "cell_type": "code",
   "execution_count": 170,
   "id": "dc3f55a4",
   "metadata": {},
   "outputs": [],
   "source": [
    "X = tf.keras.preprocessing.sequence.pad_sequences(X, maxlen=100)\n",
    "y = data2ch.toxic.values"
   ]
  },
  {
   "cell_type": "code",
   "execution_count": 171,
   "id": "ab7d3dcf",
   "metadata": {},
   "outputs": [],
   "source": [
    "X_train, X_valid, y_train, y_valid = train_test_split(X, y, test_size=0.05)"
   ]
  },
  {
   "cell_type": "code",
   "execution_count": 172,
   "id": "726dc691",
   "metadata": {},
   "outputs": [],
   "source": [
    "weights = np.zeros((len(word2id), 100))\n",
    "\n",
    "for word, i in word2id.items():\n",
    "    # вектор паддинга оставим нулевым\n",
    "    if word == 'PAD':\n",
    "        continue\n",
    "\n",
    "    try:\n",
    "        weights[i] = embeddings_sg_neg[word2id[word]].reshape(1, -1)\n",
    "        \n",
    "    \n",
    "    \n",
    "    except KeyError:\n",
    "        # для слов, которых нет в модели тоже возьмем какой-то  рандомный вектор\n",
    "        continue\n",
    "        weights[i] = embeddings_sg_neg[word2id['опрагпллирао']].reshape(1, -1)"
   ]
  },
  {
   "cell_type": "code",
   "execution_count": 173,
   "id": "6b1e111f",
   "metadata": {},
   "outputs": [],
   "source": [
    "inputs = tf.keras.layers.Input(shape=(100,))\n",
    "\n",
    "embeddings = tf.keras.layers.Embedding(input_dim=len(word2id), output_dim=100, trainable=False, weights=[weights])(inputs, )\n",
    "\n",
    "mean = tf.keras.layers.Lambda(lambda x: tf.keras.backend.mean(x,  axis=1))(embeddings)\n",
    "\n",
    "outputs = tf.keras.layers.Dense(1, activation='sigmoid')(mean)\n",
    "\n",
    "model = tf.keras.Model(inputs=inputs, outputs=outputs)\n",
    "optimizer = tf.keras.optimizers.Adam()\n",
    "model.compile(optimizer=optimizer,loss='binary_crossentropy',metrics=['accuracy'])"
   ]
  },
  {
   "cell_type": "code",
   "execution_count": 174,
   "id": "cdf3a4ee",
   "metadata": {
    "scrolled": true
   },
   "outputs": [
    {
     "name": "stdout",
     "output_type": "stream",
     "text": [
      "Epoch 1/30\n",
      "428/428 [==============================] - 2s 3ms/step - loss: 0.6554 - accuracy: 0.6650 - val_loss: 0.6301 - val_accuracy: 0.6685\n",
      "Epoch 2/30\n",
      "428/428 [==============================] - 1s 2ms/step - loss: 0.6264 - accuracy: 0.6650 - val_loss: 0.6186 - val_accuracy: 0.6685\n",
      "Epoch 3/30\n",
      "428/428 [==============================] - 1s 2ms/step - loss: 0.6205 - accuracy: 0.6650 - val_loss: 0.6149 - val_accuracy: 0.6685\n",
      "Epoch 4/30\n",
      "428/428 [==============================] - 1s 3ms/step - loss: 0.6180 - accuracy: 0.6650 - val_loss: 0.6124 - val_accuracy: 0.6685\n",
      "Epoch 5/30\n",
      "428/428 [==============================] - 1s 3ms/step - loss: 0.6159 - accuracy: 0.6650 - val_loss: 0.6104 - val_accuracy: 0.6685\n",
      "Epoch 6/30\n",
      "428/428 [==============================] - 1s 3ms/step - loss: 0.6141 - accuracy: 0.6650 - val_loss: 0.6086 - val_accuracy: 0.6685\n",
      "Epoch 7/30\n",
      "428/428 [==============================] - 1s 3ms/step - loss: 0.6126 - accuracy: 0.6650 - val_loss: 0.6070 - val_accuracy: 0.6685\n",
      "Epoch 8/30\n",
      "428/428 [==============================] - 1s 3ms/step - loss: 0.6113 - accuracy: 0.6650 - val_loss: 0.6056 - val_accuracy: 0.6685\n",
      "Epoch 9/30\n",
      "428/428 [==============================] - 1s 3ms/step - loss: 0.6101 - accuracy: 0.6650 - val_loss: 0.6044 - val_accuracy: 0.6685\n",
      "Epoch 10/30\n",
      "428/428 [==============================] - 1s 3ms/step - loss: 0.6092 - accuracy: 0.6650 - val_loss: 0.6035 - val_accuracy: 0.6685\n",
      "Epoch 11/30\n",
      "428/428 [==============================] - 1s 3ms/step - loss: 0.6084 - accuracy: 0.6650 - val_loss: 0.6027 - val_accuracy: 0.6685\n",
      "Epoch 12/30\n",
      "428/428 [==============================] - 1s 2ms/step - loss: 0.6078 - accuracy: 0.6671 - val_loss: 0.6019 - val_accuracy: 0.6685\n",
      "Epoch 13/30\n",
      "428/428 [==============================] - 1s 3ms/step - loss: 0.6072 - accuracy: 0.6696 - val_loss: 0.6014 - val_accuracy: 0.6713\n",
      "Epoch 14/30\n",
      "428/428 [==============================] - 1s 2ms/step - loss: 0.6068 - accuracy: 0.6711 - val_loss: 0.6009 - val_accuracy: 0.6782\n",
      "Epoch 15/30\n",
      "428/428 [==============================] - 1s 2ms/step - loss: 0.6064 - accuracy: 0.6753 - val_loss: 0.6005 - val_accuracy: 0.6782\n",
      "Epoch 16/30\n",
      "428/428 [==============================] - 1s 3ms/step - loss: 0.6061 - accuracy: 0.6780 - val_loss: 0.6001 - val_accuracy: 0.6824\n",
      "Epoch 17/30\n",
      "428/428 [==============================] - 1s 2ms/step - loss: 0.6058 - accuracy: 0.6788 - val_loss: 0.5998 - val_accuracy: 0.6852\n",
      "Epoch 18/30\n",
      "428/428 [==============================] - 1s 2ms/step - loss: 0.6055 - accuracy: 0.6820 - val_loss: 0.5996 - val_accuracy: 0.6852\n",
      "Epoch 19/30\n",
      "428/428 [==============================] - 1s 3ms/step - loss: 0.6054 - accuracy: 0.6844 - val_loss: 0.5993 - val_accuracy: 0.6893\n",
      "Epoch 20/30\n",
      "428/428 [==============================] - 1s 3ms/step - loss: 0.6052 - accuracy: 0.6847 - val_loss: 0.5991 - val_accuracy: 0.6879\n",
      "Epoch 21/30\n",
      "428/428 [==============================] - 1s 3ms/step - loss: 0.6050 - accuracy: 0.6861 - val_loss: 0.5989 - val_accuracy: 0.6879\n",
      "Epoch 22/30\n",
      "428/428 [==============================] - 1s 3ms/step - loss: 0.6049 - accuracy: 0.6864 - val_loss: 0.5987 - val_accuracy: 0.6893\n",
      "Epoch 23/30\n",
      "428/428 [==============================] - 1s 3ms/step - loss: 0.6048 - accuracy: 0.6861 - val_loss: 0.5986 - val_accuracy: 0.6907\n",
      "Epoch 24/30\n",
      "428/428 [==============================] - 1s 3ms/step - loss: 0.6047 - accuracy: 0.6859 - val_loss: 0.5985 - val_accuracy: 0.6865\n",
      "Epoch 25/30\n",
      "428/428 [==============================] - 1s 3ms/step - loss: 0.6046 - accuracy: 0.6861 - val_loss: 0.5984 - val_accuracy: 0.6838\n",
      "Epoch 26/30\n",
      "428/428 [==============================] - 1s 3ms/step - loss: 0.6045 - accuracy: 0.6850 - val_loss: 0.5982 - val_accuracy: 0.6865\n",
      "Epoch 27/30\n",
      "428/428 [==============================] - 1s 2ms/step - loss: 0.6044 - accuracy: 0.6861 - val_loss: 0.5981 - val_accuracy: 0.6865\n",
      "Epoch 28/30\n",
      "428/428 [==============================] - 1s 2ms/step - loss: 0.6043 - accuracy: 0.6853 - val_loss: 0.5980 - val_accuracy: 0.6893\n",
      "Epoch 29/30\n",
      "428/428 [==============================] - 1s 2ms/step - loss: 0.6043 - accuracy: 0.6859 - val_loss: 0.5980 - val_accuracy: 0.6907\n",
      "Epoch 30/30\n",
      "428/428 [==============================] - 1s 2ms/step - loss: 0.6042 - accuracy: 0.6852 - val_loss: 0.5979 - val_accuracy: 0.6879\n"
     ]
    },
    {
     "data": {
      "text/plain": [
       "<keras.src.callbacks.History at 0x1dc3c4c1d50>"
      ]
     },
     "execution_count": 174,
     "metadata": {},
     "output_type": "execute_result"
    }
   ],
   "source": [
    "model.fit(X_train, y_train, validation_data=(X_valid, y_valid),batch_size=32,epochs=30)"
   ]
  },
  {
   "cell_type": "code",
   "execution_count": 175,
   "id": "4afb2d50",
   "metadata": {},
   "outputs": [
    {
     "name": "stdout",
     "output_type": "stream",
     "text": [
      "dict_keys(['loss', 'accuracy', 'val_loss', 'val_accuracy'])\n"
     ]
    },
    {
     "data": {
      "image/png": "[encoded data removed]",
      "text/plain": [
       "<Figure size 640x480 with 1 Axes>"
      ]
     },
     "metadata": {},
     "output_type": "display_data"
    }
   ],
   "source": [
    "print(model.history.history.keys())\n",
    "# summarize history for accuracy\n",
    "plt.plot(model.history.history['accuracy'])\n",
    "plt.plot(model.history.history['val_accuracy'])\n",
    "plt.title('model accuracy')\n",
    "plt.ylabel('accuracy')\n",
    "plt.xlabel('epoch')\n",
    "plt.legend(['train', 'val'], loc='upper left')\n",
    "plt.show()"
   ]
  },
  {
   "cell_type": "code",
   "execution_count": 176,
   "id": "ddf1aac2",
   "metadata": {},
   "outputs": [],
   "source": [
    "X = tf.keras.preprocessing.sequence.pad_sequences(X, maxlen=100)\n",
    "y = data2ch.toxic.values"
   ]
  },
  {
   "cell_type": "code",
   "execution_count": 177,
   "id": "989b6925",
   "metadata": {},
   "outputs": [],
   "source": [
    "X_train, X_valid, y_train, y_valid = train_test_split(X, y, test_size=0.05)"
   ]
  },
  {
   "cell_type": "code",
   "execution_count": 178,
   "id": "e15ce8bd",
   "metadata": {},
   "outputs": [],
   "source": [
    "weights = np.zeros((len(word2id), 100))\n",
    "\n",
    "for word, i in word2id.items():\n",
    "    # вектор паддинга оставим нулевым\n",
    "    if word == 'PAD':\n",
    "        continue\n",
    "\n",
    "    try:\n",
    "        weights[i] = embeddings_cbow_neg[word2id[word]].reshape(1, -1)\n",
    "        \n",
    "    \n",
    "    \n",
    "    except KeyError:\n",
    "        # для слов, которых нет в модели тоже возьмем какой-то  рандомный вектор\n",
    "        continue\n",
    "        weights[i] = embeddings_cbow_neg[word2id['опрагпллирао']].reshape(1, -1)"
   ]
  },
  {
   "cell_type": "code",
   "execution_count": 179,
   "id": "eb730e63",
   "metadata": {},
   "outputs": [],
   "source": [
    "inputs = tf.keras.layers.Input(shape=(100,))\n",
    "\n",
    "embeddings = tf.keras.layers.Embedding(input_dim=len(word2id), output_dim=100, trainable=False, weights=[weights])(inputs, )\n",
    "\n",
    "mean = tf.keras.layers.Lambda(lambda x: tf.keras.backend.mean(x,  axis=1))(embeddings)\n",
    "\n",
    "outputs = tf.keras.layers.Dense(1, activation='sigmoid')(mean)\n",
    "\n",
    "model = tf.keras.Model(inputs=inputs, outputs=outputs)\n",
    "optimizer = tf.keras.optimizers.Adam()\n",
    "model.compile(optimizer=optimizer,loss='binary_crossentropy',metrics=['accuracy'])"
   ]
  },
  {
   "cell_type": "code",
   "execution_count": 180,
   "id": "b76cc4c6",
   "metadata": {
    "scrolled": true
   },
   "outputs": [
    {
     "name": "stdout",
     "output_type": "stream",
     "text": [
      "Epoch 1/30\n",
      "428/428 [==============================] - 2s 3ms/step - loss: 0.6423 - accuracy: 0.6623 - val_loss: 0.6190 - val_accuracy: 0.6546\n",
      "Epoch 2/30\n",
      "428/428 [==============================] - 1s 2ms/step - loss: 0.6142 - accuracy: 0.6657 - val_loss: 0.6127 - val_accuracy: 0.6546\n",
      "Epoch 3/30\n",
      "428/428 [==============================] - 1s 3ms/step - loss: 0.6108 - accuracy: 0.6657 - val_loss: 0.6096 - val_accuracy: 0.6546\n",
      "Epoch 4/30\n",
      "428/428 [==============================] - 1s 3ms/step - loss: 0.6087 - accuracy: 0.6657 - val_loss: 0.6069 - val_accuracy: 0.6546\n",
      "Epoch 5/30\n",
      "428/428 [==============================] - 1s 3ms/step - loss: 0.6071 - accuracy: 0.6657 - val_loss: 0.6046 - val_accuracy: 0.6546\n",
      "Epoch 6/30\n",
      "428/428 [==============================] - 1s 2ms/step - loss: 0.6058 - accuracy: 0.6675 - val_loss: 0.6027 - val_accuracy: 0.6574\n",
      "Epoch 7/30\n",
      "428/428 [==============================] - 1s 3ms/step - loss: 0.6048 - accuracy: 0.6704 - val_loss: 0.6012 - val_accuracy: 0.6657\n",
      "Epoch 8/30\n",
      "428/428 [==============================] - 1s 3ms/step - loss: 0.6040 - accuracy: 0.6742 - val_loss: 0.6000 - val_accuracy: 0.6741\n",
      "Epoch 9/30\n",
      "428/428 [==============================] - 1s 3ms/step - loss: 0.6033 - accuracy: 0.6773 - val_loss: 0.5988 - val_accuracy: 0.6768\n",
      "Epoch 10/30\n",
      "428/428 [==============================] - 1s 3ms/step - loss: 0.6028 - accuracy: 0.6806 - val_loss: 0.5980 - val_accuracy: 0.6741\n",
      "Epoch 11/30\n",
      "428/428 [==============================] - 1s 3ms/step - loss: 0.6024 - accuracy: 0.6802 - val_loss: 0.5972 - val_accuracy: 0.6768\n",
      "Epoch 12/30\n",
      "428/428 [==============================] - 1s 3ms/step - loss: 0.6020 - accuracy: 0.6838 - val_loss: 0.5967 - val_accuracy: 0.6810\n",
      "Epoch 13/30\n",
      "428/428 [==============================] - 1s 3ms/step - loss: 0.6016 - accuracy: 0.6844 - val_loss: 0.5960 - val_accuracy: 0.6865\n",
      "Epoch 14/30\n",
      "428/428 [==============================] - 1s 2ms/step - loss: 0.6014 - accuracy: 0.6856 - val_loss: 0.5956 - val_accuracy: 0.6865\n",
      "Epoch 15/30\n",
      "428/428 [==============================] - 1s 2ms/step - loss: 0.6011 - accuracy: 0.6861 - val_loss: 0.5953 - val_accuracy: 0.6865\n",
      "Epoch 16/30\n",
      "428/428 [==============================] - 1s 2ms/step - loss: 0.6009 - accuracy: 0.6856 - val_loss: 0.5948 - val_accuracy: 0.6838\n",
      "Epoch 17/30\n",
      "428/428 [==============================] - 1s 2ms/step - loss: 0.6006 - accuracy: 0.6866 - val_loss: 0.5944 - val_accuracy: 0.6838\n",
      "Epoch 18/30\n",
      "428/428 [==============================] - 1s 2ms/step - loss: 0.6004 - accuracy: 0.6871 - val_loss: 0.5940 - val_accuracy: 0.6824\n",
      "Epoch 19/30\n",
      "428/428 [==============================] - 1s 2ms/step - loss: 0.6002 - accuracy: 0.6878 - val_loss: 0.5938 - val_accuracy: 0.6838\n",
      "Epoch 20/30\n",
      "428/428 [==============================] - 1s 2ms/step - loss: 0.6000 - accuracy: 0.6894 - val_loss: 0.5935 - val_accuracy: 0.6838\n",
      "Epoch 21/30\n",
      "428/428 [==============================] - 1s 2ms/step - loss: 0.5998 - accuracy: 0.6889 - val_loss: 0.5934 - val_accuracy: 0.6838\n",
      "Epoch 22/30\n",
      "428/428 [==============================] - 1s 3ms/step - loss: 0.5997 - accuracy: 0.6895 - val_loss: 0.5933 - val_accuracy: 0.6838\n",
      "Epoch 23/30\n",
      "428/428 [==============================] - 1s 3ms/step - loss: 0.5994 - accuracy: 0.6875 - val_loss: 0.5930 - val_accuracy: 0.6838\n",
      "Epoch 24/30\n",
      "428/428 [==============================] - 1s 3ms/step - loss: 0.5992 - accuracy: 0.6885 - val_loss: 0.5927 - val_accuracy: 0.6865\n",
      "Epoch 25/30\n",
      "428/428 [==============================] - 1s 3ms/step - loss: 0.5990 - accuracy: 0.6894 - val_loss: 0.5924 - val_accuracy: 0.6810\n",
      "Epoch 26/30\n",
      "428/428 [==============================] - 1s 3ms/step - loss: 0.5989 - accuracy: 0.6887 - val_loss: 0.5923 - val_accuracy: 0.6865\n",
      "Epoch 27/30\n",
      "428/428 [==============================] - 1s 3ms/step - loss: 0.5986 - accuracy: 0.6899 - val_loss: 0.5920 - val_accuracy: 0.6838\n",
      "Epoch 28/30\n",
      "428/428 [==============================] - 1s 2ms/step - loss: 0.5985 - accuracy: 0.6901 - val_loss: 0.5920 - val_accuracy: 0.6838\n",
      "Epoch 29/30\n",
      "428/428 [==============================] - 1s 2ms/step - loss: 0.5983 - accuracy: 0.6894 - val_loss: 0.5919 - val_accuracy: 0.6810\n",
      "Epoch 30/30\n",
      "428/428 [==============================] - 1s 2ms/step - loss: 0.5982 - accuracy: 0.6893 - val_loss: 0.5916 - val_accuracy: 0.6852\n"
     ]
    },
    {
     "data": {
      "text/plain": [
       "<keras.src.callbacks.History at 0x1dc419c81d0>"
      ]
     },
     "execution_count": 180,
     "metadata": {},
     "output_type": "execute_result"
    }
   ],
   "source": [
    "model.fit(X_train, y_train, validation_data=(X_valid, y_valid),batch_size=32,epochs=30)"
   ]
  },
  {
   "cell_type": "code",
   "execution_count": 181,
   "id": "e7c051ad",
   "metadata": {},
   "outputs": [
    {
     "name": "stdout",
     "output_type": "stream",
     "text": [
      "dict_keys(['loss', 'accuracy', 'val_loss', 'val_accuracy'])\n"
     ]
    },
    {
     "data": {
      "image/png": "[encoded data removed]",
      "text/plain": [
       "<Figure size 640x480 with 1 Axes>"
      ]
     },
     "metadata": {},
     "output_type": "display_data"
    }
   ],
   "source": [
    "print(model.history.history.keys())\n",
    "# summarize history for accuracy\n",
    "plt.plot(model.history.history['accuracy'])\n",
    "plt.plot(model.history.history['val_accuracy'])\n",
    "plt.title('model accuracy')\n",
    "plt.ylabel('accuracy')\n",
    "plt.xlabel('epoch')\n",
    "plt.legend(['train', 'val'], loc='upper left')\n",
    "plt.show()"
   ]
  },
  {
   "cell_type": "code",
   "execution_count": 133,
   "id": "a3ac9399",
   "metadata": {
    "scrolled": true
   },
   "outputs": [
    {
     "data": {
      "text/plain": [
       "array([[-1.06316790e-01,  2.47496322e-01,  3.61021131e-01,\n",
       "         1.86687157e-01,  1.07773006e-01, -3.63048390e-02,\n",
       "        -3.62422436e-01, -3.46613377e-02,  1.37382090e-01,\n",
       "         5.37553579e-02,  6.64869547e-02, -3.22837651e-01,\n",
       "         2.73882598e-01, -2.19024606e-02,  3.34946632e-01,\n",
       "         1.47599503e-01,  4.04169038e-02,  1.26817793e-01,\n",
       "        -4.98096868e-02, -1.19040906e-01,  4.83489245e-01,\n",
       "        -3.35976690e-01,  1.43907711e-01, -1.46075413e-01,\n",
       "         1.60498425e-01,  5.72796278e-02, -6.83793128e-02,\n",
       "         1.97224304e-01, -2.99659133e-01,  7.43672699e-02,\n",
       "        -1.63370982e-01,  2.61928998e-02,  1.00903539e-02,\n",
       "         2.78272033e-01,  9.75549966e-02,  2.41950065e-01,\n",
       "         1.34568051e-01, -3.74167343e-04,  6.61381632e-02,\n",
       "         1.18077490e-02, -3.39185745e-01,  2.47767448e-01,\n",
       "         2.02103674e-01,  1.49785364e-02, -5.87549321e-02,\n",
       "         2.33457536e-01,  6.71359003e-02,  2.03017429e-01,\n",
       "        -3.53042483e-01, -6.90456703e-02, -5.47370408e-03,\n",
       "         1.10808119e-01, -1.49850279e-01, -2.74340749e-01,\n",
       "        -1.06995575e-01,  7.63462111e-02,  9.31249261e-02,\n",
       "         2.85183340e-01,  1.28961891e-01, -2.46153027e-01,\n",
       "         1.66313514e-01,  1.16128325e-02,  4.78006154e-02,\n",
       "        -4.52437662e-02,  8.19593854e-03,  1.35019317e-01,\n",
       "         3.49866927e-01, -8.70007426e-02, -2.47780621e-01,\n",
       "        -2.14965437e-02, -1.93429098e-01,  1.15191102e-01,\n",
       "         9.87011492e-02, -2.48498142e-01,  2.45442852e-01,\n",
       "        -2.44824961e-02, -1.32633746e-01,  1.11026742e-01,\n",
       "        -2.56757736e-01,  2.43882850e-01, -8.81579593e-02,\n",
       "         2.82568008e-01,  2.79511679e-02,  2.87555661e-02,\n",
       "         1.20985225e-01,  3.25601667e-01,  4.17245030e-01,\n",
       "        -1.46824569e-01,  3.11294422e-02,  2.61810143e-02,\n",
       "        -1.92550927e-01, -6.43482152e-03, -2.20182553e-01,\n",
       "        -7.06568360e-02, -2.33752459e-01, -4.24784534e-02,\n",
       "        -3.55135113e-01, -2.68862784e-01, -2.29693070e-01,\n",
       "         2.93147743e-01]], dtype=float32)"
      ]
     },
     "execution_count": 133,
     "metadata": {},
     "output_type": "execute_result"
    }
   ],
   "source": [
    "embeddings_cbow_neg[word2id['космос']].reshape(1, -1)"
   ]
  },
  {
   "cell_type": "code",
   "execution_count": 216,
   "id": "5bc663f1",
   "metadata": {},
   "outputs": [],
   "source": [
    "\n",
    "model = gensim.models.KeyedVectors.load_word2vec_format('news_upos_skipgram_300_5_2019.vec', binary=False)"
   ]
  },
  {
   "cell_type": "code",
   "execution_count": 217,
   "id": "f58c516d",
   "metadata": {},
   "outputs": [],
   "source": [
    "m = Mystem()"
   ]
  },
  {
   "cell_type": "code",
   "execution_count": 218,
   "id": "5b82065b",
   "metadata": {},
   "outputs": [],
   "source": [
    "mapping = {}\n",
    "\n",
    "for line in open('./ru-rnc.map'):\n",
    "    ms, ud = line.strip('\\n').split()\n",
    "    mapping[ms] = ud"
   ]
  },
  {
   "cell_type": "code",
   "execution_count": 219,
   "id": "1c8d440d",
   "metadata": {},
   "outputs": [],
   "source": [
    "def normalize_mystem(text):\n",
    "    tokens = []\n",
    "    norm_words = m.analyze(text)\n",
    "    for norm_word in norm_words:\n",
    "        if 'analysis' not in norm_word:\n",
    "            continue\n",
    "            \n",
    "        if not len(norm_word['analysis']):\n",
    "            lemma = norm_word['text']\n",
    "            pos = 'UNKN'\n",
    "        else:\n",
    "            lemma = norm_word[\"analysis\"][0][\"lex\"].lower().strip()\n",
    "            pos = norm_word[\"analysis\"][0][\"gr\"].split(',')[0]\n",
    "            pos = pos.split('=')[0].strip()\n",
    "        pos = mapping[pos]\n",
    "        tokens.append(lemma+'_'+pos)\n",
    "\n",
    "    return tokens"
   ]
  },
  {
   "cell_type": "code",
   "execution_count": null,
   "id": "64b99f9b",
   "metadata": {},
   "outputs": [],
   "source": [
    "data2ch2 = pd.read_csv('labeled.csv')\n",
    "data2ch2['norm_text'] = data2ch2.comment.apply(normalize_mystem)"
   ]
  },
  {
   "cell_type": "code",
   "execution_count": 220,
   "id": "0bfd01b8",
   "metadata": {
    "scrolled": false
   },
   "outputs": [
    {
     "ename": "KeyboardInterrupt",
     "evalue": "",
     "output_type": "error",
     "traceback": [
      "\u001b[1;31m---------------------------------------------------------------------------\u001b[0m",
      "\u001b[1;31mKeyboardInterrupt\u001b[0m                         Traceback (most recent call last)",
      "Cell \u001b[1;32mIn[220], line 4\u001b[0m\n\u001b[0;32m      1\u001b[0m vocab_upos \u001b[38;5;241m=\u001b[39m Counter()\n\u001b[0;32m      3\u001b[0m \u001b[38;5;28;01mfor\u001b[39;00m text \u001b[38;5;129;01min\u001b[39;00m data2ch[\u001b[38;5;124m'\u001b[39m\u001b[38;5;124mnorm_text\u001b[39m\u001b[38;5;124m'\u001b[39m]:\n\u001b[1;32m----> 4\u001b[0m     vocab\u001b[38;5;241m.\u001b[39mupdate(\u001b[38;5;28mstr\u001b[39m(normalize_mystem(\u001b[38;5;28mstr\u001b[39m(text))))\n\u001b[0;32m      6\u001b[0m filtered_vocab_upos \u001b[38;5;241m=\u001b[39m \u001b[38;5;28mset\u001b[39m()\n\u001b[0;32m      8\u001b[0m \u001b[38;5;28;01mfor\u001b[39;00m word \u001b[38;5;129;01min\u001b[39;00m vocab_upos:\n",
      "Cell \u001b[1;32mIn[219], line 3\u001b[0m, in \u001b[0;36mnormalize_mystem\u001b[1;34m(text)\u001b[0m\n\u001b[0;32m      1\u001b[0m \u001b[38;5;28;01mdef\u001b[39;00m \u001b[38;5;21mnormalize_mystem\u001b[39m(text):\n\u001b[0;32m      2\u001b[0m     tokens \u001b[38;5;241m=\u001b[39m []\n\u001b[1;32m----> 3\u001b[0m     norm_words \u001b[38;5;241m=\u001b[39m m\u001b[38;5;241m.\u001b[39manalyze(text)\n\u001b[0;32m      4\u001b[0m     \u001b[38;5;28;01mfor\u001b[39;00m norm_word \u001b[38;5;129;01min\u001b[39;00m norm_words:\n\u001b[0;32m      5\u001b[0m         \u001b[38;5;28;01mif\u001b[39;00m \u001b[38;5;124m'\u001b[39m\u001b[38;5;124manalysis\u001b[39m\u001b[38;5;124m'\u001b[39m \u001b[38;5;129;01mnot\u001b[39;00m \u001b[38;5;129;01min\u001b[39;00m norm_word:\n",
      "File \u001b[1;32m~\\anaconda3\\Lib\\site-packages\\pymystem3\\mystem.py:250\u001b[0m, in \u001b[0;36mMystem.analyze\u001b[1;34m(self, text)\u001b[0m\n\u001b[0;32m    248\u001b[0m result \u001b[38;5;241m=\u001b[39m []\n\u001b[0;32m    249\u001b[0m \u001b[38;5;28;01mfor\u001b[39;00m line \u001b[38;5;129;01min\u001b[39;00m text\u001b[38;5;241m.\u001b[39msplitlines():\n\u001b[1;32m--> 250\u001b[0m     result\u001b[38;5;241m.\u001b[39mextend(\u001b[38;5;28mself\u001b[39m\u001b[38;5;241m.\u001b[39m_analyze_impl(line))\n\u001b[0;32m    251\u001b[0m \u001b[38;5;28;01mreturn\u001b[39;00m result\n",
      "File \u001b[1;32m~\\anaconda3\\Lib\\site-packages\\pymystem3\\mystem.py:313\u001b[0m, in \u001b[0;36mMystem._analyze_impl\u001b[1;34m(self, text)\u001b[0m\n\u001b[0;32m    310\u001b[0m \u001b[38;5;28mself\u001b[39m\u001b[38;5;241m.\u001b[39m_procin\u001b[38;5;241m.\u001b[39mwrite(text)\n\u001b[0;32m    311\u001b[0m \u001b[38;5;28mself\u001b[39m\u001b[38;5;241m.\u001b[39m_procin\u001b[38;5;241m.\u001b[39mwrite(_NL)\n\u001b[1;32m--> 313\u001b[0m out, _ \u001b[38;5;241m=\u001b[39m \u001b[38;5;28mself\u001b[39m\u001b[38;5;241m.\u001b[39m_proc\u001b[38;5;241m.\u001b[39mcommunicate()\n\u001b[0;32m    314\u001b[0m \u001b[38;5;28mself\u001b[39m\u001b[38;5;241m.\u001b[39m_proc \u001b[38;5;241m=\u001b[39m \u001b[38;5;28;01mNone\u001b[39;00m\n\u001b[0;32m    315\u001b[0m \u001b[38;5;28;01mtry\u001b[39;00m:\n\u001b[0;32m    316\u001b[0m     \u001b[38;5;66;03m#obj = json.loads(out)\u001b[39;00m\n",
      "File \u001b[1;32m~\\anaconda3\\Lib\\subprocess.py:1209\u001b[0m, in \u001b[0;36mPopen.communicate\u001b[1;34m(self, input, timeout)\u001b[0m\n\u001b[0;32m   1206\u001b[0m     endtime \u001b[38;5;241m=\u001b[39m \u001b[38;5;28;01mNone\u001b[39;00m\n\u001b[0;32m   1208\u001b[0m \u001b[38;5;28;01mtry\u001b[39;00m:\n\u001b[1;32m-> 1209\u001b[0m     stdout, stderr \u001b[38;5;241m=\u001b[39m \u001b[38;5;28mself\u001b[39m\u001b[38;5;241m.\u001b[39m_communicate(\u001b[38;5;28minput\u001b[39m, endtime, timeout)\n\u001b[0;32m   1210\u001b[0m \u001b[38;5;28;01mexcept\u001b[39;00m \u001b[38;5;167;01mKeyboardInterrupt\u001b[39;00m:\n\u001b[0;32m   1211\u001b[0m     \u001b[38;5;66;03m# https://bugs.python.org/issue25942\u001b[39;00m\n\u001b[0;32m   1212\u001b[0m     \u001b[38;5;66;03m# See the detailed comment in .wait().\u001b[39;00m\n\u001b[0;32m   1213\u001b[0m     \u001b[38;5;28;01mif\u001b[39;00m timeout \u001b[38;5;129;01mis\u001b[39;00m \u001b[38;5;129;01mnot\u001b[39;00m \u001b[38;5;28;01mNone\u001b[39;00m:\n",
      "File \u001b[1;32m~\\anaconda3\\Lib\\subprocess.py:1626\u001b[0m, in \u001b[0;36mPopen._communicate\u001b[1;34m(self, input, endtime, orig_timeout)\u001b[0m\n\u001b[0;32m   1622\u001b[0m \u001b[38;5;66;03m# Wait for the reader threads, or time out.  If we time out, the\u001b[39;00m\n\u001b[0;32m   1623\u001b[0m \u001b[38;5;66;03m# threads remain reading and the fds left open in case the user\u001b[39;00m\n\u001b[0;32m   1624\u001b[0m \u001b[38;5;66;03m# calls communicate again.\u001b[39;00m\n\u001b[0;32m   1625\u001b[0m \u001b[38;5;28;01mif\u001b[39;00m \u001b[38;5;28mself\u001b[39m\u001b[38;5;241m.\u001b[39mstdout \u001b[38;5;129;01mis\u001b[39;00m \u001b[38;5;129;01mnot\u001b[39;00m \u001b[38;5;28;01mNone\u001b[39;00m:\n\u001b[1;32m-> 1626\u001b[0m     \u001b[38;5;28mself\u001b[39m\u001b[38;5;241m.\u001b[39mstdout_thread\u001b[38;5;241m.\u001b[39mjoin(\u001b[38;5;28mself\u001b[39m\u001b[38;5;241m.\u001b[39m_remaining_time(endtime))\n\u001b[0;32m   1627\u001b[0m     \u001b[38;5;28;01mif\u001b[39;00m \u001b[38;5;28mself\u001b[39m\u001b[38;5;241m.\u001b[39mstdout_thread\u001b[38;5;241m.\u001b[39mis_alive():\n\u001b[0;32m   1628\u001b[0m         \u001b[38;5;28;01mraise\u001b[39;00m TimeoutExpired(\u001b[38;5;28mself\u001b[39m\u001b[38;5;241m.\u001b[39margs, orig_timeout)\n",
      "File \u001b[1;32m~\\anaconda3\\Lib\\threading.py:1112\u001b[0m, in \u001b[0;36mThread.join\u001b[1;34m(self, timeout)\u001b[0m\n\u001b[0;32m   1109\u001b[0m     \u001b[38;5;28;01mraise\u001b[39;00m \u001b[38;5;167;01mRuntimeError\u001b[39;00m(\u001b[38;5;124m\"\u001b[39m\u001b[38;5;124mcannot join current thread\u001b[39m\u001b[38;5;124m\"\u001b[39m)\n\u001b[0;32m   1111\u001b[0m \u001b[38;5;28;01mif\u001b[39;00m timeout \u001b[38;5;129;01mis\u001b[39;00m \u001b[38;5;28;01mNone\u001b[39;00m:\n\u001b[1;32m-> 1112\u001b[0m     \u001b[38;5;28mself\u001b[39m\u001b[38;5;241m.\u001b[39m_wait_for_tstate_lock()\n\u001b[0;32m   1113\u001b[0m \u001b[38;5;28;01melse\u001b[39;00m:\n\u001b[0;32m   1114\u001b[0m     \u001b[38;5;66;03m# the behavior of a negative timeout isn't documented, but\u001b[39;00m\n\u001b[0;32m   1115\u001b[0m     \u001b[38;5;66;03m# historically .join(timeout=x) for x<0 has acted as if timeout=0\u001b[39;00m\n\u001b[0;32m   1116\u001b[0m     \u001b[38;5;28mself\u001b[39m\u001b[38;5;241m.\u001b[39m_wait_for_tstate_lock(timeout\u001b[38;5;241m=\u001b[39m\u001b[38;5;28mmax\u001b[39m(timeout, \u001b[38;5;241m0\u001b[39m))\n",
      "File \u001b[1;32m~\\anaconda3\\Lib\\threading.py:1132\u001b[0m, in \u001b[0;36mThread._wait_for_tstate_lock\u001b[1;34m(self, block, timeout)\u001b[0m\n\u001b[0;32m   1129\u001b[0m     \u001b[38;5;28;01mreturn\u001b[39;00m\n\u001b[0;32m   1131\u001b[0m \u001b[38;5;28;01mtry\u001b[39;00m:\n\u001b[1;32m-> 1132\u001b[0m     \u001b[38;5;28;01mif\u001b[39;00m lock\u001b[38;5;241m.\u001b[39macquire(block, timeout):\n\u001b[0;32m   1133\u001b[0m         lock\u001b[38;5;241m.\u001b[39mrelease()\n\u001b[0;32m   1134\u001b[0m         \u001b[38;5;28mself\u001b[39m\u001b[38;5;241m.\u001b[39m_stop()\n",
      "\u001b[1;31mKeyboardInterrupt\u001b[0m: "
     ]
    }
   ],
   "source": [
    "vocab_upos = Counter()\n",
    "\n",
    "for text in data2ch['norm_text']:\n",
    "    vocab.update(str(normalize_mystem(str(text))))\n",
    "    \n",
    "filtered_vocab_upos = set()\n",
    "\n",
    "for word in vocab_upos:\n",
    "    if vocab_upos[word] > 5:\n",
    "        filtered_vocab_upos.add(word)\n",
    "\n",
    "len(filtered_vocab_upos)"
   ]
  },
  {
   "cell_type": "markdown",
   "id": "6e0a53cc",
   "metadata": {},
   "source": [
    "## Выводы\n",
    "#### Результаты работы моделей я оцениваю по метрикам accuracy и loss и по таким характеристикам, как время обучения и общее удобство использования. \n",
    "\n",
    "#### 1) Наилучшие результаты показали первые тесты с gensim-моделями, особенно FastText - он дал самые лучшие показатели accuracy и loss, был крайне удобен и интуитивен в обращении, а время на его обучение не превышало 5 минут. Это модель, которую я скорее всего взял бы на вооружение в реальной практической деятельности.\n",
    "\n",
    "#### 2) Также неплохие показатели по метрикам дали cbow и skip-gram с негативным семплированием. Единственное, что смущает - это долгое время обучения. 5 минут на одну эпоху - это, пожалуй, слишком много. Особенно при том, что существует FastText, который может за это же время пройти 8 эпох. К тому же, эти модели немного сложнее в обращении - конструкции вроде embeddings_sg_neg[word2id[word]].reshape(1, -1) смущают. Тем не менее, если по какой-то причине мы не можем использовать gensim, можно обратиться к ним.\n",
    "\n",
    "#### 3) То же самон нельзя сказать о cbow и skip-gram без негативного семплирования. Они обучаются очень медленно, а метрики по ним довольно некачественные. Не стоит затраченного врмени. \n",
    "\n",
    "#### 4) При имеющихся данных и задаче классификации токсичных текстов rusvectores *отвратителен*. В плане удобства использования это самый худший вариант из всех представленных: нерабочие ссылки на модели при полной неорганизованности сайта, а также неочевидная организация самых файлов внутри моделей делают работу с ним крайне сложной. А наличие тегов рядом с каждым токеном усложняет эту работу ещё сильнее. Мне не нужно знать, к какой части речи относится каждое из 7 основных матерных слов в русском языке, чтобы понять, что их появление, скорее всего, говорит о токсичности высказывания. Но работа с этими моделями подразумевает, что эти тэги должны либо как-то добавляться в имеющийся корпус, либо удаляться из самих моделей. Оба этих варианта крайне затратны по времени. А с учётом того, что rusvectores-модели, судя по всему, не обновляются, тратить это время бессмысленно. Мир и токсичность в нём растёт и развивается быстрее, чем мы можем себе представить, опираться на неудобные модели пятилетней давности при подобной работе - это слишком больно. "
   ]
  },
  {
   "cell_type": "code",
   "execution_count": null,
   "id": "73b50871",
   "metadata": {},
   "outputs": [],
   "source": []
  }
 ],
 "metadata": {
  "kernelspec": {
   "display_name": "Python 3 (ipykernel)",
   "language": "python",
   "name": "python3"
  },
  "language_info": {
   "codemirror_mode": {
    "name": "ipython",
    "version": 3
   },
   "file_extension": ".py",
   "mimetype": "text/x-python",
   "name": "python",
   "nbconvert_exporter": "python",
   "pygments_lexer": "ipython3",
   "version": "3.11.4"
  }
 },
 "nbformat": 4,
 "nbformat_minor": 5
}
