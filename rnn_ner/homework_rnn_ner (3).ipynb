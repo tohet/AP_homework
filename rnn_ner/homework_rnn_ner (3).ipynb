{
  "cells": [
    {
      "cell_type": "markdown",
      "id": "1bf6f873",
      "metadata": {
        "id": "1bf6f873"
      },
      "source": [
        "# Домашнее задание № 8"
      ]
    },
    {
      "cell_type": "markdown",
      "id": "3b4bd487",
      "metadata": {
        "id": "3b4bd487"
      },
      "source": [
        "## Задание 1 (4 балла)"
      ]
    },
    {
      "cell_type": "markdown",
      "id": "bf4c4f87",
      "metadata": {
        "id": "bf4c4f87"
      },
      "source": [
        "Обучите 8 моделей для задачи классификации текста (датасет - lenta_40k ). А именно:  \n",
        "1) модель с 1 GRU слоем;   \n",
        "2) модель с 1 LSTM слоем    \n",
        "3) модель с 1 GRU и 1 LSTM слоем  \n",
        "4) модель с 1 BIGRU и 2 LSTM слоями  \n",
        "5) модель с 5 GRU слоями и 3 LSTM слоями  \n",
        "6) модель 1 BIGRU и 1 BILSTM слоями, причем так чтобы модели для forward и backward прохода отличались   \n",
        "7) модель, где последовательно идут слои: LSTM, GRU, BILSTM, BIGRU, GRU, LSTM  \n",
        "\n",
        "\n",
        "\n",
        "Параметр units и размер эмбединга можете задать любой. Оцените качество каждой модели и определите победителя."
      ]
    },
    {
      "cell_type": "code",
      "execution_count": 22,
      "id": "83db6635",
      "metadata": {
        "id": "83db6635"
      },
      "outputs": [],
      "source": [
        "import tensorflow as tf\n",
        "import pandas as pd\n",
        "import numpy as np\n",
        "from string import punctuation\n",
        "from sklearn.model_selection import train_test_split\n",
        "from collections import Counter\n",
        "from IPython.display import Image\n",
        "from IPython.core.display import HTML\n",
        "import matplotlib.pyplot as plt\n",
        "%matplotlib inline\n",
        "\n",
        "import os\n",
        "os.environ[\"KERAS_BACKEND\"] = \"torch\"\n",
        "\n",
        "import keras\n",
        "from sklearn.metrics import classification_report"
      ]
    },
    {
      "cell_type": "code",
      "execution_count": 77,
      "id": "50362f6e",
      "metadata": {
        "colab": {
          "base_uri": "https://localhost:8080/"
        },
        "id": "50362f6e",
        "outputId": "bb5a4949-228a-455a-bd39-bc25fb4ee42c"
      },
      "outputs": [
        {
          "name": "stdout",
          "output_type": "stream",
          "text": [
            "Mounted at /content/drive\n"
          ]
        }
      ],
      "source": [
        "from google.colab import drive\n",
        "drive.mount('/content/drive')"
      ]
    },
    {
      "cell_type": "code",
      "execution_count": 78,
      "id": "b6676dab",
      "metadata": {
        "id": "b6676dab"
      },
      "outputs": [],
      "source": [
        "data = pd.read_csv('/content/drive/MyDrive/lenta_40k.csv.zip')"
      ]
    },
    {
      "cell_type": "code",
      "execution_count": 79,
      "id": "J20tnmVXdump",
      "metadata": {
        "colab": {
          "base_uri": "https://localhost:8080/",
          "height": 206
        },
        "id": "J20tnmVXdump",
        "outputId": "5b5ea002-9914-4937-bcc1-1b85aea7686e"
      },
      "outputs": [
        {
          "data": {
            "application/vnd.google.colaboratory.intrinsic+json": {
              "summary": "{\n  \"name\": \"data\",\n  \"rows\": 44356,\n  \"fields\": [\n    {\n      \"column\": \"text\",\n      \"properties\": {\n        \"dtype\": \"string\",\n        \"num_unique_values\": 44319,\n        \"samples\": [\n          \"\\u0412 \\u041c\\u043e\\u0441\\u043a\\u0432\\u0435 \\u0432 \\u043f\\u044f\\u0442\\u043d\\u0438\\u0446\\u0443, 29 \\u0444\\u0435\\u0432\\u0440\\u0430\\u043b\\u044f, \\u0437\\u0430\\u0434\\u0435\\u0440\\u0436\\u0430\\u043d \\u043e\\u0434\\u0438\\u043d \\u0438\\u0437 \\u043b\\u0438\\u0434\\u0435\\u0440\\u043e\\u0432 \\u043d\\u0430\\u0446\\u0431\\u043e\\u043b\\u043e\\u0432 \\u0412\\u043b\\u0430\\u0434\\u0438\\u043c\\u0438\\u0440 \\u041b\\u0438\\u043d\\u0434\\u0435\\u0440\\u043c\\u0430\\u043d, \\u0438\\u0437\\u0432\\u0435\\u0441\\u0442\\u043d\\u044b\\u0439 \\u0442\\u0430\\u043a\\u0436\\u0435 \\u043a\\u0430\\u043a \\u0410\\u0431\\u0435\\u043b\\u044c. \\u041e\\u0431 \\u044d\\u0442\\u043e\\u043c \\u0441\\u043e\\u043e\\u0431\\u0449\\u0430\\u0435\\u0442 \\u0421\\u043e\\u0431\\u043a\\u043e\\u0440.Ru \\u0441\\u043e \\u0441\\u0441\\u044b\\u043b\\u043a\\u043e\\u0439 \\u043d\\u0430 \\u0441\\u0430\\u043c\\u043e\\u0433\\u043e \\u0410\\u0431\\u0435\\u043b\\u044f. \\u0410\\u0431\\u0435\\u043b\\u044c, \\u0440\\u0430\\u0437\\u044b\\u0441\\u043a\\u0438\\u0432\\u0430\\u0435\\u043c\\u044b\\u0439 \\u043f\\u0440\\u0430\\u0432\\u043e\\u043e\\u0445\\u0440\\u0430\\u043d\\u0438\\u0442\\u0435\\u043b\\u044c\\u043d\\u044b\\u043c\\u0438 \\u043e\\u0440\\u0433\\u0430\\u043d\\u0430\\u043c\\u0438 \\u041b\\u0430\\u0442\\u0432\\u0438\\u0438 \\u043f\\u043e \\u043e\\u0431\\u0432\\u0438\\u043d\\u0435\\u043d\\u0438\\u044e \\u0432 \\u043f\\u043e\\u0434\\u0433\\u043e\\u0442\\u043e\\u0432\\u043a\\u0435 \\u043f\\u043e\\u043a\\u0443\\u0448\\u0435\\u043d\\u0438\\u044f \\u043d\\u0430 \\u043f\\u0440\\u0435\\u0437\\u0438\\u0434\\u0435\\u043d\\u0442\\u0430 \\u0441\\u0442\\u0440\\u0430\\u043d\\u044b, \\u0441 2003 \\u0433\\u043e\\u0434\\u0430 \\u0436\\u0438\\u043b \\u0432 \\u0420\\u043e\\u0441\\u0441\\u0438\\u0438 \\u0438 \\u0434\\u0432\\u0430\\u0436\\u0434\\u044b \\u043f\\u0440\\u043e\\u0441\\u0438\\u043b \\u043f\\u0440\\u0435\\u0434\\u043e\\u0441\\u0442\\u0430\\u0432\\u0438\\u0442\\u044c \\u0435\\u043c\\u0443 \\u043f\\u043e\\u043b\\u0438\\u0442\\u0438\\u0447\\u0435\\u0441\\u043a\\u043e\\u0435 \\u0443\\u0431\\u0435\\u0436\\u0438\\u0449\\u0435, \\u0443\\u0442\\u0432\\u0435\\u0440\\u0436\\u0434\\u0430\\u044f, \\u0447\\u0442\\u043e \\u0435\\u0433\\u043e \\u043f\\u0440\\u0435\\u0441\\u043b\\u0435\\u0434\\u0443\\u044e\\u0442 \\u043f\\u043e \\u043f\\u043e\\u043b\\u0438\\u0442\\u0438\\u0447\\u0435\\u0441\\u043a\\u0438\\u043c \\u043c\\u043e\\u0442\\u0438\\u0432\\u0430\\u043c. \\u0412 \\u0442\\u043e \\u0436\\u0435 \\u0432\\u0440\\u0435\\u043c\\u044f \\u043e\\u043d \\u0430\\u043a\\u0442\\u0438\\u0432\\u043d\\u043e \\u0443\\u0447\\u0430\\u0441\\u0442\\u0432\\u043e\\u0432\\u0430\\u043b \\u0432 \\u0434\\u0435\\u044f\\u0442\\u0435\\u043b\\u044c\\u043d\\u043e\\u0441\\u0442\\u0438 \\u0437\\u0430\\u043f\\u0440\\u0435\\u0449\\u0435\\u043d\\u043d\\u043e\\u0439 \\u041d\\u0430\\u0446\\u0438\\u043e\\u043d\\u0430\\u043b-\\u0431\\u043e\\u043b\\u044c\\u0448\\u0435\\u0432\\u0438\\u0441\\u0442\\u0441\\u043a\\u043e\\u0439 \\u043f\\u0430\\u0440\\u0442\\u0438\\u0438 \\u0438 \\u043e\\u043f\\u043f\\u043e\\u0437\\u0438\\u0446\\u0438\\u043e\\u043d\\u043d\\u043e\\u0439 \\u043a\\u043e\\u0430\\u043b\\u0438\\u0446\\u0438\\u0438 \\\"\\u0414\\u0440\\u0443\\u0433\\u0430\\u044f \\u0420\\u043e\\u0441\\u0441\\u0438\\u044f\\\". \\u041b\\u0435\\u0442\\u043e\\u043c 2006 \\u0433\\u043e\\u0434\\u0430 \\u041a\\u0443\\u0437\\u044c\\u043c\\u0438\\u043d\\u0441\\u043a\\u0438\\u0439 \\u0440\\u0430\\u0439\\u043e\\u043d\\u043d\\u044b\\u0439 \\u0441\\u0443\\u0434 \\u043f\\u043e\\u0441\\u0442\\u0430\\u043d\\u043e\\u0432\\u0438\\u043b \\u0434\\u0435\\u043f\\u043e\\u0440\\u0442\\u0438\\u0440\\u043e\\u0432\\u0430\\u0442\\u044c \\u0410\\u0431\\u0435\\u043b\\u044f \\u0438\\u0437 \\u0420\\u043e\\u0441\\u0441\\u0438\\u0438 \\u0437\\u0430 \\u043d\\u0430\\u0440\\u0443\\u0448\\u0435\\u043d\\u0438\\u0435 \\u043f\\u0430\\u0441\\u043f\\u043e\\u0440\\u0442\\u043d\\u043e\\u0433\\u043e \\u0440\\u0435\\u0436\\u0438\\u043c\\u0430, \\u043d\\u043e \\u043f\\u043e \\u0434\\u043e\\u0440\\u043e\\u0433\\u0435 \\u0432 \\u041b\\u0430\\u0442\\u0432\\u0438\\u044e \\u043e\\u043d \\u043f\\u0440\\u043e\\u043f\\u0430\\u043b. \\u0410\\u0431\\u0435\\u043b\\u044c, \\u043f\\u043e \\u0434\\u0430\\u043d\\u043d\\u044b\\u043c \\u0421\\u043e\\u0431\\u043a\\u043e\\u0440.Ru, \\u0443\\u0436\\u0435 \\u0434\\u043e\\u0441\\u0442\\u0430\\u0432\\u043b\\u0435\\u043d \\u0432 \\u0418\\u0437\\u043c\\u0430\\u0439\\u043b\\u043e\\u0432\\u0441\\u043a\\u0438\\u0439 \\u0441\\u0443\\u0434, \\u043a\\u043e\\u0442\\u043e\\u0440\\u044b\\u0439 \\u0440\\u0435\\u0448\\u0438\\u0442, \\u0441\\u043b\\u0435\\u0434\\u0443\\u0435\\u0442 \\u043b\\u0438 \\u043f\\u043e\\u0432\\u0442\\u043e\\u0440\\u043d\\u043e \\u0434\\u0435\\u043f\\u043e\\u0440\\u0442\\u0438\\u0440\\u043e\\u0432\\u0430\\u0442\\u044c \\u0435\\u0433\\u043e \\u0432 \\u041b\\u0430\\u0442\\u0432\\u0438\\u044e.\",\n          \"\\u0420\\u043e\\u0441\\u0441\\u0438\\u044f \\u0441\\u043f\\u0435\\u0446\\u0438\\u0430\\u043b\\u044c\\u043d\\u043e \\u0437\\u0430\\u043c\\u0435\\u0434\\u043b\\u0438\\u043b\\u0430 \\u043f\\u0435\\u0440\\u0435\\u0433\\u043e\\u0432\\u043e\\u0440\\u044b \\u0441 \\u0421\\u0428\\u0410 \\u043f\\u043e \\u043f\\u0430\\u0440\\u0430\\u043c\\u0435\\u0442\\u0440\\u0430\\u043c \\u0432\\u0441\\u0442\\u0443\\u043f\\u043b\\u0435\\u043d\\u0438\\u044f \\u0432 \\u0412\\u0422\\u041e (World Trade Organisation, WTO). \\u041e\\u0431 \\u044d\\u0442\\u043e\\u043c \\u0437\\u0430\\u044f\\u0432\\u0438\\u043b \\u0433\\u043b\\u0430\\u0432\\u0430 \\u0440\\u043e\\u0441\\u0441\\u0438\\u0439\\u0441\\u043a\\u043e\\u0439 \\u0434\\u0435\\u043b\\u0435\\u0433\\u0430\\u0446\\u0438\\u0438 \\u043d\\u0430 \\u043f\\u0435\\u0440\\u0435\\u0433\\u043e\\u0432\\u043e\\u0440\\u0430\\u0445 \\u043f\\u043e \\u043f\\u0440\\u0438\\u0441\\u043e\\u0435\\u0434\\u0438\\u043d\\u0435\\u043d\\u0438\\u044e \\u043a \\u0412\\u0422\\u041e \\u041c\\u0430\\u043a\\u0441\\u0438\\u043c \\u041c\\u0435\\u0434\\u0432\\u0435\\u0434\\u043a\\u043e\\u0432, \\u043f\\u0438\\u0448\\u0435\\u0442 \\\"\\u0420\\u043e\\u0441\\u0441\\u0438\\u0439\\u0441\\u043a\\u0430\\u044f \\u0433\\u0430\\u0437\\u0435\\u0442\\u0430\\\". \\u0413\\u043b\\u0430\\u0432\\u043d\\u044b\\u0439 \\u043f\\u0435\\u0440\\u0435\\u0433\\u043e\\u0432\\u043e\\u0440\\u0449\\u0438\\u043a \\u043e\\u0442\\u043a\\u0430\\u0437\\u0430\\u043b\\u0441\\u044f \\u0443\\u0442\\u043e\\u0447\\u043d\\u0438\\u0442\\u044c \\u0434\\u0435\\u0442\\u0430\\u043b\\u0438 \\u0437\\u0430\\u043c\\u0435\\u0434\\u043b\\u0435\\u043d\\u0438\\u044f, \\u043d\\u043e \\u0441\\u043a\\u0430\\u0437\\u0430\\u043b, \\u0447\\u0442\\u043e \\u0420\\u043e\\u0441\\u0441\\u0438\\u044f \\u0432\\u0437\\u044f\\u043b\\u0430 \\u043f\\u0430\\u0443\\u0437\\u0443 \\u0438\\u0437-\\u0437\\u0430 \\u0442\\u043e\\u0433\\u043e, \\u0447\\u0442\\u043e \\u043d\\u0435 \\u043c\\u043e\\u0436\\u0435\\u0442 \\u043d\\u0430\\u0439\\u0442\\u0438 \\u0440\\u0435\\u0448\\u0435\\u043d\\u0438\\u044f \\u043d\\u0435\\u0441\\u043a\\u043e\\u043b\\u044c\\u043a\\u0438\\u0445 \\u043f\\u0440\\u043e\\u0431\\u043b\\u0435\\u043c \\u043f\\u043e \\u043f\\u0435\\u0440\\u0435\\u0433\\u043e\\u0432\\u043e\\u0440\\u0430\\u043c \\u043a\\u0430\\u043a \\u0441 \\u0421\\u0428\\u0410, \\u0442\\u0430\\u043a \\u0438 \\u0441 \\u0434\\u0440\\u0443\\u0433\\u0438\\u043c\\u0438 \\u0441\\u0442\\u0440\\u0430\\u043d\\u0430\\u043c\\u0438. \\u041c\\u0435\\u0434\\u0432\\u0435\\u0434\\u043a\\u043e\\u0432 \\u0437\\u0430\\u044f\\u0432\\u0438\\u043b, \\u0447\\u0442\\u043e, \\u0442\\u0435\\u043c \\u043d\\u0435 \\u043c\\u0435\\u043d\\u0435\\u0435, \\u043f\\u0435\\u0440\\u0435\\u0433\\u043e\\u0432\\u043e\\u0440\\u043d\\u044b\\u0439 \\u043f\\u0440\\u043e\\u0446\\u0435\\u0441\\u0441 \\u043d\\u0435 \\u043f\\u0440\\u0435\\u0440\\u0432\\u0430\\u043d \\u0438 \\u0443 \\u0420\\u043e\\u0441\\u0441\\u0438\\u0438 \\u043e\\u0441\\u0442\\u0430\\u0435\\u0442\\u0441\\u044f \\u0442\\u0435\\u0445\\u043d\\u0438\\u0447\\u0435\\u0441\\u043a\\u0430\\u044f \\u0432\\u043e\\u0437\\u043c\\u043e\\u0436\\u043d\\u043e\\u0441\\u0442\\u044c \\u0432\\u0441\\u0442\\u0443\\u043f\\u0438\\u0442\\u044c \\u0432 \\u0442\\u043e\\u0440\\u0433\\u043e\\u0432\\u044b\\u0439 \\u043a\\u043b\\u0443\\u0431 \\u043a \\u043a\\u043e\\u043d\\u0446\\u0443 2006 \\u0433\\u043e\\u0434\\u0430. \\u041c\\u0430\\u043a\\u0441\\u0438\\u043c \\u041c\\u0435\\u0434\\u0432\\u0435\\u0434\\u043a\\u043e\\u0432 \\u0432 \\u043e\\u0447\\u0435\\u0440\\u0435\\u0434\\u043d\\u043e\\u0439 \\u0440\\u0430\\u0437 \\u043f\\u043e\\u0432\\u0442\\u043e\\u0440\\u0438\\u043b, \\u0447\\u0442\\u043e \\u0420\\u043e\\u0441\\u0441\\u0438\\u044f \\u043d\\u0435 \\u0441\\u043e\\u0431\\u0438\\u0440\\u0430\\u0435\\u0442\\u0441\\u044f \\u0438\\u0434\\u0442\\u0438 \\u043d\\u0430 \\u0437\\u043d\\u0430\\u0447\\u0438\\u0442\\u0435\\u043b\\u044c\\u043d\\u044b\\u0435 \\u0443\\u0441\\u0442\\u0443\\u043f\\u043a\\u0438 \\u0421\\u0428\\u0410 \\u0438 \\u043d\\u0435 \\u0431\\u0443\\u0434\\u0435\\u0442 \\u0436\\u0435\\u0440\\u0442\\u0432\\u043e\\u0432\\u0430\\u0442\\u044c \\u0441\\u0432\\u043e\\u0438\\u043c\\u0438 \\u044d\\u043a\\u043e\\u043d\\u043e\\u043c\\u0438\\u0447\\u0435\\u0441\\u043a\\u0438\\u043c\\u0438 \\u0442\\u0440\\u0435\\u0431\\u043e\\u0432\\u0430\\u043d\\u0438\\u044f\\u043c\\u0438 \\u0440\\u0430\\u0434\\u0438 \\u0441\\u043a\\u043e\\u0440\\u0435\\u0439\\u0448\\u0435\\u0433\\u043e \\u0432\\u0441\\u0442\\u0443\\u043f\\u043b\\u0435\\u043d\\u0438\\u044f \\u0432 \\u0412\\u0422\\u041e. \\u0421\\u043b\\u043e\\u0432\\u0430 \\u0433\\u043b\\u0430\\u0432\\u043d\\u043e\\u0433\\u043e \\u043f\\u0435\\u0440\\u0435\\u0433\\u043e\\u0432\\u043e\\u0440\\u0449\\u0438\\u043a\\u0430 \\u0441\\u0442\\u0440\\u0430\\u043d\\u044b \\u043f\\u043e \\u0432\\u0441\\u0442\\u0443\\u043f\\u043b\\u0435\\u043d\\u0438\\u044e \\u0432 \\u0412\\u0422\\u041e \\u043f\\u0440\\u0430\\u043a\\u0442\\u0438\\u0447\\u0435\\u0441\\u043a\\u0438 \\u043f\\u043e\\u043b\\u043d\\u043e\\u0441\\u0442\\u044c\\u044e \\u0441\\u043e\\u0432\\u043f\\u0430\\u0434\\u0430\\u044e\\u0442 \\u0441 \\u043c\\u043d\\u0435\\u043d\\u0438\\u0435\\u043c \\u0441\\u043f\\u0438\\u043a\\u0435\\u0440\\u0430 \\u0413\\u043e\\u0441\\u0434\\u0443\\u043c\\u044b \\u0411\\u043e\\u0440\\u0438\\u0441\\u0430 \\u0413\\u0440\\u044b\\u0437\\u043b\\u043e\\u0432\\u0430. \\u041d\\u0430\\u043a\\u0430\\u043d\\u0443\\u043d\\u0435 \\u043e\\u043d \\u0437\\u0430\\u044f\\u0432\\u0438\\u043b, \\u0447\\u0442\\u043e \\u043f\\u0440\\u0438\\u0441\\u043e\\u0435\\u0434\\u0438\\u043d\\u0435\\u043d\\u0438\\u0435 \\u043a \\u0442\\u043e\\u0440\\u0433\\u043e\\u0432\\u043e\\u043c\\u0443 \\u043a\\u043b\\u0443\\u0431\\u0443 \\u043d\\u0435 \\u043c\\u043e\\u0436\\u0435\\u0442 \\u044f\\u0432\\u043b\\u044f\\u0442\\u044c\\u0441\\u044f \\u0434\\u043b\\u044f \\u0420\\u043e\\u0441\\u0441\\u0438\\u0438 \\u0441\\u0430\\u043c\\u043e\\u0446\\u0435\\u043b\\u044c\\u044e \\u0438 \\u043e\\u0442\\u0432\\u0435\\u0440\\u0433 \\u0432\\u043e\\u0437\\u043c\\u043e\\u0436\\u043d\\u044b\\u0435 \\u043a\\u043e\\u043c\\u043f\\u0440\\u043e\\u043c\\u0438\\u0441\\u0441\\u044b \\u0441 \\u0421\\u0428\\u0410. \\u041d\\u0435\\u0441\\u043a\\u043e\\u043b\\u044c\\u043a\\u043e \\u0434\\u043d\\u0435\\u0439 \\u043d\\u0430\\u0437\\u0430\\u0434 \\u0433\\u043b\\u0430\\u0432\\u0430 \\u0441\\u0435\\u043d\\u0430\\u0442\\u0441\\u043a\\u043e\\u0433\\u043e \\u0431\\u043e\\u043b\\u044c\\u0448\\u0438\\u043d\\u0441\\u0442\\u0432\\u0430 \\u0421\\u0428\\u0410 \\u0440\\u0435\\u0441\\u043f\\u0443\\u0431\\u043b\\u0438\\u043a\\u0430\\u043d\\u0435\\u0446 \\u0411\\u0438\\u043b\\u043b \\u0424\\u0440\\u0438\\u0441\\u0442 (Bill Frist) \\u0441\\u0432\\u044f\\u0437\\u0430\\u043b \\u0432\\u043e\\u0437\\u043c\\u043e\\u0436\\u043d\\u043e\\u0441\\u0442\\u044c \\u0432\\u0441\\u0442\\u0443\\u043f\\u043b\\u0435\\u043d\\u0438\\u044f \\u0420\\u043e\\u0441\\u0441\\u0438\\u0438 \\u0432 \\u0412\\u0422\\u041e \\u043d\\u0435 \\u0442\\u043e\\u043b\\u044c\\u043a\\u043e \\u0441 \\u044d\\u043a\\u043e\\u043d\\u043e\\u043c\\u0438\\u0447\\u0435\\u0441\\u043a\\u0438\\u043c\\u0438, \\u043d\\u043e \\u0438 \\u0441 \\u043f\\u043e\\u043b\\u0438\\u0442\\u0438\\u0447\\u0435\\u0441\\u043a\\u0438\\u043c\\u0438 \\u043f\\u0440\\u043e\\u0431\\u043b\\u0435\\u043c\\u0430\\u043c\\u0438, \\u0432 \\u0447\\u0430\\u0441\\u0442\\u043d\\u043e\\u0441\\u0442\\u0438, \\u043f\\u043e\\u0437\\u0438\\u0446\\u0438\\u0438 \\u0441\\u0442\\u0440\\u0430\\u043d\\u044b \\u043f\\u043e \\u044f\\u0434\\u0435\\u0440\\u043d\\u043e\\u0439 \\u043f\\u0440\\u043e\\u0433\\u0440\\u0430\\u043c\\u043c\\u0435 \\u0418\\u0440\\u0430\\u043d\\u0430 \\u0438 \\u0441\\u0432\\u043e\\u0431\\u043e\\u0434\\u0435 \\u0441\\u043b\\u043e\\u0432\\u0430. \\u0420\\u043e\\u0441\\u0441\\u0438\\u044f \\u043f\\u044b\\u0442\\u0430\\u0435\\u0442\\u0441\\u044f \\u0432\\u0441\\u0442\\u0443\\u043f\\u0438\\u0442\\u044c \\u0432 \\u0412\\u0422\\u041e \\u0441 1994 \\u0433\\u043e\\u0434\\u0430.\\u041d\\u0430 \\u0434\\u0430\\u043d\\u043d\\u044b\\u0439 \\u043c\\u043e\\u043c\\u0435\\u043d\\u0442 \\u043e\\u0441\\u043d\\u043e\\u0432\\u043d\\u044b\\u043c \\u043f\\u0440\\u0435\\u043f\\u044f\\u0442\\u0441\\u0442\\u0432\\u0438\\u0435\\u043c \\u043a \\u0447\\u043b\\u0435\\u043d\\u0441\\u0442\\u0432\\u0443 \\u0432 \\u0412\\u0422\\u041e \\u044f\\u0432\\u043b\\u044f\\u0435\\u0442\\u0441\\u044f \\u043f\\u043e\\u0437\\u0438\\u0446\\u0438\\u044f \\u0421\\u0428\\u0410.\",\n          \"\\u0412 \\u0430\\u043c\\u0435\\u0440\\u0438\\u043a\\u0430\\u043d\\u0441\\u043a\\u043e\\u043c \\u0448\\u0442\\u0430\\u0442\\u0435 \\u0424\\u043b\\u043e\\u0440\\u0438\\u0434\\u0430 \\u0434\\u0432\\u043e\\u0435 \\u0437\\u043b\\u043e\\u0443\\u043c\\u044b\\u0448\\u043b\\u0435\\u043d\\u043d\\u0438\\u043a\\u043e\\u0432 \\u043f\\u043e\\u0445\\u0438\\u0442\\u0438\\u043b\\u0438 \\u043c\\u0430\\u0448\\u0438\\u043d\\u0443 \\u0434\\u043b\\u044f \\u043f\\u0435\\u0440\\u0435\\u0441\\u0447\\u0435\\u0442\\u0430 \\u0431\\u044e\\u043b\\u043b\\u0435\\u0442\\u0435\\u043d\\u0438\\u0439 \\u0441 \\u043e\\u0434\\u043d\\u043e\\u0433\\u043e \\u0438\\u0437 \\u0438\\u0437\\u0431\\u0438\\u0440\\u0430\\u0442\\u0435\\u043b\\u044c\\u043d\\u044b\\u0445 \\u0443\\u0447\\u0430\\u0441\\u0442\\u043a\\u043e\\u0432 \\u0432 \\u0433\\u0440\\u0430\\u0444\\u0441\\u0442\\u0432\\u0435 \\u041f\\u0430\\u043b\\u043c \\u0411\\u0438\\u0447, \\u0441\\u043e\\u043e\\u0431\\u0449\\u0430\\u0435\\u0442 \\u0420\\u0418\\u0410 \\\"\\u041d\\u043e\\u0432\\u043e\\u0441\\u0442\\u0438\\\". \\u041f\\u0440\\u0435\\u0441\\u0442\\u0443\\u043f\\u043d\\u0438\\u043a\\u0438 \\u043f\\u043e\\u043f\\u044b\\u0442\\u0430\\u043b\\u0438\\u0441\\u044c \\u043f\\u0440\\u043e\\u0434\\u0430\\u0442\\u044c \\u043c\\u0430\\u0448\\u0438\\u043d\\u0443 \\u0437\\u0430 20 \\u0442\\u044b\\u0441\\u044f\\u0447 \\u0434\\u043e\\u043b\\u043b\\u0430\\u0440\\u043e\\u0432 \\u0447\\u0435\\u0440\\u0435\\u0437 \\u0430\\u043d\\u043e\\u043d\\u0438\\u043c\\u043d\\u044b\\u0439 \\u0430\\u0443\\u043a\\u0446\\u0438\\u043e\\u043d \\u043d\\u0430 \\u043e\\u0434\\u043d\\u043e\\u043c \\u0438\\u0437 \\u0441\\u0430\\u0439\\u0442\\u043e\\u0432 \\u0432 \\u0418\\u043d\\u0442\\u0435\\u0440\\u043d\\u0435\\u0442\\u0435. \\u041e\\u043d\\u0438 \\u0431\\u044b\\u043b\\u0438 \\u043f\\u043e\\u0439\\u043c\\u0430\\u043d\\u044b \\u0441 \\u043f\\u043e\\u043b\\u0438\\u0447\\u043d\\u044b\\u043c \\u0432 \\u043c\\u043e\\u043c\\u0435\\u043d\\u0442 \\u043f\\u0435\\u0440\\u0435\\u0434\\u0430\\u0447\\u0438 \\u0430\\u043f\\u043f\\u043f\\u0430\\u0440\\u0430\\u0442\\u0430 \\\"\\u043f\\u043e\\u043a\\u0443\\u043f\\u0430\\u0442\\u0435\\u043b\\u044f\\u043c\\\", \\u043a\\u043e\\u0442\\u043e\\u0440\\u044b\\u043c\\u0438 \\u0431\\u044b\\u043b\\u0438 \\u043f\\u0435\\u0440\\u0435\\u043e\\u0434\\u0435\\u0442\\u044b\\u0435 \\u043f\\u0440\\u0435\\u0434\\u0441\\u0442\\u0430\\u0432\\u0438\\u0442\\u0435\\u043b\\u0438 \\u043f\\u0440\\u0430\\u0432\\u043e\\u043e\\u0445\\u0440\\u0430\\u043d\\u0438\\u0442\\u0435\\u043b\\u044c\\u043d\\u044b\\u0445 \\u043e\\u0440\\u0433\\u0430\\u043d\\u043e\\u0432. \\u041f\\u043e \\u0437\\u0430\\u043a\\u043e\\u043d\\u0430\\u043c \\u0421\\u0428\\u0410 \\u043e\\u0431\\u043b\\u0430\\u0434\\u0430\\u043d\\u0438\\u0435 \\u0447\\u0430\\u0441\\u0442\\u043d\\u044b\\u043c \\u043b\\u0438\\u0446\\u043e\\u043c \\u0441\\u0447\\u0435\\u0442\\u043d\\u043e\\u0439 \\u043c\\u0430\\u0448\\u0438\\u043d\\u043e\\u0439 \\u0434\\u043b\\u044f \\u043e\\u0431\\u0440\\u0430\\u0431\\u043e\\u0442\\u043a\\u0438 \\u0438\\u0437\\u0431\\u0438\\u0440\\u0430\\u0442\\u0435\\u043b\\u044c\\u043d\\u044b\\u0445 \\u0431\\u044e\\u043b\\u043b\\u0435\\u0442\\u0435\\u043d\\u0438\\u0439 \\u044f\\u0432\\u043b\\u044f\\u0435\\u0442\\u0441\\u044f \\u043f\\u0440\\u0435\\u0441\\u0442\\u0443\\u043f\\u043b\\u0435\\u043d\\u0438\\u0435\\u043c, \\u043f\\u0435\\u0440\\u0435\\u0434\\u0430\\u0435\\u0442 \\u0430\\u0433\\u0435\\u043d\\u0442\\u0441\\u0442\\u0432\\u043e.\"\n        ],\n        \"semantic_type\": \"\",\n        \"description\": \"\"\n      }\n    },\n    {\n      \"column\": \"topic\",\n      \"properties\": {\n        \"dtype\": \"category\",\n        \"num_unique_values\": 19,\n        \"samples\": [\n          \"\\u0421\\u043f\\u043e\\u0440\\u0442\",\n          \"\\u0421\\u0438\\u043b\\u043e\\u0432\\u044b\\u0435 \\u0441\\u0442\\u0440\\u0443\\u043a\\u0442\\u0443\\u0440\\u044b\",\n          \"\\u0414\\u043e\\u043c\"\n        ],\n        \"semantic_type\": \"\",\n        \"description\": \"\"\n      }\n    }\n  ]\n}",
              "type": "dataframe",
              "variable_name": "data"
            },
            "text/html": [
              "\n",
              "  <div id=\"df-23c62c5c-77e6-47c3-be65-30771b90d66d\" class=\"colab-df-container\">\n",
              "    <div>\n",
              "<style scoped>\n",
              "    .dataframe tbody tr th:only-of-type {\n",
              "        vertical-align: middle;\n",
              "    }\n",
              "\n",
              "    .dataframe tbody tr th {\n",
              "        vertical-align: top;\n",
              "    }\n",
              "\n",
              "    .dataframe thead th {\n",
              "        text-align: right;\n",
              "    }\n",
              "</style>\n",
              "<table border=\"1\" class=\"dataframe\">\n",
              "  <thead>\n",
              "    <tr style=\"text-align: right;\">\n",
              "      <th></th>\n",
              "      <th>text</th>\n",
              "      <th>topic</th>\n",
              "    </tr>\n",
              "  </thead>\n",
              "  <tbody>\n",
              "    <tr>\n",
              "      <th>0</th>\n",
              "      <td>Россия должна сотрудничать с Всемирным антидоп...</td>\n",
              "      <td>Спорт</td>\n",
              "    </tr>\n",
              "    <tr>\n",
              "      <th>1</th>\n",
              "      <td>Уголовный суд Кувейта 28 июня освободил под за...</td>\n",
              "      <td>Мир</td>\n",
              "    </tr>\n",
              "    <tr>\n",
              "      <th>2</th>\n",
              "      <td>Французский журнал Charlie Hebdo опубликовал н...</td>\n",
              "      <td>Интернет и СМИ</td>\n",
              "    </tr>\n",
              "    <tr>\n",
              "      <th>3</th>\n",
              "      <td>В Петербурге в доме № 53 по улице Лени Голиков...</td>\n",
              "      <td>Россия</td>\n",
              "    </tr>\n",
              "    <tr>\n",
              "      <th>4</th>\n",
              "      <td>В московском аэропорту \"Домодедово\" задержан г...</td>\n",
              "      <td>Россия</td>\n",
              "    </tr>\n",
              "  </tbody>\n",
              "</table>\n",
              "</div>\n",
              "    <div class=\"colab-df-buttons\">\n",
              "\n",
              "  <div class=\"colab-df-container\">\n",
              "    <button class=\"colab-df-convert\" onclick=\"convertToInteractive('df-23c62c5c-77e6-47c3-be65-30771b90d66d')\"\n",
              "            title=\"Convert this dataframe to an interactive table.\"\n",
              "            style=\"display:none;\">\n",
              "\n",
              "  <svg xmlns=\"http://www.w3.org/2000/svg\" height=\"24px\" viewBox=\"0 -960 960 960\">\n",
              "    <path d=\"M120-120v-720h720v720H120Zm60-500h600v-160H180v160Zm220 220h160v-160H400v160Zm0 220h160v-160H400v160ZM180-400h160v-160H180v160Zm440 0h160v-160H620v160ZM180-180h160v-160H180v160Zm440 0h160v-160H620v160Z\"/>\n",
              "  </svg>\n",
              "    </button>\n",
              "\n",
              "  <style>\n",
              "    .colab-df-container {\n",
              "      display:flex;\n",
              "      gap: 12px;\n",
              "    }\n",
              "\n",
              "    .colab-df-convert {\n",
              "      background-color: #E8F0FE;\n",
              "      border: none;\n",
              "      border-radius: 50%;\n",
              "      cursor: pointer;\n",
              "      display: none;\n",
              "      fill: #1967D2;\n",
              "      height: 32px;\n",
              "      padding: 0 0 0 0;\n",
              "      width: 32px;\n",
              "    }\n",
              "\n",
              "    .colab-df-convert:hover {\n",
              "      background-color: #E2EBFA;\n",
              "      box-shadow: 0px 1px 2px rgba(60, 64, 67, 0.3), 0px 1px 3px 1px rgba(60, 64, 67, 0.15);\n",
              "      fill: #174EA6;\n",
              "    }\n",
              "\n",
              "    .colab-df-buttons div {\n",
              "      margin-bottom: 4px;\n",
              "    }\n",
              "\n",
              "    [theme=dark] .colab-df-convert {\n",
              "      background-color: #3B4455;\n",
              "      fill: #D2E3FC;\n",
              "    }\n",
              "\n",
              "    [theme=dark] .colab-df-convert:hover {\n",
              "      background-color: #434B5C;\n",
              "      box-shadow: 0px 1px 3px 1px rgba(0, 0, 0, 0.15);\n",
              "      filter: drop-shadow(0px 1px 2px rgba(0, 0, 0, 0.3));\n",
              "      fill: #FFFFFF;\n",
              "    }\n",
              "  </style>\n",
              "\n",
              "    <script>\n",
              "      const buttonEl =\n",
              "        document.querySelector('#df-23c62c5c-77e6-47c3-be65-30771b90d66d button.colab-df-convert');\n",
              "      buttonEl.style.display =\n",
              "        google.colab.kernel.accessAllowed ? 'block' : 'none';\n",
              "\n",
              "      async function convertToInteractive(key) {\n",
              "        const element = document.querySelector('#df-23c62c5c-77e6-47c3-be65-30771b90d66d');\n",
              "        const dataTable =\n",
              "          await google.colab.kernel.invokeFunction('convertToInteractive',\n",
              "                                                    [key], {});\n",
              "        if (!dataTable) return;\n",
              "\n",
              "        const docLinkHtml = 'Like what you see? Visit the ' +\n",
              "          '<a target=\"_blank\" href=https://colab.research.google.com/notebooks/data_table.ipynb>data table notebook</a>'\n",
              "          + ' to learn more about interactive tables.';\n",
              "        element.innerHTML = '';\n",
              "        dataTable['output_type'] = 'display_data';\n",
              "        await google.colab.output.renderOutput(dataTable, element);\n",
              "        const docLink = document.createElement('div');\n",
              "        docLink.innerHTML = docLinkHtml;\n",
              "        element.appendChild(docLink);\n",
              "      }\n",
              "    </script>\n",
              "  </div>\n",
              "\n",
              "\n",
              "<div id=\"df-3d0477d8-b749-483d-9489-48d5c6d35294\">\n",
              "  <button class=\"colab-df-quickchart\" onclick=\"quickchart('df-3d0477d8-b749-483d-9489-48d5c6d35294')\"\n",
              "            title=\"Suggest charts\"\n",
              "            style=\"display:none;\">\n",
              "\n",
              "<svg xmlns=\"http://www.w3.org/2000/svg\" height=\"24px\"viewBox=\"0 0 24 24\"\n",
              "     width=\"24px\">\n",
              "    <g>\n",
              "        <path d=\"M19 3H5c-1.1 0-2 .9-2 2v14c0 1.1.9 2 2 2h14c1.1 0 2-.9 2-2V5c0-1.1-.9-2-2-2zM9 17H7v-7h2v7zm4 0h-2V7h2v10zm4 0h-2v-4h2v4z\"/>\n",
              "    </g>\n",
              "</svg>\n",
              "  </button>\n",
              "\n",
              "<style>\n",
              "  .colab-df-quickchart {\n",
              "      --bg-color: #E8F0FE;\n",
              "      --fill-color: #1967D2;\n",
              "      --hover-bg-color: #E2EBFA;\n",
              "      --hover-fill-color: #174EA6;\n",
              "      --disabled-fill-color: #AAA;\n",
              "      --disabled-bg-color: #DDD;\n",
              "  }\n",
              "\n",
              "  [theme=dark] .colab-df-quickchart {\n",
              "      --bg-color: #3B4455;\n",
              "      --fill-color: #D2E3FC;\n",
              "      --hover-bg-color: #434B5C;\n",
              "      --hover-fill-color: #FFFFFF;\n",
              "      --disabled-bg-color: #3B4455;\n",
              "      --disabled-fill-color: #666;\n",
              "  }\n",
              "\n",
              "  .colab-df-quickchart {\n",
              "    background-color: var(--bg-color);\n",
              "    border: none;\n",
              "    border-radius: 50%;\n",
              "    cursor: pointer;\n",
              "    display: none;\n",
              "    fill: var(--fill-color);\n",
              "    height: 32px;\n",
              "    padding: 0;\n",
              "    width: 32px;\n",
              "  }\n",
              "\n",
              "  .colab-df-quickchart:hover {\n",
              "    background-color: var(--hover-bg-color);\n",
              "    box-shadow: 0 1px 2px rgba(60, 64, 67, 0.3), 0 1px 3px 1px rgba(60, 64, 67, 0.15);\n",
              "    fill: var(--button-hover-fill-color);\n",
              "  }\n",
              "\n",
              "  .colab-df-quickchart-complete:disabled,\n",
              "  .colab-df-quickchart-complete:disabled:hover {\n",
              "    background-color: var(--disabled-bg-color);\n",
              "    fill: var(--disabled-fill-color);\n",
              "    box-shadow: none;\n",
              "  }\n",
              "\n",
              "  .colab-df-spinner {\n",
              "    border: 2px solid var(--fill-color);\n",
              "    border-color: transparent;\n",
              "    border-bottom-color: var(--fill-color);\n",
              "    animation:\n",
              "      spin 1s steps(1) infinite;\n",
              "  }\n",
              "\n",
              "  @keyframes spin {\n",
              "    0% {\n",
              "      border-color: transparent;\n",
              "      border-bottom-color: var(--fill-color);\n",
              "      border-left-color: var(--fill-color);\n",
              "    }\n",
              "    20% {\n",
              "      border-color: transparent;\n",
              "      border-left-color: var(--fill-color);\n",
              "      border-top-color: var(--fill-color);\n",
              "    }\n",
              "    30% {\n",
              "      border-color: transparent;\n",
              "      border-left-color: var(--fill-color);\n",
              "      border-top-color: var(--fill-color);\n",
              "      border-right-color: var(--fill-color);\n",
              "    }\n",
              "    40% {\n",
              "      border-color: transparent;\n",
              "      border-right-color: var(--fill-color);\n",
              "      border-top-color: var(--fill-color);\n",
              "    }\n",
              "    60% {\n",
              "      border-color: transparent;\n",
              "      border-right-color: var(--fill-color);\n",
              "    }\n",
              "    80% {\n",
              "      border-color: transparent;\n",
              "      border-right-color: var(--fill-color);\n",
              "      border-bottom-color: var(--fill-color);\n",
              "    }\n",
              "    90% {\n",
              "      border-color: transparent;\n",
              "      border-bottom-color: var(--fill-color);\n",
              "    }\n",
              "  }\n",
              "</style>\n",
              "\n",
              "  <script>\n",
              "    async function quickchart(key) {\n",
              "      const quickchartButtonEl =\n",
              "        document.querySelector('#' + key + ' button');\n",
              "      quickchartButtonEl.disabled = true;  // To prevent multiple clicks.\n",
              "      quickchartButtonEl.classList.add('colab-df-spinner');\n",
              "      try {\n",
              "        const charts = await google.colab.kernel.invokeFunction(\n",
              "            'suggestCharts', [key], {});\n",
              "      } catch (error) {\n",
              "        console.error('Error during call to suggestCharts:', error);\n",
              "      }\n",
              "      quickchartButtonEl.classList.remove('colab-df-spinner');\n",
              "      quickchartButtonEl.classList.add('colab-df-quickchart-complete');\n",
              "    }\n",
              "    (() => {\n",
              "      let quickchartButtonEl =\n",
              "        document.querySelector('#df-3d0477d8-b749-483d-9489-48d5c6d35294 button');\n",
              "      quickchartButtonEl.style.display =\n",
              "        google.colab.kernel.accessAllowed ? 'block' : 'none';\n",
              "    })();\n",
              "  </script>\n",
              "</div>\n",
              "    </div>\n",
              "  </div>\n"
            ],
            "text/plain": [
              "                                                text           topic\n",
              "0  Россия должна сотрудничать с Всемирным антидоп...           Спорт\n",
              "1  Уголовный суд Кувейта 28 июня освободил под за...             Мир\n",
              "2  Французский журнал Charlie Hebdo опубликовал н...  Интернет и СМИ\n",
              "3  В Петербурге в доме № 53 по улице Лени Голиков...          Россия\n",
              "4  В московском аэропорту \"Домодедово\" задержан г...          Россия"
            ]
          },
          "execution_count": 79,
          "metadata": {},
          "output_type": "execute_result"
        }
      ],
      "source": [
        "data.head(5)"
      ]
    },
    {
      "cell_type": "code",
      "execution_count": 80,
      "id": "HBL75UUhrrfO",
      "metadata": {
        "id": "HBL75UUhrrfO"
      },
      "outputs": [],
      "source": [
        "def preprocess(text):\n",
        "    tokens = text.lower().split()\n",
        "    tokens = [token.strip(punctuation) for token in tokens]\n",
        "    tokens = [token for token in tokens if token]\n",
        "    return tokens"
      ]
    },
    {
      "cell_type": "code",
      "execution_count": 81,
      "id": "pXY8r1JktO5l",
      "metadata": {
        "id": "pXY8r1JktO5l"
      },
      "outputs": [],
      "source": [
        "from tensorflow.keras import backend as K\n",
        "def f1(y_true, y_pred):\n",
        "    def recall(y_true, y_pred):\n",
        "        true_positives = K.sum(K.round(K.clip(y_true * y_pred, 0, 1)))\n",
        "        possible_positives = K.sum(K.round(K.clip(y_true, 0, 1)))\n",
        "        recall = true_positives / (possible_positives + K.epsilon())\n",
        "        return recall\n",
        "\n",
        "    def precision(y_true, y_pred):\n",
        "        true_positives = K.sum(K.round(K.clip(y_true * y_pred, 0, 1)))\n",
        "        predicted_positives = K.sum(K.round(K.clip(y_pred, 0, 1)))\n",
        "        precision = true_positives / (predicted_positives + K.epsilon())\n",
        "        return precision\n",
        "    precision = precision(y_true, y_pred)\n",
        "    recall = recall(y_true, y_pred)\n",
        "    return 2*((precision*recall)/(precision+recall+K.epsilon()))"
      ]
    },
    {
      "cell_type": "code",
      "execution_count": 82,
      "id": "fg-xmi1Wtq2w",
      "metadata": {
        "colab": {
          "base_uri": "https://localhost:8080/"
        },
        "id": "fg-xmi1Wtq2w",
        "outputId": "a9230316-9e19-4ba8-a142-98b4049abea6"
      },
      "outputs": [
        {
          "data": {
            "text/plain": [
              "24090"
            ]
          },
          "execution_count": 82,
          "metadata": {},
          "output_type": "execute_result"
        }
      ],
      "source": [
        "vocab = Counter()\n",
        "\n",
        "for text in data.text:\n",
        "    vocab.update(preprocess(text))\n",
        "\n",
        "filtered_vocab = set()\n",
        "\n",
        "for word in vocab:\n",
        "    if vocab[word] > 30:\n",
        "        filtered_vocab.add(word)\n",
        "\n",
        "len(filtered_vocab)"
      ]
    },
    {
      "cell_type": "code",
      "execution_count": 83,
      "id": "WGpmVrwzt0fF",
      "metadata": {
        "id": "WGpmVrwzt0fF"
      },
      "outputs": [],
      "source": [
        "word2id = {'PAD':0, 'UNK':1}\n",
        "\n",
        "for word in filtered_vocab:\n",
        "    word2id[word] = len(word2id)\n",
        "\n",
        "id2word = {i:word for word, i in word2id.items()}"
      ]
    },
    {
      "cell_type": "code",
      "execution_count": 84,
      "id": "hkjD2KwXt9MM",
      "metadata": {
        "id": "hkjD2KwXt9MM"
      },
      "outputs": [],
      "source": [
        "X = []\n",
        "\n",
        "for text in data.text:\n",
        "    tokens = preprocess(text)\n",
        "    ids = [word2id.get(token, 1) for token in tokens]\n",
        "    X.append(ids)\n",
        "\n",
        "MAX_LEN = max(len(x) for x in X)"
      ]
    },
    {
      "cell_type": "code",
      "execution_count": 85,
      "id": "9NwFHfgEuUdN",
      "metadata": {
        "colab": {
          "base_uri": "https://localhost:8080/"
        },
        "id": "9NwFHfgEuUdN",
        "outputId": "c77bab5b-ee1d-4b8d-d865-b8189dfa803d"
      },
      "outputs": [
        {
          "data": {
            "text/plain": [
              "(1732, 169.0)"
            ]
          },
          "execution_count": 85,
          "metadata": {},
          "output_type": "execute_result"
        }
      ],
      "source": [
        "MEAN_LEN = np.median([len(x) for x in X])\n",
        "\n",
        "MAX_LEN, MEAN_LEN"
      ]
    },
    {
      "cell_type": "code",
      "execution_count": 86,
      "id": "oCQmLiTjukJV",
      "metadata": {
        "id": "oCQmLiTjukJV"
      },
      "outputs": [],
      "source": [
        "MAX_LEN = int(MEAN_LEN + 31)"
      ]
    },
    {
      "cell_type": "code",
      "execution_count": 87,
      "id": "_1Zvk8czuqLT",
      "metadata": {
        "id": "_1Zvk8czuqLT"
      },
      "outputs": [],
      "source": [
        "X = tf.keras.preprocessing.sequence.pad_sequences(X, maxlen=MAX_LEN)"
      ]
    },
    {
      "cell_type": "code",
      "execution_count": 88,
      "id": "UmEAYHhcuzWV",
      "metadata": {
        "colab": {
          "base_uri": "https://localhost:8080/"
        },
        "id": "UmEAYHhcuzWV",
        "outputId": "0ebb6d7a-8ee1-4137-af98-72d9b25f1c75"
      },
      "outputs": [
        {
          "data": {
            "text/plain": [
              "(44356, 200)"
            ]
          },
          "execution_count": 88,
          "metadata": {},
          "output_type": "execute_result"
        }
      ],
      "source": [
        "X.shape"
      ]
    },
    {
      "cell_type": "code",
      "execution_count": 89,
      "id": "vw164QzSu4V0",
      "metadata": {
        "id": "vw164QzSu4V0"
      },
      "outputs": [],
      "source": [
        "id2label = {i:label for i, label in enumerate(set(data.topic.values))}\n",
        "label2id = {l:i for i, l in id2label.items()}"
      ]
    },
    {
      "cell_type": "code",
      "execution_count": 90,
      "id": "QfvHu_Nbu9HN",
      "metadata": {
        "id": "QfvHu_Nbu9HN"
      },
      "outputs": [],
      "source": [
        "y = tf.keras.utils.to_categorical([label2id[label] for label in data.topic.values])"
      ]
    },
    {
      "cell_type": "code",
      "execution_count": 91,
      "id": "Q2dfZ_SRwgc6",
      "metadata": {
        "id": "Q2dfZ_SRwgc6"
      },
      "outputs": [],
      "source": [
        "X_train, X_valid, y_train, y_valid = train_test_split(X, y, test_size=0.05, stratify=y)"
      ]
    },
    {
      "cell_type": "markdown",
      "id": "_vdFvP29Ga6L",
      "metadata": {
        "id": "_vdFvP29Ga6L"
      },
      "source": [
        "### 1) Модель с 1 GRU слоем"
      ]
    },
    {
      "cell_type": "code",
      "execution_count": null,
      "id": "Qkq6rGYuDIAu",
      "metadata": {
        "id": "Qkq6rGYuDIAu"
      },
      "outputs": [],
      "source": [
        "inputs = keras.layers.Input(shape=(MAX_LEN,))\n",
        "embeddings = tf.keras.layers.Embedding(input_dim=len(word2id), output_dim=30)(inputs)\n",
        "\n",
        "gru = tf.keras.layers.GRU(128, return_sequences=False)(embeddings)\n",
        "\n",
        "dense = keras.layers.Dense(60, activation='relu')(gru)\n",
        "outputs = keras.layers.Dense(len(label2id), activation='softmax')(dense)\n",
        "\n",
        "\n",
        "model_1gru = keras.Model(inputs=inputs, outputs=outputs)\n",
        "optimizer = keras.optimizers.Adam(learning_rate=0.001)\n",
        "model_1gru.compile(optimizer=optimizer, loss='categorical_crossentropy', metrics=[f1, tf.keras.metrics.RecallAtPrecision(0.8, name='rec@prec')])"
      ]
    },
    {
      "cell_type": "code",
      "execution_count": null,
      "id": "ieL5c01vEhve",
      "metadata": {
        "colab": {
          "base_uri": "https://localhost:8080/"
        },
        "id": "ieL5c01vEhve",
        "outputId": "f9d31525-bc8c-462f-af3c-f83be874d3b7"
      },
      "outputs": [
        {
          "name": "stdout",
          "output_type": "stream",
          "text": [
            "Epoch 1/20\n",
            "43/43 [==============================] - 101s 2s/step - loss: 2.5792 - f1: 0.0000e+00 - rec@prec: 0.0000e+00 - val_loss: 2.3388 - val_f1: 0.0000e+00 - val_rec@prec: 9.0171e-04\n",
            "Epoch 2/20\n",
            "43/43 [==============================] - 96s 2s/step - loss: 2.2823 - f1: 0.0000e+00 - rec@prec: 3.7970e-04 - val_loss: 2.2356 - val_f1: 0.0000e+00 - val_rec@prec: 0.0000e+00\n",
            "Epoch 3/20\n",
            "43/43 [==============================] - 95s 2s/step - loss: 2.0801 - f1: 0.0140 - rec@prec: 1.1866e-04 - val_loss: 2.1742 - val_f1: 6.6600e-04 - val_rec@prec: 0.0023\n",
            "Epoch 4/20\n",
            "43/43 [==============================] - 95s 2s/step - loss: 1.9187 - f1: 0.0557 - rec@prec: 0.0034 - val_loss: 1.8806 - val_f1: 0.0376 - val_rec@prec: 0.0018\n",
            "Epoch 5/20\n",
            "43/43 [==============================] - 96s 2s/step - loss: 1.6521 - f1: 0.1646 - rec@prec: 0.0630 - val_loss: 1.7903 - val_f1: 0.2075 - val_rec@prec: 0.0924\n",
            "Epoch 6/20\n",
            "43/43 [==============================] - 95s 2s/step - loss: 1.4589 - f1: 0.3514 - rec@prec: 0.1984 - val_loss: 1.6458 - val_f1: 0.3636 - val_rec@prec: 0.1551\n",
            "Epoch 7/20\n",
            "43/43 [==============================] - 95s 2s/step - loss: 1.2106 - f1: 0.5203 - rec@prec: 0.3581 - val_loss: 1.5429 - val_f1: 0.4473 - val_rec@prec: 0.1979\n",
            "Epoch 8/20\n",
            "43/43 [==============================] - 97s 2s/step - loss: 1.0055 - f1: 0.6403 - rec@prec: 0.5462 - val_loss: 1.6843 - val_f1: 0.4291 - val_rec@prec: 0.2002\n",
            "Epoch 9/20\n",
            "43/43 [==============================] - 94s 2s/step - loss: 0.8811 - f1: 0.6995 - rec@prec: 0.6422 - val_loss: 1.6037 - val_f1: 0.5469 - val_rec@prec: 0.2831\n",
            "Epoch 10/20\n",
            "43/43 [==============================] - 96s 2s/step - loss: 0.7474 - f1: 0.7546 - rec@prec: 0.7342 - val_loss: 1.5469 - val_f1: 0.5643 - val_rec@prec: 0.3625\n",
            "Epoch 11/20\n",
            "43/43 [==============================] - 94s 2s/step - loss: 0.6249 - f1: 0.8021 - rec@prec: 0.8135 - val_loss: 1.6429 - val_f1: 0.5722 - val_rec@prec: 0.3593\n",
            "Epoch 12/20\n",
            "43/43 [==============================] - 96s 2s/step - loss: 0.5399 - f1: 0.8298 - rec@prec: 0.8638 - val_loss: 1.7500 - val_f1: 0.5578 - val_rec@prec: 0.3332\n",
            "Epoch 13/20\n",
            "43/43 [==============================] - 108s 3s/step - loss: 0.4413 - f1: 0.8680 - rec@prec: 0.9129 - val_loss: 1.9054 - val_f1: 0.5729 - val_rec@prec: 0.3891\n",
            "Epoch 14/20\n",
            "43/43 [==============================] - 95s 2s/step - loss: 0.3586 - f1: 0.9002 - rec@prec: 0.9434 - val_loss: 2.1157 - val_f1: 0.5663 - val_rec@prec: 0.3508\n",
            "Epoch 15/20\n",
            "43/43 [==============================] - 95s 2s/step - loss: 0.3074 - f1: 0.9153 - rec@prec: 0.9569 - val_loss: 2.2471 - val_f1: 0.5586 - val_rec@prec: 0.3417\n",
            "Epoch 16/20\n",
            "43/43 [==============================] - 97s 2s/step - loss: 0.2626 - f1: 0.9305 - rec@prec: 0.9672 - val_loss: 2.4057 - val_f1: 0.5725 - val_rec@prec: 0.3661\n",
            "Epoch 17/20\n",
            "43/43 [==============================] - 94s 2s/step - loss: 0.2094 - f1: 0.9501 - rec@prec: 0.9775 - val_loss: 2.6221 - val_f1: 0.5601 - val_rec@prec: 0.3251\n",
            "Epoch 18/20\n",
            "43/43 [==============================] - 100s 2s/step - loss: 0.1713 - f1: 0.9620 - rec@prec: 0.9830 - val_loss: 2.8023 - val_f1: 0.5643 - val_rec@prec: 0.3016\n",
            "Epoch 19/20\n",
            "43/43 [==============================] - 97s 2s/step - loss: 0.1400 - f1: 0.9697 - rec@prec: 0.9883 - val_loss: 2.9203 - val_f1: 0.5712 - val_rec@prec: 0.3273\n",
            "Epoch 20/20\n",
            "43/43 [==============================] - 95s 2s/step - loss: 0.1197 - f1: 0.9753 - rec@prec: 0.9916 - val_loss: 3.0978 - val_f1: 0.5551 - val_rec@prec: 0.3124\n"
          ]
        },
        {
          "data": {
            "text/plain": [
              "<keras.src.callbacks.History at 0x7be03633e950>"
            ]
          },
          "execution_count": 18,
          "metadata": {},
          "output_type": "execute_result"
        }
      ],
      "source": [
        "model_1gru.fit(X_train, y_train, validation_data=(X_valid, y_valid),batch_size=1000, epochs=20)"
      ]
    },
    {
      "cell_type": "code",
      "execution_count": null,
      "id": "uaIn5TTjFAvI",
      "metadata": {
        "colab": {
          "base_uri": "https://localhost:8080/",
          "height": 489
        },
        "id": "uaIn5TTjFAvI",
        "outputId": "2c3bc17d-f433-4629-8954-aed5d6b30a49"
      },
      "outputs": [
        {
          "name": "stdout",
          "output_type": "stream",
          "text": [
            "dict_keys(['loss', 'f1', 'rec@prec', 'val_loss', 'val_f1', 'val_rec@prec'])\n"
          ]
        },
        {
          "data": {
            "image/png": "[encoded data removed]",
            "text/plain": [
              "<Figure size 640x480 with 1 Axes>"
            ]
          },
          "metadata": {},
          "output_type": "display_data"
        }
      ],
      "source": [
        "print(model_1gru.history.history.keys())\n",
        "# summarize history for accuracy\n",
        "plt.plot(model_1gru.history.history['rec@prec'])\n",
        "plt.plot(model_1gru.history.history['val_rec@prec'])\n",
        "plt.title('model_1gru f1')\n",
        "plt.ylabel('f1')\n",
        "plt.xlabel('epoch')\n",
        "plt.legend(['train', 'val'], loc='upper left')\n",
        "plt.show()"
      ]
    },
    {
      "cell_type": "markdown",
      "id": "e50f5062",
      "metadata": {},
      "source": [
        "Данная модель продемонстироровала следующие характериситики: loss: 0.1197 и val_loss: 3.0978, f1: 0.9753 и val_f1: 0.5551.\n",
        "\n",
        "Хотя она показывает довольно скромные метрики (и поэтому не может быть названа победителем), её большой плюс заключается в приемлемой скорости обучения при условиях ограниченного доступа к GPU от Google.\n",
        "Это положительное качество, которое постепенно будут терять модели по ходу этого задания. "
      ]
    },
    {
      "cell_type": "markdown",
      "id": "Sck43DXfG2RR",
      "metadata": {
        "id": "Sck43DXfG2RR"
      },
      "source": [
        "### 2) Модель с 1 LSTM слоем"
      ]
    },
    {
      "cell_type": "code",
      "execution_count": null,
      "id": "vccBEyqBFSnf",
      "metadata": {
        "id": "vccBEyqBFSnf"
      },
      "outputs": [],
      "source": [
        "inputs = keras.layers.Input(shape=(MAX_LEN,))\n",
        "embeddings = tf.keras.layers.Embedding(input_dim=len(word2id), output_dim=30)(inputs)\n",
        "\n",
        "lstm = tf.keras.layers.LSTM(128, return_sequences=False)(embeddings)\n",
        "\n",
        "\n",
        "dense = keras.layers.Dense(60, activation='relu')(lstm)\n",
        "outputs = keras.layers.Dense(len(label2id), activation='softmax')(dense)\n",
        "\n",
        "\n",
        "model_1lstm = keras.Model(inputs=inputs, outputs=outputs)\n",
        "optimizer = keras.optimizers.Adam(learning_rate=0.001)\n",
        "model_1lstm.compile(optimizer=optimizer, loss='categorical_crossentropy', metrics=[f1, tf.keras.metrics.RecallAtPrecision(0.8, name='rec@prec')])"
      ]
    },
    {
      "cell_type": "code",
      "execution_count": null,
      "id": "S7zA4ukhFqUF",
      "metadata": {
        "colab": {
          "base_uri": "https://localhost:8080/"
        },
        "id": "S7zA4ukhFqUF",
        "outputId": "5e131806-5e1c-4fa3-c5af-1cd5eff79f48"
      },
      "outputs": [
        {
          "name": "stdout",
          "output_type": "stream",
          "text": [
            "Epoch 1/20\n",
            "43/43 [==============================] - 120s 3s/step - loss: 2.5206 - f1: 0.0000e+00 - rec@prec: 0.0000e+00 - val_loss: 2.3298 - val_f1: 0.0000e+00 - val_rec@prec: 0.0000e+00\n",
            "Epoch 2/20\n",
            "43/43 [==============================] - 116s 3s/step - loss: 2.2913 - f1: 0.0000e+00 - rec@prec: 9.4926e-05 - val_loss: 2.1647 - val_f1: 0.0000e+00 - val_rec@prec: 0.0000e+00\n",
            "Epoch 3/20\n",
            "43/43 [==============================] - 115s 3s/step - loss: 1.9321 - f1: 0.0272 - rec@prec: 0.0238 - val_loss: 2.0351 - val_f1: 0.1383 - val_rec@prec: 0.0586\n",
            "Epoch 4/20\n",
            "43/43 [==============================] - 118s 3s/step - loss: 1.7906 - f1: 0.1560 - rec@prec: 0.0993 - val_loss: 1.7506 - val_f1: 0.3258 - val_rec@prec: 0.1844\n",
            "Epoch 5/20\n",
            "43/43 [==============================] - 115s 3s/step - loss: 1.4947 - f1: 0.4480 - rec@prec: 0.2370 - val_loss: 1.4868 - val_f1: 0.5246 - val_rec@prec: 0.2741\n",
            "Epoch 6/20\n",
            "43/43 [==============================] - 117s 3s/step - loss: 1.2570 - f1: 0.5741 - rec@prec: 0.4032 - val_loss: 1.4030 - val_f1: 0.5284 - val_rec@prec: 0.3170\n",
            "Epoch 7/20\n",
            "43/43 [==============================] - 114s 3s/step - loss: 1.1283 - f1: 0.6136 - rec@prec: 0.4781 - val_loss: 1.3460 - val_f1: 0.5642 - val_rec@prec: 0.3269\n",
            "Epoch 8/20\n",
            "43/43 [==============================] - 117s 3s/step - loss: 0.9921 - f1: 0.6663 - rec@prec: 0.5783 - val_loss: 1.3327 - val_f1: 0.5989 - val_rec@prec: 0.3796\n",
            "Epoch 9/20\n",
            "43/43 [==============================] - 117s 3s/step - loss: 0.8752 - f1: 0.7243 - rec@prec: 0.6786 - val_loss: 1.4135 - val_f1: 0.6053 - val_rec@prec: 0.3251\n",
            "Epoch 10/20\n",
            "43/43 [==============================] - 115s 3s/step - loss: 0.7804 - f1: 0.7609 - rec@prec: 0.7461 - val_loss: 1.2908 - val_f1: 0.6327 - val_rec@prec: 0.4563\n",
            "Epoch 11/20\n",
            "43/43 [==============================] - 117s 3s/step - loss: 0.6671 - f1: 0.8039 - rec@prec: 0.8142 - val_loss: 1.2897 - val_f1: 0.6470 - val_rec@prec: 0.5009\n",
            "Epoch 12/20\n",
            "43/43 [==============================] - 117s 3s/step - loss: 0.5969 - f1: 0.8272 - rec@prec: 0.8484 - val_loss: 1.3346 - val_f1: 0.6619 - val_rec@prec: 0.4959\n",
            "Epoch 13/20\n",
            "43/43 [==============================] - 135s 3s/step - loss: 0.5059 - f1: 0.8569 - rec@prec: 0.8869 - val_loss: 1.3449 - val_f1: 0.6690 - val_rec@prec: 0.5234\n",
            "Epoch 14/20\n",
            "43/43 [==============================] - 145s 3s/step - loss: 0.4478 - f1: 0.8761 - rec@prec: 0.9094 - val_loss: 1.4360 - val_f1: 0.6557 - val_rec@prec: 0.4725\n",
            "Epoch 15/20\n",
            "43/43 [==============================] - 120s 3s/step - loss: 0.3876 - f1: 0.8941 - rec@prec: 0.9318 - val_loss: 1.5098 - val_f1: 0.6296 - val_rec@prec: 0.4711\n",
            "Epoch 16/20\n",
            "43/43 [==============================] - 124s 3s/step - loss: 0.3800 - f1: 0.8917 - rec@prec: 0.9341 - val_loss: 1.4961 - val_f1: 0.6677 - val_rec@prec: 0.4982\n",
            "Epoch 17/20\n",
            "43/43 [==============================] - 146s 3s/step - loss: 0.3292 - f1: 0.9093 - rec@prec: 0.9509 - val_loss: 1.5491 - val_f1: 0.6540 - val_rec@prec: 0.5014\n",
            "Epoch 18/20\n",
            "43/43 [==============================] - 121s 3s/step - loss: 0.2776 - f1: 0.9266 - rec@prec: 0.9631 - val_loss: 1.6538 - val_f1: 0.6523 - val_rec@prec: 0.5000\n",
            "Epoch 19/20\n",
            "43/43 [==============================] - 118s 3s/step - loss: 0.2596 - f1: 0.9292 - rec@prec: 0.9682 - val_loss: 1.6527 - val_f1: 0.6617 - val_rec@prec: 0.5005\n",
            "Epoch 20/20\n",
            "43/43 [==============================] - 116s 3s/step - loss: 0.2281 - f1: 0.9401 - rec@prec: 0.9750 - val_loss: 1.7073 - val_f1: 0.6609 - val_rec@prec: 0.4932\n"
          ]
        },
        {
          "data": {
            "text/plain": [
              "<keras.src.callbacks.History at 0x7be02d037a30>"
            ]
          },
          "execution_count": 21,
          "metadata": {},
          "output_type": "execute_result"
        }
      ],
      "source": [
        "model_1lstm.fit(X_train, y_train, validation_data=(X_valid, y_valid),batch_size=1000, epochs=20)"
      ]
    },
    {
      "cell_type": "code",
      "execution_count": null,
      "id": "PApDIbD-GJTt",
      "metadata": {
        "colab": {
          "base_uri": "https://localhost:8080/",
          "height": 489
        },
        "id": "PApDIbD-GJTt",
        "outputId": "a566cea4-c5b1-48bc-eb0b-876b85359a72"
      },
      "outputs": [
        {
          "name": "stdout",
          "output_type": "stream",
          "text": [
            "dict_keys(['loss', 'f1', 'rec@prec', 'val_loss', 'val_f1', 'val_rec@prec'])\n"
          ]
        },
        {
          "data": {
            "image/png": "[encoded data removed]",
            "text/plain": [
              "<Figure size 640x480 with 1 Axes>"
            ]
          },
          "metadata": {},
          "output_type": "display_data"
        }
      ],
      "source": [
        "print(model_1lstm.history.history.keys())\n",
        "# summarize history for accuracy\n",
        "plt.plot(model_1lstm.history.history['rec@prec'])\n",
        "plt.plot(model_1lstm.history.history['val_rec@prec'])\n",
        "plt.title('model_1lstm f1')\n",
        "plt.ylabel('f1')\n",
        "plt.xlabel('epoch')\n",
        "plt.legend(['train', 'val'], loc='upper left')\n",
        "plt.show()"
      ]
    },
    {
      "cell_type": "markdown",
      "id": "06283826",
      "metadata": {},
      "source": [
        "Данная модель продемонстироровала следующие характериситики: loss: 0.2281 и val_loss: 1.7073, f1: 0.9401 и val_f1: 0.6609.\n",
        "\n",
        "Ощутимое улучшение в сравнении с предыдущей моделью. Хотя она обучалась немного дольше, её показатель val_f1 оказался гораздо выше. Это одна из немногих моделей, которая смогла приблизить его к 0,7. "
      ]
    },
    {
      "cell_type": "markdown",
      "id": "L361zMw7HRYo",
      "metadata": {
        "id": "L361zMw7HRYo"
      },
      "source": [
        "### 3) модель с 1 GRU и 1 LSTM слоем"
      ]
    },
    {
      "cell_type": "code",
      "execution_count": null,
      "id": "Qjovn5WCHNik",
      "metadata": {
        "id": "Qjovn5WCHNik"
      },
      "outputs": [],
      "source": [
        "inputs = keras.layers.Input(shape=(MAX_LEN,))\n",
        "embeddings = tf.keras.layers.Embedding(input_dim=len(word2id), output_dim=30)(inputs)\n",
        "\n",
        "dense = keras.layers.Dense(60, activation='relu')(embeddings)\n",
        "lstm = tf.keras.layers.LSTM(128, return_sequences=True)(dense)\n",
        "gru = tf.keras.layers.GRU(128, return_sequences=False)(lstm)\n",
        "\n",
        "\n",
        "outputs = keras.layers.Dense(len(label2id), activation='softmax')(gru)\n",
        "\n",
        "\n",
        "model_1gru_1lstm = keras.Model(inputs=inputs, outputs=outputs)\n",
        "optimizer = keras.optimizers.Adam(learning_rate=0.001)\n",
        "model_1gru_1lstm.compile(optimizer=optimizer, loss='categorical_crossentropy', metrics=[f1, tf.keras.metrics.RecallAtPrecision(0.8, name='rec@prec')])"
      ]
    },
    {
      "cell_type": "code",
      "execution_count": null,
      "id": "26CH3VpwM_ty",
      "metadata": {
        "colab": {
          "base_uri": "https://localhost:8080/"
        },
        "id": "26CH3VpwM_ty",
        "outputId": "53f57f5c-9666-4237-85bd-801fc0b51d9a"
      },
      "outputs": [
        {
          "name": "stdout",
          "output_type": "stream",
          "text": [
            "Epoch 1/20\n",
            "43/43 [==============================] - 305s 7s/step - loss: 2.4587 - f1: 0.0000e+00 - rec@prec: 0.0000e+00 - val_loss: 2.3197 - val_f1: 0.0000e+00 - val_rec@prec: 0.0000e+00\n",
            "Epoch 2/20\n",
            "43/43 [==============================] - 322s 8s/step - loss: 2.2725 - f1: 0.0000e+00 - rec@prec: 1.8985e-04 - val_loss: 2.1713 - val_f1: 0.0000e+00 - val_rec@prec: 0.0036\n",
            "Epoch 3/20\n",
            "43/43 [==============================] - 297s 7s/step - loss: 1.9265 - f1: 0.0361 - rec@prec: 0.0000e+00 - val_loss: 1.7804 - val_f1: 0.0963 - val_rec@prec: 0.0690\n",
            "Epoch 4/20\n",
            "43/43 [==============================] - 290s 7s/step - loss: 1.5855 - f1: 0.2105 - rec@prec: 0.1123 - val_loss: 1.5426 - val_f1: 0.3545 - val_rec@prec: 0.1605\n",
            "Epoch 5/20\n",
            "43/43 [==============================] - 294s 7s/step - loss: 1.2843 - f1: 0.4996 - rec@prec: 0.3119 - val_loss: 1.3722 - val_f1: 0.5473 - val_rec@prec: 0.3264\n",
            "Epoch 6/20\n",
            "43/43 [==============================] - 326s 8s/step - loss: 1.0559 - f1: 0.6449 - rec@prec: 0.5122 - val_loss: 1.4383 - val_f1: 0.5575 - val_rec@prec: 0.2989\n",
            "Epoch 7/20\n",
            "43/43 [==============================] - 291s 7s/step - loss: 0.9592 - f1: 0.6855 - rec@prec: 0.5991 - val_loss: 1.4191 - val_f1: 0.5684 - val_rec@prec: 0.3007\n",
            "Epoch 8/20\n",
            "43/43 [==============================] - 290s 7s/step - loss: 0.8337 - f1: 0.7406 - rec@prec: 0.7048 - val_loss: 1.4726 - val_f1: 0.5841 - val_rec@prec: 0.3805\n",
            "Epoch 9/20\n",
            "43/43 [==============================] - 283s 7s/step - loss: 0.7692 - f1: 0.7639 - rec@prec: 0.7486 - val_loss: 1.4146 - val_f1: 0.5902 - val_rec@prec: 0.4202\n",
            "Epoch 10/20\n",
            "43/43 [==============================] - 276s 6s/step - loss: 0.6778 - f1: 0.7985 - rec@prec: 0.8070 - val_loss: 1.4876 - val_f1: 0.5959 - val_rec@prec: 0.3868\n",
            "Epoch 11/20\n",
            "43/43 [==============================] - 284s 7s/step - loss: 0.6116 - f1: 0.8233 - rec@prec: 0.8422 - val_loss: 1.5512 - val_f1: 0.5807 - val_rec@prec: 0.4040\n",
            "Epoch 12/20\n",
            "43/43 [==============================] - 302s 7s/step - loss: 0.5570 - f1: 0.8439 - rec@prec: 0.8701 - val_loss: 1.5951 - val_f1: 0.5930 - val_rec@prec: 0.4319\n",
            "Epoch 13/20\n",
            "43/43 [==============================] - 303s 7s/step - loss: 0.5119 - f1: 0.8571 - rec@prec: 0.8902 - val_loss: 1.6416 - val_f1: 0.5834 - val_rec@prec: 0.4161\n",
            "Epoch 14/20\n",
            "43/43 [==============================] - 305s 7s/step - loss: 0.4637 - f1: 0.8748 - rec@prec: 0.9106 - val_loss: 1.7296 - val_f1: 0.5826 - val_rec@prec: 0.4112\n",
            "Epoch 15/20\n",
            "43/43 [==============================] - 310s 7s/step - loss: 0.4205 - f1: 0.8888 - rec@prec: 0.9265 - val_loss: 1.8235 - val_f1: 0.5809 - val_rec@prec: 0.4229\n",
            "Epoch 16/20\n",
            "43/43 [==============================] - 308s 7s/step - loss: 0.3902 - f1: 0.8983 - rec@prec: 0.9343 - val_loss: 1.8430 - val_f1: 0.5897 - val_rec@prec: 0.4008\n",
            "Epoch 17/20\n",
            "43/43 [==============================] - 309s 7s/step - loss: 0.3575 - f1: 0.9075 - rec@prec: 0.9449 - val_loss: 1.8422 - val_f1: 0.5885 - val_rec@prec: 0.4175\n",
            "Epoch 18/20\n",
            "43/43 [==============================] - 293s 7s/step - loss: 0.3546 - f1: 0.9078 - rec@prec: 0.9443 - val_loss: 1.8910 - val_f1: 0.5859 - val_rec@prec: 0.4193\n",
            "Epoch 19/20\n",
            "43/43 [==============================] - 284s 7s/step - loss: 0.3043 - f1: 0.9234 - rec@prec: 0.9569 - val_loss: 1.9175 - val_f1: 0.5885 - val_rec@prec: 0.4121\n",
            "Epoch 20/20\n",
            "43/43 [==============================] - 285s 7s/step - loss: 0.2884 - f1: 0.9280 - rec@prec: 0.9611 - val_loss: 1.9846 - val_f1: 0.5829 - val_rec@prec: 0.4134\n"
          ]
        },
        {
          "data": {
            "text/plain": [
              "<keras.src.callbacks.History at 0x7be02d0363b0>"
            ]
          },
          "execution_count": 24,
          "metadata": {},
          "output_type": "execute_result"
        }
      ],
      "source": [
        "model_1gru_1lstm.fit(X_train, y_train, validation_data=(X_valid, y_valid),batch_size=1000, epochs=20)"
      ]
    },
    {
      "cell_type": "code",
      "execution_count": null,
      "id": "wUioCSxDOC1Z",
      "metadata": {
        "colab": {
          "base_uri": "https://localhost:8080/",
          "height": 489
        },
        "id": "wUioCSxDOC1Z",
        "outputId": "3a15b2b1-f832-4889-989b-ab8003f3d39f"
      },
      "outputs": [
        {
          "name": "stdout",
          "output_type": "stream",
          "text": [
            "dict_keys(['loss', 'f1', 'rec@prec', 'val_loss', 'val_f1', 'val_rec@prec'])\n"
          ]
        },
        {
          "data": {
            "image/png": "[encoded data removed]",
            "text/plain": [
              "<Figure size 640x480 with 1 Axes>"
            ]
          },
          "metadata": {},
          "output_type": "display_data"
        }
      ],
      "source": [
        "print(model_1gru_1lstm.history.history.keys())\n",
        "# summarize history for accuracy\n",
        "plt.plot(model_1gru_1lstm.history.history['rec@prec'])\n",
        "plt.plot(model_1gru_1lstm.history.history['val_rec@prec'])\n",
        "plt.title('model_1gru_1lstm f1')\n",
        "plt.ylabel('f1')\n",
        "plt.xlabel('epoch')\n",
        "plt.legend(['train', 'val'], loc='upper left')\n",
        "plt.show()"
      ]
    },
    {
      "cell_type": "markdown",
      "id": "6080a5b3",
      "metadata": {},
      "source": [
        "Данная модель продемонстироровала следующие характериситики: loss: 0.2884 и val_loss: 1.9846, f1: 0.9280 и val_f1: 0.5829.\n",
        "\n",
        "Объединение GRU и LSTM слоёв не дало сильного улучшения по сравнению с предыдущей моделью. Мы видим некоторое увеличение потерь и сокращение f1."
      ]
    },
    {
      "cell_type": "markdown",
      "id": "gDvldWlQOhoB",
      "metadata": {
        "id": "gDvldWlQOhoB"
      },
      "source": [
        "### 4) модель с 1 BIGRU и 2 LSTM слоями"
      ]
    },
    {
      "cell_type": "code",
      "execution_count": 18,
      "id": "xnbgCYRuOcBa",
      "metadata": {
        "id": "xnbgCYRuOcBa"
      },
      "outputs": [],
      "source": [
        "inputs = keras.layers.Input(shape=(MAX_LEN,))\n",
        "embeddings = tf.keras.layers.Embedding(input_dim=len(word2id), output_dim=30)(inputs)\n",
        "\n",
        "bigru = tf.keras.layers.Bidirectional(tf.keras.layers.GRU(128, return_sequences=True))(embeddings)\n",
        "lstm1 = tf.keras.layers.LSTM(128, return_sequences=True)(bigru)\n",
        "lstm2 = tf.keras.layers.LSTM(128, return_sequences=False)(lstm1)\n",
        "\n",
        "dense = keras.layers.Dense(60, activation='relu')(lstm2)\n",
        "\n",
        "outputs = keras.layers.Dense(len(label2id), activation='softmax')(dense)\n",
        "\n",
        "\n",
        "model_1bigru_1lstm = keras.Model(inputs=inputs, outputs=outputs)\n",
        "optimizer = keras.optimizers.Adam(learning_rate=0.001)\n",
        "model_1bigru_1lstm.compile(optimizer=optimizer, loss='categorical_crossentropy', metrics=[f1, tf.keras.metrics.RecallAtPrecision(0.8, name='rec@prec')])"
      ]
    },
    {
      "cell_type": "code",
      "execution_count": 19,
      "id": "gQOe0-yKS8dP",
      "metadata": {
        "colab": {
          "base_uri": "https://localhost:8080/"
        },
        "id": "gQOe0-yKS8dP",
        "outputId": "22230b51-fa8e-4deb-b023-d68abaf2fda4"
      },
      "outputs": [
        {
          "name": "stdout",
          "output_type": "stream",
          "text": [
            "Epoch 1/20\n",
            "43/43 [==============================] - 26s 354ms/step - loss: 2.4316 - f1: 0.0000e+00 - rec@prec: 0.0000e+00 - val_loss: 2.3298 - val_f1: 0.0000e+00 - val_rec@prec: 0.0000e+00\n",
            "Epoch 2/20\n",
            "43/43 [==============================] - 14s 318ms/step - loss: 2.3211 - f1: 0.0000e+00 - rec@prec: 9.4926e-05 - val_loss: 2.2723 - val_f1: 0.0000e+00 - val_rec@prec: 0.0000e+00\n",
            "Epoch 3/20\n",
            "43/43 [==============================] - 14s 324ms/step - loss: 2.0190 - f1: 0.0243 - rec@prec: 0.0079 - val_loss: 1.8150 - val_f1: 0.1140 - val_rec@prec: 0.0654\n",
            "Epoch 4/20\n",
            "43/43 [==============================] - 15s 355ms/step - loss: 1.7003 - f1: 0.2355 - rec@prec: 0.1061 - val_loss: 1.7571 - val_f1: 0.2229 - val_rec@prec: 0.0816\n",
            "Epoch 5/20\n",
            "43/43 [==============================] - 13s 301ms/step - loss: 1.5520 - f1: 0.3674 - rec@prec: 0.1926 - val_loss: 1.6780 - val_f1: 0.4576 - val_rec@prec: 0.1546\n",
            "Epoch 6/20\n",
            "43/43 [==============================] - 13s 299ms/step - loss: 1.3488 - f1: 0.5460 - rec@prec: 0.3097 - val_loss: 1.4428 - val_f1: 0.5203 - val_rec@prec: 0.2701\n",
            "Epoch 7/20\n",
            "43/43 [==============================] - 13s 305ms/step - loss: 1.1406 - f1: 0.6323 - rec@prec: 0.4825 - val_loss: 1.3665 - val_f1: 0.5829 - val_rec@prec: 0.2665\n",
            "Epoch 8/20\n",
            "43/43 [==============================] - 13s 291ms/step - loss: 1.0211 - f1: 0.6634 - rec@prec: 0.5537 - val_loss: 1.3523 - val_f1: 0.5797 - val_rec@prec: 0.3363\n",
            "Epoch 9/20\n",
            "43/43 [==============================] - 13s 295ms/step - loss: 0.9450 - f1: 0.6939 - rec@prec: 0.6141 - val_loss: 1.4021 - val_f1: 0.5896 - val_rec@prec: 0.2858\n",
            "Epoch 10/20\n",
            "43/43 [==============================] - 13s 302ms/step - loss: 0.9182 - f1: 0.7030 - rec@prec: 0.6310 - val_loss: 1.3983 - val_f1: 0.5789 - val_rec@prec: 0.2845\n",
            "Epoch 11/20\n",
            "43/43 [==============================] - 12s 290ms/step - loss: 0.8316 - f1: 0.7428 - rec@prec: 0.7012 - val_loss: 1.3292 - val_f1: 0.6178 - val_rec@prec: 0.3796\n",
            "Epoch 12/20\n",
            "43/43 [==============================] - 13s 297ms/step - loss: 0.7170 - f1: 0.7891 - rec@prec: 0.7832 - val_loss: 1.3390 - val_f1: 0.6298 - val_rec@prec: 0.4346\n",
            "Epoch 13/20\n",
            "43/43 [==============================] - 13s 294ms/step - loss: 0.6377 - f1: 0.8163 - rec@prec: 0.8260 - val_loss: 1.3794 - val_f1: 0.6414 - val_rec@prec: 0.4418\n",
            "Epoch 14/20\n",
            "43/43 [==============================] - 12s 289ms/step - loss: 0.5558 - f1: 0.8418 - rec@prec: 0.8654 - val_loss: 1.3763 - val_f1: 0.6534 - val_rec@prec: 0.4883\n",
            "Epoch 15/20\n",
            "43/43 [==============================] - 12s 289ms/step - loss: 0.4898 - f1: 0.8631 - rec@prec: 0.8949 - val_loss: 1.4775 - val_f1: 0.6559 - val_rec@prec: 0.4743\n",
            "Epoch 16/20\n",
            "43/43 [==============================] - 12s 290ms/step - loss: 0.4408 - f1: 0.8768 - rec@prec: 0.9121 - val_loss: 1.4565 - val_f1: 0.6471 - val_rec@prec: 0.4698\n",
            "Epoch 17/20\n",
            "43/43 [==============================] - 12s 291ms/step - loss: 0.3833 - f1: 0.8952 - rec@prec: 0.9344 - val_loss: 1.5272 - val_f1: 0.6455 - val_rec@prec: 0.4946\n",
            "Epoch 18/20\n",
            "43/43 [==============================] - 12s 289ms/step - loss: 0.3387 - f1: 0.9094 - rec@prec: 0.9468 - val_loss: 1.6170 - val_f1: 0.6467 - val_rec@prec: 0.4644\n",
            "Epoch 19/20\n",
            "43/43 [==============================] - 12s 284ms/step - loss: 0.3187 - f1: 0.9135 - rec@prec: 0.9536 - val_loss: 1.6026 - val_f1: 0.6456 - val_rec@prec: 0.4941\n",
            "Epoch 20/20\n",
            "43/43 [==============================] - 12s 287ms/step - loss: 0.2991 - f1: 0.9214 - rec@prec: 0.9572 - val_loss: 1.6382 - val_f1: 0.6518 - val_rec@prec: 0.4901\n"
          ]
        },
        {
          "data": {
            "text/plain": [
              "<keras.src.callbacks.History at 0x7d37002f2290>"
            ]
          },
          "execution_count": 19,
          "metadata": {},
          "output_type": "execute_result"
        }
      ],
      "source": [
        "model_1bigru_1lstm.fit(X_train, y_train, validation_data=(X_valid, y_valid),batch_size=1000, epochs=20)"
      ]
    },
    {
      "cell_type": "code",
      "execution_count": 21,
      "id": "lI1ksF5oTGN4",
      "metadata": {
        "colab": {
          "base_uri": "https://localhost:8080/",
          "height": 489
        },
        "id": "lI1ksF5oTGN4",
        "outputId": "f43da42f-812f-455f-920c-e156e8085470"
      },
      "outputs": [
        {
          "name": "stdout",
          "output_type": "stream",
          "text": [
            "dict_keys(['loss', 'f1', 'rec@prec', 'val_loss', 'val_f1', 'val_rec@prec'])\n"
          ]
        },
        {
          "data": {
            "image/png": "[encoded data removed]",
            "text/plain": [
              "<Figure size 640x480 with 1 Axes>"
            ]
          },
          "metadata": {},
          "output_type": "display_data"
        }
      ],
      "source": [
        "print(model_1bigru_1lstm.history.history.keys())\n",
        "# summarize history for accuracy\n",
        "plt.plot(model_1bigru_1lstm.history.history['rec@prec'])\n",
        "plt.plot(model_1bigru_1lstm.history.history['val_rec@prec'])\n",
        "plt.title('model_1bigru_2lstm f1')\n",
        "plt.ylabel('f1')\n",
        "plt.xlabel('epoch')\n",
        "plt.legend(['train', 'val'], loc='upper left')\n",
        "plt.show()"
      ]
    },
    {
      "cell_type": "markdown",
      "id": "9b2d4d9b",
      "metadata": {},
      "source": [
        "Данная модель продемонстироровала следующие характериситики: loss: 0.2991 и val_loss: 1.6382, f1: 0.9214 и val_f1: 0.6518.\n",
        "\n",
        "Это первая модель с несколькими разными слоями, которая показала неплохие (приближенные к уровням модели 2) показатели, хотя f1 оказался несколько ниже.\n",
        "\n",
        "Интересный факт:\n",
        "Изначально я допустил ошибку и обучил модель только с одним BIGRU и одним LSTM слоем. Это дало самые высокие показатели f1 из всех моделей. После добавления второго LSTM слоя показатели сильно ухудшились.\n",
        "Вариант с одним BIGRU и одним LSTM слоем я попытался обучить ниже - в дополнительной модели. "
      ]
    },
    {
      "cell_type": "markdown",
      "id": "NblWqT6dTUj2",
      "metadata": {
        "id": "NblWqT6dTUj2"
      },
      "source": [
        "### 5) модель с 5 GRU слоями и 3 LSTM слоями"
      ]
    },
    {
      "cell_type": "code",
      "execution_count": null,
      "id": "rNGO0tFDTZi_",
      "metadata": {
        "id": "rNGO0tFDTZi_"
      },
      "outputs": [],
      "source": [
        "inputs = keras.layers.Input(shape=(MAX_LEN,))\n",
        "embeddings = tf.keras.layers.Embedding(input_dim=len(word2id), output_dim=30)(inputs)\n",
        "\n",
        "gru1 = tf.keras.layers.GRU(40, return_sequences=True)(embeddings)\n",
        "lstm1 = tf.keras.layers.LSTM(40, return_sequences=True)(gru1)\n",
        "gru2 = tf.keras.layers.GRU(40, return_sequences=True)(lstm1)\n",
        "lstm2 = tf.keras.layers.LSTM(40, return_sequences=True)(gru2)\n",
        "gru3 = tf.keras.layers.GRU(40, return_sequences=True)(lstm2)\n",
        "lstm3 = tf.keras.layers.LSTM(40, return_sequences=True)(gru3)\n",
        "gru4 = tf.keras.layers.GRU(40, return_sequences=True)(lstm3)\n",
        "\n",
        "gru5 = tf.keras.layers.GRU(40, return_sequences=False)(gru4)\n",
        "\n",
        "\n",
        "\n",
        "outputs = keras.layers.Dense(len(label2id), activation='softmax')(gru5)\n",
        "\n",
        "\n",
        "model_5gru_3lstm = keras.Model(inputs=inputs, outputs=outputs)\n",
        "optimizer = keras.optimizers.Adam(learning_rate=0.001)\n",
        "model_5gru_3lstm.compile(optimizer=optimizer, loss='categorical_crossentropy', metrics=[f1, tf.keras.metrics.RecallAtPrecision(0.8, name='rec@prec')])"
      ]
    },
    {
      "cell_type": "code",
      "execution_count": null,
      "id": "Qm23FJ_mjMIy",
      "metadata": {
        "colab": {
          "base_uri": "https://localhost:8080/"
        },
        "id": "Qm23FJ_mjMIy",
        "outputId": "2c8ac20a-ca20-4d81-f777-d5b75431f3fb"
      },
      "outputs": [
        {
          "name": "stdout",
          "output_type": "stream",
          "text": [
            "Epoch 1/15\n",
            "43/43 [==============================] - 283s 6s/step - loss: 2.4977 - f1: 0.0000e+00 - rec@prec: 0.0000e+00 - val_loss: 2.3310 - val_f1: 0.0000e+00 - val_rec@prec: 0.0000e+00\n",
            "Epoch 2/15\n",
            "43/43 [==============================] - 290s 7s/step - loss: 2.3284 - f1: 0.0000e+00 - rec@prec: 0.0000e+00 - val_loss: 2.3238 - val_f1: 0.0000e+00 - val_rec@prec: 0.0000e+00\n",
            "Epoch 3/15\n",
            "43/43 [==============================] - 290s 7s/step - loss: 2.3239 - f1: 0.0000e+00 - rec@prec: 0.0000e+00 - val_loss: 2.3209 - val_f1: 0.0000e+00 - val_rec@prec: 0.0000e+00\n",
            "Epoch 4/15\n",
            "43/43 [==============================] - 291s 7s/step - loss: 2.3233 - f1: 0.0000e+00 - rec@prec: 0.0000e+00 - val_loss: 2.3227 - val_f1: 0.0000e+00 - val_rec@prec: 0.0000e+00\n",
            "Epoch 5/15\n",
            "43/43 [==============================] - 294s 7s/step - loss: 2.3231 - f1: 0.0000e+00 - rec@prec: 0.0000e+00 - val_loss: 2.3204 - val_f1: 0.0000e+00 - val_rec@prec: 0.0000e+00\n",
            "Epoch 6/15\n",
            "43/43 [==============================] - 285s 7s/step - loss: 2.3225 - f1: 0.0000e+00 - rec@prec: 0.0000e+00 - val_loss: 2.3188 - val_f1: 0.0000e+00 - val_rec@prec: 0.0000e+00\n",
            "Epoch 7/15\n",
            "43/43 [==============================] - 281s 7s/step - loss: 2.2762 - f1: 0.0000e+00 - rec@prec: 0.0000e+00 - val_loss: 2.0764 - val_f1: 0.0000e+00 - val_rec@prec: 0.0000e+00\n",
            "Epoch 8/15\n",
            "43/43 [==============================] - 285s 7s/step - loss: 2.0693 - f1: 0.0000e+00 - rec@prec: 0.0000e+00 - val_loss: 2.0144 - val_f1: 0.0000e+00 - val_rec@prec: 0.0000e+00\n",
            "Epoch 9/15\n",
            "43/43 [==============================] - 271s 6s/step - loss: 1.9689 - f1: 0.0000e+00 - rec@prec: 0.0000e+00 - val_loss: 1.9409 - val_f1: 0.0000e+00 - val_rec@prec: 9.0171e-04\n",
            "Epoch 10/15\n",
            "43/43 [==============================] - 271s 6s/step - loss: 1.8434 - f1: 0.0000e+00 - rec@prec: 7.1195e-05 - val_loss: 1.9066 - val_f1: 0.0000e+00 - val_rec@prec: 0.0027\n",
            "Epoch 11/15\n",
            "43/43 [==============================] - 278s 6s/step - loss: 1.7217 - f1: 0.0521 - rec@prec: 0.0270 - val_loss: 1.7402 - val_f1: 0.1055 - val_rec@prec: 0.0618\n",
            "Epoch 12/15\n",
            "43/43 [==============================] - 289s 7s/step - loss: 1.5825 - f1: 0.1381 - rec@prec: 0.0835 - val_loss: 1.7033 - val_f1: 0.1405 - val_rec@prec: 0.0861\n",
            "Epoch 13/15\n",
            "43/43 [==============================] - 263s 6s/step - loss: 1.4889 - f1: 0.1844 - rec@prec: 0.1135 - val_loss: 1.6955 - val_f1: 0.1998 - val_rec@prec: 0.1172\n",
            "Epoch 14/15\n",
            "43/43 [==============================] - 252s 6s/step - loss: 1.4225 - f1: 0.2575 - rec@prec: 0.1470 - val_loss: 1.6918 - val_f1: 0.2519 - val_rec@prec: 0.1402\n",
            "Epoch 15/15\n",
            "43/43 [==============================] - 255s 6s/step - loss: 1.3509 - f1: 0.3549 - rec@prec: 0.1805 - val_loss: 1.6625 - val_f1: 0.3792 - val_rec@prec: 0.1673\n"
          ]
        },
        {
          "data": {
            "text/plain": [
              "<keras.src.callbacks.History at 0x7a2cfaf23370>"
            ]
          },
          "execution_count": 21,
          "metadata": {},
          "output_type": "execute_result"
        }
      ],
      "source": [
        "model_5gru_3lstm.fit(X_train, y_train, validation_data=(X_valid, y_valid),batch_size=1000, epochs=15)"
      ]
    },
    {
      "cell_type": "code",
      "execution_count": null,
      "id": "_azLargbjW2o",
      "metadata": {
        "colab": {
          "base_uri": "https://localhost:8080/",
          "height": 489
        },
        "id": "_azLargbjW2o",
        "outputId": "6f9ecb06-9864-4ed6-fe70-b3b7de97caaf"
      },
      "outputs": [
        {
          "name": "stdout",
          "output_type": "stream",
          "text": [
            "dict_keys(['loss', 'f1', 'rec@prec', 'val_loss', 'val_f1', 'val_rec@prec'])\n"
          ]
        },
        {
          "data": {
            "image/png": "[encoded data removed]",
            "text/plain": [
              "<Figure size 640x480 with 1 Axes>"
            ]
          },
          "metadata": {},
          "output_type": "display_data"
        }
      ],
      "source": [
        "print(model_5gru_3lstm.history.history.keys())\n",
        "# summarize history for accuracy\n",
        "plt.plot(model_5gru_3lstm.history.history['rec@prec'])\n",
        "plt.plot(model_5gru_3lstm.history.history['val_rec@prec'])\n",
        "plt.title('model_5gru_3lstm f1')\n",
        "plt.ylabel('f1')\n",
        "plt.xlabel('epoch')\n",
        "plt.legend(['train', 'val'], loc='upper left')\n",
        "plt.show()"
      ]
    },
    {
      "cell_type": "markdown",
      "id": "dd09717c",
      "metadata": {},
      "source": [
        "Данная модель продемонстироровала следующие характериситики: loss: 1.3509 и val_loss: 1.6625, f1: 0.3549 и val_f1: 0.3792.\n",
        "\n",
        "Это первая модель которая несколько раз приводила к вылету ядра. Единственным способом этого избежать было сокращение числа юнитов во всех слоях до 40. Это оптимальное значение. Стопроцентные вылеты начинались где-то с 60, диапазон 40-60 оказывалася своеобразной серой зоной, в которой ядро могло вылететь в любой непредсказуемый момент - даже спустя полчаса обучения.\n",
        "\n",
        "В любом случае, модель дала одни из самых худших показателей f1 среди всех обученных."
      ]
    },
    {
      "cell_type": "markdown",
      "id": "I3dTnHTajm3Q",
      "metadata": {
        "id": "I3dTnHTajm3Q"
      },
      "source": [
        "### 6) модель 1 BIGRU и 1 BILSTM слоями"
      ]
    },
    {
      "cell_type": "code",
      "execution_count": null,
      "id": "WBC1vEN8j0Aj",
      "metadata": {
        "id": "WBC1vEN8j0Aj"
      },
      "outputs": [],
      "source": [
        "inputs = keras.layers.Input(shape=(MAX_LEN,))\n",
        "embeddings = tf.keras.layers.Embedding(input_dim=len(word2id), output_dim=30)(inputs)\n",
        "\n",
        "\n",
        "hidden = tf.keras.layers.Bidirectional(tf.keras.layers.GRU(128, return_sequences=False),\n",
        "                         backward_layer=tf.keras.layers.LSTM(128, return_sequences=False, go_backwards=True))(embeddings)\n",
        "\n",
        "outputs = keras.layers.Dense(len(label2id), activation='softmax')(hidden)\n",
        "\n",
        "\n",
        "model_1bigru_1bilstm = keras.Model(inputs=inputs, outputs=outputs)\n",
        "optimizer = keras.optimizers.Adam(learning_rate=0.001)\n",
        "model_1bigru_1bilstm.compile(optimizer=optimizer, loss='categorical_crossentropy', metrics=[f1, tf.keras.metrics.RecallAtPrecision(0.8, name='rec@prec')])"
      ]
    },
    {
      "cell_type": "code",
      "execution_count": null,
      "id": "Hzys2svHnHET",
      "metadata": {
        "colab": {
          "base_uri": "https://localhost:8080/"
        },
        "id": "Hzys2svHnHET",
        "outputId": "139fbbb5-ea14-4277-eeae-c0bb1757b29c"
      },
      "outputs": [
        {
          "name": "stdout",
          "output_type": "stream",
          "text": [
            "Epoch 1/20\n",
            "22/22 [==============================] - 206s 9s/step - loss: 2.2657 - f1: 0.0000e+00 - rec@prec: 0.0000e+00 - val_loss: 2.2724 - val_f1: 0.0000e+00 - val_rec@prec: 9.0171e-04\n",
            "Epoch 2/20\n",
            "22/22 [==============================] - 201s 9s/step - loss: 2.1301 - f1: 0.0285 - rec@prec: 0.0152 - val_loss: 1.9092 - val_f1: 0.1662 - val_rec@prec: 0.0960\n",
            "Epoch 3/20\n",
            "22/22 [==============================] - 201s 9s/step - loss: 1.6860 - f1: 0.2924 - rec@prec: 0.1155 - val_loss: 1.6594 - val_f1: 0.3168 - val_rec@prec: 0.1488\n",
            "Epoch 4/20\n",
            "22/22 [==============================] - 201s 9s/step - loss: 1.4601 - f1: 0.4561 - rec@prec: 0.2848 - val_loss: 1.5135 - val_f1: 0.4334 - val_rec@prec: 0.2074\n",
            "Epoch 5/20\n",
            "22/22 [==============================] - 201s 9s/step - loss: 1.2919 - f1: 0.5594 - rec@prec: 0.4166 - val_loss: 1.4504 - val_f1: 0.4782 - val_rec@prec: 0.2349\n",
            "Epoch 6/20\n",
            "22/22 [==============================] - 202s 9s/step - loss: 1.1696 - f1: 0.6125 - rec@prec: 0.4965 - val_loss: 1.4243 - val_f1: 0.4994 - val_rec@prec: 0.2741\n",
            "Epoch 7/20\n",
            "22/22 [==============================] - 200s 9s/step - loss: 1.0589 - f1: 0.6589 - rec@prec: 0.5733 - val_loss: 1.3994 - val_f1: 0.5355 - val_rec@prec: 0.3390\n",
            "Epoch 8/20\n",
            "22/22 [==============================] - 201s 9s/step - loss: 0.9679 - f1: 0.6962 - rec@prec: 0.6313 - val_loss: 1.3943 - val_f1: 0.5539 - val_rec@prec: 0.3282\n",
            "Epoch 9/20\n",
            "22/22 [==============================] - 201s 9s/step - loss: 0.8879 - f1: 0.7197 - rec@prec: 0.6775 - val_loss: 1.4110 - val_f1: 0.5650 - val_rec@prec: 0.3706\n",
            "Epoch 10/20\n",
            "22/22 [==============================] - 200s 9s/step - loss: 0.8031 - f1: 0.7508 - rec@prec: 0.7298 - val_loss: 1.3997 - val_f1: 0.5833 - val_rec@prec: 0.3697\n",
            "Epoch 11/20\n",
            "22/22 [==============================] - 203s 9s/step - loss: 0.7238 - f1: 0.7766 - rec@prec: 0.7825 - val_loss: 1.4600 - val_f1: 0.5762 - val_rec@prec: 0.3571\n",
            "Epoch 12/20\n",
            "22/22 [==============================] - 202s 9s/step - loss: 0.6652 - f1: 0.7975 - rec@prec: 0.8159 - val_loss: 1.4949 - val_f1: 0.5764 - val_rec@prec: 0.3715\n",
            "Epoch 13/20\n",
            "22/22 [==============================] - 201s 9s/step - loss: 0.6511 - f1: 0.7959 - rec@prec: 0.8180 - val_loss: 1.4821 - val_f1: 0.5907 - val_rec@prec: 0.3968\n",
            "Epoch 14/20\n",
            "22/22 [==============================] - 201s 9s/step - loss: 0.5736 - f1: 0.8278 - rec@prec: 0.8597 - val_loss: 1.6092 - val_f1: 0.5768 - val_rec@prec: 0.3724\n",
            "Epoch 15/20\n",
            "22/22 [==============================] - 202s 9s/step - loss: 0.5284 - f1: 0.8431 - rec@prec: 0.8803 - val_loss: 1.5476 - val_f1: 0.6009 - val_rec@prec: 0.4288\n",
            "Epoch 16/20\n",
            "22/22 [==============================] - 201s 9s/step - loss: 0.4674 - f1: 0.8660 - rec@prec: 0.9056 - val_loss: 1.6683 - val_f1: 0.5676 - val_rec@prec: 0.3805\n",
            "Epoch 17/20\n",
            "22/22 [==============================] - 202s 9s/step - loss: 0.4475 - f1: 0.8714 - rec@prec: 0.9109 - val_loss: 1.6635 - val_f1: 0.5997 - val_rec@prec: 0.4094\n",
            "Epoch 18/20\n",
            "22/22 [==============================] - 202s 9s/step - loss: 0.4033 - f1: 0.8855 - rec@prec: 0.9286 - val_loss: 1.6897 - val_f1: 0.5958 - val_rec@prec: 0.4175\n",
            "Epoch 19/20\n",
            "22/22 [==============================] - 203s 9s/step - loss: 0.3648 - f1: 0.9012 - rec@prec: 0.9412 - val_loss: 1.7655 - val_f1: 0.6058 - val_rec@prec: 0.4089\n",
            "Epoch 20/20\n",
            "22/22 [==============================] - 202s 9s/step - loss: 0.3329 - f1: 0.9112 - rec@prec: 0.9520 - val_loss: 1.8575 - val_f1: 0.6008 - val_rec@prec: 0.3805\n"
          ]
        },
        {
          "data": {
            "text/plain": [
              "<keras.src.callbacks.History at 0x7a2cfbea0700>"
            ]
          },
          "execution_count": 33,
          "metadata": {},
          "output_type": "execute_result"
        }
      ],
      "source": [
        "model_1bigru_1bilstm.fit(X_train, y_train, validation_data=(X_valid, y_valid),batch_size=2000, epochs=20)"
      ]
    },
    {
      "cell_type": "code",
      "execution_count": null,
      "id": "C8ucWWaPnahz",
      "metadata": {
        "colab": {
          "base_uri": "https://localhost:8080/",
          "height": 489
        },
        "id": "C8ucWWaPnahz",
        "outputId": "a2136752-a49f-4c2e-ef69-f073b375ffdd"
      },
      "outputs": [
        {
          "name": "stdout",
          "output_type": "stream",
          "text": [
            "dict_keys(['loss', 'f1', 'rec@prec', 'val_loss', 'val_f1', 'val_rec@prec'])\n"
          ]
        },
        {
          "data": {
            "image/png": "[encoded data removed]",
            "text/plain": [
              "<Figure size 640x480 with 1 Axes>"
            ]
          },
          "metadata": {},
          "output_type": "display_data"
        }
      ],
      "source": [
        "print(model_1bigru_1bilstm.history.history.keys())\n",
        "# summarize history for accuracy\n",
        "plt.plot(model_1bigru_1bilstm.history.history['rec@prec'])\n",
        "plt.plot(model_1bigru_1bilstm.history.history['val_rec@prec'])\n",
        "plt.title('model_1bigru_1bilstm f1')\n",
        "plt.ylabel('f1')\n",
        "plt.xlabel('epoch')\n",
        "plt.legend(['train', 'val'], loc='upper left')\n",
        "plt.show()"
      ]
    },
    {
      "cell_type": "markdown",
      "id": "c816cb63",
      "metadata": {},
      "source": [
        "Данная модель продемонстироровала следующие характериситики: loss: 0.3329 и val_loss: 1.8575, f1: 0.9112 и val_f1: 0.6008.\n",
        "\n",
        "По качеству результатов эта модель недалеко ушла от самой первой модели в данном задании. Тем не менее, обучается она гораздо дольше. "
      ]
    },
    {
      "cell_type": "markdown",
      "id": "jv7jWVNAoSOp",
      "metadata": {
        "id": "jv7jWVNAoSOp"
      },
      "source": [
        "### 7) модель, где последовательно идут слои: LSTM, GRU, BILSTM, BIGRU, GRU, LSTM"
      ]
    },
    {
      "cell_type": "code",
      "execution_count": null,
      "id": "jz97PoYtoRTd",
      "metadata": {
        "id": "jz97PoYtoRTd"
      },
      "outputs": [],
      "source": [
        "inputs = keras.layers.Input(shape=(MAX_LEN,))\n",
        "embeddings = tf.keras.layers.Embedding(input_dim=len(word2id), output_dim=30)(inputs)\n",
        "\n",
        "lstm = tf.keras.layers.LSTM(30, return_sequences=True)(embeddings)\n",
        "gru = tf.keras.layers.GRU(30, return_sequences=True)(lstm)\n",
        "bilstm = tf.keras.layers.Bidirectional(tf.keras.layers.LSTM(30, return_sequences=True))(gru)\n",
        "bigru = tf.keras.layers.Bidirectional(tf.keras.layers.GRU(30, return_sequences=True))(bilstm)\n",
        "gru2 = tf.keras.layers.GRU(30, return_sequences=True)(bigru)\n",
        "lstm2 = tf.keras.layers.LSTM(30, return_sequences=False)(gru2)\n",
        "\n",
        "outputs = keras.layers.Dense(len(label2id), activation='softmax')(lstm2)\n",
        "\n",
        "\n",
        "model_final = keras.Model(inputs=inputs, outputs=outputs)\n",
        "optimizer = keras.optimizers.Adam(learning_rate=0.001)\n",
        "model_final.compile(optimizer=optimizer, loss='categorical_crossentropy', metrics=[f1, tf.keras.metrics.RecallAtPrecision(0.8, name='rec@prec')])"
      ]
    },
    {
      "cell_type": "code",
      "execution_count": null,
      "id": "AHjX3J_YrYhq",
      "metadata": {
        "colab": {
          "base_uri": "https://localhost:8080/"
        },
        "id": "AHjX3J_YrYhq",
        "outputId": "465f8aeb-528c-4905-e4e8-59bcf176a940"
      },
      "outputs": [
        {
          "name": "stdout",
          "output_type": "stream",
          "text": [
            "Epoch 1/15\n",
            "15/15 [==============================] - 222s 13s/step - loss: 2.8488 - f1: 0.0000e+00 - rec@prec: 0.0000e+00 - val_loss: 2.5669 - val_f1: 0.0000e+00 - val_rec@prec: 0.0000e+00\n",
            "Epoch 2/15\n",
            "15/15 [==============================] - 197s 13s/step - loss: 2.4816 - f1: 0.0000e+00 - rec@prec: 0.0000e+00 - val_loss: 2.4130 - val_f1: 0.0000e+00 - val_rec@prec: 0.0000e+00\n",
            "Epoch 3/15\n",
            "15/15 [==============================] - 202s 13s/step - loss: 2.3849 - f1: 0.0000e+00 - rec@prec: 0.0000e+00 - val_loss: 2.3576 - val_f1: 0.0000e+00 - val_rec@prec: 0.0000e+00\n",
            "Epoch 4/15\n",
            "15/15 [==============================] - 198s 13s/step - loss: 2.3473 - f1: 0.0000e+00 - rec@prec: 0.0000e+00 - val_loss: 2.3355 - val_f1: 0.0000e+00 - val_rec@prec: 0.0000e+00\n",
            "Epoch 5/15\n",
            "15/15 [==============================] - 197s 13s/step - loss: 2.3332 - f1: 0.0000e+00 - rec@prec: 0.0000e+00 - val_loss: 2.3290 - val_f1: 0.0000e+00 - val_rec@prec: 0.0000e+00\n",
            "Epoch 6/15\n",
            "15/15 [==============================] - 200s 13s/step - loss: 2.3288 - f1: 0.0000e+00 - rec@prec: 0.0000e+00 - val_loss: 2.3250 - val_f1: 0.0000e+00 - val_rec@prec: 0.0000e+00\n",
            "Epoch 7/15\n",
            "15/15 [==============================] - 233s 15s/step - loss: 2.3252 - f1: 0.0000e+00 - rec@prec: 0.0000e+00 - val_loss: 2.3193 - val_f1: 0.0000e+00 - val_rec@prec: 0.0000e+00\n",
            "Epoch 8/15\n",
            "15/15 [==============================] - 234s 16s/step - loss: 2.3124 - f1: 0.0000e+00 - rec@prec: 2.3732e-05 - val_loss: 2.2966 - val_f1: 0.0000e+00 - val_rec@prec: 9.0171e-04\n",
            "Epoch 9/15\n",
            "15/15 [==============================] - 234s 16s/step - loss: 2.1986 - f1: 0.0000e+00 - rec@prec: 0.0000e+00 - val_loss: 2.0851 - val_f1: 0.0000e+00 - val_rec@prec: 0.0000e+00\n",
            "Epoch 10/15\n",
            "15/15 [==============================] - 244s 16s/step - loss: 1.9949 - f1: 0.0000e+00 - rec@prec: 0.0000e+00 - val_loss: 1.9750 - val_f1: 0.0000e+00 - val_rec@prec: 0.0000e+00\n",
            "Epoch 11/15\n",
            "15/15 [==============================] - 236s 16s/step - loss: 1.8659 - f1: 0.0000e+00 - rec@prec: 0.0125 - val_loss: 1.8476 - val_f1: 0.0000e+00 - val_rec@prec: 0.0428\n",
            "Epoch 12/15\n",
            "15/15 [==============================] - 235s 16s/step - loss: 1.7402 - f1: 0.0661 - rec@prec: 0.0779 - val_loss: 1.7883 - val_f1: 0.1314 - val_rec@prec: 0.0843\n",
            "Epoch 13/15\n",
            "15/15 [==============================] - 235s 16s/step - loss: 1.6597 - f1: 0.1397 - rec@prec: 0.1006 - val_loss: 1.7938 - val_f1: 0.1319 - val_rec@prec: 0.0789\n",
            "Epoch 14/15\n",
            "15/15 [==============================] - 209s 14s/step - loss: 1.5907 - f1: 0.1515 - rec@prec: 0.1036 - val_loss: 1.7196 - val_f1: 0.1838 - val_rec@prec: 0.0893\n",
            "Epoch 15/15\n",
            "15/15 [==============================] - 198s 13s/step - loss: 1.5250 - f1: 0.2740 - rec@prec: 0.1306 - val_loss: 1.7010 - val_f1: 0.3280 - val_rec@prec: 0.0929\n"
          ]
        },
        {
          "data": {
            "text/plain": [
              "<keras.src.callbacks.History at 0x7f2b75d24640>"
            ]
          },
          "execution_count": 18,
          "metadata": {},
          "output_type": "execute_result"
        }
      ],
      "source": [
        "model_final.fit(X_train, y_train, validation_data=(X_valid, y_valid),batch_size=3000, epochs=15)"
      ]
    },
    {
      "cell_type": "code",
      "execution_count": null,
      "id": "HgQKeGMlrhuO",
      "metadata": {
        "colab": {
          "base_uri": "https://localhost:8080/",
          "height": 489
        },
        "id": "HgQKeGMlrhuO",
        "outputId": "910db4de-7599-4d97-ee76-480c1858a09d"
      },
      "outputs": [
        {
          "name": "stdout",
          "output_type": "stream",
          "text": [
            "dict_keys(['loss', 'f1', 'rec@prec', 'val_loss', 'val_f1', 'val_rec@prec'])\n"
          ]
        },
        {
          "data": {
            "image/png": "[encoded data removed]",
            "text/plain": [
              "<Figure size 640x480 with 1 Axes>"
            ]
          },
          "metadata": {},
          "output_type": "display_data"
        }
      ],
      "source": [
        "print(model_final.history.history.keys())\n",
        "# summarize history for accuracy\n",
        "plt.plot(model_final.history.history['rec@prec'])\n",
        "plt.plot(model_final.history.history['val_rec@prec'])\n",
        "plt.title('model_final f1')\n",
        "plt.ylabel('f1')\n",
        "plt.xlabel('epoch')\n",
        "plt.legend(['train', 'val'], loc='upper left')\n",
        "plt.show()"
      ]
    },
    {
      "cell_type": "markdown",
      "id": "7a569578",
      "metadata": {},
      "source": [
        "Данная модель продемонстироровала следующие характериситики: loss: 1.5250 и val_loss: 1.7010, f1: 0.2740 и val_f1: 0.3280.\n",
        "\n",
        "Ещё одна модель, которая не раз обрушила ядро. Обучается долго. Даёт худшие результаты по f1 и довольно посредственный loss. Не рекомендую."
      ]
    },
    {
      "cell_type": "markdown",
      "id": "MkhEuKCiAU_-",
      "metadata": {
        "id": "MkhEuKCiAU_-"
      },
      "source": [
        "### Дополнительная модель - 1 BIGRU, 1 LSTM"
      ]
    },
    {
      "cell_type": "code",
      "execution_count": 94,
      "id": "3Kt1ijZzAUfO",
      "metadata": {
        "id": "3Kt1ijZzAUfO"
      },
      "outputs": [],
      "source": [
        "inputs = keras.layers.Input(shape=(MAX_LEN,))\n",
        "embeddings = tf.keras.layers.Embedding(input_dim=len(word2id), output_dim=30)(inputs)\n",
        "\n",
        "bigru = tf.keras.layers.Bidirectional(tf.keras.layers.GRU(128, return_sequences=True))(embeddings)\n",
        "lstm = tf.keras.layers.LSTM(128, return_sequences=False)(bigru)\n",
        "\n",
        "\n",
        "dense = keras.layers.Dense(60, activation='relu')(lstm)\n",
        "\n",
        "outputs = keras.layers.Dense(len(label2id), activation='softmax')(dense)\n",
        "\n",
        "\n",
        "model_1bigrulstm = keras.Model(inputs=inputs, outputs=outputs)\n",
        "optimizer = keras.optimizers.Adam(learning_rate=0.001)\n",
        "model_1bigrulstm.compile(optimizer=optimizer, loss='categorical_crossentropy', metrics=[f1, tf.keras.metrics.RecallAtPrecision(0.8, name='rec@prec')])"
      ]
    },
    {
      "cell_type": "code",
      "execution_count": 95,
      "id": "OGvbDP3_dfNH",
      "metadata": {
        "colab": {
          "base_uri": "https://localhost:8080/"
        },
        "id": "OGvbDP3_dfNH",
        "outputId": "fb5cbbc7-7d2e-4677-d3f4-dd302c2d9da0"
      },
      "outputs": [
        {
          "name": "stdout",
          "output_type": "stream",
          "text": [
            "Epoch 1/20\n",
            "43/43 [==============================] - 518s 12s/step - loss: 2.4770 - f1: 0.0000e+00 - rec@prec: 0.0000e+00 - val_loss: 2.3234 - val_f1: 0.0000e+00 - val_rec@prec: 0.0000e+00\n",
            "Epoch 2/20\n",
            "43/43 [==============================] - 496s 11s/step - loss: 2.2055 - f1: 0.0000e+00 - rec@prec: 0.0000e+00 - val_loss: 2.0366 - val_f1: 0.0000e+00 - val_rec@prec: 0.0000e+00\n",
            "Epoch 3/20\n",
            "43/43 [==============================] - 497s 12s/step - loss: 1.8080 - f1: 0.1096 - rec@prec: 0.0441 - val_loss: 1.6692 - val_f1: 0.4144 - val_rec@prec: 0.1168\n",
            "Epoch 4/20\n",
            "43/43 [==============================] - 501s 12s/step - loss: 1.4470 - f1: 0.4768 - rec@prec: 0.2394 - val_loss: 1.5103 - val_f1: 0.4876 - val_rec@prec: 0.2182\n",
            "Epoch 5/20\n",
            "43/43 [==============================] - 501s 12s/step - loss: 1.2239 - f1: 0.5833 - rec@prec: 0.3483 - val_loss: 1.4870 - val_f1: 0.5371 - val_rec@prec: 0.2164\n",
            "Epoch 6/20\n",
            "43/43 [==============================] - 505s 12s/step - loss: 1.1229 - f1: 0.6334 - rec@prec: 0.4534 - val_loss: 1.3260 - val_f1: 0.5952 - val_rec@prec: 0.3557\n",
            "Epoch 7/20\n",
            "43/43 [==============================] - 504s 12s/step - loss: 1.0047 - f1: 0.6747 - rec@prec: 0.5459 - val_loss: 1.3386 - val_f1: 0.5883 - val_rec@prec: 0.3715\n",
            "Epoch 8/20\n",
            "43/43 [==============================] - 503s 12s/step - loss: 0.9569 - f1: 0.6891 - rec@prec: 0.5805 - val_loss: 1.3457 - val_f1: 0.6016 - val_rec@prec: 0.3372\n",
            "Epoch 9/20\n",
            "43/43 [==============================] - 502s 12s/step - loss: 0.8825 - f1: 0.7135 - rec@prec: 0.6327 - val_loss: 1.3580 - val_f1: 0.5952 - val_rec@prec: 0.3774\n",
            "Epoch 10/20\n",
            "43/43 [==============================] - 501s 12s/step - loss: 0.8263 - f1: 0.7346 - rec@prec: 0.6818 - val_loss: 1.3443 - val_f1: 0.6013 - val_rec@prec: 0.3927\n",
            "Epoch 11/20\n",
            "43/43 [==============================] - 503s 12s/step - loss: 0.7631 - f1: 0.7621 - rec@prec: 0.7384 - val_loss: 1.3793 - val_f1: 0.6130 - val_rec@prec: 0.3796\n",
            "Epoch 12/20\n",
            "43/43 [==============================] - 509s 12s/step - loss: 0.7104 - f1: 0.7886 - rec@prec: 0.7834 - val_loss: 1.4452 - val_f1: 0.6100 - val_rec@prec: 0.3837\n",
            "Epoch 13/20\n",
            "43/43 [==============================] - 501s 12s/step - loss: 0.6706 - f1: 0.8018 - rec@prec: 0.8077 - val_loss: 1.4284 - val_f1: 0.6171 - val_rec@prec: 0.4031\n",
            "Epoch 14/20\n",
            "43/43 [==============================] - 503s 12s/step - loss: 0.6260 - f1: 0.8206 - rec@prec: 0.8366 - val_loss: 1.4377 - val_f1: 0.6206 - val_rec@prec: 0.4170\n",
            "Epoch 15/20\n",
            "43/43 [==============================] - 533s 12s/step - loss: 0.5620 - f1: 0.8438 - rec@prec: 0.8699 - val_loss: 1.4749 - val_f1: 0.6314 - val_rec@prec: 0.4157\n",
            "Epoch 16/20\n",
            "43/43 [==============================] - 500s 12s/step - loss: 0.5239 - f1: 0.8553 - rec@prec: 0.8881 - val_loss: 1.5064 - val_f1: 0.6332 - val_rec@prec: 0.4243\n",
            "Epoch 17/20\n",
            "43/43 [==============================] - 504s 12s/step - loss: 0.4945 - f1: 0.8665 - rec@prec: 0.8990 - val_loss: 1.5631 - val_f1: 0.6277 - val_rec@prec: 0.4355\n",
            "Epoch 18/20\n",
            "43/43 [==============================] - 502s 12s/step - loss: 0.4740 - f1: 0.8729 - rec@prec: 0.9064 - val_loss: 1.5702 - val_f1: 0.6376 - val_rec@prec: 0.4234\n",
            "Epoch 19/20\n",
            "43/43 [==============================] - 509s 12s/step - loss: 0.4408 - f1: 0.8834 - rec@prec: 0.9192 - val_loss: 1.5773 - val_f1: 0.6401 - val_rec@prec: 0.4423\n",
            "Epoch 20/20\n",
            "43/43 [==============================] - 500s 12s/step - loss: 0.4130 - f1: 0.8940 - rec@prec: 0.9279 - val_loss: 1.6497 - val_f1: 0.6340 - val_rec@prec: 0.4134\n"
          ]
        },
        {
          "data": {
            "text/plain": [
              "<keras.src.callbacks.History at 0x780a4be4fc70>"
            ]
          },
          "execution_count": 95,
          "metadata": {},
          "output_type": "execute_result"
        }
      ],
      "source": [
        "model_1bigrulstm.fit(X_train, y_train, validation_data=(X_valid, y_valid),batch_size=1000, epochs=20)"
      ]
    },
    {
      "cell_type": "code",
      "execution_count": 96,
      "id": "L3QKhAEU51TS",
      "metadata": {
        "colab": {
          "base_uri": "https://localhost:8080/",
          "height": 489
        },
        "id": "L3QKhAEU51TS",
        "outputId": "8f1b6c77-42de-46dc-e5e9-024238119e95"
      },
      "outputs": [
        {
          "name": "stdout",
          "output_type": "stream",
          "text": [
            "dict_keys(['loss', 'f1', 'rec@prec', 'val_loss', 'val_f1', 'val_rec@prec'])\n"
          ]
        },
        {
          "data": {
            "image/png": "[encoded data removed]",
            "text/plain": [
              "<Figure size 640x480 with 1 Axes>"
            ]
          },
          "metadata": {},
          "output_type": "display_data"
        }
      ],
      "source": [
        "print(model_1bigrulstm.history.history.keys())\n",
        "# summarize history for accuracy\n",
        "plt.plot(model_1bigrulstm.history.history['rec@prec'])\n",
        "plt.plot(model_1bigrulstm.history.history['val_rec@prec'])\n",
        "plt.title('model_1bigrulstm f1')\n",
        "plt.ylabel('f1')\n",
        "plt.xlabel('epoch')\n",
        "plt.legend(['train', 'val'], loc='upper left')\n",
        "plt.show()"
      ]
    },
    {
      "cell_type": "markdown",
      "id": "00bb579c",
      "metadata": {},
      "source": [
        "Данная модель продемонстироровала следующие характериситики: loss: 0.4130 и val_loss: 1.6497, f1: 0.8940 и val_f1: 0.6340.\n",
        "\n",
        "При первоначальных тестах эта модель смогла показать самые высокие показатели val_f1 - выше 0,9. А также очень качественные значения loss. К сожалению, повторить эти же метрики не получилось - результаты выше в сравнении с остальными моделями довольно посредственны. "
      ]
    },
    {
      "cell_type": "markdown",
      "id": "c0ExQ5ZDrnnq",
      "metadata": {
        "id": "c0ExQ5ZDrnnq"
      },
      "source": [
        "## Вывод:\n",
        "\n",
        "Победителем в данном задании можно назвать 2) Модель с 1 LSTM слоем. Она показала самые выскоие показатели f1 довольно небольшой loss. \n",
        "Также неплохие метрики продемонстрировала 4) модель с 1 BIGRU и 2 LSTM слоями. Это единственная модель с несколькмим слоями, которая добилась f1_val на уровне 0,65. Тем не менее, её метрики ниже второй модели, и обучалась она гораздо дольше. "
      ]
    },
    {
      "cell_type": "markdown",
      "id": "ed5d6eea",
      "metadata": {
        "id": "ed5d6eea"
      },
      "source": [
        "## Задание 2 (6 баллов)\n"
      ]
    },
    {
      "cell_type": "markdown",
      "id": "5c2c07cf",
      "metadata": {
        "id": "5c2c07cf"
      },
      "source": [
        "На данных википедии (wikiann) обучите 2 модели:  \n",
        "1) модель в которой будут использованы предобученные эмбединги слов и несколько BILSTM слоев.\n",
        "1) модель в которой будут использованы предобученные эмбединги слов и несколько BIGRU слоев.\n",
        "\n",
        "Сравните качество по метрикам. Также придумайте несколько сложных примеров и проверьте, какие сущности определяет каждая из моделей."
      ]
    },
    {
      "cell_type": "code",
      "execution_count": 3,
      "id": "7fNq_Mac43kP",
      "metadata": {
        "colab": {
          "base_uri": "https://localhost:8080/"
        },
        "id": "7fNq_Mac43kP",
        "outputId": "3c4266ee-70d3-4027-adfe-eb810c670626"
      },
      "outputs": [
        {
          "name": "stdout",
          "output_type": "stream",
          "text": [
            "Collecting datasets\n",
            "  Downloading datasets-2.17.1-py3-none-any.whl (536 kB)\n",
            "\u001b[2K     \u001b[90m━━━━━━━━━━━━━━━━━━━━━━━━━━━━━━━━━━━━━━━━\u001b[0m \u001b[32m536.7/536.7 kB\u001b[0m \u001b[31m5.3 MB/s\u001b[0m eta \u001b[36m0:00:00\u001b[0m\n",
            "\u001b[?25hRequirement already satisfied: filelock in /usr/local/lib/python3.10/dist-packages (from datasets) (3.13.1)\n",
            "Requirement already satisfied: numpy>=1.17 in /usr/local/lib/python3.10/dist-packages (from datasets) (1.25.2)\n",
            "Requirement already satisfied: pyarrow>=12.0.0 in /usr/local/lib/python3.10/dist-packages (from datasets) (14.0.2)\n",
            "Requirement already satisfied: pyarrow-hotfix in /usr/local/lib/python3.10/dist-packages (from datasets) (0.6)\n",
            "Collecting dill<0.3.9,>=0.3.0 (from datasets)\n",
            "  Downloading dill-0.3.8-py3-none-any.whl (116 kB)\n",
            "\u001b[2K     \u001b[90m━━━━━━━━━━━━━━━━━━━━━━━━━━━━━━━━━━━━━━━━\u001b[0m \u001b[32m116.3/116.3 kB\u001b[0m \u001b[31m13.5 MB/s\u001b[0m eta \u001b[36m0:00:00\u001b[0m\n",
            "\u001b[?25hRequirement already satisfied: pandas in /usr/local/lib/python3.10/dist-packages (from datasets) (1.5.3)\n",
            "Requirement already satisfied: requests>=2.19.0 in /usr/local/lib/python3.10/dist-packages (from datasets) (2.31.0)\n",
            "Requirement already satisfied: tqdm>=4.62.1 in /usr/local/lib/python3.10/dist-packages (from datasets) (4.66.2)\n",
            "Requirement already satisfied: xxhash in /usr/local/lib/python3.10/dist-packages (from datasets) (3.4.1)\n",
            "Collecting multiprocess (from datasets)\n",
            "  Downloading multiprocess-0.70.16-py310-none-any.whl (134 kB)\n",
            "\u001b[2K     \u001b[90m━━━━━━━━━━━━━━━━━━━━━━━━━━━━━━━━━━━━━━━━\u001b[0m \u001b[32m134.8/134.8 kB\u001b[0m \u001b[31m10.5 MB/s\u001b[0m eta \u001b[36m0:00:00\u001b[0m\n",
            "\u001b[?25hRequirement already satisfied: fsspec[http]<=2023.10.0,>=2023.1.0 in /usr/local/lib/python3.10/dist-packages (from datasets) (2023.6.0)\n",
            "Requirement already satisfied: aiohttp in /usr/local/lib/python3.10/dist-packages (from datasets) (3.9.3)\n",
            "Requirement already satisfied: huggingface-hub>=0.19.4 in /usr/local/lib/python3.10/dist-packages (from datasets) (0.20.3)\n",
            "Requirement already satisfied: packaging in /usr/local/lib/python3.10/dist-packages (from datasets) (23.2)\n",
            "Requirement already satisfied: pyyaml>=5.1 in /usr/local/lib/python3.10/dist-packages (from datasets) (6.0.1)\n",
            "Requirement already satisfied: aiosignal>=1.1.2 in /usr/local/lib/python3.10/dist-packages (from aiohttp->datasets) (1.3.1)\n",
            "Requirement already satisfied: attrs>=17.3.0 in /usr/local/lib/python3.10/dist-packages (from aiohttp->datasets) (23.2.0)\n",
            "Requirement already satisfied: frozenlist>=1.1.1 in /usr/local/lib/python3.10/dist-packages (from aiohttp->datasets) (1.4.1)\n",
            "Requirement already satisfied: multidict<7.0,>=4.5 in /usr/local/lib/python3.10/dist-packages (from aiohttp->datasets) (6.0.5)\n",
            "Requirement already satisfied: yarl<2.0,>=1.0 in /usr/local/lib/python3.10/dist-packages (from aiohttp->datasets) (1.9.4)\n",
            "Requirement already satisfied: async-timeout<5.0,>=4.0 in /usr/local/lib/python3.10/dist-packages (from aiohttp->datasets) (4.0.3)\n",
            "Requirement already satisfied: typing-extensions>=3.7.4.3 in /usr/local/lib/python3.10/dist-packages (from huggingface-hub>=0.19.4->datasets) (4.9.0)\n",
            "Requirement already satisfied: charset-normalizer<4,>=2 in /usr/local/lib/python3.10/dist-packages (from requests>=2.19.0->datasets) (3.3.2)\n",
            "Requirement already satisfied: idna<4,>=2.5 in /usr/local/lib/python3.10/dist-packages (from requests>=2.19.0->datasets) (3.6)\n",
            "Requirement already satisfied: urllib3<3,>=1.21.1 in /usr/local/lib/python3.10/dist-packages (from requests>=2.19.0->datasets) (2.0.7)\n",
            "Requirement already satisfied: certifi>=2017.4.17 in /usr/local/lib/python3.10/dist-packages (from requests>=2.19.0->datasets) (2024.2.2)\n",
            "Requirement already satisfied: python-dateutil>=2.8.1 in /usr/local/lib/python3.10/dist-packages (from pandas->datasets) (2.8.2)\n",
            "Requirement already satisfied: pytz>=2020.1 in /usr/local/lib/python3.10/dist-packages (from pandas->datasets) (2023.4)\n",
            "Requirement already satisfied: six>=1.5 in /usr/local/lib/python3.10/dist-packages (from python-dateutil>=2.8.1->pandas->datasets) (1.16.0)\n",
            "Installing collected packages: dill, multiprocess, datasets\n",
            "Successfully installed datasets-2.17.1 dill-0.3.8 multiprocess-0.70.16\n"
          ]
        }
      ],
      "source": [
        "!pip install datasets"
      ]
    },
    {
      "cell_type": "code",
      "execution_count": 4,
      "id": "V7XNm4T945HA",
      "metadata": {
        "id": "V7XNm4T945HA"
      },
      "outputs": [],
      "source": [
        "from datasets import load_dataset"
      ]
    },
    {
      "cell_type": "code",
      "execution_count": 5,
      "id": "1rBx6Nzy5Eij",
      "metadata": {
        "colab": {
          "base_uri": "https://localhost:8080/",
          "height": 365,
          "referenced_widgets": [
            "6d4acf8e46834252a20787faa328f9e1",
            "358daf6d781b40c89fe110cfe43ee53b",
            "364de4ab03b144119ee2c224f6d6c08b",
            "34d44976972b4b3da1f3a5120d1e208d",
            "4327192016bb4506b8e6f519fbfaa690",
            "398c57e7d3494e13b943a922778b22b4",
            "72e13926ca044fa29fdf34a8b28fd120",
            "fdfc2e8dd8844260a4b8b18910855bba",
            "1648e7564b8b439bb661e6d9a550d776",
            "0224fceac8114ddabfa956952c1f8d68",
            "88dd17712ac8440c9b678ec21e62f5d3",
            "f28c65a9ba01473c8ab035c33224c083",
            "9127ccda19ec4a2e9607b45baf6394b2",
            "fa2b909921824c828bad515ca361f9a2",
            "96602982807d41e6a319d37b9a7b77d0",
            "fb8fd1c3e0bd406eb0cf9b63f58c434a",
            "1a595824974c4152a1243e452cefa433",
            "8fc5e4ebf3534cff8b5bbf9c5c826f1d",
            "9397b236afab4ea08f710216ff09a433",
            "6b4b25f2b3044aeb8160a0da52a70451",
            "1774b12799294d4a962e985180b4a069",
            "e014400078a246b095172b718321c227",
            "1d6fa36b5be046798b5d460cc744afd5",
            "2ce91d01d0f249fc9a300d331b2e133e",
            "9f10f4708f814699856aafa3dc1e2490",
            "8b67c637e9c04222b63c82b719279d52",
            "c8ef4b2b26714a6fa81f67f7f52b0209",
            "9e45fc1e1ab94a019e0ba20df656aab8",
            "83f349ad89a74641aa0be97b67eb8f55",
            "f3c95d1eb4714fc69fb5ca52bfc5b9b5",
            "e67b1437902e4ce7adf9590ec1cc0b88",
            "f7377f349a584a049d5523a4024cf177",
            "3f3fa9a246e9433c86e8194e657d6385",
            "9686bf85cf614d6fbfcc2de42e93b53c",
            "12d94fae3b3449ae8fd9f474a9127433",
            "2bd07a00035a44afab34030f16204d9b",
            "99ae031de4b04eaaa6016a2acee6323a",
            "6ea2733caa4b48ffa818e1b47fde6daa",
            "83566fa43a1b46d49eaddbb149b9a0bc",
            "70c4f59a4db44bd8a6ff2efba0375ed4",
            "d46bb92358994f9281b3e7aed653936e",
            "d976f854c7b241148502c882c9ef51d9",
            "ea84d7df9bff4402b59242960e59e24e",
            "83e8131b5ea64f33ae6db122d36a6c26",
            "c5ab44ae57d2499c8c568465a76f3dad",
            "5b34dd394bbd43bc96fee3ff65d8ef5b",
            "eba12d2aff194e149057aeb53d16e71f",
            "8d2df4cc60d54853a6427fe50459b83f",
            "00f5144faec9411dbca6586aadec95ca",
            "27b1e5f3e9bb4820b1975d982e72acb7",
            "793f76b70a614debac67278b63a9b070",
            "b453b633409a4d568e5e989f98894762",
            "16f0d1963ecc4298ac100ee719de3b46",
            "3d3c5db9f6d64e1397aec66217fb6a52",
            "547997d91e2146b18693e384079b5abd",
            "09ed99198b774165a616e23b010a4a37",
            "7af634bfb6dc40b38b21f466fa6dcc88",
            "2de8abf2f322426aa63a0e80c2a7a8b2",
            "01186afa6d2149278f68af71f32b4bae",
            "75b4bf495a0244f6a4fc1f802de505e7",
            "8df08611732e46bf958c3191e1615be9",
            "6de4f739bbd346b3b5b0665086edcadc",
            "efbdefdbe6494247b463338e47efba7f",
            "98ddac580e294b5989bed589c8ee7efc",
            "bbfbe8cbb44a434288411ec3caa2d604",
            "eac7e18e6c7a4e778b9e096ac63c88ec",
            "c5a0608fb70a40d7b5ab9cc2d275c891",
            "a1c5d0ed8b3f450fbc092fd31ddce311",
            "2054c9c277a24c62b47d5735dd5f38c3",
            "367ef3bd78e04ef8a2cfe3f8b1e3c4aa",
            "1d1dcc637ff34d11bc745d547066083c",
            "a90ab0b0adf74a9080cacd91132f81c1",
            "598a646af080439a8badfa781339aba9",
            "4e59a43064b2468385c4f522b82609c7",
            "c8503241163d4bb38d86f5de5d3d2869",
            "aa1c55f544fe4ecf82eba86fac870ee5",
            "2ba53ffc758b4abbbc0f85c7ceb217d7"
          ]
        },
        "id": "1rBx6Nzy5Eij",
        "outputId": "0fb7946f-28f0-4b22-d0c7-b63e404542ff"
      },
      "outputs": [
        {
          "name": "stderr",
          "output_type": "stream",
          "text": [
            "/usr/local/lib/python3.10/dist-packages/huggingface_hub/utils/_token.py:88: UserWarning: \n",
            "The secret `HF_TOKEN` does not exist in your Colab secrets.\n",
            "To authenticate with the Hugging Face Hub, create a token in your settings tab (https://huggingface.co/settings/tokens), set it as secret in your Google Colab and restart your session.\n",
            "You will be able to reuse this secret in all of your notebooks.\n",
            "Please note that authentication is recommended but still optional to access public models or datasets.\n",
            "  warnings.warn(\n"
          ]
        },
        {
          "data": {
            "application/vnd.jupyter.widget-view+json": {
              "model_id": "6d4acf8e46834252a20787faa328f9e1",
              "version_major": 2,
              "version_minor": 0
            },
            "text/plain": [
              "Downloading readme:   0%|          | 0.00/158k [00:00<?, ?B/s]"
            ]
          },
          "metadata": {},
          "output_type": "display_data"
        },
        {
          "data": {
            "application/vnd.jupyter.widget-view+json": {
              "model_id": "f28c65a9ba01473c8ab035c33224c083",
              "version_major": 2,
              "version_minor": 0
            },
            "text/plain": [
              "Downloading data:   0%|          | 0.00/809k [00:00<?, ?B/s]"
            ]
          },
          "metadata": {},
          "output_type": "display_data"
        },
        {
          "data": {
            "application/vnd.jupyter.widget-view+json": {
              "model_id": "1d6fa36b5be046798b5d460cc744afd5",
              "version_major": 2,
              "version_minor": 0
            },
            "text/plain": [
              "Downloading data:   0%|          | 0.00/816k [00:00<?, ?B/s]"
            ]
          },
          "metadata": {},
          "output_type": "display_data"
        },
        {
          "data": {
            "application/vnd.jupyter.widget-view+json": {
              "model_id": "9686bf85cf614d6fbfcc2de42e93b53c",
              "version_major": 2,
              "version_minor": 0
            },
            "text/plain": [
              "Downloading data:   0%|          | 0.00/1.63M [00:00<?, ?B/s]"
            ]
          },
          "metadata": {},
          "output_type": "display_data"
        },
        {
          "data": {
            "application/vnd.jupyter.widget-view+json": {
              "model_id": "c5ab44ae57d2499c8c568465a76f3dad",
              "version_major": 2,
              "version_minor": 0
            },
            "text/plain": [
              "Generating validation split:   0%|          | 0/10000 [00:00<?, ? examples/s]"
            ]
          },
          "metadata": {},
          "output_type": "display_data"
        },
        {
          "data": {
            "application/vnd.jupyter.widget-view+json": {
              "model_id": "09ed99198b774165a616e23b010a4a37",
              "version_major": 2,
              "version_minor": 0
            },
            "text/plain": [
              "Generating test split:   0%|          | 0/10000 [00:00<?, ? examples/s]"
            ]
          },
          "metadata": {},
          "output_type": "display_data"
        },
        {
          "data": {
            "application/vnd.jupyter.widget-view+json": {
              "model_id": "c5a0608fb70a40d7b5ab9cc2d275c891",
              "version_major": 2,
              "version_minor": 0
            },
            "text/plain": [
              "Generating train split:   0%|          | 0/20000 [00:00<?, ? examples/s]"
            ]
          },
          "metadata": {},
          "output_type": "display_data"
        }
      ],
      "source": [
        "dataset = load_dataset(\"wikiann\", 'ru')"
      ]
    },
    {
      "cell_type": "code",
      "execution_count": 6,
      "id": "z2iDXwZc7SB2",
      "metadata": {
        "id": "z2iDXwZc7SB2"
      },
      "outputs": [],
      "source": [
        "vocab = Counter()\n",
        "\n",
        "for sent in dataset['train']['tokens']:\n",
        "    vocab.update([x.lower() for x in sent])"
      ]
    },
    {
      "cell_type": "code",
      "execution_count": 7,
      "id": "j_Wg4prJ8fum",
      "metadata": {
        "id": "j_Wg4prJ8fum"
      },
      "outputs": [],
      "source": [
        "word2id = {'PAD':0, 'UNK':1}\n",
        "\n",
        "for word in vocab:\n",
        "    word2id[word] = len(word2id)\n",
        "\n",
        "id2word = {i:word for word, i in word2id.items()}"
      ]
    },
    {
      "cell_type": "code",
      "execution_count": 8,
      "id": "1VMT6-g79l7B",
      "metadata": {
        "id": "1VMT6-g79l7B"
      },
      "outputs": [],
      "source": [
        "X = []\n",
        "\n",
        "for sent in dataset['train']['tokens']:\n",
        "    tokens = [w.lower() for w in sent]\n",
        "    ids = [word2id.get(token, 1) for token in tokens]\n",
        "    X.append(ids)"
      ]
    },
    {
      "cell_type": "code",
      "execution_count": 10,
      "id": "fb704b1b",
      "metadata": {
        "id": "fb704b1b"
      },
      "outputs": [],
      "source": [
        "X_test = []\n",
        "\n",
        "for sent in dataset['test']['tokens']:\n",
        "    tokens = [w.lower() for w in sent]\n",
        "    ids = [word2id.get(token, 1) for token in tokens]\n",
        "    X_test.append(ids)"
      ]
    },
    {
      "cell_type": "code",
      "execution_count": 11,
      "id": "24b4e4aa",
      "metadata": {
        "id": "24b4e4aa"
      },
      "outputs": [],
      "source": [
        "MAX_LEN = max(len(x) for x in X)"
      ]
    },
    {
      "cell_type": "code",
      "execution_count": 12,
      "id": "8035db14",
      "metadata": {
        "id": "8035db14"
      },
      "outputs": [],
      "source": [
        "X = tf.keras.preprocessing.sequence.pad_sequences(X, maxlen=MAX_LEN, padding='post')\n",
        "X_test = tf.keras.preprocessing.sequence.pad_sequences(X_test, maxlen=MAX_LEN, padding='post')"
      ]
    },
    {
      "cell_type": "code",
      "execution_count": 13,
      "id": "B6vPmaHV-Bz4",
      "metadata": {
        "id": "B6vPmaHV-Bz4"
      },
      "outputs": [],
      "source": [
        "id2labels = {0:'O', 1:'B-PER', 2:'I-PER', 3:'B-ORG', 4:'I-ORG', 5: 'B-LOC', 6:'I-LOC', 7:'PAD'}\n",
        "label2id = {v:k for k,v in id2labels.items()}"
      ]
    },
    {
      "cell_type": "code",
      "execution_count": 14,
      "id": "xqT7eqez-Olz",
      "metadata": {
        "id": "xqT7eqez-Olz"
      },
      "outputs": [],
      "source": [
        "y = tf.keras.preprocessing.sequence.pad_sequences(dataset['train']['ner_tags'], value=7, maxlen=MAX_LEN,  padding='post')\n",
        "y_test = tf.keras.preprocessing.sequence.pad_sequences(dataset['test']['ner_tags'], value=7, maxlen=MAX_LEN,  padding='post')"
      ]
    },
    {
      "cell_type": "markdown",
      "id": "4Ok5aQUVEKxF",
      "metadata": {
        "id": "4Ok5aQUVEKxF"
      },
      "source": [
        "### 1) модель в которой будут использованы предобученные эмбединги слов и несколько BILSTM слоев."
      ]
    },
    {
      "cell_type": "code",
      "execution_count": 18,
      "id": "UJ9CiMKKCX7w",
      "metadata": {
        "id": "UJ9CiMKKCX7w"
      },
      "outputs": [],
      "source": [
        "inputs = tf.keras.layers.Input(shape=(MAX_LEN,))\n",
        "embeddings = tf.keras.layers.Embedding(input_dim=len(word2id), output_dim=130)(inputs)\n",
        "\n",
        "lstm1 = tf.keras.layers.Bidirectional(tf.keras.layers.LSTM(128, return_sequences=True))(embeddings)\n",
        "lstm2 = tf.keras.layers.Bidirectional(tf.keras.layers.LSTM(128, return_sequences=True))(lstm1)\n",
        "lstm3 = tf.keras.layers.Bidirectional(tf.keras.layers.LSTM(128, return_sequences=True))(lstm2)\n",
        "\n",
        "outputs = tf.keras.layers.Dense(len(label2id), activation='softmax')(lstm3)\n",
        "\n",
        "model_3bilstm = tf.keras.Model(inputs=inputs, outputs=outputs)\n",
        "model_3bilstm.compile(optimizer='adam', loss='sparse_categorical_crossentropy', metrics=['accuracy'])"
      ]
    },
    {
      "cell_type": "code",
      "execution_count": 19,
      "id": "HE2Qsi3YGBjk",
      "metadata": {
        "colab": {
          "base_uri": "https://localhost:8080/"
        },
        "id": "HE2Qsi3YGBjk",
        "outputId": "583b36cc-623c-4414-b27b-5c82d5335ece"
      },
      "outputs": [
        {
          "name": "stdout",
          "output_type": "stream",
          "text": [
            "Epoch 1/5\n",
            "157/157 [==============================] - 275s 2s/step - loss: 0.2298 - accuracy: 0.9335 - val_loss: 0.1479 - val_accuracy: 0.9537\n",
            "Epoch 2/5\n",
            "157/157 [==============================] - 295s 2s/step - loss: 0.1278 - accuracy: 0.9594 - val_loss: 0.1125 - val_accuracy: 0.9636\n",
            "Epoch 3/5\n",
            "157/157 [==============================] - 270s 2s/step - loss: 0.0866 - accuracy: 0.9715 - val_loss: 0.0864 - val_accuracy: 0.9728\n",
            "Epoch 4/5\n",
            "157/157 [==============================] - 261s 2s/step - loss: 0.0477 - accuracy: 0.9849 - val_loss: 0.0627 - val_accuracy: 0.9804\n",
            "Epoch 5/5\n",
            "157/157 [==============================] - 254s 2s/step - loss: 0.0192 - accuracy: 0.9944 - val_loss: 0.0587 - val_accuracy: 0.9838\n"
          ]
        },
        {
          "data": {
            "text/plain": [
              "<keras.src.callbacks.History at 0x780a54678f70>"
            ]
          },
          "execution_count": 19,
          "metadata": {},
          "output_type": "execute_result"
        }
      ],
      "source": [
        "model_3bilstm.fit(X, y, validation_data=(X_test, y_test), batch_size=128, epochs=5)"
      ]
    },
    {
      "cell_type": "code",
      "execution_count": 21,
      "id": "368vB8lEGyj4",
      "metadata": {
        "colab": {
          "base_uri": "https://localhost:8080/",
          "height": 489
        },
        "id": "368vB8lEGyj4",
        "outputId": "8f5e511e-a6ab-44fc-b26a-8f72ebd55159"
      },
      "outputs": [
        {
          "name": "stdout",
          "output_type": "stream",
          "text": [
            "dict_keys(['loss', 'accuracy', 'val_loss', 'val_accuracy'])\n"
          ]
        },
        {
          "data": {
            "image/png": "[encoded data removed]",
            "text/plain": [
              "<Figure size 640x480 with 1 Axes>"
            ]
          },
          "metadata": {},
          "output_type": "display_data"
        }
      ],
      "source": [
        "print(model_3bilstm.history.history.keys())\n",
        "plt.plot(model_3bilstm.history.history['accuracy'])\n",
        "plt.plot(model_3bilstm.history.history['val_accuracy'])\n",
        "plt.title('model_3bilstm acc')\n",
        "plt.ylabel('accuracy')\n",
        "plt.xlabel('epoch')\n",
        "plt.legend(['train', 'val'], loc='upper left')\n",
        "plt.show()"
      ]
    },
    {
      "cell_type": "code",
      "execution_count": 31,
      "id": "p-eiJhrAMWkh",
      "metadata": {
        "colab": {
          "base_uri": "https://localhost:8080/"
        },
        "id": "p-eiJhrAMWkh",
        "outputId": "218dad55-02e4-4196-da96-8e7ee0d1109d"
      },
      "outputs": [
        {
          "name": "stdout",
          "output_type": "stream",
          "text": [
            "313/313 [==============================] - 66s 212ms/step\n"
          ]
        }
      ],
      "source": [
        "pred = model_3bilstm.predict(X_test).argmax(2)"
      ]
    },
    {
      "cell_type": "code",
      "execution_count": 32,
      "id": "8FMDBb85MnrQ",
      "metadata": {
        "colab": {
          "base_uri": "https://localhost:8080/"
        },
        "id": "8FMDBb85MnrQ",
        "outputId": "9faab873-a86f-407e-a753-f1927016afba"
      },
      "outputs": [
        {
          "name": "stdout",
          "output_type": "stream",
          "text": [
            "              precision    recall  f1-score   support\n",
            "\n",
            "           O       0.92      0.97      0.94     40480\n",
            "       B-PER       0.89      0.77      0.83      3542\n",
            "       I-PER       0.95      0.84      0.89      7544\n",
            "       B-ORG       0.64      0.71      0.67      4074\n",
            "       I-ORG       0.84      0.78      0.81      8008\n",
            "       B-LOC       0.75      0.62      0.68      4560\n",
            "       I-LOC       0.75      0.68      0.71      3060\n",
            "         PAD       1.00      1.00      1.00    468732\n",
            "\n",
            "    accuracy                           0.98    540000\n",
            "   macro avg       0.84      0.80      0.82    540000\n",
            "weighted avg       0.98      0.98      0.98    540000\n",
            "\n"
          ]
        }
      ],
      "source": [
        "print(classification_report(y_test.reshape(-1), pred.reshape(-1), labels=list(id2labels.keys()), target_names=list(id2labels.values()),\n",
        "                                                                     zero_division=0))"
      ]
    },
    {
      "cell_type": "markdown",
      "id": "vYhtThZ9IDMf",
      "metadata": {
        "id": "vYhtThZ9IDMf"
      },
      "source": [
        "### 2) модель в которой будут использованы предобученные эмбединги слов и несколько BIGRU слоев."
      ]
    },
    {
      "cell_type": "code",
      "execution_count": 25,
      "id": "t1Urg80mIMQm",
      "metadata": {
        "id": "t1Urg80mIMQm"
      },
      "outputs": [],
      "source": [
        "inputs = tf.keras.layers.Input(shape=(MAX_LEN,))\n",
        "embeddings = tf.keras.layers.Embedding(input_dim=len(word2id), output_dim=130)(inputs)\n",
        "\n",
        "gru1 = tf.keras.layers.Bidirectional(tf.keras.layers.GRU(128, return_sequences=True))(embeddings)\n",
        "gru2 = tf.keras.layers.Bidirectional(tf.keras.layers.LSTM(128, return_sequences=True))(gru1)\n",
        "gru3 = tf.keras.layers.Bidirectional(tf.keras.layers.LSTM(128, return_sequences=True))(gru2)\n",
        "\n",
        "outputs = tf.keras.layers.Dense(len(label2id), activation='softmax')(gru3)\n",
        "\n",
        "model_3bigru = tf.keras.Model(inputs=inputs, outputs=outputs)\n",
        "model_3bigru.compile(optimizer='adam', loss='sparse_categorical_crossentropy', metrics=['accuracy'])"
      ]
    },
    {
      "cell_type": "code",
      "execution_count": 26,
      "id": "mpAgh6m3M9nu",
      "metadata": {
        "colab": {
          "base_uri": "https://localhost:8080/"
        },
        "id": "mpAgh6m3M9nu",
        "outputId": "59d2f56e-eaf1-4fee-9eac-db80ce4e8560"
      },
      "outputs": [
        {
          "name": "stdout",
          "output_type": "stream",
          "text": [
            "Epoch 1/5\n",
            "157/157 [==============================] - 260s 2s/step - loss: 0.2318 - accuracy: 0.9335 - val_loss: 0.1357 - val_accuracy: 0.9569\n",
            "Epoch 2/5\n",
            "157/157 [==============================] - 280s 2s/step - loss: 0.1038 - accuracy: 0.9668 - val_loss: 0.0775 - val_accuracy: 0.9760\n",
            "Epoch 3/5\n",
            "157/157 [==============================] - 248s 2s/step - loss: 0.0411 - accuracy: 0.9870 - val_loss: 0.0487 - val_accuracy: 0.9848\n",
            "Epoch 4/5\n",
            "157/157 [==============================] - 245s 2s/step - loss: 0.0144 - accuracy: 0.9958 - val_loss: 0.0519 - val_accuracy: 0.9846\n",
            "Epoch 5/5\n",
            "157/157 [==============================] - 246s 2s/step - loss: 0.0074 - accuracy: 0.9980 - val_loss: 0.0583 - val_accuracy: 0.9844\n"
          ]
        },
        {
          "data": {
            "text/plain": [
              "<keras.src.callbacks.History at 0x780a49175420>"
            ]
          },
          "execution_count": 26,
          "metadata": {},
          "output_type": "execute_result"
        }
      ],
      "source": [
        "model_3bigru.fit(X, y, validation_data=(X_test, y_test), batch_size=128, epochs=5)"
      ]
    },
    {
      "cell_type": "code",
      "execution_count": 27,
      "id": "mLPGy5bwOdhh",
      "metadata": {
        "colab": {
          "base_uri": "https://localhost:8080/",
          "height": 489
        },
        "id": "mLPGy5bwOdhh",
        "outputId": "9cb19740-3ab2-4aac-de69-33d9355e799e"
      },
      "outputs": [
        {
          "name": "stdout",
          "output_type": "stream",
          "text": [
            "dict_keys(['loss', 'accuracy', 'val_loss', 'val_accuracy'])\n"
          ]
        },
        {
          "data": {
            "image/png": "[encoded data removed]",
            "text/plain": [
              "<Figure size 640x480 with 1 Axes>"
            ]
          },
          "metadata": {},
          "output_type": "display_data"
        }
      ],
      "source": [
        "print(model_3bigru.history.history.keys())\n",
        "plt.plot(model_3bigru.history.history['accuracy'])\n",
        "plt.plot(model_3bigru.history.history['val_accuracy'])\n",
        "plt.title('model_3bigru acc')\n",
        "plt.ylabel('accuracy')\n",
        "plt.xlabel('epoch')\n",
        "plt.legend(['train', 'val'], loc='upper left')\n",
        "plt.show()"
      ]
    },
    {
      "cell_type": "code",
      "execution_count": 29,
      "id": "w7bem4xtOpqk",
      "metadata": {
        "colab": {
          "base_uri": "https://localhost:8080/"
        },
        "id": "w7bem4xtOpqk",
        "outputId": "0803cab9-7c59-4e72-96f6-21609f99ac0a"
      },
      "outputs": [
        {
          "name": "stdout",
          "output_type": "stream",
          "text": [
            "313/313 [==============================] - 72s 213ms/step\n"
          ]
        }
      ],
      "source": [
        "pred2 = model_3bigru.predict(X_test).argmax(2)"
      ]
    },
    {
      "cell_type": "code",
      "execution_count": 30,
      "id": "iIue7YXlOr06",
      "metadata": {
        "colab": {
          "base_uri": "https://localhost:8080/"
        },
        "id": "iIue7YXlOr06",
        "outputId": "d9f11143-375b-4f33-f22e-65d7afee3646"
      },
      "outputs": [
        {
          "name": "stdout",
          "output_type": "stream",
          "text": [
            "              precision    recall  f1-score   support\n",
            "\n",
            "           O       0.94      0.95      0.94     40480\n",
            "       B-PER       0.92      0.82      0.87      3542\n",
            "       I-PER       0.96      0.86      0.91      7544\n",
            "       B-ORG       0.54      0.82      0.65      4074\n",
            "       I-ORG       0.79      0.82      0.80      8008\n",
            "       B-LOC       0.81      0.71      0.75      4560\n",
            "       I-LOC       0.94      0.66      0.78      3060\n",
            "         PAD       1.00      1.00      1.00    468732\n",
            "\n",
            "    accuracy                           0.98    540000\n",
            "   macro avg       0.86      0.83      0.84    540000\n",
            "weighted avg       0.99      0.98      0.98    540000\n",
            "\n"
          ]
        }
      ],
      "source": [
        "print(classification_report(y_test.reshape(-1), pred2.reshape(-1), labels=list(id2labels.keys()), target_names=list(id2labels.values()),\n",
        "                                                                     zero_division=0))"
      ]
    },
    {
      "cell_type": "markdown",
      "id": "FdRhlQLWSpAA",
      "metadata": {
        "id": "FdRhlQLWSpAA"
      },
      "source": [
        "## Оценка\n",
        "Модель с насколькими BIGRU слоями показывает чуть более высокие результаты по всем показателям, хотя обобщённый f1-score у обеих моделей почти идентичный."
      ]
    },
    {
      "cell_type": "markdown",
      "id": "2wo9PtM_TvO2",
      "metadata": {
        "id": "2wo9PtM_TvO2"
      },
      "source": [
        "## Проверка на примерах"
      ]
    },
    {
      "cell_type": "code",
      "execution_count": 33,
      "id": "w6dcDbvETvCA",
      "metadata": {
        "id": "w6dcDbvETvCA"
      },
      "outputs": [],
      "source": [
        "import re\n",
        "\n",
        "def tokenize(text, word2id):\n",
        "    # токенизирует и переводит в индексы\n",
        "    tokens = re.findall('\\w+|[^\\w\\s]+', text)\n",
        "    ids = [word2id.get(token.lower(), 1) for token in tokens]\n",
        "    return tokens, ids\n",
        "\n",
        "def pred2tags(pred, id2label, length):\n",
        "    # декодирует индексы в части речи\n",
        "    # length нужно чтобы откидывать паддинги или некорректные предсказания\n",
        "    pred = pred.argmax(2)[0, :length]\n",
        "    labels = [id2label[l] for l in pred]\n",
        "    return labels\n",
        "\n",
        "def label_seq(text, word2id, id2label, max_len, model):\n",
        "    tokens, ids = tokenize(text, word2id)\n",
        "    pred = model.predict(tf.keras.preprocessing.sequence.pad_sequences([ids],\n",
        "                                                                       maxlen=max_len,\n",
        "                                                                       padding='post'))\n",
        "    labels = pred2tags(pred, id2label, len(ids))\n",
        "\n",
        "    return list(zip(tokens, labels))"
      ]
    },
    {
      "cell_type": "code",
      "execution_count": 73,
      "id": "WYIwQsPZJNfS",
      "metadata": {
        "id": "WYIwQsPZJNfS"
      },
      "outputs": [],
      "source": [
        "check_str1 = \"Google не дает Алексею использовать свою GPU и просит за это доллары США, Алексей очень грустит\"\n",
        "check_str2 = \"головы пяти собак — Конана, Милтона, Мюррея, Роберта и Лукаса — мастифов, которых Миллей называл своими четвероногими детьми\"\n",
        "check_str3 = \"Федеральное министерство возглавляется входящим в состав Правительства Российской Федерации министром Российской Федерации\"\n",
        "check_str4 = \"Пётр, Мария и Светлана решили, что напишут все рефераты за неделю, в следующем семестре мы не увидели Петра, Марии и Светланы\"\n",
        "check_str5 = \"Женя и Лера уехали в Армению\"\n"
      ]
    },
    {
      "cell_type": "markdown",
      "id": "PWDjVn1gVA8m",
      "metadata": {
        "id": "PWDjVn1gVA8m"
      },
      "source": [
        "### 1) BILSTM"
      ]
    },
    {
      "cell_type": "markdown",
      "id": "dv9qYb3ZXt7R",
      "metadata": {
        "id": "dv9qYb3ZXt7R"
      },
      "source": []
    },
    {
      "cell_type": "markdown",
      "id": "y0mRutaPXr5J",
      "metadata": {
        "id": "y0mRutaPXr5J"
      },
      "source": []
    },
    {
      "cell_type": "code",
      "execution_count": 61,
      "id": "1GHGfnKcTtUW",
      "metadata": {
        "colab": {
          "base_uri": "https://localhost:8080/"
        },
        "id": "1GHGfnKcTtUW",
        "outputId": "6598c728-2b99-434e-829d-7361c58460e1"
      },
      "outputs": [
        {
          "name": "stdout",
          "output_type": "stream",
          "text": [
            "1/1 [==============================] - 0s 62ms/step\n"
          ]
        },
        {
          "data": {
            "text/plain": [
              "[('Google', 'O'),\n",
              " ('не', 'O'),\n",
              " ('дает', 'O'),\n",
              " ('Алексею', 'O'),\n",
              " ('использовать', 'O'),\n",
              " ('свою', 'O'),\n",
              " ('GPU', 'O'),\n",
              " ('и', 'O'),\n",
              " ('просит', 'O'),\n",
              " ('за', 'O'),\n",
              " ('это', 'O'),\n",
              " ('доллары', 'B-LOC'),\n",
              " ('США', 'I-LOC'),\n",
              " (',', 'O'),\n",
              " ('Алексей', 'B-PER'),\n",
              " ('очень', 'O'),\n",
              " ('грустит', 'O')]"
            ]
          },
          "execution_count": 61,
          "metadata": {},
          "output_type": "execute_result"
        }
      ],
      "source": [
        "label_seq(check_str1, word2id, id2labels, MAX_LEN, model_3bilstm)"
      ]
    },
    {
      "cell_type": "code",
      "execution_count": 62,
      "id": "tjaAIsSBW4_i",
      "metadata": {
        "colab": {
          "base_uri": "https://localhost:8080/"
        },
        "id": "tjaAIsSBW4_i",
        "outputId": "8b8e024d-1cae-4520-f8ab-e4956d71d1e1"
      },
      "outputs": [
        {
          "name": "stdout",
          "output_type": "stream",
          "text": [
            "1/1 [==============================] - 0s 68ms/step\n"
          ]
        },
        {
          "data": {
            "text/plain": [
              "[('головы', 'O'),\n",
              " ('пяти', 'O'),\n",
              " ('собак', 'O'),\n",
              " ('—', 'O'),\n",
              " ('Конана', 'O'),\n",
              " (',', 'O'),\n",
              " ('Милтона', 'O'),\n",
              " (',', 'O'),\n",
              " ('Мюррея', 'O'),\n",
              " (',', 'O'),\n",
              " ('Роберта', 'B-PER'),\n",
              " ('и', 'O'),\n",
              " ('Лукаса', 'O'),\n",
              " ('—', 'O'),\n",
              " ('мастифов', 'O'),\n",
              " (',', 'O'),\n",
              " ('которых', 'O'),\n",
              " ('Миллей', 'O'),\n",
              " ('называл', 'O'),\n",
              " ('своими', 'O'),\n",
              " ('четвероногими', 'O'),\n",
              " ('детьми', 'O')]"
            ]
          },
          "execution_count": 62,
          "metadata": {},
          "output_type": "execute_result"
        }
      ],
      "source": [
        "label_seq(check_str2, word2id, id2labels, MAX_LEN, model_3bilstm)"
      ]
    },
    {
      "cell_type": "code",
      "execution_count": 63,
      "id": "Y-5CKHg4YEIb",
      "metadata": {
        "colab": {
          "base_uri": "https://localhost:8080/"
        },
        "id": "Y-5CKHg4YEIb",
        "outputId": "b8b048ae-26c6-43d9-a5ae-debce414a892"
      },
      "outputs": [
        {
          "name": "stdout",
          "output_type": "stream",
          "text": [
            "1/1 [==============================] - 0s 60ms/step\n"
          ]
        },
        {
          "data": {
            "text/plain": [
              "[('Федеральное', 'O'),\n",
              " ('министерство', 'I-ORG'),\n",
              " ('возглавляется', 'I-ORG'),\n",
              " ('входящим', 'O'),\n",
              " ('в', 'O'),\n",
              " ('состав', 'O'),\n",
              " ('Правительства', 'O'),\n",
              " ('Российской', 'I-ORG'),\n",
              " ('Федерации', 'I-ORG'),\n",
              " ('министром', 'I-ORG'),\n",
              " ('Российской', 'I-ORG'),\n",
              " ('Федерации', 'I-ORG')]"
            ]
          },
          "execution_count": 63,
          "metadata": {},
          "output_type": "execute_result"
        }
      ],
      "source": [
        "label_seq(check_str3, word2id, id2labels, MAX_LEN, model_3bilstm)"
      ]
    },
    {
      "cell_type": "code",
      "execution_count": 70,
      "id": "D4JBPTv8Zvoe",
      "metadata": {
        "colab": {
          "base_uri": "https://localhost:8080/"
        },
        "id": "D4JBPTv8Zvoe",
        "outputId": "06d5dd2e-2f68-4f0f-ee06-d5ccbbc57f71"
      },
      "outputs": [
        {
          "name": "stdout",
          "output_type": "stream",
          "text": [
            "1/1 [==============================] - 0s 66ms/step\n"
          ]
        },
        {
          "data": {
            "text/plain": [
              "[('Пётр', 'B-PER'),\n",
              " (',', 'I-PER'),\n",
              " ('Мария', 'I-PER'),\n",
              " ('и', 'O'),\n",
              " ('Светлана', 'O'),\n",
              " ('решили', 'O'),\n",
              " (',', 'O'),\n",
              " ('что', 'O'),\n",
              " ('напишут', 'O'),\n",
              " ('все', 'O'),\n",
              " ('рефераты', 'O'),\n",
              " ('за', 'O'),\n",
              " ('неделю', 'O'),\n",
              " (',', 'O'),\n",
              " ('в', 'O'),\n",
              " ('следующем', 'O'),\n",
              " ('семестре', 'O'),\n",
              " ('мы', 'O'),\n",
              " ('не', 'O'),\n",
              " ('увидели', 'O'),\n",
              " ('Петра', 'B-PER'),\n",
              " (',', 'O'),\n",
              " ('Марии', 'B-PER'),\n",
              " ('и', 'O'),\n",
              " ('Светланы', 'O')]"
            ]
          },
          "execution_count": 70,
          "metadata": {},
          "output_type": "execute_result"
        }
      ],
      "source": [
        "label_seq(check_str4, word2id, id2labels, MAX_LEN, model_3bilstm)"
      ]
    },
    {
      "cell_type": "code",
      "execution_count": 74,
      "id": "tjVns380aphK",
      "metadata": {
        "colab": {
          "base_uri": "https://localhost:8080/"
        },
        "id": "tjVns380aphK",
        "outputId": "f2a68358-fe4d-4964-c759-c520ffbf8e3c"
      },
      "outputs": [
        {
          "name": "stdout",
          "output_type": "stream",
          "text": [
            "1/1 [==============================] - 0s 126ms/step\n"
          ]
        },
        {
          "data": {
            "text/plain": [
              "[('Женя', 'O'),\n",
              " ('и', 'O'),\n",
              " ('Лера', 'O'),\n",
              " ('уехали', 'O'),\n",
              " ('в', 'O'),\n",
              " ('Армению', 'O')]"
            ]
          },
          "execution_count": 74,
          "metadata": {},
          "output_type": "execute_result"
        }
      ],
      "source": [
        "label_seq(check_str5, word2id, id2labels, MAX_LEN, model_3bilstm)"
      ]
    },
    {
      "cell_type": "markdown",
      "id": "e6GvzaL2Xmcq",
      "metadata": {
        "id": "e6GvzaL2Xmcq"
      },
      "source": [
        "### 2) BIGRU"
      ]
    },
    {
      "cell_type": "code",
      "execution_count": 64,
      "id": "Oe5x1goOXJkD",
      "metadata": {
        "colab": {
          "base_uri": "https://localhost:8080/"
        },
        "id": "Oe5x1goOXJkD",
        "outputId": "9f84ad50-0d8a-422c-db5d-e62c6f52e5ce"
      },
      "outputs": [
        {
          "name": "stdout",
          "output_type": "stream",
          "text": [
            "1/1 [==============================] - 0s 54ms/step\n"
          ]
        },
        {
          "data": {
            "text/plain": [
              "[('Google', 'O'),\n",
              " ('не', 'O'),\n",
              " ('дает', 'O'),\n",
              " ('Алексею', 'O'),\n",
              " ('использовать', 'O'),\n",
              " ('свою', 'O'),\n",
              " ('GPU', 'O'),\n",
              " ('и', 'O'),\n",
              " ('просит', 'O'),\n",
              " ('за', 'O'),\n",
              " ('это', 'O'),\n",
              " ('доллары', 'B-ORG'),\n",
              " ('США', 'I-ORG'),\n",
              " (',', 'O'),\n",
              " ('Алексей', 'B-PER'),\n",
              " ('очень', 'O'),\n",
              " ('грустит', 'O')]"
            ]
          },
          "execution_count": 64,
          "metadata": {},
          "output_type": "execute_result"
        }
      ],
      "source": [
        "label_seq(check_str1, word2id, id2labels, MAX_LEN, model_3bigru)"
      ]
    },
    {
      "cell_type": "code",
      "execution_count": 65,
      "id": "3T2NY4V2X2Ml",
      "metadata": {
        "colab": {
          "base_uri": "https://localhost:8080/"
        },
        "id": "3T2NY4V2X2Ml",
        "outputId": "99b3e5f7-ed77-4543-a861-f0c862b978cc"
      },
      "outputs": [
        {
          "name": "stdout",
          "output_type": "stream",
          "text": [
            "1/1 [==============================] - 0s 54ms/step\n"
          ]
        },
        {
          "data": {
            "text/plain": [
              "[('головы', 'O'),\n",
              " ('пяти', 'O'),\n",
              " ('собак', 'O'),\n",
              " ('—', 'O'),\n",
              " ('Конана', 'O'),\n",
              " (',', 'O'),\n",
              " ('Милтона', 'O'),\n",
              " (',', 'O'),\n",
              " ('Мюррея', 'O'),\n",
              " (',', 'O'),\n",
              " ('Роберта', 'B-PER'),\n",
              " ('и', 'O'),\n",
              " ('Лукаса', 'O'),\n",
              " ('—', 'O'),\n",
              " ('мастифов', 'O'),\n",
              " (',', 'O'),\n",
              " ('которых', 'O'),\n",
              " ('Миллей', 'O'),\n",
              " ('называл', 'O'),\n",
              " ('своими', 'O'),\n",
              " ('четвероногими', 'O'),\n",
              " ('детьми', 'O')]"
            ]
          },
          "execution_count": 65,
          "metadata": {},
          "output_type": "execute_result"
        }
      ],
      "source": [
        "label_seq(check_str2, word2id, id2labels, MAX_LEN, model_3bilstm)"
      ]
    },
    {
      "cell_type": "code",
      "execution_count": 66,
      "id": "2qvUUrBUYhdh",
      "metadata": {
        "colab": {
          "base_uri": "https://localhost:8080/"
        },
        "id": "2qvUUrBUYhdh",
        "outputId": "ffb87806-2495-4df7-f097-56f2d8ef2e90"
      },
      "outputs": [
        {
          "name": "stdout",
          "output_type": "stream",
          "text": [
            "1/1 [==============================] - 0s 47ms/step\n"
          ]
        },
        {
          "data": {
            "text/plain": [
              "[('Федеральное', 'B-ORG'),\n",
              " ('министерство', 'I-ORG'),\n",
              " ('возглавляется', 'I-ORG'),\n",
              " ('входящим', 'I-ORG'),\n",
              " ('в', 'O'),\n",
              " ('состав', 'O'),\n",
              " ('Правительства', 'O'),\n",
              " ('Российской', 'I-ORG'),\n",
              " ('Федерации', 'I-ORG'),\n",
              " ('министром', 'I-ORG'),\n",
              " ('Российской', 'I-ORG'),\n",
              " ('Федерации', 'I-ORG')]"
            ]
          },
          "execution_count": 66,
          "metadata": {},
          "output_type": "execute_result"
        }
      ],
      "source": [
        "label_seq(check_str3, word2id, id2labels, MAX_LEN, model_3bigru)"
      ]
    },
    {
      "cell_type": "code",
      "execution_count": 72,
      "id": "MqOVl4DnaEJN",
      "metadata": {
        "colab": {
          "base_uri": "https://localhost:8080/"
        },
        "id": "MqOVl4DnaEJN",
        "outputId": "a04b2f24-ac1f-48a3-9985-4cabd0030062"
      },
      "outputs": [
        {
          "name": "stdout",
          "output_type": "stream",
          "text": [
            "1/1 [==============================] - 0s 134ms/step\n"
          ]
        },
        {
          "data": {
            "text/plain": [
              "[('Пётр', 'B-PER'),\n",
              " (',', 'I-PER'),\n",
              " ('Мария', 'I-PER'),\n",
              " ('и', 'I-PER'),\n",
              " ('Светлана', 'I-PER'),\n",
              " ('решили', 'I-PER'),\n",
              " (',', 'O'),\n",
              " ('что', 'O'),\n",
              " ('напишут', 'O'),\n",
              " ('все', 'O'),\n",
              " ('рефераты', 'O'),\n",
              " ('за', 'O'),\n",
              " ('неделю', 'O'),\n",
              " (',', 'O'),\n",
              " ('в', 'O'),\n",
              " ('следующем', 'O'),\n",
              " ('семестре', 'O'),\n",
              " ('мы', 'O'),\n",
              " ('не', 'O'),\n",
              " ('увидели', 'O'),\n",
              " ('Петра', 'B-PER'),\n",
              " (',', 'O'),\n",
              " ('Марии', 'B-PER'),\n",
              " ('и', 'O'),\n",
              " ('Светланы', 'I-PER')]"
            ]
          },
          "execution_count": 72,
          "metadata": {},
          "output_type": "execute_result"
        }
      ],
      "source": [
        "label_seq(check_str4, word2id, id2labels, MAX_LEN, model_3bigru)"
      ]
    },
    {
      "cell_type": "code",
      "execution_count": 75,
      "id": "5Rz13O98atce",
      "metadata": {
        "colab": {
          "base_uri": "https://localhost:8080/"
        },
        "id": "5Rz13O98atce",
        "outputId": "0808393e-ac6c-4df2-e916-62045813c41a"
      },
      "outputs": [
        {
          "name": "stdout",
          "output_type": "stream",
          "text": [
            "1/1 [==============================] - 0s 182ms/step\n"
          ]
        },
        {
          "data": {
            "text/plain": [
              "[('Женя', 'B-ORG'),\n",
              " ('и', 'O'),\n",
              " ('Лера', 'B-ORG'),\n",
              " ('уехали', 'I-ORG'),\n",
              " ('в', 'O'),\n",
              " ('Армению', 'B-ORG')]"
            ]
          },
          "execution_count": 75,
          "metadata": {},
          "output_type": "execute_result"
        }
      ],
      "source": [
        "label_seq(check_str5, word2id, id2labels, MAX_LEN, model_3bigru)"
      ]
    },
    {
      "cell_type": "markdown",
      "id": "DvVjtRS3aDG3",
      "metadata": {
        "id": "DvVjtRS3aDG3"
      },
      "source": [
        "Обе модели неплохо справляются с определением организций (российские министерства) и мест (США). Тем не менее, обе сталкиваются с проблемами с распознаванием имён. Так, обе не видят нерусскоязычных имён собак Хавьера Милея во втором примере (кроме \"Роберта\"). Сложности возникают и с русскоязычными именами, когда они появялются не в именительном падеже (\"Светланы\") или в скоращённой форме (\"Женя\", \"Лера\"). В таких случаях BILSTM-модель показывает значительно худшие результаты, не считая Светлану, Женю и Леру за людей. BIGRU-модель справляется лучше, определяет Светлану, хотя и считает Женю и Леру организациями.  "
      ]
    }
  ],
  "metadata": {
    "accelerator": "GPU",
    "colab": {
      "gpuType": "T4",
      "provenance": []
    },
    "kernelspec": {
      "display_name": "Python 3",
      "name": "python3"
    },
    "language_info": {
      "codemirror_mode": {
        "name": "ipython",
        "version": 3
      },
      "file_extension": ".py",
      "mimetype": "text/x-python",
      "name": "python",
      "nbconvert_exporter": "python",
      "pygments_lexer": "ipython3",
      "version": "3.9.14"
    },
    "widgets": {
      "application/vnd.jupyter.widget-state+json": {
        "00f5144faec9411dbca6586aadec95ca": {
          "model_module": "@jupyter-widgets/base",
          "model_module_version": "1.2.0",
          "model_name": "LayoutModel",
          "state": {
            "_model_module": "@jupyter-widgets/base",
            "_model_module_version": "1.2.0",
            "_model_name": "LayoutModel",
            "_view_count": null,
            "_view_module": "@jupyter-widgets/base",
            "_view_module_version": "1.2.0",
            "_view_name": "LayoutView",
            "align_content": null,
            "align_items": null,
            "align_self": null,
            "border": null,
            "bottom": null,
            "display": null,
            "flex": null,
            "flex_flow": null,
            "grid_area": null,
            "grid_auto_columns": null,
            "grid_auto_flow": null,
            "grid_auto_rows": null,
            "grid_column": null,
            "grid_gap": null,
            "grid_row": null,
            "grid_template_areas": null,
            "grid_template_columns": null,
            "grid_template_rows": null,
            "height": null,
            "justify_content": null,
            "justify_items": null,
            "left": null,
            "margin": null,
            "max_height": null,
            "max_width": null,
            "min_height": null,
            "min_width": null,
            "object_fit": null,
            "object_position": null,
            "order": null,
            "overflow": null,
            "overflow_x": null,
            "overflow_y": null,
            "padding": null,
            "right": null,
            "top": null,
            "visibility": null,
            "width": null
          }
        },
        "01186afa6d2149278f68af71f32b4bae": {
          "model_module": "@jupyter-widgets/controls",
          "model_module_version": "1.5.0",
          "model_name": "HTMLModel",
          "state": {
            "_dom_classes": [],
            "_model_module": "@jupyter-widgets/controls",
            "_model_module_version": "1.5.0",
            "_model_name": "HTMLModel",
            "_view_count": null,
            "_view_module": "@jupyter-widgets/controls",
            "_view_module_version": "1.5.0",
            "_view_name": "HTMLView",
            "description": "",
            "description_tooltip": null,
            "layout": "IPY_MODEL_bbfbe8cbb44a434288411ec3caa2d604",
            "placeholder": "​",
            "style": "IPY_MODEL_eac7e18e6c7a4e778b9e096ac63c88ec",
            "value": " 10000/10000 [00:00&lt;00:00, 82728.87 examples/s]"
          }
        },
        "0224fceac8114ddabfa956952c1f8d68": {
          "model_module": "@jupyter-widgets/base",
          "model_module_version": "1.2.0",
          "model_name": "LayoutModel",
          "state": {
            "_model_module": "@jupyter-widgets/base",
            "_model_module_version": "1.2.0",
            "_model_name": "LayoutModel",
            "_view_count": null,
            "_view_module": "@jupyter-widgets/base",
            "_view_module_version": "1.2.0",
            "_view_name": "LayoutView",
            "align_content": null,
            "align_items": null,
            "align_self": null,
            "border": null,
            "bottom": null,
            "display": null,
            "flex": null,
            "flex_flow": null,
            "grid_area": null,
            "grid_auto_columns": null,
            "grid_auto_flow": null,
            "grid_auto_rows": null,
            "grid_column": null,
            "grid_gap": null,
            "grid_row": null,
            "grid_template_areas": null,
            "grid_template_columns": null,
            "grid_template_rows": null,
            "height": null,
            "justify_content": null,
            "justify_items": null,
            "left": null,
            "margin": null,
            "max_height": null,
            "max_width": null,
            "min_height": null,
            "min_width": null,
            "object_fit": null,
            "object_position": null,
            "order": null,
            "overflow": null,
            "overflow_x": null,
            "overflow_y": null,
            "padding": null,
            "right": null,
            "top": null,
            "visibility": null,
            "width": null
          }
        },
        "09ed99198b774165a616e23b010a4a37": {
          "model_module": "@jupyter-widgets/controls",
          "model_module_version": "1.5.0",
          "model_name": "HBoxModel",
          "state": {
            "_dom_classes": [],
            "_model_module": "@jupyter-widgets/controls",
            "_model_module_version": "1.5.0",
            "_model_name": "HBoxModel",
            "_view_count": null,
            "_view_module": "@jupyter-widgets/controls",
            "_view_module_version": "1.5.0",
            "_view_name": "HBoxView",
            "box_style": "",
            "children": [
              "IPY_MODEL_7af634bfb6dc40b38b21f466fa6dcc88",
              "IPY_MODEL_2de8abf2f322426aa63a0e80c2a7a8b2",
              "IPY_MODEL_01186afa6d2149278f68af71f32b4bae"
            ],
            "layout": "IPY_MODEL_75b4bf495a0244f6a4fc1f802de505e7"
          }
        },
        "12d94fae3b3449ae8fd9f474a9127433": {
          "model_module": "@jupyter-widgets/controls",
          "model_module_version": "1.5.0",
          "model_name": "HTMLModel",
          "state": {
            "_dom_classes": [],
            "_model_module": "@jupyter-widgets/controls",
            "_model_module_version": "1.5.0",
            "_model_name": "HTMLModel",
            "_view_count": null,
            "_view_module": "@jupyter-widgets/controls",
            "_view_module_version": "1.5.0",
            "_view_name": "HTMLView",
            "description": "",
            "description_tooltip": null,
            "layout": "IPY_MODEL_83566fa43a1b46d49eaddbb149b9a0bc",
            "placeholder": "​",
            "style": "IPY_MODEL_70c4f59a4db44bd8a6ff2efba0375ed4",
            "value": "Downloading data: 100%"
          }
        },
        "1648e7564b8b439bb661e6d9a550d776": {
          "model_module": "@jupyter-widgets/controls",
          "model_module_version": "1.5.0",
          "model_name": "ProgressStyleModel",
          "state": {
            "_model_module": "@jupyter-widgets/controls",
            "_model_module_version": "1.5.0",
            "_model_name": "ProgressStyleModel",
            "_view_count": null,
            "_view_module": "@jupyter-widgets/base",
            "_view_module_version": "1.2.0",
            "_view_name": "StyleView",
            "bar_color": null,
            "description_width": ""
          }
        },
        "16f0d1963ecc4298ac100ee719de3b46": {
          "model_module": "@jupyter-widgets/controls",
          "model_module_version": "1.5.0",
          "model_name": "ProgressStyleModel",
          "state": {
            "_model_module": "@jupyter-widgets/controls",
            "_model_module_version": "1.5.0",
            "_model_name": "ProgressStyleModel",
            "_view_count": null,
            "_view_module": "@jupyter-widgets/base",
            "_view_module_version": "1.2.0",
            "_view_name": "StyleView",
            "bar_color": null,
            "description_width": ""
          }
        },
        "1774b12799294d4a962e985180b4a069": {
          "model_module": "@jupyter-widgets/base",
          "model_module_version": "1.2.0",
          "model_name": "LayoutModel",
          "state": {
            "_model_module": "@jupyter-widgets/base",
            "_model_module_version": "1.2.0",
            "_model_name": "LayoutModel",
            "_view_count": null,
            "_view_module": "@jupyter-widgets/base",
            "_view_module_version": "1.2.0",
            "_view_name": "LayoutView",
            "align_content": null,
            "align_items": null,
            "align_self": null,
            "border": null,
            "bottom": null,
            "display": null,
            "flex": null,
            "flex_flow": null,
            "grid_area": null,
            "grid_auto_columns": null,
            "grid_auto_flow": null,
            "grid_auto_rows": null,
            "grid_column": null,
            "grid_gap": null,
            "grid_row": null,
            "grid_template_areas": null,
            "grid_template_columns": null,
            "grid_template_rows": null,
            "height": null,
            "justify_content": null,
            "justify_items": null,
            "left": null,
            "margin": null,
            "max_height": null,
            "max_width": null,
            "min_height": null,
            "min_width": null,
            "object_fit": null,
            "object_position": null,
            "order": null,
            "overflow": null,
            "overflow_x": null,
            "overflow_y": null,
            "padding": null,
            "right": null,
            "top": null,
            "visibility": null,
            "width": null
          }
        },
        "1a595824974c4152a1243e452cefa433": {
          "model_module": "@jupyter-widgets/base",
          "model_module_version": "1.2.0",
          "model_name": "LayoutModel",
          "state": {
            "_model_module": "@jupyter-widgets/base",
            "_model_module_version": "1.2.0",
            "_model_name": "LayoutModel",
            "_view_count": null,
            "_view_module": "@jupyter-widgets/base",
            "_view_module_version": "1.2.0",
            "_view_name": "LayoutView",
            "align_content": null,
            "align_items": null,
            "align_self": null,
            "border": null,
            "bottom": null,
            "display": null,
            "flex": null,
            "flex_flow": null,
            "grid_area": null,
            "grid_auto_columns": null,
            "grid_auto_flow": null,
            "grid_auto_rows": null,
            "grid_column": null,
            "grid_gap": null,
            "grid_row": null,
            "grid_template_areas": null,
            "grid_template_columns": null,
            "grid_template_rows": null,
            "height": null,
            "justify_content": null,
            "justify_items": null,
            "left": null,
            "margin": null,
            "max_height": null,
            "max_width": null,
            "min_height": null,
            "min_width": null,
            "object_fit": null,
            "object_position": null,
            "order": null,
            "overflow": null,
            "overflow_x": null,
            "overflow_y": null,
            "padding": null,
            "right": null,
            "top": null,
            "visibility": null,
            "width": null
          }
        },
        "1d1dcc637ff34d11bc745d547066083c": {
          "model_module": "@jupyter-widgets/base",
          "model_module_version": "1.2.0",
          "model_name": "LayoutModel",
          "state": {
            "_model_module": "@jupyter-widgets/base",
            "_model_module_version": "1.2.0",
            "_model_name": "LayoutModel",
            "_view_count": null,
            "_view_module": "@jupyter-widgets/base",
            "_view_module_version": "1.2.0",
            "_view_name": "LayoutView",
            "align_content": null,
            "align_items": null,
            "align_self": null,
            "border": null,
            "bottom": null,
            "display": null,
            "flex": null,
            "flex_flow": null,
            "grid_area": null,
            "grid_auto_columns": null,
            "grid_auto_flow": null,
            "grid_auto_rows": null,
            "grid_column": null,
            "grid_gap": null,
            "grid_row": null,
            "grid_template_areas": null,
            "grid_template_columns": null,
            "grid_template_rows": null,
            "height": null,
            "justify_content": null,
            "justify_items": null,
            "left": null,
            "margin": null,
            "max_height": null,
            "max_width": null,
            "min_height": null,
            "min_width": null,
            "object_fit": null,
            "object_position": null,
            "order": null,
            "overflow": null,
            "overflow_x": null,
            "overflow_y": null,
            "padding": null,
            "right": null,
            "top": null,
            "visibility": null,
            "width": null
          }
        },
        "1d6fa36b5be046798b5d460cc744afd5": {
          "model_module": "@jupyter-widgets/controls",
          "model_module_version": "1.5.0",
          "model_name": "HBoxModel",
          "state": {
            "_dom_classes": [],
            "_model_module": "@jupyter-widgets/controls",
            "_model_module_version": "1.5.0",
            "_model_name": "HBoxModel",
            "_view_count": null,
            "_view_module": "@jupyter-widgets/controls",
            "_view_module_version": "1.5.0",
            "_view_name": "HBoxView",
            "box_style": "",
            "children": [
              "IPY_MODEL_2ce91d01d0f249fc9a300d331b2e133e",
              "IPY_MODEL_9f10f4708f814699856aafa3dc1e2490",
              "IPY_MODEL_8b67c637e9c04222b63c82b719279d52"
            ],
            "layout": "IPY_MODEL_c8ef4b2b26714a6fa81f67f7f52b0209"
          }
        },
        "2054c9c277a24c62b47d5735dd5f38c3": {
          "model_module": "@jupyter-widgets/controls",
          "model_module_version": "1.5.0",
          "model_name": "FloatProgressModel",
          "state": {
            "_dom_classes": [],
            "_model_module": "@jupyter-widgets/controls",
            "_model_module_version": "1.5.0",
            "_model_name": "FloatProgressModel",
            "_view_count": null,
            "_view_module": "@jupyter-widgets/controls",
            "_view_module_version": "1.5.0",
            "_view_name": "ProgressView",
            "bar_style": "success",
            "description": "",
            "description_tooltip": null,
            "layout": "IPY_MODEL_4e59a43064b2468385c4f522b82609c7",
            "max": 20000,
            "min": 0,
            "orientation": "horizontal",
            "style": "IPY_MODEL_c8503241163d4bb38d86f5de5d3d2869",
            "value": 20000
          }
        },
        "27b1e5f3e9bb4820b1975d982e72acb7": {
          "model_module": "@jupyter-widgets/base",
          "model_module_version": "1.2.0",
          "model_name": "LayoutModel",
          "state": {
            "_model_module": "@jupyter-widgets/base",
            "_model_module_version": "1.2.0",
            "_model_name": "LayoutModel",
            "_view_count": null,
            "_view_module": "@jupyter-widgets/base",
            "_view_module_version": "1.2.0",
            "_view_name": "LayoutView",
            "align_content": null,
            "align_items": null,
            "align_self": null,
            "border": null,
            "bottom": null,
            "display": null,
            "flex": null,
            "flex_flow": null,
            "grid_area": null,
            "grid_auto_columns": null,
            "grid_auto_flow": null,
            "grid_auto_rows": null,
            "grid_column": null,
            "grid_gap": null,
            "grid_row": null,
            "grid_template_areas": null,
            "grid_template_columns": null,
            "grid_template_rows": null,
            "height": null,
            "justify_content": null,
            "justify_items": null,
            "left": null,
            "margin": null,
            "max_height": null,
            "max_width": null,
            "min_height": null,
            "min_width": null,
            "object_fit": null,
            "object_position": null,
            "order": null,
            "overflow": null,
            "overflow_x": null,
            "overflow_y": null,
            "padding": null,
            "right": null,
            "top": null,
            "visibility": null,
            "width": null
          }
        },
        "2ba53ffc758b4abbbc0f85c7ceb217d7": {
          "model_module": "@jupyter-widgets/controls",
          "model_module_version": "1.5.0",
          "model_name": "DescriptionStyleModel",
          "state": {
            "_model_module": "@jupyter-widgets/controls",
            "_model_module_version": "1.5.0",
            "_model_name": "DescriptionStyleModel",
            "_view_count": null,
            "_view_module": "@jupyter-widgets/base",
            "_view_module_version": "1.2.0",
            "_view_name": "StyleView",
            "description_width": ""
          }
        },
        "2bd07a00035a44afab34030f16204d9b": {
          "model_module": "@jupyter-widgets/controls",
          "model_module_version": "1.5.0",
          "model_name": "FloatProgressModel",
          "state": {
            "_dom_classes": [],
            "_model_module": "@jupyter-widgets/controls",
            "_model_module_version": "1.5.0",
            "_model_name": "FloatProgressModel",
            "_view_count": null,
            "_view_module": "@jupyter-widgets/controls",
            "_view_module_version": "1.5.0",
            "_view_name": "ProgressView",
            "bar_style": "success",
            "description": "",
            "description_tooltip": null,
            "layout": "IPY_MODEL_d46bb92358994f9281b3e7aed653936e",
            "max": 1625463,
            "min": 0,
            "orientation": "horizontal",
            "style": "IPY_MODEL_d976f854c7b241148502c882c9ef51d9",
            "value": 1625463
          }
        },
        "2ce91d01d0f249fc9a300d331b2e133e": {
          "model_module": "@jupyter-widgets/controls",
          "model_module_version": "1.5.0",
          "model_name": "HTMLModel",
          "state": {
            "_dom_classes": [],
            "_model_module": "@jupyter-widgets/controls",
            "_model_module_version": "1.5.0",
            "_model_name": "HTMLModel",
            "_view_count": null,
            "_view_module": "@jupyter-widgets/controls",
            "_view_module_version": "1.5.0",
            "_view_name": "HTMLView",
            "description": "",
            "description_tooltip": null,
            "layout": "IPY_MODEL_9e45fc1e1ab94a019e0ba20df656aab8",
            "placeholder": "​",
            "style": "IPY_MODEL_83f349ad89a74641aa0be97b67eb8f55",
            "value": "Downloading data: 100%"
          }
        },
        "2de8abf2f322426aa63a0e80c2a7a8b2": {
          "model_module": "@jupyter-widgets/controls",
          "model_module_version": "1.5.0",
          "model_name": "FloatProgressModel",
          "state": {
            "_dom_classes": [],
            "_model_module": "@jupyter-widgets/controls",
            "_model_module_version": "1.5.0",
            "_model_name": "FloatProgressModel",
            "_view_count": null,
            "_view_module": "@jupyter-widgets/controls",
            "_view_module_version": "1.5.0",
            "_view_name": "ProgressView",
            "bar_style": "success",
            "description": "",
            "description_tooltip": null,
            "layout": "IPY_MODEL_efbdefdbe6494247b463338e47efba7f",
            "max": 10000,
            "min": 0,
            "orientation": "horizontal",
            "style": "IPY_MODEL_98ddac580e294b5989bed589c8ee7efc",
            "value": 10000
          }
        },
        "34d44976972b4b3da1f3a5120d1e208d": {
          "model_module": "@jupyter-widgets/controls",
          "model_module_version": "1.5.0",
          "model_name": "HTMLModel",
          "state": {
            "_dom_classes": [],
            "_model_module": "@jupyter-widgets/controls",
            "_model_module_version": "1.5.0",
            "_model_name": "HTMLModel",
            "_view_count": null,
            "_view_module": "@jupyter-widgets/controls",
            "_view_module_version": "1.5.0",
            "_view_name": "HTMLView",
            "description": "",
            "description_tooltip": null,
            "layout": "IPY_MODEL_0224fceac8114ddabfa956952c1f8d68",
            "placeholder": "​",
            "style": "IPY_MODEL_88dd17712ac8440c9b678ec21e62f5d3",
            "value": " 158k/158k [00:00&lt;00:00, 386kB/s]"
          }
        },
        "358daf6d781b40c89fe110cfe43ee53b": {
          "model_module": "@jupyter-widgets/controls",
          "model_module_version": "1.5.0",
          "model_name": "HTMLModel",
          "state": {
            "_dom_classes": [],
            "_model_module": "@jupyter-widgets/controls",
            "_model_module_version": "1.5.0",
            "_model_name": "HTMLModel",
            "_view_count": null,
            "_view_module": "@jupyter-widgets/controls",
            "_view_module_version": "1.5.0",
            "_view_name": "HTMLView",
            "description": "",
            "description_tooltip": null,
            "layout": "IPY_MODEL_398c57e7d3494e13b943a922778b22b4",
            "placeholder": "​",
            "style": "IPY_MODEL_72e13926ca044fa29fdf34a8b28fd120",
            "value": "Downloading readme: 100%"
          }
        },
        "364de4ab03b144119ee2c224f6d6c08b": {
          "model_module": "@jupyter-widgets/controls",
          "model_module_version": "1.5.0",
          "model_name": "FloatProgressModel",
          "state": {
            "_dom_classes": [],
            "_model_module": "@jupyter-widgets/controls",
            "_model_module_version": "1.5.0",
            "_model_name": "FloatProgressModel",
            "_view_count": null,
            "_view_module": "@jupyter-widgets/controls",
            "_view_module_version": "1.5.0",
            "_view_name": "ProgressView",
            "bar_style": "success",
            "description": "",
            "description_tooltip": null,
            "layout": "IPY_MODEL_fdfc2e8dd8844260a4b8b18910855bba",
            "max": 157610,
            "min": 0,
            "orientation": "horizontal",
            "style": "IPY_MODEL_1648e7564b8b439bb661e6d9a550d776",
            "value": 157610
          }
        },
        "367ef3bd78e04ef8a2cfe3f8b1e3c4aa": {
          "model_module": "@jupyter-widgets/controls",
          "model_module_version": "1.5.0",
          "model_name": "HTMLModel",
          "state": {
            "_dom_classes": [],
            "_model_module": "@jupyter-widgets/controls",
            "_model_module_version": "1.5.0",
            "_model_name": "HTMLModel",
            "_view_count": null,
            "_view_module": "@jupyter-widgets/controls",
            "_view_module_version": "1.5.0",
            "_view_name": "HTMLView",
            "description": "",
            "description_tooltip": null,
            "layout": "IPY_MODEL_aa1c55f544fe4ecf82eba86fac870ee5",
            "placeholder": "​",
            "style": "IPY_MODEL_2ba53ffc758b4abbbc0f85c7ceb217d7",
            "value": " 20000/20000 [00:00&lt;00:00, 183467.03 examples/s]"
          }
        },
        "398c57e7d3494e13b943a922778b22b4": {
          "model_module": "@jupyter-widgets/base",
          "model_module_version": "1.2.0",
          "model_name": "LayoutModel",
          "state": {
            "_model_module": "@jupyter-widgets/base",
            "_model_module_version": "1.2.0",
            "_model_name": "LayoutModel",
            "_view_count": null,
            "_view_module": "@jupyter-widgets/base",
            "_view_module_version": "1.2.0",
            "_view_name": "LayoutView",
            "align_content": null,
            "align_items": null,
            "align_self": null,
            "border": null,
            "bottom": null,
            "display": null,
            "flex": null,
            "flex_flow": null,
            "grid_area": null,
            "grid_auto_columns": null,
            "grid_auto_flow": null,
            "grid_auto_rows": null,
            "grid_column": null,
            "grid_gap": null,
            "grid_row": null,
            "grid_template_areas": null,
            "grid_template_columns": null,
            "grid_template_rows": null,
            "height": null,
            "justify_content": null,
            "justify_items": null,
            "left": null,
            "margin": null,
            "max_height": null,
            "max_width": null,
            "min_height": null,
            "min_width": null,
            "object_fit": null,
            "object_position": null,
            "order": null,
            "overflow": null,
            "overflow_x": null,
            "overflow_y": null,
            "padding": null,
            "right": null,
            "top": null,
            "visibility": null,
            "width": null
          }
        },
        "3d3c5db9f6d64e1397aec66217fb6a52": {
          "model_module": "@jupyter-widgets/base",
          "model_module_version": "1.2.0",
          "model_name": "LayoutModel",
          "state": {
            "_model_module": "@jupyter-widgets/base",
            "_model_module_version": "1.2.0",
            "_model_name": "LayoutModel",
            "_view_count": null,
            "_view_module": "@jupyter-widgets/base",
            "_view_module_version": "1.2.0",
            "_view_name": "LayoutView",
            "align_content": null,
            "align_items": null,
            "align_self": null,
            "border": null,
            "bottom": null,
            "display": null,
            "flex": null,
            "flex_flow": null,
            "grid_area": null,
            "grid_auto_columns": null,
            "grid_auto_flow": null,
            "grid_auto_rows": null,
            "grid_column": null,
            "grid_gap": null,
            "grid_row": null,
            "grid_template_areas": null,
            "grid_template_columns": null,
            "grid_template_rows": null,
            "height": null,
            "justify_content": null,
            "justify_items": null,
            "left": null,
            "margin": null,
            "max_height": null,
            "max_width": null,
            "min_height": null,
            "min_width": null,
            "object_fit": null,
            "object_position": null,
            "order": null,
            "overflow": null,
            "overflow_x": null,
            "overflow_y": null,
            "padding": null,
            "right": null,
            "top": null,
            "visibility": null,
            "width": null
          }
        },
        "3f3fa9a246e9433c86e8194e657d6385": {
          "model_module": "@jupyter-widgets/controls",
          "model_module_version": "1.5.0",
          "model_name": "DescriptionStyleModel",
          "state": {
            "_model_module": "@jupyter-widgets/controls",
            "_model_module_version": "1.5.0",
            "_model_name": "DescriptionStyleModel",
            "_view_count": null,
            "_view_module": "@jupyter-widgets/base",
            "_view_module_version": "1.2.0",
            "_view_name": "StyleView",
            "description_width": ""
          }
        },
        "4327192016bb4506b8e6f519fbfaa690": {
          "model_module": "@jupyter-widgets/base",
          "model_module_version": "1.2.0",
          "model_name": "LayoutModel",
          "state": {
            "_model_module": "@jupyter-widgets/base",
            "_model_module_version": "1.2.0",
            "_model_name": "LayoutModel",
            "_view_count": null,
            "_view_module": "@jupyter-widgets/base",
            "_view_module_version": "1.2.0",
            "_view_name": "LayoutView",
            "align_content": null,
            "align_items": null,
            "align_self": null,
            "border": null,
            "bottom": null,
            "display": null,
            "flex": null,
            "flex_flow": null,
            "grid_area": null,
            "grid_auto_columns": null,
            "grid_auto_flow": null,
            "grid_auto_rows": null,
            "grid_column": null,
            "grid_gap": null,
            "grid_row": null,
            "grid_template_areas": null,
            "grid_template_columns": null,
            "grid_template_rows": null,
            "height": null,
            "justify_content": null,
            "justify_items": null,
            "left": null,
            "margin": null,
            "max_height": null,
            "max_width": null,
            "min_height": null,
            "min_width": null,
            "object_fit": null,
            "object_position": null,
            "order": null,
            "overflow": null,
            "overflow_x": null,
            "overflow_y": null,
            "padding": null,
            "right": null,
            "top": null,
            "visibility": null,
            "width": null
          }
        },
        "4e59a43064b2468385c4f522b82609c7": {
          "model_module": "@jupyter-widgets/base",
          "model_module_version": "1.2.0",
          "model_name": "LayoutModel",
          "state": {
            "_model_module": "@jupyter-widgets/base",
            "_model_module_version": "1.2.0",
            "_model_name": "LayoutModel",
            "_view_count": null,
            "_view_module": "@jupyter-widgets/base",
            "_view_module_version": "1.2.0",
            "_view_name": "LayoutView",
            "align_content": null,
            "align_items": null,
            "align_self": null,
            "border": null,
            "bottom": null,
            "display": null,
            "flex": null,
            "flex_flow": null,
            "grid_area": null,
            "grid_auto_columns": null,
            "grid_auto_flow": null,
            "grid_auto_rows": null,
            "grid_column": null,
            "grid_gap": null,
            "grid_row": null,
            "grid_template_areas": null,
            "grid_template_columns": null,
            "grid_template_rows": null,
            "height": null,
            "justify_content": null,
            "justify_items": null,
            "left": null,
            "margin": null,
            "max_height": null,
            "max_width": null,
            "min_height": null,
            "min_width": null,
            "object_fit": null,
            "object_position": null,
            "order": null,
            "overflow": null,
            "overflow_x": null,
            "overflow_y": null,
            "padding": null,
            "right": null,
            "top": null,
            "visibility": null,
            "width": null
          }
        },
        "547997d91e2146b18693e384079b5abd": {
          "model_module": "@jupyter-widgets/controls",
          "model_module_version": "1.5.0",
          "model_name": "DescriptionStyleModel",
          "state": {
            "_model_module": "@jupyter-widgets/controls",
            "_model_module_version": "1.5.0",
            "_model_name": "DescriptionStyleModel",
            "_view_count": null,
            "_view_module": "@jupyter-widgets/base",
            "_view_module_version": "1.2.0",
            "_view_name": "StyleView",
            "description_width": ""
          }
        },
        "598a646af080439a8badfa781339aba9": {
          "model_module": "@jupyter-widgets/controls",
          "model_module_version": "1.5.0",
          "model_name": "DescriptionStyleModel",
          "state": {
            "_model_module": "@jupyter-widgets/controls",
            "_model_module_version": "1.5.0",
            "_model_name": "DescriptionStyleModel",
            "_view_count": null,
            "_view_module": "@jupyter-widgets/base",
            "_view_module_version": "1.2.0",
            "_view_name": "StyleView",
            "description_width": ""
          }
        },
        "5b34dd394bbd43bc96fee3ff65d8ef5b": {
          "model_module": "@jupyter-widgets/controls",
          "model_module_version": "1.5.0",
          "model_name": "HTMLModel",
          "state": {
            "_dom_classes": [],
            "_model_module": "@jupyter-widgets/controls",
            "_model_module_version": "1.5.0",
            "_model_name": "HTMLModel",
            "_view_count": null,
            "_view_module": "@jupyter-widgets/controls",
            "_view_module_version": "1.5.0",
            "_view_name": "HTMLView",
            "description": "",
            "description_tooltip": null,
            "layout": "IPY_MODEL_27b1e5f3e9bb4820b1975d982e72acb7",
            "placeholder": "​",
            "style": "IPY_MODEL_793f76b70a614debac67278b63a9b070",
            "value": "Generating validation split: 100%"
          }
        },
        "6b4b25f2b3044aeb8160a0da52a70451": {
          "model_module": "@jupyter-widgets/controls",
          "model_module_version": "1.5.0",
          "model_name": "ProgressStyleModel",
          "state": {
            "_model_module": "@jupyter-widgets/controls",
            "_model_module_version": "1.5.0",
            "_model_name": "ProgressStyleModel",
            "_view_count": null,
            "_view_module": "@jupyter-widgets/base",
            "_view_module_version": "1.2.0",
            "_view_name": "StyleView",
            "bar_color": null,
            "description_width": ""
          }
        },
        "6d4acf8e46834252a20787faa328f9e1": {
          "model_module": "@jupyter-widgets/controls",
          "model_module_version": "1.5.0",
          "model_name": "HBoxModel",
          "state": {
            "_dom_classes": [],
            "_model_module": "@jupyter-widgets/controls",
            "_model_module_version": "1.5.0",
            "_model_name": "HBoxModel",
            "_view_count": null,
            "_view_module": "@jupyter-widgets/controls",
            "_view_module_version": "1.5.0",
            "_view_name": "HBoxView",
            "box_style": "",
            "children": [
              "IPY_MODEL_358daf6d781b40c89fe110cfe43ee53b",
              "IPY_MODEL_364de4ab03b144119ee2c224f6d6c08b",
              "IPY_MODEL_34d44976972b4b3da1f3a5120d1e208d"
            ],
            "layout": "IPY_MODEL_4327192016bb4506b8e6f519fbfaa690"
          }
        },
        "6de4f739bbd346b3b5b0665086edcadc": {
          "model_module": "@jupyter-widgets/controls",
          "model_module_version": "1.5.0",
          "model_name": "DescriptionStyleModel",
          "state": {
            "_model_module": "@jupyter-widgets/controls",
            "_model_module_version": "1.5.0",
            "_model_name": "DescriptionStyleModel",
            "_view_count": null,
            "_view_module": "@jupyter-widgets/base",
            "_view_module_version": "1.2.0",
            "_view_name": "StyleView",
            "description_width": ""
          }
        },
        "6ea2733caa4b48ffa818e1b47fde6daa": {
          "model_module": "@jupyter-widgets/base",
          "model_module_version": "1.2.0",
          "model_name": "LayoutModel",
          "state": {
            "_model_module": "@jupyter-widgets/base",
            "_model_module_version": "1.2.0",
            "_model_name": "LayoutModel",
            "_view_count": null,
            "_view_module": "@jupyter-widgets/base",
            "_view_module_version": "1.2.0",
            "_view_name": "LayoutView",
            "align_content": null,
            "align_items": null,
            "align_self": null,
            "border": null,
            "bottom": null,
            "display": null,
            "flex": null,
            "flex_flow": null,
            "grid_area": null,
            "grid_auto_columns": null,
            "grid_auto_flow": null,
            "grid_auto_rows": null,
            "grid_column": null,
            "grid_gap": null,
            "grid_row": null,
            "grid_template_areas": null,
            "grid_template_columns": null,
            "grid_template_rows": null,
            "height": null,
            "justify_content": null,
            "justify_items": null,
            "left": null,
            "margin": null,
            "max_height": null,
            "max_width": null,
            "min_height": null,
            "min_width": null,
            "object_fit": null,
            "object_position": null,
            "order": null,
            "overflow": null,
            "overflow_x": null,
            "overflow_y": null,
            "padding": null,
            "right": null,
            "top": null,
            "visibility": null,
            "width": null
          }
        },
        "70c4f59a4db44bd8a6ff2efba0375ed4": {
          "model_module": "@jupyter-widgets/controls",
          "model_module_version": "1.5.0",
          "model_name": "DescriptionStyleModel",
          "state": {
            "_model_module": "@jupyter-widgets/controls",
            "_model_module_version": "1.5.0",
            "_model_name": "DescriptionStyleModel",
            "_view_count": null,
            "_view_module": "@jupyter-widgets/base",
            "_view_module_version": "1.2.0",
            "_view_name": "StyleView",
            "description_width": ""
          }
        },
        "72e13926ca044fa29fdf34a8b28fd120": {
          "model_module": "@jupyter-widgets/controls",
          "model_module_version": "1.5.0",
          "model_name": "DescriptionStyleModel",
          "state": {
            "_model_module": "@jupyter-widgets/controls",
            "_model_module_version": "1.5.0",
            "_model_name": "DescriptionStyleModel",
            "_view_count": null,
            "_view_module": "@jupyter-widgets/base",
            "_view_module_version": "1.2.0",
            "_view_name": "StyleView",
            "description_width": ""
          }
        },
        "75b4bf495a0244f6a4fc1f802de505e7": {
          "model_module": "@jupyter-widgets/base",
          "model_module_version": "1.2.0",
          "model_name": "LayoutModel",
          "state": {
            "_model_module": "@jupyter-widgets/base",
            "_model_module_version": "1.2.0",
            "_model_name": "LayoutModel",
            "_view_count": null,
            "_view_module": "@jupyter-widgets/base",
            "_view_module_version": "1.2.0",
            "_view_name": "LayoutView",
            "align_content": null,
            "align_items": null,
            "align_self": null,
            "border": null,
            "bottom": null,
            "display": null,
            "flex": null,
            "flex_flow": null,
            "grid_area": null,
            "grid_auto_columns": null,
            "grid_auto_flow": null,
            "grid_auto_rows": null,
            "grid_column": null,
            "grid_gap": null,
            "grid_row": null,
            "grid_template_areas": null,
            "grid_template_columns": null,
            "grid_template_rows": null,
            "height": null,
            "justify_content": null,
            "justify_items": null,
            "left": null,
            "margin": null,
            "max_height": null,
            "max_width": null,
            "min_height": null,
            "min_width": null,
            "object_fit": null,
            "object_position": null,
            "order": null,
            "overflow": null,
            "overflow_x": null,
            "overflow_y": null,
            "padding": null,
            "right": null,
            "top": null,
            "visibility": null,
            "width": null
          }
        },
        "793f76b70a614debac67278b63a9b070": {
          "model_module": "@jupyter-widgets/controls",
          "model_module_version": "1.5.0",
          "model_name": "DescriptionStyleModel",
          "state": {
            "_model_module": "@jupyter-widgets/controls",
            "_model_module_version": "1.5.0",
            "_model_name": "DescriptionStyleModel",
            "_view_count": null,
            "_view_module": "@jupyter-widgets/base",
            "_view_module_version": "1.2.0",
            "_view_name": "StyleView",
            "description_width": ""
          }
        },
        "7af634bfb6dc40b38b21f466fa6dcc88": {
          "model_module": "@jupyter-widgets/controls",
          "model_module_version": "1.5.0",
          "model_name": "HTMLModel",
          "state": {
            "_dom_classes": [],
            "_model_module": "@jupyter-widgets/controls",
            "_model_module_version": "1.5.0",
            "_model_name": "HTMLModel",
            "_view_count": null,
            "_view_module": "@jupyter-widgets/controls",
            "_view_module_version": "1.5.0",
            "_view_name": "HTMLView",
            "description": "",
            "description_tooltip": null,
            "layout": "IPY_MODEL_8df08611732e46bf958c3191e1615be9",
            "placeholder": "​",
            "style": "IPY_MODEL_6de4f739bbd346b3b5b0665086edcadc",
            "value": "Generating test split: 100%"
          }
        },
        "83566fa43a1b46d49eaddbb149b9a0bc": {
          "model_module": "@jupyter-widgets/base",
          "model_module_version": "1.2.0",
          "model_name": "LayoutModel",
          "state": {
            "_model_module": "@jupyter-widgets/base",
            "_model_module_version": "1.2.0",
            "_model_name": "LayoutModel",
            "_view_count": null,
            "_view_module": "@jupyter-widgets/base",
            "_view_module_version": "1.2.0",
            "_view_name": "LayoutView",
            "align_content": null,
            "align_items": null,
            "align_self": null,
            "border": null,
            "bottom": null,
            "display": null,
            "flex": null,
            "flex_flow": null,
            "grid_area": null,
            "grid_auto_columns": null,
            "grid_auto_flow": null,
            "grid_auto_rows": null,
            "grid_column": null,
            "grid_gap": null,
            "grid_row": null,
            "grid_template_areas": null,
            "grid_template_columns": null,
            "grid_template_rows": null,
            "height": null,
            "justify_content": null,
            "justify_items": null,
            "left": null,
            "margin": null,
            "max_height": null,
            "max_width": null,
            "min_height": null,
            "min_width": null,
            "object_fit": null,
            "object_position": null,
            "order": null,
            "overflow": null,
            "overflow_x": null,
            "overflow_y": null,
            "padding": null,
            "right": null,
            "top": null,
            "visibility": null,
            "width": null
          }
        },
        "83e8131b5ea64f33ae6db122d36a6c26": {
          "model_module": "@jupyter-widgets/controls",
          "model_module_version": "1.5.0",
          "model_name": "DescriptionStyleModel",
          "state": {
            "_model_module": "@jupyter-widgets/controls",
            "_model_module_version": "1.5.0",
            "_model_name": "DescriptionStyleModel",
            "_view_count": null,
            "_view_module": "@jupyter-widgets/base",
            "_view_module_version": "1.2.0",
            "_view_name": "StyleView",
            "description_width": ""
          }
        },
        "83f349ad89a74641aa0be97b67eb8f55": {
          "model_module": "@jupyter-widgets/controls",
          "model_module_version": "1.5.0",
          "model_name": "DescriptionStyleModel",
          "state": {
            "_model_module": "@jupyter-widgets/controls",
            "_model_module_version": "1.5.0",
            "_model_name": "DescriptionStyleModel",
            "_view_count": null,
            "_view_module": "@jupyter-widgets/base",
            "_view_module_version": "1.2.0",
            "_view_name": "StyleView",
            "description_width": ""
          }
        },
        "88dd17712ac8440c9b678ec21e62f5d3": {
          "model_module": "@jupyter-widgets/controls",
          "model_module_version": "1.5.0",
          "model_name": "DescriptionStyleModel",
          "state": {
            "_model_module": "@jupyter-widgets/controls",
            "_model_module_version": "1.5.0",
            "_model_name": "DescriptionStyleModel",
            "_view_count": null,
            "_view_module": "@jupyter-widgets/base",
            "_view_module_version": "1.2.0",
            "_view_name": "StyleView",
            "description_width": ""
          }
        },
        "8b67c637e9c04222b63c82b719279d52": {
          "model_module": "@jupyter-widgets/controls",
          "model_module_version": "1.5.0",
          "model_name": "HTMLModel",
          "state": {
            "_dom_classes": [],
            "_model_module": "@jupyter-widgets/controls",
            "_model_module_version": "1.5.0",
            "_model_name": "HTMLModel",
            "_view_count": null,
            "_view_module": "@jupyter-widgets/controls",
            "_view_module_version": "1.5.0",
            "_view_name": "HTMLView",
            "description": "",
            "description_tooltip": null,
            "layout": "IPY_MODEL_f7377f349a584a049d5523a4024cf177",
            "placeholder": "​",
            "style": "IPY_MODEL_3f3fa9a246e9433c86e8194e657d6385",
            "value": " 816k/816k [00:02&lt;00:00, 368kB/s]"
          }
        },
        "8d2df4cc60d54853a6427fe50459b83f": {
          "model_module": "@jupyter-widgets/controls",
          "model_module_version": "1.5.0",
          "model_name": "HTMLModel",
          "state": {
            "_dom_classes": [],
            "_model_module": "@jupyter-widgets/controls",
            "_model_module_version": "1.5.0",
            "_model_name": "HTMLModel",
            "_view_count": null,
            "_view_module": "@jupyter-widgets/controls",
            "_view_module_version": "1.5.0",
            "_view_name": "HTMLView",
            "description": "",
            "description_tooltip": null,
            "layout": "IPY_MODEL_3d3c5db9f6d64e1397aec66217fb6a52",
            "placeholder": "​",
            "style": "IPY_MODEL_547997d91e2146b18693e384079b5abd",
            "value": " 10000/10000 [00:00&lt;00:00, 66509.43 examples/s]"
          }
        },
        "8df08611732e46bf958c3191e1615be9": {
          "model_module": "@jupyter-widgets/base",
          "model_module_version": "1.2.0",
          "model_name": "LayoutModel",
          "state": {
            "_model_module": "@jupyter-widgets/base",
            "_model_module_version": "1.2.0",
            "_model_name": "LayoutModel",
            "_view_count": null,
            "_view_module": "@jupyter-widgets/base",
            "_view_module_version": "1.2.0",
            "_view_name": "LayoutView",
            "align_content": null,
            "align_items": null,
            "align_self": null,
            "border": null,
            "bottom": null,
            "display": null,
            "flex": null,
            "flex_flow": null,
            "grid_area": null,
            "grid_auto_columns": null,
            "grid_auto_flow": null,
            "grid_auto_rows": null,
            "grid_column": null,
            "grid_gap": null,
            "grid_row": null,
            "grid_template_areas": null,
            "grid_template_columns": null,
            "grid_template_rows": null,
            "height": null,
            "justify_content": null,
            "justify_items": null,
            "left": null,
            "margin": null,
            "max_height": null,
            "max_width": null,
            "min_height": null,
            "min_width": null,
            "object_fit": null,
            "object_position": null,
            "order": null,
            "overflow": null,
            "overflow_x": null,
            "overflow_y": null,
            "padding": null,
            "right": null,
            "top": null,
            "visibility": null,
            "width": null
          }
        },
        "8fc5e4ebf3534cff8b5bbf9c5c826f1d": {
          "model_module": "@jupyter-widgets/controls",
          "model_module_version": "1.5.0",
          "model_name": "DescriptionStyleModel",
          "state": {
            "_model_module": "@jupyter-widgets/controls",
            "_model_module_version": "1.5.0",
            "_model_name": "DescriptionStyleModel",
            "_view_count": null,
            "_view_module": "@jupyter-widgets/base",
            "_view_module_version": "1.2.0",
            "_view_name": "StyleView",
            "description_width": ""
          }
        },
        "9127ccda19ec4a2e9607b45baf6394b2": {
          "model_module": "@jupyter-widgets/controls",
          "model_module_version": "1.5.0",
          "model_name": "HTMLModel",
          "state": {
            "_dom_classes": [],
            "_model_module": "@jupyter-widgets/controls",
            "_model_module_version": "1.5.0",
            "_model_name": "HTMLModel",
            "_view_count": null,
            "_view_module": "@jupyter-widgets/controls",
            "_view_module_version": "1.5.0",
            "_view_name": "HTMLView",
            "description": "",
            "description_tooltip": null,
            "layout": "IPY_MODEL_1a595824974c4152a1243e452cefa433",
            "placeholder": "​",
            "style": "IPY_MODEL_8fc5e4ebf3534cff8b5bbf9c5c826f1d",
            "value": "Downloading data: 100%"
          }
        },
        "9397b236afab4ea08f710216ff09a433": {
          "model_module": "@jupyter-widgets/base",
          "model_module_version": "1.2.0",
          "model_name": "LayoutModel",
          "state": {
            "_model_module": "@jupyter-widgets/base",
            "_model_module_version": "1.2.0",
            "_model_name": "LayoutModel",
            "_view_count": null,
            "_view_module": "@jupyter-widgets/base",
            "_view_module_version": "1.2.0",
            "_view_name": "LayoutView",
            "align_content": null,
            "align_items": null,
            "align_self": null,
            "border": null,
            "bottom": null,
            "display": null,
            "flex": null,
            "flex_flow": null,
            "grid_area": null,
            "grid_auto_columns": null,
            "grid_auto_flow": null,
            "grid_auto_rows": null,
            "grid_column": null,
            "grid_gap": null,
            "grid_row": null,
            "grid_template_areas": null,
            "grid_template_columns": null,
            "grid_template_rows": null,
            "height": null,
            "justify_content": null,
            "justify_items": null,
            "left": null,
            "margin": null,
            "max_height": null,
            "max_width": null,
            "min_height": null,
            "min_width": null,
            "object_fit": null,
            "object_position": null,
            "order": null,
            "overflow": null,
            "overflow_x": null,
            "overflow_y": null,
            "padding": null,
            "right": null,
            "top": null,
            "visibility": null,
            "width": null
          }
        },
        "96602982807d41e6a319d37b9a7b77d0": {
          "model_module": "@jupyter-widgets/controls",
          "model_module_version": "1.5.0",
          "model_name": "HTMLModel",
          "state": {
            "_dom_classes": [],
            "_model_module": "@jupyter-widgets/controls",
            "_model_module_version": "1.5.0",
            "_model_name": "HTMLModel",
            "_view_count": null,
            "_view_module": "@jupyter-widgets/controls",
            "_view_module_version": "1.5.0",
            "_view_name": "HTMLView",
            "description": "",
            "description_tooltip": null,
            "layout": "IPY_MODEL_1774b12799294d4a962e985180b4a069",
            "placeholder": "​",
            "style": "IPY_MODEL_e014400078a246b095172b718321c227",
            "value": " 809k/809k [00:02&lt;00:00, 342kB/s]"
          }
        },
        "9686bf85cf614d6fbfcc2de42e93b53c": {
          "model_module": "@jupyter-widgets/controls",
          "model_module_version": "1.5.0",
          "model_name": "HBoxModel",
          "state": {
            "_dom_classes": [],
            "_model_module": "@jupyter-widgets/controls",
            "_model_module_version": "1.5.0",
            "_model_name": "HBoxModel",
            "_view_count": null,
            "_view_module": "@jupyter-widgets/controls",
            "_view_module_version": "1.5.0",
            "_view_name": "HBoxView",
            "box_style": "",
            "children": [
              "IPY_MODEL_12d94fae3b3449ae8fd9f474a9127433",
              "IPY_MODEL_2bd07a00035a44afab34030f16204d9b",
              "IPY_MODEL_99ae031de4b04eaaa6016a2acee6323a"
            ],
            "layout": "IPY_MODEL_6ea2733caa4b48ffa818e1b47fde6daa"
          }
        },
        "98ddac580e294b5989bed589c8ee7efc": {
          "model_module": "@jupyter-widgets/controls",
          "model_module_version": "1.5.0",
          "model_name": "ProgressStyleModel",
          "state": {
            "_model_module": "@jupyter-widgets/controls",
            "_model_module_version": "1.5.0",
            "_model_name": "ProgressStyleModel",
            "_view_count": null,
            "_view_module": "@jupyter-widgets/base",
            "_view_module_version": "1.2.0",
            "_view_name": "StyleView",
            "bar_color": null,
            "description_width": ""
          }
        },
        "99ae031de4b04eaaa6016a2acee6323a": {
          "model_module": "@jupyter-widgets/controls",
          "model_module_version": "1.5.0",
          "model_name": "HTMLModel",
          "state": {
            "_dom_classes": [],
            "_model_module": "@jupyter-widgets/controls",
            "_model_module_version": "1.5.0",
            "_model_name": "HTMLModel",
            "_view_count": null,
            "_view_module": "@jupyter-widgets/controls",
            "_view_module_version": "1.5.0",
            "_view_name": "HTMLView",
            "description": "",
            "description_tooltip": null,
            "layout": "IPY_MODEL_ea84d7df9bff4402b59242960e59e24e",
            "placeholder": "​",
            "style": "IPY_MODEL_83e8131b5ea64f33ae6db122d36a6c26",
            "value": " 1.63M/1.63M [00:02&lt;00:00, 648kB/s]"
          }
        },
        "9e45fc1e1ab94a019e0ba20df656aab8": {
          "model_module": "@jupyter-widgets/base",
          "model_module_version": "1.2.0",
          "model_name": "LayoutModel",
          "state": {
            "_model_module": "@jupyter-widgets/base",
            "_model_module_version": "1.2.0",
            "_model_name": "LayoutModel",
            "_view_count": null,
            "_view_module": "@jupyter-widgets/base",
            "_view_module_version": "1.2.0",
            "_view_name": "LayoutView",
            "align_content": null,
            "align_items": null,
            "align_self": null,
            "border": null,
            "bottom": null,
            "display": null,
            "flex": null,
            "flex_flow": null,
            "grid_area": null,
            "grid_auto_columns": null,
            "grid_auto_flow": null,
            "grid_auto_rows": null,
            "grid_column": null,
            "grid_gap": null,
            "grid_row": null,
            "grid_template_areas": null,
            "grid_template_columns": null,
            "grid_template_rows": null,
            "height": null,
            "justify_content": null,
            "justify_items": null,
            "left": null,
            "margin": null,
            "max_height": null,
            "max_width": null,
            "min_height": null,
            "min_width": null,
            "object_fit": null,
            "object_position": null,
            "order": null,
            "overflow": null,
            "overflow_x": null,
            "overflow_y": null,
            "padding": null,
            "right": null,
            "top": null,
            "visibility": null,
            "width": null
          }
        },
        "9f10f4708f814699856aafa3dc1e2490": {
          "model_module": "@jupyter-widgets/controls",
          "model_module_version": "1.5.0",
          "model_name": "FloatProgressModel",
          "state": {
            "_dom_classes": [],
            "_model_module": "@jupyter-widgets/controls",
            "_model_module_version": "1.5.0",
            "_model_name": "FloatProgressModel",
            "_view_count": null,
            "_view_module": "@jupyter-widgets/controls",
            "_view_module_version": "1.5.0",
            "_view_name": "ProgressView",
            "bar_style": "success",
            "description": "",
            "description_tooltip": null,
            "layout": "IPY_MODEL_f3c95d1eb4714fc69fb5ca52bfc5b9b5",
            "max": 815819,
            "min": 0,
            "orientation": "horizontal",
            "style": "IPY_MODEL_e67b1437902e4ce7adf9590ec1cc0b88",
            "value": 815819
          }
        },
        "a1c5d0ed8b3f450fbc092fd31ddce311": {
          "model_module": "@jupyter-widgets/controls",
          "model_module_version": "1.5.0",
          "model_name": "HTMLModel",
          "state": {
            "_dom_classes": [],
            "_model_module": "@jupyter-widgets/controls",
            "_model_module_version": "1.5.0",
            "_model_name": "HTMLModel",
            "_view_count": null,
            "_view_module": "@jupyter-widgets/controls",
            "_view_module_version": "1.5.0",
            "_view_name": "HTMLView",
            "description": "",
            "description_tooltip": null,
            "layout": "IPY_MODEL_a90ab0b0adf74a9080cacd91132f81c1",
            "placeholder": "​",
            "style": "IPY_MODEL_598a646af080439a8badfa781339aba9",
            "value": "Generating train split: 100%"
          }
        },
        "a90ab0b0adf74a9080cacd91132f81c1": {
          "model_module": "@jupyter-widgets/base",
          "model_module_version": "1.2.0",
          "model_name": "LayoutModel",
          "state": {
            "_model_module": "@jupyter-widgets/base",
            "_model_module_version": "1.2.0",
            "_model_name": "LayoutModel",
            "_view_count": null,
            "_view_module": "@jupyter-widgets/base",
            "_view_module_version": "1.2.0",
            "_view_name": "LayoutView",
            "align_content": null,
            "align_items": null,
            "align_self": null,
            "border": null,
            "bottom": null,
            "display": null,
            "flex": null,
            "flex_flow": null,
            "grid_area": null,
            "grid_auto_columns": null,
            "grid_auto_flow": null,
            "grid_auto_rows": null,
            "grid_column": null,
            "grid_gap": null,
            "grid_row": null,
            "grid_template_areas": null,
            "grid_template_columns": null,
            "grid_template_rows": null,
            "height": null,
            "justify_content": null,
            "justify_items": null,
            "left": null,
            "margin": null,
            "max_height": null,
            "max_width": null,
            "min_height": null,
            "min_width": null,
            "object_fit": null,
            "object_position": null,
            "order": null,
            "overflow": null,
            "overflow_x": null,
            "overflow_y": null,
            "padding": null,
            "right": null,
            "top": null,
            "visibility": null,
            "width": null
          }
        },
        "aa1c55f544fe4ecf82eba86fac870ee5": {
          "model_module": "@jupyter-widgets/base",
          "model_module_version": "1.2.0",
          "model_name": "LayoutModel",
          "state": {
            "_model_module": "@jupyter-widgets/base",
            "_model_module_version": "1.2.0",
            "_model_name": "LayoutModel",
            "_view_count": null,
            "_view_module": "@jupyter-widgets/base",
            "_view_module_version": "1.2.0",
            "_view_name": "LayoutView",
            "align_content": null,
            "align_items": null,
            "align_self": null,
            "border": null,
            "bottom": null,
            "display": null,
            "flex": null,
            "flex_flow": null,
            "grid_area": null,
            "grid_auto_columns": null,
            "grid_auto_flow": null,
            "grid_auto_rows": null,
            "grid_column": null,
            "grid_gap": null,
            "grid_row": null,
            "grid_template_areas": null,
            "grid_template_columns": null,
            "grid_template_rows": null,
            "height": null,
            "justify_content": null,
            "justify_items": null,
            "left": null,
            "margin": null,
            "max_height": null,
            "max_width": null,
            "min_height": null,
            "min_width": null,
            "object_fit": null,
            "object_position": null,
            "order": null,
            "overflow": null,
            "overflow_x": null,
            "overflow_y": null,
            "padding": null,
            "right": null,
            "top": null,
            "visibility": null,
            "width": null
          }
        },
        "b453b633409a4d568e5e989f98894762": {
          "model_module": "@jupyter-widgets/base",
          "model_module_version": "1.2.0",
          "model_name": "LayoutModel",
          "state": {
            "_model_module": "@jupyter-widgets/base",
            "_model_module_version": "1.2.0",
            "_model_name": "LayoutModel",
            "_view_count": null,
            "_view_module": "@jupyter-widgets/base",
            "_view_module_version": "1.2.0",
            "_view_name": "LayoutView",
            "align_content": null,
            "align_items": null,
            "align_self": null,
            "border": null,
            "bottom": null,
            "display": null,
            "flex": null,
            "flex_flow": null,
            "grid_area": null,
            "grid_auto_columns": null,
            "grid_auto_flow": null,
            "grid_auto_rows": null,
            "grid_column": null,
            "grid_gap": null,
            "grid_row": null,
            "grid_template_areas": null,
            "grid_template_columns": null,
            "grid_template_rows": null,
            "height": null,
            "justify_content": null,
            "justify_items": null,
            "left": null,
            "margin": null,
            "max_height": null,
            "max_width": null,
            "min_height": null,
            "min_width": null,
            "object_fit": null,
            "object_position": null,
            "order": null,
            "overflow": null,
            "overflow_x": null,
            "overflow_y": null,
            "padding": null,
            "right": null,
            "top": null,
            "visibility": null,
            "width": null
          }
        },
        "bbfbe8cbb44a434288411ec3caa2d604": {
          "model_module": "@jupyter-widgets/base",
          "model_module_version": "1.2.0",
          "model_name": "LayoutModel",
          "state": {
            "_model_module": "@jupyter-widgets/base",
            "_model_module_version": "1.2.0",
            "_model_name": "LayoutModel",
            "_view_count": null,
            "_view_module": "@jupyter-widgets/base",
            "_view_module_version": "1.2.0",
            "_view_name": "LayoutView",
            "align_content": null,
            "align_items": null,
            "align_self": null,
            "border": null,
            "bottom": null,
            "display": null,
            "flex": null,
            "flex_flow": null,
            "grid_area": null,
            "grid_auto_columns": null,
            "grid_auto_flow": null,
            "grid_auto_rows": null,
            "grid_column": null,
            "grid_gap": null,
            "grid_row": null,
            "grid_template_areas": null,
            "grid_template_columns": null,
            "grid_template_rows": null,
            "height": null,
            "justify_content": null,
            "justify_items": null,
            "left": null,
            "margin": null,
            "max_height": null,
            "max_width": null,
            "min_height": null,
            "min_width": null,
            "object_fit": null,
            "object_position": null,
            "order": null,
            "overflow": null,
            "overflow_x": null,
            "overflow_y": null,
            "padding": null,
            "right": null,
            "top": null,
            "visibility": null,
            "width": null
          }
        },
        "c5a0608fb70a40d7b5ab9cc2d275c891": {
          "model_module": "@jupyter-widgets/controls",
          "model_module_version": "1.5.0",
          "model_name": "HBoxModel",
          "state": {
            "_dom_classes": [],
            "_model_module": "@jupyter-widgets/controls",
            "_model_module_version": "1.5.0",
            "_model_name": "HBoxModel",
            "_view_count": null,
            "_view_module": "@jupyter-widgets/controls",
            "_view_module_version": "1.5.0",
            "_view_name": "HBoxView",
            "box_style": "",
            "children": [
              "IPY_MODEL_a1c5d0ed8b3f450fbc092fd31ddce311",
              "IPY_MODEL_2054c9c277a24c62b47d5735dd5f38c3",
              "IPY_MODEL_367ef3bd78e04ef8a2cfe3f8b1e3c4aa"
            ],
            "layout": "IPY_MODEL_1d1dcc637ff34d11bc745d547066083c"
          }
        },
        "c5ab44ae57d2499c8c568465a76f3dad": {
          "model_module": "@jupyter-widgets/controls",
          "model_module_version": "1.5.0",
          "model_name": "HBoxModel",
          "state": {
            "_dom_classes": [],
            "_model_module": "@jupyter-widgets/controls",
            "_model_module_version": "1.5.0",
            "_model_name": "HBoxModel",
            "_view_count": null,
            "_view_module": "@jupyter-widgets/controls",
            "_view_module_version": "1.5.0",
            "_view_name": "HBoxView",
            "box_style": "",
            "children": [
              "IPY_MODEL_5b34dd394bbd43bc96fee3ff65d8ef5b",
              "IPY_MODEL_eba12d2aff194e149057aeb53d16e71f",
              "IPY_MODEL_8d2df4cc60d54853a6427fe50459b83f"
            ],
            "layout": "IPY_MODEL_00f5144faec9411dbca6586aadec95ca"
          }
        },
        "c8503241163d4bb38d86f5de5d3d2869": {
          "model_module": "@jupyter-widgets/controls",
          "model_module_version": "1.5.0",
          "model_name": "ProgressStyleModel",
          "state": {
            "_model_module": "@jupyter-widgets/controls",
            "_model_module_version": "1.5.0",
            "_model_name": "ProgressStyleModel",
            "_view_count": null,
            "_view_module": "@jupyter-widgets/base",
            "_view_module_version": "1.2.0",
            "_view_name": "StyleView",
            "bar_color": null,
            "description_width": ""
          }
        },
        "c8ef4b2b26714a6fa81f67f7f52b0209": {
          "model_module": "@jupyter-widgets/base",
          "model_module_version": "1.2.0",
          "model_name": "LayoutModel",
          "state": {
            "_model_module": "@jupyter-widgets/base",
            "_model_module_version": "1.2.0",
            "_model_name": "LayoutModel",
            "_view_count": null,
            "_view_module": "@jupyter-widgets/base",
            "_view_module_version": "1.2.0",
            "_view_name": "LayoutView",
            "align_content": null,
            "align_items": null,
            "align_self": null,
            "border": null,
            "bottom": null,
            "display": null,
            "flex": null,
            "flex_flow": null,
            "grid_area": null,
            "grid_auto_columns": null,
            "grid_auto_flow": null,
            "grid_auto_rows": null,
            "grid_column": null,
            "grid_gap": null,
            "grid_row": null,
            "grid_template_areas": null,
            "grid_template_columns": null,
            "grid_template_rows": null,
            "height": null,
            "justify_content": null,
            "justify_items": null,
            "left": null,
            "margin": null,
            "max_height": null,
            "max_width": null,
            "min_height": null,
            "min_width": null,
            "object_fit": null,
            "object_position": null,
            "order": null,
            "overflow": null,
            "overflow_x": null,
            "overflow_y": null,
            "padding": null,
            "right": null,
            "top": null,
            "visibility": null,
            "width": null
          }
        },
        "d46bb92358994f9281b3e7aed653936e": {
          "model_module": "@jupyter-widgets/base",
          "model_module_version": "1.2.0",
          "model_name": "LayoutModel",
          "state": {
            "_model_module": "@jupyter-widgets/base",
            "_model_module_version": "1.2.0",
            "_model_name": "LayoutModel",
            "_view_count": null,
            "_view_module": "@jupyter-widgets/base",
            "_view_module_version": "1.2.0",
            "_view_name": "LayoutView",
            "align_content": null,
            "align_items": null,
            "align_self": null,
            "border": null,
            "bottom": null,
            "display": null,
            "flex": null,
            "flex_flow": null,
            "grid_area": null,
            "grid_auto_columns": null,
            "grid_auto_flow": null,
            "grid_auto_rows": null,
            "grid_column": null,
            "grid_gap": null,
            "grid_row": null,
            "grid_template_areas": null,
            "grid_template_columns": null,
            "grid_template_rows": null,
            "height": null,
            "justify_content": null,
            "justify_items": null,
            "left": null,
            "margin": null,
            "max_height": null,
            "max_width": null,
            "min_height": null,
            "min_width": null,
            "object_fit": null,
            "object_position": null,
            "order": null,
            "overflow": null,
            "overflow_x": null,
            "overflow_y": null,
            "padding": null,
            "right": null,
            "top": null,
            "visibility": null,
            "width": null
          }
        },
        "d976f854c7b241148502c882c9ef51d9": {
          "model_module": "@jupyter-widgets/controls",
          "model_module_version": "1.5.0",
          "model_name": "ProgressStyleModel",
          "state": {
            "_model_module": "@jupyter-widgets/controls",
            "_model_module_version": "1.5.0",
            "_model_name": "ProgressStyleModel",
            "_view_count": null,
            "_view_module": "@jupyter-widgets/base",
            "_view_module_version": "1.2.0",
            "_view_name": "StyleView",
            "bar_color": null,
            "description_width": ""
          }
        },
        "e014400078a246b095172b718321c227": {
          "model_module": "@jupyter-widgets/controls",
          "model_module_version": "1.5.0",
          "model_name": "DescriptionStyleModel",
          "state": {
            "_model_module": "@jupyter-widgets/controls",
            "_model_module_version": "1.5.0",
            "_model_name": "DescriptionStyleModel",
            "_view_count": null,
            "_view_module": "@jupyter-widgets/base",
            "_view_module_version": "1.2.0",
            "_view_name": "StyleView",
            "description_width": ""
          }
        },
        "e67b1437902e4ce7adf9590ec1cc0b88": {
          "model_module": "@jupyter-widgets/controls",
          "model_module_version": "1.5.0",
          "model_name": "ProgressStyleModel",
          "state": {
            "_model_module": "@jupyter-widgets/controls",
            "_model_module_version": "1.5.0",
            "_model_name": "ProgressStyleModel",
            "_view_count": null,
            "_view_module": "@jupyter-widgets/base",
            "_view_module_version": "1.2.0",
            "_view_name": "StyleView",
            "bar_color": null,
            "description_width": ""
          }
        },
        "ea84d7df9bff4402b59242960e59e24e": {
          "model_module": "@jupyter-widgets/base",
          "model_module_version": "1.2.0",
          "model_name": "LayoutModel",
          "state": {
            "_model_module": "@jupyter-widgets/base",
            "_model_module_version": "1.2.0",
            "_model_name": "LayoutModel",
            "_view_count": null,
            "_view_module": "@jupyter-widgets/base",
            "_view_module_version": "1.2.0",
            "_view_name": "LayoutView",
            "align_content": null,
            "align_items": null,
            "align_self": null,
            "border": null,
            "bottom": null,
            "display": null,
            "flex": null,
            "flex_flow": null,
            "grid_area": null,
            "grid_auto_columns": null,
            "grid_auto_flow": null,
            "grid_auto_rows": null,
            "grid_column": null,
            "grid_gap": null,
            "grid_row": null,
            "grid_template_areas": null,
            "grid_template_columns": null,
            "grid_template_rows": null,
            "height": null,
            "justify_content": null,
            "justify_items": null,
            "left": null,
            "margin": null,
            "max_height": null,
            "max_width": null,
            "min_height": null,
            "min_width": null,
            "object_fit": null,
            "object_position": null,
            "order": null,
            "overflow": null,
            "overflow_x": null,
            "overflow_y": null,
            "padding": null,
            "right": null,
            "top": null,
            "visibility": null,
            "width": null
          }
        },
        "eac7e18e6c7a4e778b9e096ac63c88ec": {
          "model_module": "@jupyter-widgets/controls",
          "model_module_version": "1.5.0",
          "model_name": "DescriptionStyleModel",
          "state": {
            "_model_module": "@jupyter-widgets/controls",
            "_model_module_version": "1.5.0",
            "_model_name": "DescriptionStyleModel",
            "_view_count": null,
            "_view_module": "@jupyter-widgets/base",
            "_view_module_version": "1.2.0",
            "_view_name": "StyleView",
            "description_width": ""
          }
        },
        "eba12d2aff194e149057aeb53d16e71f": {
          "model_module": "@jupyter-widgets/controls",
          "model_module_version": "1.5.0",
          "model_name": "FloatProgressModel",
          "state": {
            "_dom_classes": [],
            "_model_module": "@jupyter-widgets/controls",
            "_model_module_version": "1.5.0",
            "_model_name": "FloatProgressModel",
            "_view_count": null,
            "_view_module": "@jupyter-widgets/controls",
            "_view_module_version": "1.5.0",
            "_view_name": "ProgressView",
            "bar_style": "success",
            "description": "",
            "description_tooltip": null,
            "layout": "IPY_MODEL_b453b633409a4d568e5e989f98894762",
            "max": 10000,
            "min": 0,
            "orientation": "horizontal",
            "style": "IPY_MODEL_16f0d1963ecc4298ac100ee719de3b46",
            "value": 10000
          }
        },
        "efbdefdbe6494247b463338e47efba7f": {
          "model_module": "@jupyter-widgets/base",
          "model_module_version": "1.2.0",
          "model_name": "LayoutModel",
          "state": {
            "_model_module": "@jupyter-widgets/base",
            "_model_module_version": "1.2.0",
            "_model_name": "LayoutModel",
            "_view_count": null,
            "_view_module": "@jupyter-widgets/base",
            "_view_module_version": "1.2.0",
            "_view_name": "LayoutView",
            "align_content": null,
            "align_items": null,
            "align_self": null,
            "border": null,
            "bottom": null,
            "display": null,
            "flex": null,
            "flex_flow": null,
            "grid_area": null,
            "grid_auto_columns": null,
            "grid_auto_flow": null,
            "grid_auto_rows": null,
            "grid_column": null,
            "grid_gap": null,
            "grid_row": null,
            "grid_template_areas": null,
            "grid_template_columns": null,
            "grid_template_rows": null,
            "height": null,
            "justify_content": null,
            "justify_items": null,
            "left": null,
            "margin": null,
            "max_height": null,
            "max_width": null,
            "min_height": null,
            "min_width": null,
            "object_fit": null,
            "object_position": null,
            "order": null,
            "overflow": null,
            "overflow_x": null,
            "overflow_y": null,
            "padding": null,
            "right": null,
            "top": null,
            "visibility": null,
            "width": null
          }
        },
        "f28c65a9ba01473c8ab035c33224c083": {
          "model_module": "@jupyter-widgets/controls",
          "model_module_version": "1.5.0",
          "model_name": "HBoxModel",
          "state": {
            "_dom_classes": [],
            "_model_module": "@jupyter-widgets/controls",
            "_model_module_version": "1.5.0",
            "_model_name": "HBoxModel",
            "_view_count": null,
            "_view_module": "@jupyter-widgets/controls",
            "_view_module_version": "1.5.0",
            "_view_name": "HBoxView",
            "box_style": "",
            "children": [
              "IPY_MODEL_9127ccda19ec4a2e9607b45baf6394b2",
              "IPY_MODEL_fa2b909921824c828bad515ca361f9a2",
              "IPY_MODEL_96602982807d41e6a319d37b9a7b77d0"
            ],
            "layout": "IPY_MODEL_fb8fd1c3e0bd406eb0cf9b63f58c434a"
          }
        },
        "f3c95d1eb4714fc69fb5ca52bfc5b9b5": {
          "model_module": "@jupyter-widgets/base",
          "model_module_version": "1.2.0",
          "model_name": "LayoutModel",
          "state": {
            "_model_module": "@jupyter-widgets/base",
            "_model_module_version": "1.2.0",
            "_model_name": "LayoutModel",
            "_view_count": null,
            "_view_module": "@jupyter-widgets/base",
            "_view_module_version": "1.2.0",
            "_view_name": "LayoutView",
            "align_content": null,
            "align_items": null,
            "align_self": null,
            "border": null,
            "bottom": null,
            "display": null,
            "flex": null,
            "flex_flow": null,
            "grid_area": null,
            "grid_auto_columns": null,
            "grid_auto_flow": null,
            "grid_auto_rows": null,
            "grid_column": null,
            "grid_gap": null,
            "grid_row": null,
            "grid_template_areas": null,
            "grid_template_columns": null,
            "grid_template_rows": null,
            "height": null,
            "justify_content": null,
            "justify_items": null,
            "left": null,
            "margin": null,
            "max_height": null,
            "max_width": null,
            "min_height": null,
            "min_width": null,
            "object_fit": null,
            "object_position": null,
            "order": null,
            "overflow": null,
            "overflow_x": null,
            "overflow_y": null,
            "padding": null,
            "right": null,
            "top": null,
            "visibility": null,
            "width": null
          }
        },
        "f7377f349a584a049d5523a4024cf177": {
          "model_module": "@jupyter-widgets/base",
          "model_module_version": "1.2.0",
          "model_name": "LayoutModel",
          "state": {
            "_model_module": "@jupyter-widgets/base",
            "_model_module_version": "1.2.0",
            "_model_name": "LayoutModel",
            "_view_count": null,
            "_view_module": "@jupyter-widgets/base",
            "_view_module_version": "1.2.0",
            "_view_name": "LayoutView",
            "align_content": null,
            "align_items": null,
            "align_self": null,
            "border": null,
            "bottom": null,
            "display": null,
            "flex": null,
            "flex_flow": null,
            "grid_area": null,
            "grid_auto_columns": null,
            "grid_auto_flow": null,
            "grid_auto_rows": null,
            "grid_column": null,
            "grid_gap": null,
            "grid_row": null,
            "grid_template_areas": null,
            "grid_template_columns": null,
            "grid_template_rows": null,
            "height": null,
            "justify_content": null,
            "justify_items": null,
            "left": null,
            "margin": null,
            "max_height": null,
            "max_width": null,
            "min_height": null,
            "min_width": null,
            "object_fit": null,
            "object_position": null,
            "order": null,
            "overflow": null,
            "overflow_x": null,
            "overflow_y": null,
            "padding": null,
            "right": null,
            "top": null,
            "visibility": null,
            "width": null
          }
        },
        "fa2b909921824c828bad515ca361f9a2": {
          "model_module": "@jupyter-widgets/controls",
          "model_module_version": "1.5.0",
          "model_name": "FloatProgressModel",
          "state": {
            "_dom_classes": [],
            "_model_module": "@jupyter-widgets/controls",
            "_model_module_version": "1.5.0",
            "_model_name": "FloatProgressModel",
            "_view_count": null,
            "_view_module": "@jupyter-widgets/controls",
            "_view_module_version": "1.5.0",
            "_view_name": "ProgressView",
            "bar_style": "success",
            "description": "",
            "description_tooltip": null,
            "layout": "IPY_MODEL_9397b236afab4ea08f710216ff09a433",
            "max": 808903,
            "min": 0,
            "orientation": "horizontal",
            "style": "IPY_MODEL_6b4b25f2b3044aeb8160a0da52a70451",
            "value": 808903
          }
        },
        "fb8fd1c3e0bd406eb0cf9b63f58c434a": {
          "model_module": "@jupyter-widgets/base",
          "model_module_version": "1.2.0",
          "model_name": "LayoutModel",
          "state": {
            "_model_module": "@jupyter-widgets/base",
            "_model_module_version": "1.2.0",
            "_model_name": "LayoutModel",
            "_view_count": null,
            "_view_module": "@jupyter-widgets/base",
            "_view_module_version": "1.2.0",
            "_view_name": "LayoutView",
            "align_content": null,
            "align_items": null,
            "align_self": null,
            "border": null,
            "bottom": null,
            "display": null,
            "flex": null,
            "flex_flow": null,
            "grid_area": null,
            "grid_auto_columns": null,
            "grid_auto_flow": null,
            "grid_auto_rows": null,
            "grid_column": null,
            "grid_gap": null,
            "grid_row": null,
            "grid_template_areas": null,
            "grid_template_columns": null,
            "grid_template_rows": null,
            "height": null,
            "justify_content": null,
            "justify_items": null,
            "left": null,
            "margin": null,
            "max_height": null,
            "max_width": null,
            "min_height": null,
            "min_width": null,
            "object_fit": null,
            "object_position": null,
            "order": null,
            "overflow": null,
            "overflow_x": null,
            "overflow_y": null,
            "padding": null,
            "right": null,
            "top": null,
            "visibility": null,
            "width": null
          }
        },
        "fdfc2e8dd8844260a4b8b18910855bba": {
          "model_module": "@jupyter-widgets/base",
          "model_module_version": "1.2.0",
          "model_name": "LayoutModel",
          "state": {
            "_model_module": "@jupyter-widgets/base",
            "_model_module_version": "1.2.0",
            "_model_name": "LayoutModel",
            "_view_count": null,
            "_view_module": "@jupyter-widgets/base",
            "_view_module_version": "1.2.0",
            "_view_name": "LayoutView",
            "align_content": null,
            "align_items": null,
            "align_self": null,
            "border": null,
            "bottom": null,
            "display": null,
            "flex": null,
            "flex_flow": null,
            "grid_area": null,
            "grid_auto_columns": null,
            "grid_auto_flow": null,
            "grid_auto_rows": null,
            "grid_column": null,
            "grid_gap": null,
            "grid_row": null,
            "grid_template_areas": null,
            "grid_template_columns": null,
            "grid_template_rows": null,
            "height": null,
            "justify_content": null,
            "justify_items": null,
            "left": null,
            "margin": null,
            "max_height": null,
            "max_width": null,
            "min_height": null,
            "min_width": null,
            "object_fit": null,
            "object_position": null,
            "order": null,
            "overflow": null,
            "overflow_x": null,
            "overflow_y": null,
            "padding": null,
            "right": null,
            "top": null,
            "visibility": null,
            "width": null
          }
        }
      }
    }
  },
  "nbformat": 4,
  "nbformat_minor": 5
}
