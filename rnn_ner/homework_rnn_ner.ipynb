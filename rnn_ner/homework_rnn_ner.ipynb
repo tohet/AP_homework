{
 "cells": [
  {
   "cell_type": "markdown",
   "id": "1bf6f873",
   "metadata": {},
   "source": [
    "# Домашнее задание № 8"
   ]
  },
  {
   "cell_type": "markdown",
   "id": "3b4bd487",
   "metadata": {},
   "source": [
    "## Задание 1 (4 балла) "
   ]
  },
  {
   "cell_type": "markdown",
   "id": "bf4c4f87",
   "metadata": {},
   "source": [
    "Обучите 8 моделей для задачи классификации текста (датасет - lenta_40k ). А именно:  \n",
    "1) модель с 1 GRU слоем;   \n",
    "2) модель с 1 LSTM слоем    \n",
    "3) модель с 1 GRU и 1 LSTM слоем  \n",
    "4) модель с 1 BIGRU и 2 LSTM слоями  \n",
    "5) модель с 5 GRU слоями и 3 LSTM слоями  \n",
    "6) модель 1 BIGRU и 1 BILSTM слоями, причем так чтобы модели для forward и backward прохода отличались   \n",
    "7) модель, где последовательно идут слои: LSTM, GRU, BILSTM, BIGRU, GRU, LSTM  \n",
    "\n",
    "\n",
    "\n",
    "Параметр units и размер эмбединга можете задать любой. Оцените качество каждой модели и определите победителя."
   ]
  },
  {
   "cell_type": "code",
   "execution_count": null,
   "id": "83db6635",
   "metadata": {},
   "outputs": [],
   "source": []
  },
  {
   "cell_type": "code",
   "execution_count": null,
   "id": "50362f6e",
   "metadata": {},
   "outputs": [],
   "source": []
  },
  {
   "cell_type": "code",
   "execution_count": null,
   "id": "b6676dab",
   "metadata": {},
   "outputs": [],
   "source": []
  },
  {
   "cell_type": "markdown",
   "id": "ed5d6eea",
   "metadata": {},
   "source": [
    "## Задание 2 (6 баллов)\n"
   ]
  },
  {
   "cell_type": "markdown",
   "id": "5c2c07cf",
   "metadata": {},
   "source": [
    "На данных википедии (wikiann) обучите 2 модели:  \n",
    "1) модель в которой будут использованы предобученные эмбединги слов и несколько BILSTM слоев. \n",
    "1) модель в которой будут использованы предобученные эмбединги слов и несколько BIGRU слоев. \n",
    "\n",
    "Сравните качество по метрикам. Также придумайте несколько сложных примеров и проверьте, какие сущности определяет каждая из моделей."
   ]
  },
  {
   "cell_type": "code",
   "execution_count": null,
   "id": "fb704b1b",
   "metadata": {},
   "outputs": [],
   "source": []
  },
  {
   "cell_type": "code",
   "execution_count": null,
   "id": "24b4e4aa",
   "metadata": {},
   "outputs": [],
   "source": []
  },
  {
   "cell_type": "code",
   "execution_count": null,
   "id": "8035db14",
   "metadata": {},
   "outputs": [],
   "source": []
  }
 ],
 "metadata": {
  "kernelspec": {
   "display_name": "Python 3 (ipykernel)",
   "language": "python",
   "name": "python3"
  },
  "language_info": {
   "codemirror_mode": {
    "name": "ipython",
    "version": 3
   },
   "file_extension": ".py",
   "mimetype": "text/x-python",
   "name": "python",
   "nbconvert_exporter": "python",
   "pygments_lexer": "ipython3",
   "version": "3.9.14"
  }
 },
 "nbformat": 4,
 "nbformat_minor": 5
}
